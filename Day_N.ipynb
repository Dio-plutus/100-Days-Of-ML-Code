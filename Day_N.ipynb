{
  "nbformat": 4,
  "nbformat_minor": 0,
  "metadata": {
    "colab": {
      "name": "Day_N.ipynb",
      "provenance": [],
      "collapsed_sections": [],
      "authorship_tag": "ABX9TyN8cU6lC61YhegxCwFe+DEo",
      "include_colab_link": true
    },
    "kernelspec": {
      "name": "python3",
      "display_name": "Python 3"
    }
  },
  "cells": [
    {
      "cell_type": "markdown",
      "metadata": {
        "id": "view-in-github",
        "colab_type": "text"
      },
      "source": [
        "<a href=\"https://colab.research.google.com/github/Divyanshu-ISM/100-Days-Of-ML-Code/blob/master/Day_N.ipynb\" target=\"_parent\"><img src=\"https://colab.research.google.com/assets/colab-badge.svg\" alt=\"Open In Colab\"/></a>"
      ]
    },
    {
      "cell_type": "markdown",
      "metadata": {
        "id": "QLk6ExU8xfgc",
        "colab_type": "text"
      },
      "source": [
        "#Welcome Everyone! \n",
        "\n",
        "In the coming 3 Sessions, We'll be learning Reservoir Simulation a lot of interesting things in this Mini-Course. \n",
        "\n",
        "My Aim is to take you to a **better**, **confident** and **super comfortable** place as far as **Python for Oil and Gas** is concerned. \n",
        "\n",
        "So Gear UP!\n",
        "\n",
        "P.S - I wish I could give a little TED-Talk but We have a lot to Learn.\n",
        "\n",
        "I will Assume you know nothing about anything I'm going to talk about!\n",
        "\n",
        "Here goes.\n"
      ]
    },
    {
      "cell_type": "markdown",
      "metadata": {
        "id": "e3B8v60zth4j",
        "colab_type": "text"
      },
      "source": [
        "#PYTHON from below zero!"
      ]
    },
    {
      "cell_type": "markdown",
      "metadata": {
        "id": "YFr2ZduPtqQg",
        "colab_type": "text"
      },
      "source": [
        "##List of contents - \n",
        "\n",
        "###First We'll Talk about Python's Data Structures- \n",
        "\n",
        "1. Single Values --> Variables. \n",
        "2. Multiple Value containers ---> Lists. \n",
        "     \n",
        "     -> Other Containers - a) Tuples b) Sets\n",
        "\n",
        "     -> tuples: https://www.w3schools.com/python/python_tuples.asp\n",
        "    \n",
        "3. Named/Labelled Containers ---> Dictionaries. \n"
      ]
    },
    {
      "cell_type": "code",
      "metadata": {
        "id": "Lzq6m6pdtpZr",
        "colab_type": "code",
        "colab": {}
      },
      "source": [
        "# Single Values are Stored in Variables. \n",
        "# Variable names cannot start with a number or special character.\n",
        "# Underscore is allowed. \n",
        "#Ex - 007bond is invalid\n",
        "#Ex - bond007 is valid\n",
        "#Ex-  bond_007 and _007_bond valid. "
      ],
      "execution_count": null,
      "outputs": []
    },
    {
      "cell_type": "code",
      "metadata": {
        "id": "MPGDUF8ysLgJ",
        "colab_type": "code",
        "colab": {
          "base_uri": "https://localhost:8080/",
          "height": 135
        },
        "outputId": "aa01befa-2ba0-46cf-f84c-05d017eb2b36"
      },
      "source": [
        "007bond = 5"
      ],
      "execution_count": 1,
      "outputs": [
        {
          "output_type": "error",
          "ename": "SyntaxError",
          "evalue": "ignored",
          "traceback": [
            "\u001b[0;36m  File \u001b[0;32m\"<ipython-input-1-3ce1b6a27c39>\"\u001b[0;36m, line \u001b[0;32m1\u001b[0m\n\u001b[0;31m    007bond = 5\u001b[0m\n\u001b[0m      ^\u001b[0m\n\u001b[0;31mSyntaxError\u001b[0m\u001b[0;31m:\u001b[0m invalid token\n"
          ]
        }
      ]
    },
    {
      "cell_type": "code",
      "metadata": {
        "id": "CfVKOcZBsOnJ",
        "colab_type": "code",
        "colab": {}
      },
      "source": [
        "#This is called initialization. \n",
        "#The value from RHS gets stored into the variable at LHS.\n",
        "x = 5\n",
        "y = 3"
      ],
      "execution_count": null,
      "outputs": []
    },
    {
      "cell_type": "markdown",
      "metadata": {
        "id": "zYP7KMEOva8v",
        "colab_type": "text"
      },
      "source": [
        "##Now let's Look at Data Manipulations."
      ]
    },
    {
      "cell_type": "code",
      "metadata": {
        "id": "Vfc754jfvR8c",
        "colab_type": "code",
        "colab": {}
      },
      "source": [
        "#Let's Also get used to the print function:\n",
        "print('\\nHello Guys!')\n",
        "\n",
        "#Escape Sequence \\n helps change line.\n",
        "print('\\nHello \\nGirls!\\n')\n",
        "\n",
        "#displaying variable's value and string using f'...{}'\n",
        "print(f'0. This is x: {x} and this is y: {y}')\n",
        "\n",
        "#1. Addition, subtraction : x + y , x - y\n",
        "print(f'1. Addition Result: {x+y}')\n",
        "\n",
        "\n",
        "#Multiplication : x*y\n",
        "print(f'2. Multiplication Result: {x*y}')\n",
        "\n",
        "#Power x^y : x**y\n",
        "print(f'3. Square of x is: {x**2}')\n",
        "print(f'3. x raised to yth power is: {x**y}')\n",
        "\n",
        "\n",
        "#Mixed operations - Forget BODMAS. Put clusters in brackets. \n",
        "z = (x+y)*(x-y)/(x**2 - 2*x + y)\n",
        "print(f'4. Z is = {z}')"
      ],
      "execution_count": null,
      "outputs": []
    },
    {
      "cell_type": "markdown",
      "metadata": {
        "id": "5imL2Dvp0xNx",
        "colab_type": "text"
      },
      "source": [
        "#BOOLEANS and Comparisons. \n",
        "\n",
        "This section deals with checking for equality or inequality. "
      ]
    },
    {
      "cell_type": "code",
      "metadata": {
        "id": "0y2gNqxVwmu4",
        "colab_type": "code",
        "colab": {}
      },
      "source": [
        "print(x == y)\n",
        "\n",
        "print(5 == 5)\n",
        "\n",
        "print(x>y)\n",
        "\n",
        "print(y>x)"
      ],
      "execution_count": null,
      "outputs": []
    },
    {
      "cell_type": "markdown",
      "metadata": {
        "id": "-419k34DVK1S",
        "colab_type": "text"
      },
      "source": [
        "#if-elif-else"
      ]
    },
    {
      "cell_type": "code",
      "metadata": {
        "id": "jBhet7OkWmkT",
        "colab_type": "code",
        "colab": {}
      },
      "source": [
        "if 5>3:\n",
        "  print('five is greater than 3')\n",
        "elif 5==5:\n",
        "  print('five is equal to five')\n",
        "else:\n",
        "  print('this will only get executed if above 2 fail')"
      ],
      "execution_count": null,
      "outputs": []
    },
    {
      "cell_type": "markdown",
      "metadata": {
        "id": "IhffBbMY1Xux",
        "colab_type": "text"
      },
      "source": [
        "#Let's Now talk about data structures one by one. \n",
        "\n",
        "1. LISTS - [.... ] | Change-able\n",
        "\n",
        "List Methods Reference - https://www.w3schools.com/python/python_ref_list.asp"
      ]
    },
    {
      "cell_type": "code",
      "metadata": {
        "id": "CXwhbtp81J4x",
        "colab_type": "code",
        "colab": {}
      },
      "source": [
        "l1 = ['porosity', 0.25, 'perm' , 50]\n",
        "\n",
        "print(l1)"
      ],
      "execution_count": null,
      "outputs": []
    },
    {
      "cell_type": "code",
      "metadata": {
        "id": "EDcUbZkY1r22",
        "colab_type": "code",
        "colab": {}
      },
      "source": [
        "#Operations (Methods) on list. \n",
        "\n",
        "#1. Append - Adding element to the tail. \n",
        "l1.append('new_rock')\n",
        "\n",
        "print(l1)"
      ],
      "execution_count": null,
      "outputs": []
    },
    {
      "cell_type": "code",
      "metadata": {
        "id": "MBynldil2CPu",
        "colab_type": "code",
        "colab": {}
      },
      "source": [
        "#2. listname.count(a) - counts no. of occurences of a in listname. \n",
        "\n",
        "rocks = ['sst' , 'lst' , 'sst' , 'lst']\n",
        "\n",
        "rocks.count('sst')"
      ],
      "execution_count": null,
      "outputs": []
    },
    {
      "cell_type": "code",
      "metadata": {
        "id": "v8vPSD1jPdU4",
        "colab_type": "code",
        "colab": {}
      },
      "source": [
        "# listname.reverse() - Reverses the list. \n",
        "\n",
        "porosities = [0.50,0.20,0.15,0.30,0.05,0.10]\n",
        "\n",
        "porosities.reverse()\n",
        "\n",
        "porosities"
      ],
      "execution_count": null,
      "outputs": []
    },
    {
      "cell_type": "code",
      "metadata": {
        "id": "MQCl-f7QPw17",
        "colab_type": "code",
        "colab": {}
      },
      "source": [
        "# listname.sort() - Sorts the list. \n",
        "\n",
        "perms = [50,100,150,200,20,70,500]\n",
        "\n",
        "perms.sort()\n",
        "\n",
        "perms"
      ],
      "execution_count": null,
      "outputs": []
    },
    {
      "cell_type": "markdown",
      "metadata": {
        "id": "z9IVOw7VQmh7",
        "colab_type": "text"
      },
      "source": [
        "List Indexing and Slicing -"
      ]
    },
    {
      "cell_type": "code",
      "metadata": {
        "id": "xkcoJj-4QQIs",
        "colab_type": "code",
        "colab": {}
      },
      "source": [
        "#Indexing - Accessing the values stored in a list based on index #. \n",
        "\n",
        "#Indexing starts from 0 (and not 1. In MATLAB it starts with 1)\n",
        "poro = [0.10,0.20,0.30,0.40,0.50]\n",
        "\n",
        "print(poro[0])\n",
        "\n",
        "print(poro[1])\n",
        "\n",
        "print(poro[-1])\n",
        "\n",
        "print(poro[-2])\n"
      ],
      "execution_count": null,
      "outputs": []
    },
    {
      "cell_type": "code",
      "metadata": {
        "id": "_zrDuAY2Q2VY",
        "colab_type": "code",
        "colab": {}
      },
      "source": [
        "#Slicing. Just like the name says. \n",
        "#It helps cut a slice (sub-part) off a List. \n",
        "\n",
        "superset = [1,2,3,4,5,6,7,8,9]\n",
        "\n",
        "\n",
        "#Slicing syntax - listname[start:stop:step] start is included. stop is not\n",
        "subset = superset[0:5]\n",
        "\n",
        "print(subset)\n",
        "\n",
        "subset2 = superset[:5]\n",
        "\n",
        "print(subset2) #Skipping a part also works for first and end indices. \n",
        "\n",
        "subset3 = superset[:-1] #starting to ending -1\n",
        "print(subset3)\n",
        "\n",
        "subset4 = superset[:] #everything\n",
        "print(subset4)"
      ],
      "execution_count": null,
      "outputs": []
    },
    {
      "cell_type": "markdown",
      "metadata": {
        "id": "mprq0WFDTNnG",
        "colab_type": "text"
      },
      "source": [
        "Question. How do you reverse a list without using a .reverse() method?"
      ]
    },
    {
      "cell_type": "code",
      "metadata": {
        "id": "6JStadFVSNBr",
        "colab_type": "code",
        "colab": {}
      },
      "source": [
        "#Ans-\n",
        "\n",
        "reverse_set = superset[-1::-1] \n",
        "\n",
        "#Start at -1 th index, end at 0th, take negative steps.\n",
        "\n",
        "print(reverse_set)"
      ],
      "execution_count": null,
      "outputs": []
    },
    {
      "cell_type": "markdown",
      "metadata": {
        "id": "RyIqW7PYURwv",
        "colab_type": "text"
      },
      "source": [
        "#The same operations can be applied to strings."
      ]
    },
    {
      "cell_type": "code",
      "metadata": {
        "id": "d-kbz2QGTx6Q",
        "colab_type": "code",
        "colab": {
          "base_uri": "https://localhost:8080/",
          "height": 108
        },
        "outputId": "fd248867-5d21-4c0f-dd94-f04fbccefd3b"
      },
      "source": [
        "name = 'reservoir_simulation'\n",
        "\n",
        "print(name[0])\n",
        "\n",
        "print(name[-1])\n",
        "\n",
        "print(name[0:5])\n",
        "\n",
        "print(name[::2])\n",
        "\n",
        "print(name[-1::-1])"
      ],
      "execution_count": 2,
      "outputs": [
        {
          "output_type": "stream",
          "text": [
            "r\n",
            "n\n",
            "reser\n",
            "rsrorsmlto\n",
            "noitalumis_riovreser\n"
          ],
          "name": "stdout"
        }
      ]
    },
    {
      "cell_type": "markdown",
      "metadata": {
        "id": "VfoHzl2zVFC0",
        "colab_type": "text"
      },
      "source": [
        "#DICTIONARIES\n",
        "\n",
        "Absolute gem of a DataStructure. \n",
        "\n",
        "1. Helps Store Data with labels. \n",
        "2. Syntax => { key : value }\n",
        "3. Has no order.\n",
        "4. Can be directly converted to DataFrames (tables)."
      ]
    },
    {
      "cell_type": "code",
      "metadata": {
        "id": "inf17IEPU9Zv",
        "colab_type": "code",
        "colab": {}
      },
      "source": [
        "rock_properties = {'poro' : 0.25, 'perm' : 150 , 'lith' : 'sst'}\n",
        "\n",
        "print(rock_properties)"
      ],
      "execution_count": null,
      "outputs": []
    },
    {
      "cell_type": "code",
      "metadata": {
        "id": "VW_Mi1vbZ0Ie",
        "colab_type": "code",
        "colab": {}
      },
      "source": [
        "#Just an example of what do i mean when i say they \n",
        "#can be converted to tables. \n",
        "\n",
        "import pandas as pd\n",
        "\n",
        "rock_data = {'phi' : [0.10,0.20,0.30,0.50], 'perm' : [50,100,150,200]}\n",
        "\n",
        "data_table = pd.DataFrame(rock_data)\n",
        "\n",
        "data_table\n",
        "\n",
        "#We'll cover More of Pandas later."
      ],
      "execution_count": null,
      "outputs": []
    },
    {
      "cell_type": "markdown",
      "metadata": {
        "id": "cxcDQimydcC-",
        "colab_type": "text"
      },
      "source": [
        "#**ITERATIONS**\n",
        "\n",
        "##The tool with which we can utilize the power of computers.  "
      ]
    },
    {
      "cell_type": "markdown",
      "metadata": {
        "id": "HQDeLPsPd928",
        "colab_type": "text"
      },
      "source": [
        "###Loops/Iterations are very important for Reservoir Simulation as well. \n",
        "\n",
        "1. **For Loops**\n",
        "2. While Loops"
      ]
    },
    {
      "cell_type": "markdown",
      "metadata": {
        "id": "t1yuJH9iect1",
        "colab_type": "text"
      },
      "source": [
        "Iterations are always performed on Iterables (ordered-collections). \n",
        "\n",
        "Examples of iterables - lists, strings etc."
      ]
    },
    {
      "cell_type": "code",
      "metadata": {
        "id": "z10eisapbtzP",
        "colab_type": "code",
        "colab": {
          "base_uri": "https://localhost:8080/",
          "height": 181
        },
        "outputId": "b56ebdaa-b063-45ce-8d5b-f6f06f639a05"
      },
      "source": [
        "#We can perform repetition of a command a 1000 times in 1 second.\n",
        "\n",
        "my_numbers = [1,2,3,4,5,6,7,8,9]\n",
        "\n",
        "for num in my_numbers:\n",
        "  \n",
        "  print(num)\n",
        "\n",
        "  "
      ],
      "execution_count": 3,
      "outputs": [
        {
          "output_type": "stream",
          "text": [
            "1\n",
            "2\n",
            "3\n",
            "4\n",
            "5\n",
            "6\n",
            "7\n",
            "8\n",
            "9\n"
          ],
          "name": "stdout"
        }
      ]
    },
    {
      "cell_type": "code",
      "metadata": {
        "id": "SpGVUfGsfCxY",
        "colab_type": "code",
        "colab": {}
      },
      "source": [
        "#example 2:\n",
        "\n",
        "for i in range(len(my_numbers)):\n",
        "  print('*')"
      ],
      "execution_count": null,
      "outputs": []
    },
    {
      "cell_type": "markdown",
      "metadata": {
        "id": "HdVhkBZof_0v",
        "colab_type": "text"
      },
      "source": [
        "#Practical Applications of a loop:\n",
        "\n",
        "To iterate over all values of a list to update it. "
      ]
    },
    {
      "cell_type": "markdown",
      "metadata": {
        "id": "n5Sica-ggO0E",
        "colab_type": "text"
      },
      "source": [
        "#While Loop:\n"
      ]
    },
    {
      "cell_type": "code",
      "metadata": {
        "id": "e__pYcA1frlX",
        "colab_type": "code",
        "colab": {}
      },
      "source": [
        "# while condition1:\n",
        "#     runs if condition 1 satisfied\n",
        "      #update statement"
      ],
      "execution_count": null,
      "outputs": []
    },
    {
      "cell_type": "code",
      "metadata": {
        "id": "4-VngKQMgjOH",
        "colab_type": "code",
        "colab": {}
      },
      "source": [
        "t = 1\n",
        "\n",
        "while t<10:\n",
        "\n",
        "  print(f'Current value of t = {t}')\n",
        "\n",
        "  t = t+1\n",
        "\n",
        "#Note that if you don't give the \n",
        "#update statement, You can run an infinite Loop. "
      ],
      "execution_count": null,
      "outputs": []
    },
    {
      "cell_type": "markdown",
      "metadata": {
        "id": "thS0kVyl042W",
        "colab_type": "text"
      },
      "source": [
        "#Hands on Practice with **Functions**"
      ]
    },
    {
      "cell_type": "code",
      "metadata": {
        "id": "YtwUyDjShJIc",
        "colab_type": "code",
        "colab": {}
      },
      "source": [
        "#Functions are very important. \n",
        "\n",
        "#1. Make the code clean. \n",
        "#2. Helps Prevent repetitive commands. "
      ],
      "execution_count": null,
      "outputs": []
    },
    {
      "cell_type": "markdown",
      "metadata": {
        "id": "4_18vysL1sEq",
        "colab_type": "text"
      },
      "source": [
        "$ q =\\frac{kh}{141.2 * \\mu * B * ln(re/rw)} delP $"
      ]
    },
    {
      "cell_type": "code",
      "metadata": {
        "id": "HQG1jCmF1qTv",
        "colab_type": "code",
        "colab": {}
      },
      "source": [
        "#So here the term except delP is important. \n",
        "#And we can use it again and again. So we can create a function of it. \n",
        "\n",
        "#function definition. \n",
        "def slope():\n",
        "\n",
        "  k = int(input('Enter K: '))\n",
        "  h = int(input('Enter h: '))\n",
        "  mu = int(input('Enter viscocity: '))\n",
        "  B = float(input('Enter FVF: '))\n",
        "\n",
        "  lnrerw = 0.5\n",
        "\n",
        "  m = k*h/(141.2*mu*B*lnrerw)\n",
        "\n",
        "  return m\n"
      ],
      "execution_count": null,
      "outputs": []
    },
    {
      "cell_type": "code",
      "metadata": {
        "id": "eO0OBU9d4RR0",
        "colab_type": "code",
        "colab": {}
      },
      "source": [
        "#function call to get the value function returns. \n",
        "#Note that this example also teaches how to take user input.\n",
        "delP = 500 #psia\n",
        "\n",
        "m = slope()\n",
        "\n",
        "q = m*delP\n",
        "\n",
        "print(f'The flowrate at {delP} psi drawdown is {q} STB/D')"
      ],
      "execution_count": null,
      "outputs": []
    },
    {
      "cell_type": "code",
      "metadata": {
        "id": "RxzhVCs75RzG",
        "colab_type": "code",
        "colab": {}
      },
      "source": [
        "###########################################################"
      ],
      "execution_count": null,
      "outputs": []
    },
    {
      "cell_type": "markdown",
      "metadata": {
        "id": "4Gblf1Eg7wLv",
        "colab_type": "text"
      },
      "source": [
        "#Mini-Project 1: Finding the square root of a number using python.\n",
        "\n",
        "Background - Numerical Methods - Newton Raphson's\n",
        "\n",
        "Formula:\n",
        "\n",
        "if we have a function f(x) = 0 and we want to find the root, \n",
        "\n",
        "$ x(n+1) = x_n - \\frac{f(x_n)}{f'(x_n)} $"
      ]
    },
    {
      "cell_type": "code",
      "metadata": {
        "id": "tN4qaQCS5ytt",
        "colab_type": "code",
        "colab": {
          "base_uri": "https://localhost:8080/",
          "height": 72
        },
        "outputId": "c5668276-bee3-4093-e857-825cda5d9853"
      },
      "source": [
        "#Solution: \n",
        "\n",
        "# x = root(N) \n",
        "# x^2 - N = 0\n",
        "# f(x) --> x2 - N\n",
        "\n",
        "n = float(input('Enter the Number to be square rooted: '))\n",
        "\n",
        "x = int(input('Enter your initial Guess of the root: '))\n",
        "\n",
        "while abs(x**2 - n) >= 0.0000001:\n",
        "\n",
        "  x = x - (x**2 - n)/(2*x)\n",
        "\n",
        "print(f'The final root is: {abs(x)}')"
      ],
      "execution_count": 4,
      "outputs": [
        {
          "output_type": "stream",
          "text": [
            "Enter the Number to be square rooted: 100\n",
            "Enter your initial Guess of the root: 500000\n",
            "The final root is: 10.0\n"
          ],
          "name": "stdout"
        }
      ]
    },
    {
      "cell_type": "markdown",
      "metadata": {
        "id": "BfXlFkNs_eeD",
        "colab_type": "text"
      },
      "source": [
        "#Similarly we can find the roots of any transcendental equation f(x) = 0 using this method. \n",
        "\n",
        "##Home Task - Try to find the Klinkenberg (corrected) Permeability using this method. \n",
        "\n",
        "Refer My Github. This is one of my most favourite mini project.\n",
        "\n",
        "Link for Problem Description and Solution : https://github.com/Divyanshu-ISM/Oil-and-Gas-data-analysis/blob/master/KlinkenbergEffect.ipynb"
      ]
    },
    {
      "cell_type": "code",
      "metadata": {
        "id": "_OYKLn6D-bEu",
        "colab_type": "code",
        "colab": {}
      },
      "source": [
        "###########################################################"
      ],
      "execution_count": null,
      "outputs": []
    },
    {
      "cell_type": "code",
      "metadata": {
        "id": "zSuyu7X3By2_",
        "colab_type": "code",
        "colab": {}
      },
      "source": [
        "################################################################"
      ],
      "execution_count": null,
      "outputs": []
    },
    {
      "cell_type": "markdown",
      "metadata": {
        "id": "7Q1h3DphCBa5",
        "colab_type": "text"
      },
      "source": [
        "#**PART 2 Of the Session**\n",
        "\n",
        "##Data Analysis with NumPy and Pandas"
      ]
    },
    {
      "cell_type": "markdown",
      "metadata": {
        "id": "YTvUz-ZNFvnJ",
        "colab_type": "text"
      },
      "source": [
        "# A. NumPy"
      ]
    },
    {
      "cell_type": "markdown",
      "metadata": {
        "id": "18-mzH1AFHXX",
        "colab_type": "text"
      },
      "source": [
        "\n",
        "\n",
        "*   NumPy stands for Numerical Python. It brings a lot of Casio-991Ms utilities to Python.\n",
        "*   It is built on top of C++ and C++ is quick as flash. So, NumPy operations help in computational efficiency. \n",
        "*   NumPy is famous for its object - NumPy arrays. Which helps store collection (just like list) of numbers in form of an object that can be treated and manipulated just like a number.\n",
        "\n"
      ]
    },
    {
      "cell_type": "markdown",
      "metadata": {
        "id": "myhHufq5GDDV",
        "colab_type": "text"
      },
      "source": [
        "# Why NumPy? Take a look at this disadvantage of lists. "
      ]
    },
    {
      "cell_type": "code",
      "metadata": {
        "id": "r8bm6JZnGCGn",
        "colab_type": "code",
        "colab": {
          "base_uri": "https://localhost:8080/",
          "height": 35
        },
        "outputId": "dabe4b1d-48ba-480b-c519-d5bdfb01f5d1"
      },
      "source": [
        "num1 = [1,2,3,4,5]\n",
        "num2 = [5,6,7,8,9]\n",
        "\n",
        "# print(num1*num2)\n",
        "\n",
        "print(num1 + num2)\n",
        "\n",
        "#So, a dot product is not possible unless you use for loops. \n",
        "#And, addition term by term doesn't happen this easy. It rather concatenates. \n",
        "\n",
        "#So we need for loops for manipulating data with lists. and that's bad. \n",
        "\n",
        "#Let's use NumPy now."
      ],
      "execution_count": 5,
      "outputs": [
        {
          "output_type": "stream",
          "text": [
            "[1, 2, 3, 4, 5, 5, 6, 7, 8, 9]\n"
          ],
          "name": "stdout"
        }
      ]
    },
    {
      "cell_type": "markdown",
      "metadata": {
        "id": "rlZDse39HOS9",
        "colab_type": "text"
      },
      "source": [
        "We can directly convert a list to a NumPy array."
      ]
    },
    {
      "cell_type": "code",
      "metadata": {
        "id": "-rHD5EKsB2nz",
        "colab_type": "code",
        "colab": {
          "base_uri": "https://localhost:8080/",
          "height": 90
        },
        "outputId": "aa0d03e9-101d-4ae0-a467-56929015167c"
      },
      "source": [
        "#Step 1. Import numpy with its alias name 'np'\n",
        "import numpy as np\n",
        "\n",
        "#Lets first Directly convert the list to NumPy arrays -> use np.array(listname)\n",
        "arr1 = np.array(num1)\n",
        "arr2 = np.array(num2)\n",
        "\n",
        "#And Let's now solve the List Disadvantages using NumPy\n",
        "print(arr1)\n",
        "print(arr2)\n",
        "print(arr1*arr2)\n",
        "print(arr1 + arr2)\n",
        "\n",
        "#SO, This is how easy it gets with NumPy arrays. \n",
        "\n",
        "#Let's now check more features out."
      ],
      "execution_count": 6,
      "outputs": [
        {
          "output_type": "stream",
          "text": [
            "[1 2 3 4 5]\n",
            "[5 6 7 8 9]\n",
            "[ 5 12 21 32 45]\n",
            "[ 6  8 10 12 14]\n"
          ],
          "name": "stdout"
        }
      ]
    },
    {
      "cell_type": "markdown",
      "metadata": {
        "id": "fWonLzx6Vfc2",
        "colab_type": "text"
      },
      "source": [
        "##1. np.linspace( start, stop, no.ofvalues)"
      ]
    },
    {
      "cell_type": "code",
      "metadata": {
        "id": "VclCkd0AIRUG",
        "colab_type": "code",
        "colab": {}
      },
      "source": [
        "saturations = np.linspace(0,1,100)\n",
        "\n",
        "#Both start and stop values are included as the first and last values of the array.\n",
        "#Creates saturation array with 100 values: starting from 0-100\n",
        "\n",
        "# print(saturations)\n",
        "\n",
        "#Applications? krw = sw^3 kro = (1-sw)^3"
      ],
      "execution_count": null,
      "outputs": []
    },
    {
      "cell_type": "code",
      "metadata": {
        "id": "rICnHep1V6im",
        "colab_type": "code",
        "colab": {}
      },
      "source": [
        "sw = np.linspace(0,1,50)\n",
        "\n",
        "krw = sw**3\n",
        "\n",
        "kro = (1-sw)**3\n",
        "\n",
        "#BRilliant. It worked. \n",
        "#Further when we will plot these Rel-Perm arrays, you'll get more confident.\n"
      ],
      "execution_count": null,
      "outputs": []
    },
    {
      "cell_type": "markdown",
      "metadata": {
        "id": "uvSmFV5MZo1e",
        "colab_type": "text"
      },
      "source": [
        "##2. np.arange(start,stop,interval) --> [start,stop)"
      ]
    },
    {
      "cell_type": "code",
      "metadata": {
        "id": "0eO0xDnKYwV8",
        "colab_type": "code",
        "colab": {
          "base_uri": "https://localhost:8080/",
          "height": 54
        },
        "outputId": "ec92bb89-e6aa-44ee-a951-c69bace38704"
      },
      "source": [
        "#Will be useful for Reservoir simulation. Space-Time Arrays.\n",
        "\n",
        "#Suppose you want to build an array for days. from t = 0th day to t= 500th day. \n",
        "#Time step = 20 days. \n",
        "\n",
        "t = np.arange(0,520,20)\n",
        "\n",
        "t"
      ],
      "execution_count": null,
      "outputs": [
        {
          "output_type": "execute_result",
          "data": {
            "text/plain": [
              "array([  0,  20,  40,  60,  80, 100, 120, 140, 160, 180, 200, 220, 240,\n",
              "       260, 280, 300, 320, 340, 360, 380, 400, 420, 440, 460, 480, 500])"
            ]
          },
          "metadata": {
            "tags": []
          },
          "execution_count": 68
        }
      ]
    },
    {
      "cell_type": "markdown",
      "metadata": {
        "id": "gh5d4HcDbzLT",
        "colab_type": "text"
      },
      "source": [
        "##3. NumPy Universal Functions (uFuncs)\n",
        "\n",
        "Reference link - https://www.w3schools.com/python/numpy_ufunc.asp\n",
        "\n",
        "This is where we get the advantages of a scientific calculator in python.\n",
        "\n",
        "Also do check out the **math library**."
      ]
    },
    {
      "cell_type": "code",
      "metadata": {
        "id": "x7y1gDw-a1sK",
        "colab_type": "code",
        "colab": {
          "base_uri": "https://localhost:8080/",
          "height": 35
        },
        "outputId": "8aaf6c91-6d28-43de-80f6-07eb55d85f82"
      },
      "source": [
        "a = np.array([1,2,3,4,5])\n",
        "\n",
        "b = np.array([4,5,6,7,8])\n",
        "\n",
        "#1.\n",
        "np.add(a,b)\n",
        "\n",
        "\n"
      ],
      "execution_count": null,
      "outputs": [
        {
          "output_type": "execute_result",
          "data": {
            "text/plain": [
              "array([ 5,  7,  9, 11, 13])"
            ]
          },
          "metadata": {
            "tags": []
          },
          "execution_count": 69
        }
      ]
    },
    {
      "cell_type": "code",
      "metadata": {
        "id": "IwLMJ7YveNZU",
        "colab_type": "code",
        "colab": {
          "base_uri": "https://localhost:8080/",
          "height": 54
        },
        "outputId": "5ace417e-96b8-4852-ce81-74e055b5bef6"
      },
      "source": [
        "#2. Power\n",
        "arr1 = np.array([10, 20, 30, 40, 50, 60])\n",
        "arr2 = np.array([3, 5, 6, 8, 2, 33])\n",
        "\n",
        "newarr = np.power(arr1, arr2)\n",
        "\n",
        "print(newarr)"
      ],
      "execution_count": null,
      "outputs": [
        {
          "output_type": "stream",
          "text": [
            "[         1000       3200000     729000000 6553600000000          2500\n",
            "             0]\n"
          ],
          "name": "stdout"
        }
      ]
    },
    {
      "cell_type": "code",
      "metadata": {
        "id": "1EUt5A2IfBLf",
        "colab_type": "code",
        "colab": {
          "base_uri": "https://localhost:8080/",
          "height": 72
        },
        "outputId": "275805be-b018-4fc1-b06d-af949633786c"
      },
      "source": [
        "#3. Logarithms - base e,10,custom\n",
        "\n",
        "#3.A)-Log base 2\n",
        "arr = np.arange(1, 10)\n",
        "\n",
        "print(arr)\n",
        "print(np.log2(arr))\n",
        "\n",
        "# Use the log10() function to perform log at the base 10.\n",
        "# Use the log() function to perform log at the base e."
      ],
      "execution_count": null,
      "outputs": [
        {
          "output_type": "stream",
          "text": [
            "[1 2 3 4 5 6 7 8 9]\n",
            "[0.         1.         1.5849625  2.         2.32192809 2.5849625\n",
            " 2.80735492 3.         3.169925  ]\n"
          ],
          "name": "stdout"
        }
      ]
    },
    {
      "cell_type": "code",
      "metadata": {
        "id": "55i93D6Hgn80",
        "colab_type": "code",
        "colab": {
          "base_uri": "https://localhost:8080/",
          "height": 35
        },
        "outputId": "f9e62fe2-a7c8-4c58-8152-d8bcd921cbad"
      },
      "source": [
        "#4. Trigonometry. \n",
        "\n",
        "print(np.sin(np.pi/2))"
      ],
      "execution_count": null,
      "outputs": [
        {
          "output_type": "stream",
          "text": [
            "1.0\n"
          ],
          "name": "stdout"
        }
      ]
    },
    {
      "cell_type": "code",
      "metadata": {
        "id": "adshDkQUiRJw",
        "colab_type": "code",
        "colab": {
          "base_uri": "https://localhost:8080/",
          "height": 54
        },
        "outputId": "6be5a977-2b97-4a27-e857-3d5f812952b3"
      },
      "source": [
        "print(np.arcsin(1.0)) #which must be pi/2\n",
        "\n",
        "print(np.pi/2)"
      ],
      "execution_count": null,
      "outputs": [
        {
          "output_type": "stream",
          "text": [
            "1.5707963267948966\n",
            "1.5707963267948966\n"
          ],
          "name": "stdout"
        }
      ]
    },
    {
      "cell_type": "code",
      "metadata": {
        "id": "3WQPRmL2iY9_",
        "colab_type": "code",
        "colab": {}
      },
      "source": [
        "####################################################################"
      ],
      "execution_count": 1,
      "outputs": []
    },
    {
      "cell_type": "markdown",
      "metadata": {
        "id": "aAfoa8ca7I3M",
        "colab_type": "text"
      },
      "source": [
        "#Pandas - The Ms.Excel of Python\n",
        "\n",
        "This library helps us import | create | work with data in the form of tables.\n",
        "\n",
        "The tables are called DataFrames. \n",
        "\n",
        "1. We can directly convert a Dictionary into a DataFrame. \n",
        "2. We can import excel-sheets or CSV files (most popular) into DF.\n",
        "3. We can manipulate and use these tables in a very user-friendly way."
      ]
    },
    {
      "cell_type": "markdown",
      "metadata": {
        "id": "sNs4P3S-8Btr",
        "colab_type": "text"
      },
      "source": [
        "##Case 1: Dictionary to Pandas DataFrame."
      ]
    },
    {
      "cell_type": "code",
      "metadata": {
        "id": "p9B7bWYj7GaB",
        "colab_type": "code",
        "colab": {
          "base_uri": "https://localhost:8080/",
          "height": 198
        },
        "outputId": "6d7a56fc-14f2-4350-f1eb-38b75048a64a"
      },
      "source": [
        "#Step 1: Import Pandas with an alias 'pd'\n",
        "import pandas as pd\n",
        "\n",
        "\n",
        "#Step 2: Create your dictionary\n",
        "cambay_rocks = {'phi': [0.2,0.40,0.30,0.25,0.270],\n",
        "                'perm': [100,20,150,130,145],\n",
        "                'lith': ['sst','shale','sst','sst','sst']}\n",
        "\n",
        "#Step 3: Create your Table.\n",
        "rock_table = pd.DataFrame(cambay_rocks)\n",
        "\n",
        "#Step 4: Print your table.\n",
        "rock_table"
      ],
      "execution_count": 2,
      "outputs": [
        {
          "output_type": "execute_result",
          "data": {
            "text/html": [
              "<div>\n",
              "<style scoped>\n",
              "    .dataframe tbody tr th:only-of-type {\n",
              "        vertical-align: middle;\n",
              "    }\n",
              "\n",
              "    .dataframe tbody tr th {\n",
              "        vertical-align: top;\n",
              "    }\n",
              "\n",
              "    .dataframe thead th {\n",
              "        text-align: right;\n",
              "    }\n",
              "</style>\n",
              "<table border=\"1\" class=\"dataframe\">\n",
              "  <thead>\n",
              "    <tr style=\"text-align: right;\">\n",
              "      <th></th>\n",
              "      <th>phi</th>\n",
              "      <th>perm</th>\n",
              "      <th>lith</th>\n",
              "    </tr>\n",
              "  </thead>\n",
              "  <tbody>\n",
              "    <tr>\n",
              "      <th>0</th>\n",
              "      <td>0.20</td>\n",
              "      <td>100</td>\n",
              "      <td>sst</td>\n",
              "    </tr>\n",
              "    <tr>\n",
              "      <th>1</th>\n",
              "      <td>0.40</td>\n",
              "      <td>20</td>\n",
              "      <td>shale</td>\n",
              "    </tr>\n",
              "    <tr>\n",
              "      <th>2</th>\n",
              "      <td>0.30</td>\n",
              "      <td>150</td>\n",
              "      <td>sst</td>\n",
              "    </tr>\n",
              "    <tr>\n",
              "      <th>3</th>\n",
              "      <td>0.25</td>\n",
              "      <td>130</td>\n",
              "      <td>sst</td>\n",
              "    </tr>\n",
              "    <tr>\n",
              "      <th>4</th>\n",
              "      <td>0.27</td>\n",
              "      <td>145</td>\n",
              "      <td>sst</td>\n",
              "    </tr>\n",
              "  </tbody>\n",
              "</table>\n",
              "</div>"
            ],
            "text/plain": [
              "    phi  perm   lith\n",
              "0  0.20   100    sst\n",
              "1  0.40    20  shale\n",
              "2  0.30   150    sst\n",
              "3  0.25   130    sst\n",
              "4  0.27   145    sst"
            ]
          },
          "metadata": {
            "tags": []
          },
          "execution_count": 2
        }
      ]
    },
    {
      "cell_type": "markdown",
      "metadata": {
        "id": "Iwt7FgQz95Rv",
        "colab_type": "text"
      },
      "source": [
        "#Case 2: Importing Data From a CSV (Comma Seperated Values) File.\n",
        "\n",
        "A csv file can be imagined as a table with the lines being replaced by commas."
      ]
    },
    {
      "cell_type": "code",
      "metadata": {
        "id": "EXZL6WRY9T64",
        "colab_type": "code",
        "colab": {}
      },
      "source": [
        "df_csv_to_dataframe = pd.read_csv('/content/sample_data/california_housing_train.csv')\n",
        "\n",
        "\n",
        "#Similarly excel file can be read by- \n",
        "#df = pd.read_excel('\\path\\filename.csv')"
      ],
      "execution_count": 4,
      "outputs": []
    },
    {
      "cell_type": "markdown",
      "metadata": {
        "id": "PtSLqepl-aZ5",
        "colab_type": "text"
      },
      "source": [
        "#Description"
      ]
    },
    {
      "cell_type": "markdown",
      "metadata": {
        "id": "wk0OmeAO-kpj",
        "colab_type": "text"
      },
      "source": [
        "Note that the Pandas DF has two parts-\n",
        "\n",
        "1. The vertical Columns. \n",
        "2. The Horizontal Rows."
      ]
    },
    {
      "cell_type": "code",
      "metadata": {
        "id": "dDhNWiXU9v13",
        "colab_type": "code",
        "colab": {
          "base_uri": "https://localhost:8080/",
          "height": 198
        },
        "outputId": "2b5cc2e7-365f-4c2a-f15b-7c628b0cf7da"
      },
      "source": [
        "rock_table"
      ],
      "execution_count": 5,
      "outputs": [
        {
          "output_type": "execute_result",
          "data": {
            "text/html": [
              "<div>\n",
              "<style scoped>\n",
              "    .dataframe tbody tr th:only-of-type {\n",
              "        vertical-align: middle;\n",
              "    }\n",
              "\n",
              "    .dataframe tbody tr th {\n",
              "        vertical-align: top;\n",
              "    }\n",
              "\n",
              "    .dataframe thead th {\n",
              "        text-align: right;\n",
              "    }\n",
              "</style>\n",
              "<table border=\"1\" class=\"dataframe\">\n",
              "  <thead>\n",
              "    <tr style=\"text-align: right;\">\n",
              "      <th></th>\n",
              "      <th>phi</th>\n",
              "      <th>perm</th>\n",
              "      <th>lith</th>\n",
              "    </tr>\n",
              "  </thead>\n",
              "  <tbody>\n",
              "    <tr>\n",
              "      <th>0</th>\n",
              "      <td>0.20</td>\n",
              "      <td>100</td>\n",
              "      <td>sst</td>\n",
              "    </tr>\n",
              "    <tr>\n",
              "      <th>1</th>\n",
              "      <td>0.40</td>\n",
              "      <td>20</td>\n",
              "      <td>shale</td>\n",
              "    </tr>\n",
              "    <tr>\n",
              "      <th>2</th>\n",
              "      <td>0.30</td>\n",
              "      <td>150</td>\n",
              "      <td>sst</td>\n",
              "    </tr>\n",
              "    <tr>\n",
              "      <th>3</th>\n",
              "      <td>0.25</td>\n",
              "      <td>130</td>\n",
              "      <td>sst</td>\n",
              "    </tr>\n",
              "    <tr>\n",
              "      <th>4</th>\n",
              "      <td>0.27</td>\n",
              "      <td>145</td>\n",
              "      <td>sst</td>\n",
              "    </tr>\n",
              "  </tbody>\n",
              "</table>\n",
              "</div>"
            ],
            "text/plain": [
              "    phi  perm   lith\n",
              "0  0.20   100    sst\n",
              "1  0.40    20  shale\n",
              "2  0.30   150    sst\n",
              "3  0.25   130    sst\n",
              "4  0.27   145    sst"
            ]
          },
          "metadata": {
            "tags": []
          },
          "execution_count": 5
        }
      ]
    },
    {
      "cell_type": "markdown",
      "metadata": {
        "id": "RpT54ODM_7fr",
        "colab_type": "text"
      },
      "source": [
        "The Columns individually are labelled arrays. \n",
        "\n",
        "And these 'arrays-with-labels', are called a 'Series'.\n",
        "\n",
        "Series, vertically stacked next to each other forms a DF.\n"
      ]
    },
    {
      "cell_type": "code",
      "metadata": {
        "id": "ZgLschyz_338",
        "colab_type": "code",
        "colab": {
          "base_uri": "https://localhost:8080/",
          "height": 198
        },
        "outputId": "185fd6e4-e523-4d56-a847-9cf710491c13"
      },
      "source": [
        "#Let's Manipulate data using Pandas. \n",
        "\n",
        "df.head()"
      ],
      "execution_count": 8,
      "outputs": [
        {
          "output_type": "execute_result",
          "data": {
            "text/html": [
              "<div>\n",
              "<style scoped>\n",
              "    .dataframe tbody tr th:only-of-type {\n",
              "        vertical-align: middle;\n",
              "    }\n",
              "\n",
              "    .dataframe tbody tr th {\n",
              "        vertical-align: top;\n",
              "    }\n",
              "\n",
              "    .dataframe thead th {\n",
              "        text-align: right;\n",
              "    }\n",
              "</style>\n",
              "<table border=\"1\" class=\"dataframe\">\n",
              "  <thead>\n",
              "    <tr style=\"text-align: right;\">\n",
              "      <th></th>\n",
              "      <th>longitude</th>\n",
              "      <th>latitude</th>\n",
              "      <th>housing_median_age</th>\n",
              "      <th>total_rooms</th>\n",
              "      <th>total_bedrooms</th>\n",
              "      <th>population</th>\n",
              "      <th>households</th>\n",
              "      <th>median_income</th>\n",
              "      <th>median_house_value</th>\n",
              "    </tr>\n",
              "  </thead>\n",
              "  <tbody>\n",
              "    <tr>\n",
              "      <th>0</th>\n",
              "      <td>-114.31</td>\n",
              "      <td>34.19</td>\n",
              "      <td>15.0</td>\n",
              "      <td>5612.0</td>\n",
              "      <td>1283.0</td>\n",
              "      <td>1015.0</td>\n",
              "      <td>472.0</td>\n",
              "      <td>1.4936</td>\n",
              "      <td>66900.0</td>\n",
              "    </tr>\n",
              "    <tr>\n",
              "      <th>1</th>\n",
              "      <td>-114.47</td>\n",
              "      <td>34.40</td>\n",
              "      <td>19.0</td>\n",
              "      <td>7650.0</td>\n",
              "      <td>1901.0</td>\n",
              "      <td>1129.0</td>\n",
              "      <td>463.0</td>\n",
              "      <td>1.8200</td>\n",
              "      <td>80100.0</td>\n",
              "    </tr>\n",
              "    <tr>\n",
              "      <th>2</th>\n",
              "      <td>-114.56</td>\n",
              "      <td>33.69</td>\n",
              "      <td>17.0</td>\n",
              "      <td>720.0</td>\n",
              "      <td>174.0</td>\n",
              "      <td>333.0</td>\n",
              "      <td>117.0</td>\n",
              "      <td>1.6509</td>\n",
              "      <td>85700.0</td>\n",
              "    </tr>\n",
              "    <tr>\n",
              "      <th>3</th>\n",
              "      <td>-114.57</td>\n",
              "      <td>33.64</td>\n",
              "      <td>14.0</td>\n",
              "      <td>1501.0</td>\n",
              "      <td>337.0</td>\n",
              "      <td>515.0</td>\n",
              "      <td>226.0</td>\n",
              "      <td>3.1917</td>\n",
              "      <td>73400.0</td>\n",
              "    </tr>\n",
              "    <tr>\n",
              "      <th>4</th>\n",
              "      <td>-114.57</td>\n",
              "      <td>33.57</td>\n",
              "      <td>20.0</td>\n",
              "      <td>1454.0</td>\n",
              "      <td>326.0</td>\n",
              "      <td>624.0</td>\n",
              "      <td>262.0</td>\n",
              "      <td>1.9250</td>\n",
              "      <td>65500.0</td>\n",
              "    </tr>\n",
              "  </tbody>\n",
              "</table>\n",
              "</div>"
            ],
            "text/plain": [
              "   longitude  latitude  ...  median_income  median_house_value\n",
              "0    -114.31     34.19  ...         1.4936             66900.0\n",
              "1    -114.47     34.40  ...         1.8200             80100.0\n",
              "2    -114.56     33.69  ...         1.6509             85700.0\n",
              "3    -114.57     33.64  ...         3.1917             73400.0\n",
              "4    -114.57     33.57  ...         1.9250             65500.0\n",
              "\n",
              "[5 rows x 9 columns]"
            ]
          },
          "metadata": {
            "tags": []
          },
          "execution_count": 8
        }
      ]
    },
    {
      "cell_type": "code",
      "metadata": {
        "id": "jhIm032sAiVJ",
        "colab_type": "code",
        "colab": {
          "base_uri": "https://localhost:8080/",
          "height": 35
        },
        "outputId": "00f47daa-9e0b-4832-be3c-0ca1a62d34b1"
      },
      "source": [
        "df.shape"
      ],
      "execution_count": 9,
      "outputs": [
        {
          "output_type": "execute_result",
          "data": {
            "text/plain": [
              "(17000, 9)"
            ]
          },
          "metadata": {
            "tags": []
          },
          "execution_count": 9
        }
      ]
    },
    {
      "cell_type": "code",
      "metadata": {
        "id": "tLwOn8vtAssQ",
        "colab_type": "code",
        "colab": {
          "base_uri": "https://localhost:8080/",
          "height": 308
        },
        "outputId": "b45c7e7e-6b53-4ea2-f01d-78cf6c428839"
      },
      "source": [
        "df.info()"
      ],
      "execution_count": 10,
      "outputs": [
        {
          "output_type": "stream",
          "text": [
            "<class 'pandas.core.frame.DataFrame'>\n",
            "RangeIndex: 17000 entries, 0 to 16999\n",
            "Data columns (total 9 columns):\n",
            " #   Column              Non-Null Count  Dtype  \n",
            "---  ------              --------------  -----  \n",
            " 0   longitude           17000 non-null  float64\n",
            " 1   latitude            17000 non-null  float64\n",
            " 2   housing_median_age  17000 non-null  float64\n",
            " 3   total_rooms         17000 non-null  float64\n",
            " 4   total_bedrooms      17000 non-null  float64\n",
            " 5   population          17000 non-null  float64\n",
            " 6   households          17000 non-null  float64\n",
            " 7   median_income       17000 non-null  float64\n",
            " 8   median_house_value  17000 non-null  float64\n",
            "dtypes: float64(9)\n",
            "memory usage: 1.2 MB\n"
          ],
          "name": "stdout"
        }
      ]
    },
    {
      "cell_type": "code",
      "metadata": {
        "id": "O4URXkhtAv45",
        "colab_type": "code",
        "colab": {}
      },
      "source": [
        "# df.describe()"
      ],
      "execution_count": 12,
      "outputs": []
    },
    {
      "cell_type": "markdown",
      "metadata": {
        "id": "47fG0lk2A-5d",
        "colab_type": "text"
      },
      "source": [
        "A. Accessing Columns"
      ]
    },
    {
      "cell_type": "code",
      "metadata": {
        "id": "1K52KGuTA1_6",
        "colab_type": "code",
        "colab": {
          "base_uri": "https://localhost:8080/",
          "height": 90
        },
        "outputId": "79a4cfac-367b-4983-c490-a584d5e344ef"
      },
      "source": [
        "#First lets list down all the columns\n",
        "\n",
        "df.columns"
      ],
      "execution_count": 13,
      "outputs": [
        {
          "output_type": "execute_result",
          "data": {
            "text/plain": [
              "Index(['longitude', 'latitude', 'housing_median_age', 'total_rooms',\n",
              "       'total_bedrooms', 'population', 'households', 'median_income',\n",
              "       'median_house_value'],\n",
              "      dtype='object')"
            ]
          },
          "metadata": {
            "tags": []
          },
          "execution_count": 13
        }
      ]
    },
    {
      "cell_type": "code",
      "metadata": {
        "id": "oDSeziWkBF_X",
        "colab_type": "code",
        "colab": {
          "base_uri": "https://localhost:8080/",
          "height": 35
        },
        "outputId": "c2b86e2b-eb1a-494a-f805-308d51de39bf"
      },
      "source": [
        "rock_table.columns"
      ],
      "execution_count": 15,
      "outputs": [
        {
          "output_type": "execute_result",
          "data": {
            "text/plain": [
              "Index(['phi', 'perm', 'lith'], dtype='object')"
            ]
          },
          "metadata": {
            "tags": []
          },
          "execution_count": 15
        }
      ]
    },
    {
      "cell_type": "code",
      "metadata": {
        "id": "-PN-2jCGBKKx",
        "colab_type": "code",
        "colab": {
          "base_uri": "https://localhost:8080/",
          "height": 126
        },
        "outputId": "17af1d05-5510-4cab-f832-ecea624826b0"
      },
      "source": [
        "#For example you just want to access phi.\n",
        "\n",
        "rock_table['phi']"
      ],
      "execution_count": 16,
      "outputs": [
        {
          "output_type": "execute_result",
          "data": {
            "text/plain": [
              "0    0.20\n",
              "1    0.40\n",
              "2    0.30\n",
              "3    0.25\n",
              "4    0.27\n",
              "Name: phi, dtype: float64"
            ]
          },
          "metadata": {
            "tags": []
          },
          "execution_count": 16
        }
      ]
    },
    {
      "cell_type": "code",
      "metadata": {
        "id": "1RhuCgB-BYRS",
        "colab_type": "code",
        "colab": {
          "base_uri": "https://localhost:8080/",
          "height": 198
        },
        "outputId": "e6f7478b-77cb-441c-bcb1-dc3b7dd0d070"
      },
      "source": [
        "rock_table[['phi']]"
      ],
      "execution_count": 17,
      "outputs": [
        {
          "output_type": "execute_result",
          "data": {
            "text/html": [
              "<div>\n",
              "<style scoped>\n",
              "    .dataframe tbody tr th:only-of-type {\n",
              "        vertical-align: middle;\n",
              "    }\n",
              "\n",
              "    .dataframe tbody tr th {\n",
              "        vertical-align: top;\n",
              "    }\n",
              "\n",
              "    .dataframe thead th {\n",
              "        text-align: right;\n",
              "    }\n",
              "</style>\n",
              "<table border=\"1\" class=\"dataframe\">\n",
              "  <thead>\n",
              "    <tr style=\"text-align: right;\">\n",
              "      <th></th>\n",
              "      <th>phi</th>\n",
              "    </tr>\n",
              "  </thead>\n",
              "  <tbody>\n",
              "    <tr>\n",
              "      <th>0</th>\n",
              "      <td>0.20</td>\n",
              "    </tr>\n",
              "    <tr>\n",
              "      <th>1</th>\n",
              "      <td>0.40</td>\n",
              "    </tr>\n",
              "    <tr>\n",
              "      <th>2</th>\n",
              "      <td>0.30</td>\n",
              "    </tr>\n",
              "    <tr>\n",
              "      <th>3</th>\n",
              "      <td>0.25</td>\n",
              "    </tr>\n",
              "    <tr>\n",
              "      <th>4</th>\n",
              "      <td>0.27</td>\n",
              "    </tr>\n",
              "  </tbody>\n",
              "</table>\n",
              "</div>"
            ],
            "text/plain": [
              "    phi\n",
              "0  0.20\n",
              "1  0.40\n",
              "2  0.30\n",
              "3  0.25\n",
              "4  0.27"
            ]
          },
          "metadata": {
            "tags": []
          },
          "execution_count": 17
        }
      ]
    },
    {
      "cell_type": "code",
      "metadata": {
        "id": "zCj23EBiBctl",
        "colab_type": "code",
        "colab": {
          "base_uri": "https://localhost:8080/",
          "height": 198
        },
        "outputId": "593dbec2-49b7-4a1b-bb15-0264d6c9e641"
      },
      "source": [
        "rock_table[['phi','perm']]"
      ],
      "execution_count": 18,
      "outputs": [
        {
          "output_type": "execute_result",
          "data": {
            "text/html": [
              "<div>\n",
              "<style scoped>\n",
              "    .dataframe tbody tr th:only-of-type {\n",
              "        vertical-align: middle;\n",
              "    }\n",
              "\n",
              "    .dataframe tbody tr th {\n",
              "        vertical-align: top;\n",
              "    }\n",
              "\n",
              "    .dataframe thead th {\n",
              "        text-align: right;\n",
              "    }\n",
              "</style>\n",
              "<table border=\"1\" class=\"dataframe\">\n",
              "  <thead>\n",
              "    <tr style=\"text-align: right;\">\n",
              "      <th></th>\n",
              "      <th>phi</th>\n",
              "      <th>perm</th>\n",
              "    </tr>\n",
              "  </thead>\n",
              "  <tbody>\n",
              "    <tr>\n",
              "      <th>0</th>\n",
              "      <td>0.20</td>\n",
              "      <td>100</td>\n",
              "    </tr>\n",
              "    <tr>\n",
              "      <th>1</th>\n",
              "      <td>0.40</td>\n",
              "      <td>20</td>\n",
              "    </tr>\n",
              "    <tr>\n",
              "      <th>2</th>\n",
              "      <td>0.30</td>\n",
              "      <td>150</td>\n",
              "    </tr>\n",
              "    <tr>\n",
              "      <th>3</th>\n",
              "      <td>0.25</td>\n",
              "      <td>130</td>\n",
              "    </tr>\n",
              "    <tr>\n",
              "      <th>4</th>\n",
              "      <td>0.27</td>\n",
              "      <td>145</td>\n",
              "    </tr>\n",
              "  </tbody>\n",
              "</table>\n",
              "</div>"
            ],
            "text/plain": [
              "    phi  perm\n",
              "0  0.20   100\n",
              "1  0.40    20\n",
              "2  0.30   150\n",
              "3  0.25   130\n",
              "4  0.27   145"
            ]
          },
          "metadata": {
            "tags": []
          },
          "execution_count": 18
        }
      ]
    },
    {
      "cell_type": "markdown",
      "metadata": {
        "id": "WAgrP7lBAEoQ",
        "colab_type": "text"
      },
      "source": [
        "#Accessing Rows\n",
        "\n",
        "df.iloc[::] ..i loc means index wise locating rows. \n",
        "\n",
        "df.loc[r1:r2 , c1:c2] .. loc (starts with l) means label wise. PREFERABLE."
      ]
    },
    {
      "cell_type": "code",
      "metadata": {
        "id": "-I60cOvTBhjp",
        "colab_type": "code",
        "colab": {}
      },
      "source": [
        "import pandas as pd\n",
        "df_temp = pd.read_csv('/content/sample_data/california_housing_train.csv')"
      ],
      "execution_count": 4,
      "outputs": []
    },
    {
      "cell_type": "code",
      "metadata": {
        "id": "5dVKQyTCBHDm",
        "colab_type": "code",
        "colab": {
          "base_uri": "https://localhost:8080/",
          "height": 138
        },
        "outputId": "936fb3e4-ee75-4392-f456-7019b230b474"
      },
      "source": [
        "df_temp.head(n=3)"
      ],
      "execution_count": 6,
      "outputs": [
        {
          "output_type": "execute_result",
          "data": {
            "text/html": [
              "<div>\n",
              "<style scoped>\n",
              "    .dataframe tbody tr th:only-of-type {\n",
              "        vertical-align: middle;\n",
              "    }\n",
              "\n",
              "    .dataframe tbody tr th {\n",
              "        vertical-align: top;\n",
              "    }\n",
              "\n",
              "    .dataframe thead th {\n",
              "        text-align: right;\n",
              "    }\n",
              "</style>\n",
              "<table border=\"1\" class=\"dataframe\">\n",
              "  <thead>\n",
              "    <tr style=\"text-align: right;\">\n",
              "      <th></th>\n",
              "      <th>longitude</th>\n",
              "      <th>latitude</th>\n",
              "      <th>housing_median_age</th>\n",
              "      <th>total_rooms</th>\n",
              "      <th>total_bedrooms</th>\n",
              "      <th>population</th>\n",
              "      <th>households</th>\n",
              "      <th>median_income</th>\n",
              "      <th>median_house_value</th>\n",
              "    </tr>\n",
              "  </thead>\n",
              "  <tbody>\n",
              "    <tr>\n",
              "      <th>0</th>\n",
              "      <td>-114.31</td>\n",
              "      <td>34.19</td>\n",
              "      <td>15.0</td>\n",
              "      <td>5612.0</td>\n",
              "      <td>1283.0</td>\n",
              "      <td>1015.0</td>\n",
              "      <td>472.0</td>\n",
              "      <td>1.4936</td>\n",
              "      <td>66900.0</td>\n",
              "    </tr>\n",
              "    <tr>\n",
              "      <th>1</th>\n",
              "      <td>-114.47</td>\n",
              "      <td>34.40</td>\n",
              "      <td>19.0</td>\n",
              "      <td>7650.0</td>\n",
              "      <td>1901.0</td>\n",
              "      <td>1129.0</td>\n",
              "      <td>463.0</td>\n",
              "      <td>1.8200</td>\n",
              "      <td>80100.0</td>\n",
              "    </tr>\n",
              "    <tr>\n",
              "      <th>2</th>\n",
              "      <td>-114.56</td>\n",
              "      <td>33.69</td>\n",
              "      <td>17.0</td>\n",
              "      <td>720.0</td>\n",
              "      <td>174.0</td>\n",
              "      <td>333.0</td>\n",
              "      <td>117.0</td>\n",
              "      <td>1.6509</td>\n",
              "      <td>85700.0</td>\n",
              "    </tr>\n",
              "  </tbody>\n",
              "</table>\n",
              "</div>"
            ],
            "text/plain": [
              "   longitude  latitude  ...  median_income  median_house_value\n",
              "0    -114.31     34.19  ...         1.4936             66900.0\n",
              "1    -114.47     34.40  ...         1.8200             80100.0\n",
              "2    -114.56     33.69  ...         1.6509             85700.0\n",
              "\n",
              "[3 rows x 9 columns]"
            ]
          },
          "metadata": {
            "tags": []
          },
          "execution_count": 6
        }
      ]
    },
    {
      "cell_type": "code",
      "metadata": {
        "id": "R-d6LoA5CATE",
        "colab_type": "code",
        "colab": {
          "base_uri": "https://localhost:8080/",
          "height": 228
        },
        "outputId": "c30457f1-6d09-43e3-b2b9-2c86e9367b23"
      },
      "source": [
        "#Question 1: Try to Access 5-->10 row. and All columns.\n",
        "\n",
        "df_temp.loc[5:10,:] #Note that Both 5 and 10 are included. "
      ],
      "execution_count": 8,
      "outputs": [
        {
          "output_type": "execute_result",
          "data": {
            "text/html": [
              "<div>\n",
              "<style scoped>\n",
              "    .dataframe tbody tr th:only-of-type {\n",
              "        vertical-align: middle;\n",
              "    }\n",
              "\n",
              "    .dataframe tbody tr th {\n",
              "        vertical-align: top;\n",
              "    }\n",
              "\n",
              "    .dataframe thead th {\n",
              "        text-align: right;\n",
              "    }\n",
              "</style>\n",
              "<table border=\"1\" class=\"dataframe\">\n",
              "  <thead>\n",
              "    <tr style=\"text-align: right;\">\n",
              "      <th></th>\n",
              "      <th>longitude</th>\n",
              "      <th>latitude</th>\n",
              "      <th>housing_median_age</th>\n",
              "      <th>total_rooms</th>\n",
              "      <th>total_bedrooms</th>\n",
              "      <th>population</th>\n",
              "      <th>households</th>\n",
              "      <th>median_income</th>\n",
              "      <th>median_house_value</th>\n",
              "    </tr>\n",
              "  </thead>\n",
              "  <tbody>\n",
              "    <tr>\n",
              "      <th>5</th>\n",
              "      <td>-114.58</td>\n",
              "      <td>33.63</td>\n",
              "      <td>29.0</td>\n",
              "      <td>1387.0</td>\n",
              "      <td>236.0</td>\n",
              "      <td>671.0</td>\n",
              "      <td>239.0</td>\n",
              "      <td>3.3438</td>\n",
              "      <td>74000.0</td>\n",
              "    </tr>\n",
              "    <tr>\n",
              "      <th>6</th>\n",
              "      <td>-114.58</td>\n",
              "      <td>33.61</td>\n",
              "      <td>25.0</td>\n",
              "      <td>2907.0</td>\n",
              "      <td>680.0</td>\n",
              "      <td>1841.0</td>\n",
              "      <td>633.0</td>\n",
              "      <td>2.6768</td>\n",
              "      <td>82400.0</td>\n",
              "    </tr>\n",
              "    <tr>\n",
              "      <th>7</th>\n",
              "      <td>-114.59</td>\n",
              "      <td>34.83</td>\n",
              "      <td>41.0</td>\n",
              "      <td>812.0</td>\n",
              "      <td>168.0</td>\n",
              "      <td>375.0</td>\n",
              "      <td>158.0</td>\n",
              "      <td>1.7083</td>\n",
              "      <td>48500.0</td>\n",
              "    </tr>\n",
              "    <tr>\n",
              "      <th>8</th>\n",
              "      <td>-114.59</td>\n",
              "      <td>33.61</td>\n",
              "      <td>34.0</td>\n",
              "      <td>4789.0</td>\n",
              "      <td>1175.0</td>\n",
              "      <td>3134.0</td>\n",
              "      <td>1056.0</td>\n",
              "      <td>2.1782</td>\n",
              "      <td>58400.0</td>\n",
              "    </tr>\n",
              "    <tr>\n",
              "      <th>9</th>\n",
              "      <td>-114.60</td>\n",
              "      <td>34.83</td>\n",
              "      <td>46.0</td>\n",
              "      <td>1497.0</td>\n",
              "      <td>309.0</td>\n",
              "      <td>787.0</td>\n",
              "      <td>271.0</td>\n",
              "      <td>2.1908</td>\n",
              "      <td>48100.0</td>\n",
              "    </tr>\n",
              "    <tr>\n",
              "      <th>10</th>\n",
              "      <td>-114.60</td>\n",
              "      <td>33.62</td>\n",
              "      <td>16.0</td>\n",
              "      <td>3741.0</td>\n",
              "      <td>801.0</td>\n",
              "      <td>2434.0</td>\n",
              "      <td>824.0</td>\n",
              "      <td>2.6797</td>\n",
              "      <td>86500.0</td>\n",
              "    </tr>\n",
              "  </tbody>\n",
              "</table>\n",
              "</div>"
            ],
            "text/plain": [
              "    longitude  latitude  ...  median_income  median_house_value\n",
              "5     -114.58     33.63  ...         3.3438             74000.0\n",
              "6     -114.58     33.61  ...         2.6768             82400.0\n",
              "7     -114.59     34.83  ...         1.7083             48500.0\n",
              "8     -114.59     33.61  ...         2.1782             58400.0\n",
              "9     -114.60     34.83  ...         2.1908             48100.0\n",
              "10    -114.60     33.62  ...         2.6797             86500.0\n",
              "\n",
              "[6 rows x 9 columns]"
            ]
          },
          "metadata": {
            "tags": []
          },
          "execution_count": 8
        }
      ]
    },
    {
      "cell_type": "code",
      "metadata": {
        "id": "LW7jJhRzCfZ7",
        "colab_type": "code",
        "colab": {
          "base_uri": "https://localhost:8080/",
          "height": 358
        },
        "outputId": "49932859-bd73-4ce0-81aa-ab1fc457621a"
      },
      "source": [
        "#Question 2: Try to access 20th to 30th row and first five columns. \n",
        "\n",
        "df_temp.loc[20:30,:5] #This will throw an error since you cannot use column indices with loc."
      ],
      "execution_count": 12,
      "outputs": [
        {
          "output_type": "error",
          "ename": "TypeError",
          "evalue": "ignored",
          "traceback": [
            "\u001b[0;31m---------------------------------------------------------------------------\u001b[0m",
            "\u001b[0;31mTypeError\u001b[0m                                 Traceback (most recent call last)",
            "\u001b[0;32m<ipython-input-12-f1f89d7dc81a>\u001b[0m in \u001b[0;36m<module>\u001b[0;34m()\u001b[0m\n\u001b[1;32m      1\u001b[0m \u001b[0;31m#Question 2: Try to access 20th to 30th row and first five columns.\u001b[0m\u001b[0;34m\u001b[0m\u001b[0;34m\u001b[0m\u001b[0;34m\u001b[0m\u001b[0m\n\u001b[1;32m      2\u001b[0m \u001b[0;34m\u001b[0m\u001b[0m\n\u001b[0;32m----> 3\u001b[0;31m \u001b[0mdf_temp\u001b[0m\u001b[0;34m.\u001b[0m\u001b[0mloc\u001b[0m\u001b[0;34m[\u001b[0m\u001b[0;36m20\u001b[0m\u001b[0;34m:\u001b[0m\u001b[0;36m30\u001b[0m\u001b[0;34m,\u001b[0m\u001b[0;34m:\u001b[0m\u001b[0;36m5\u001b[0m\u001b[0;34m]\u001b[0m\u001b[0;34m\u001b[0m\u001b[0;34m\u001b[0m\u001b[0m\n\u001b[0m",
            "\u001b[0;32m/usr/local/lib/python3.6/dist-packages/pandas/core/indexing.py\u001b[0m in \u001b[0;36m__getitem__\u001b[0;34m(self, key)\u001b[0m\n\u001b[1;32m   1760\u001b[0m                 \u001b[0;32mexcept\u001b[0m \u001b[0;34m(\u001b[0m\u001b[0mKeyError\u001b[0m\u001b[0;34m,\u001b[0m \u001b[0mIndexError\u001b[0m\u001b[0;34m,\u001b[0m \u001b[0mAttributeError\u001b[0m\u001b[0;34m)\u001b[0m\u001b[0;34m:\u001b[0m\u001b[0;34m\u001b[0m\u001b[0;34m\u001b[0m\u001b[0m\n\u001b[1;32m   1761\u001b[0m                     \u001b[0;32mpass\u001b[0m\u001b[0;34m\u001b[0m\u001b[0;34m\u001b[0m\u001b[0m\n\u001b[0;32m-> 1762\u001b[0;31m             \u001b[0;32mreturn\u001b[0m \u001b[0mself\u001b[0m\u001b[0;34m.\u001b[0m\u001b[0m_getitem_tuple\u001b[0m\u001b[0;34m(\u001b[0m\u001b[0mkey\u001b[0m\u001b[0;34m)\u001b[0m\u001b[0;34m\u001b[0m\u001b[0;34m\u001b[0m\u001b[0m\n\u001b[0m\u001b[1;32m   1763\u001b[0m         \u001b[0;32melse\u001b[0m\u001b[0;34m:\u001b[0m\u001b[0;34m\u001b[0m\u001b[0;34m\u001b[0m\u001b[0m\n\u001b[1;32m   1764\u001b[0m             \u001b[0;31m# we by definition only have the 0th axis\u001b[0m\u001b[0;34m\u001b[0m\u001b[0;34m\u001b[0m\u001b[0;34m\u001b[0m\u001b[0m\n",
            "\u001b[0;32m/usr/local/lib/python3.6/dist-packages/pandas/core/indexing.py\u001b[0m in \u001b[0;36m_getitem_tuple\u001b[0;34m(self, tup)\u001b[0m\n\u001b[1;32m   1287\u001b[0m                 \u001b[0;32mcontinue\u001b[0m\u001b[0;34m\u001b[0m\u001b[0;34m\u001b[0m\u001b[0m\n\u001b[1;32m   1288\u001b[0m \u001b[0;34m\u001b[0m\u001b[0m\n\u001b[0;32m-> 1289\u001b[0;31m             \u001b[0mretval\u001b[0m \u001b[0;34m=\u001b[0m \u001b[0mgetattr\u001b[0m\u001b[0;34m(\u001b[0m\u001b[0mretval\u001b[0m\u001b[0;34m,\u001b[0m \u001b[0mself\u001b[0m\u001b[0;34m.\u001b[0m\u001b[0mname\u001b[0m\u001b[0;34m)\u001b[0m\u001b[0;34m.\u001b[0m\u001b[0m_getitem_axis\u001b[0m\u001b[0;34m(\u001b[0m\u001b[0mkey\u001b[0m\u001b[0;34m,\u001b[0m \u001b[0maxis\u001b[0m\u001b[0;34m=\u001b[0m\u001b[0mi\u001b[0m\u001b[0;34m)\u001b[0m\u001b[0;34m\u001b[0m\u001b[0;34m\u001b[0m\u001b[0m\n\u001b[0m\u001b[1;32m   1290\u001b[0m \u001b[0;34m\u001b[0m\u001b[0m\n\u001b[1;32m   1291\u001b[0m         \u001b[0;32mreturn\u001b[0m \u001b[0mretval\u001b[0m\u001b[0;34m\u001b[0m\u001b[0;34m\u001b[0m\u001b[0m\n",
            "\u001b[0;32m/usr/local/lib/python3.6/dist-packages/pandas/core/indexing.py\u001b[0m in \u001b[0;36m_getitem_axis\u001b[0;34m(self, key, axis)\u001b[0m\n\u001b[1;32m   1910\u001b[0m         \u001b[0;32mif\u001b[0m \u001b[0misinstance\u001b[0m\u001b[0;34m(\u001b[0m\u001b[0mkey\u001b[0m\u001b[0;34m,\u001b[0m \u001b[0mslice\u001b[0m\u001b[0;34m)\u001b[0m\u001b[0;34m:\u001b[0m\u001b[0;34m\u001b[0m\u001b[0;34m\u001b[0m\u001b[0m\n\u001b[1;32m   1911\u001b[0m             \u001b[0mself\u001b[0m\u001b[0;34m.\u001b[0m\u001b[0m_validate_key\u001b[0m\u001b[0;34m(\u001b[0m\u001b[0mkey\u001b[0m\u001b[0;34m,\u001b[0m \u001b[0maxis\u001b[0m\u001b[0;34m)\u001b[0m\u001b[0;34m\u001b[0m\u001b[0;34m\u001b[0m\u001b[0m\n\u001b[0;32m-> 1912\u001b[0;31m             \u001b[0;32mreturn\u001b[0m \u001b[0mself\u001b[0m\u001b[0;34m.\u001b[0m\u001b[0m_get_slice_axis\u001b[0m\u001b[0;34m(\u001b[0m\u001b[0mkey\u001b[0m\u001b[0;34m,\u001b[0m \u001b[0maxis\u001b[0m\u001b[0;34m=\u001b[0m\u001b[0maxis\u001b[0m\u001b[0;34m)\u001b[0m\u001b[0;34m\u001b[0m\u001b[0;34m\u001b[0m\u001b[0m\n\u001b[0m\u001b[1;32m   1913\u001b[0m         \u001b[0;32melif\u001b[0m \u001b[0mcom\u001b[0m\u001b[0;34m.\u001b[0m\u001b[0mis_bool_indexer\u001b[0m\u001b[0;34m(\u001b[0m\u001b[0mkey\u001b[0m\u001b[0;34m)\u001b[0m\u001b[0;34m:\u001b[0m\u001b[0;34m\u001b[0m\u001b[0;34m\u001b[0m\u001b[0m\n\u001b[1;32m   1914\u001b[0m             \u001b[0;32mreturn\u001b[0m \u001b[0mself\u001b[0m\u001b[0;34m.\u001b[0m\u001b[0m_getbool_axis\u001b[0m\u001b[0;34m(\u001b[0m\u001b[0mkey\u001b[0m\u001b[0;34m,\u001b[0m \u001b[0maxis\u001b[0m\u001b[0;34m=\u001b[0m\u001b[0maxis\u001b[0m\u001b[0;34m)\u001b[0m\u001b[0;34m\u001b[0m\u001b[0;34m\u001b[0m\u001b[0m\n",
            "\u001b[0;32m/usr/local/lib/python3.6/dist-packages/pandas/core/indexing.py\u001b[0m in \u001b[0;36m_get_slice_axis\u001b[0;34m(self, slice_obj, axis)\u001b[0m\n\u001b[1;32m   1795\u001b[0m         \u001b[0mlabels\u001b[0m \u001b[0;34m=\u001b[0m \u001b[0mobj\u001b[0m\u001b[0;34m.\u001b[0m\u001b[0m_get_axis\u001b[0m\u001b[0;34m(\u001b[0m\u001b[0maxis\u001b[0m\u001b[0;34m)\u001b[0m\u001b[0;34m\u001b[0m\u001b[0;34m\u001b[0m\u001b[0m\n\u001b[1;32m   1796\u001b[0m         indexer = labels.slice_indexer(\n\u001b[0;32m-> 1797\u001b[0;31m             \u001b[0mslice_obj\u001b[0m\u001b[0;34m.\u001b[0m\u001b[0mstart\u001b[0m\u001b[0;34m,\u001b[0m \u001b[0mslice_obj\u001b[0m\u001b[0;34m.\u001b[0m\u001b[0mstop\u001b[0m\u001b[0;34m,\u001b[0m \u001b[0mslice_obj\u001b[0m\u001b[0;34m.\u001b[0m\u001b[0mstep\u001b[0m\u001b[0;34m,\u001b[0m \u001b[0mkind\u001b[0m\u001b[0;34m=\u001b[0m\u001b[0mself\u001b[0m\u001b[0;34m.\u001b[0m\u001b[0mname\u001b[0m\u001b[0;34m\u001b[0m\u001b[0;34m\u001b[0m\u001b[0m\n\u001b[0m\u001b[1;32m   1798\u001b[0m         )\n\u001b[1;32m   1799\u001b[0m \u001b[0;34m\u001b[0m\u001b[0m\n",
            "\u001b[0;32m/usr/local/lib/python3.6/dist-packages/pandas/core/indexes/base.py\u001b[0m in \u001b[0;36mslice_indexer\u001b[0;34m(self, start, end, step, kind)\u001b[0m\n\u001b[1;32m   4711\u001b[0m         \u001b[0mslice\u001b[0m\u001b[0;34m(\u001b[0m\u001b[0;36m1\u001b[0m\u001b[0;34m,\u001b[0m \u001b[0;36m3\u001b[0m\u001b[0;34m)\u001b[0m\u001b[0;34m\u001b[0m\u001b[0;34m\u001b[0m\u001b[0m\n\u001b[1;32m   4712\u001b[0m         \"\"\"\n\u001b[0;32m-> 4713\u001b[0;31m         \u001b[0mstart_slice\u001b[0m\u001b[0;34m,\u001b[0m \u001b[0mend_slice\u001b[0m \u001b[0;34m=\u001b[0m \u001b[0mself\u001b[0m\u001b[0;34m.\u001b[0m\u001b[0mslice_locs\u001b[0m\u001b[0;34m(\u001b[0m\u001b[0mstart\u001b[0m\u001b[0;34m,\u001b[0m \u001b[0mend\u001b[0m\u001b[0;34m,\u001b[0m \u001b[0mstep\u001b[0m\u001b[0;34m=\u001b[0m\u001b[0mstep\u001b[0m\u001b[0;34m,\u001b[0m \u001b[0mkind\u001b[0m\u001b[0;34m=\u001b[0m\u001b[0mkind\u001b[0m\u001b[0;34m)\u001b[0m\u001b[0;34m\u001b[0m\u001b[0;34m\u001b[0m\u001b[0m\n\u001b[0m\u001b[1;32m   4714\u001b[0m \u001b[0;34m\u001b[0m\u001b[0m\n\u001b[1;32m   4715\u001b[0m         \u001b[0;31m# return a slice\u001b[0m\u001b[0;34m\u001b[0m\u001b[0;34m\u001b[0m\u001b[0;34m\u001b[0m\u001b[0m\n",
            "\u001b[0;32m/usr/local/lib/python3.6/dist-packages/pandas/core/indexes/base.py\u001b[0m in \u001b[0;36mslice_locs\u001b[0;34m(self, start, end, step, kind)\u001b[0m\n\u001b[1;32m   4930\u001b[0m         \u001b[0mend_slice\u001b[0m \u001b[0;34m=\u001b[0m \u001b[0;32mNone\u001b[0m\u001b[0;34m\u001b[0m\u001b[0;34m\u001b[0m\u001b[0m\n\u001b[1;32m   4931\u001b[0m         \u001b[0;32mif\u001b[0m \u001b[0mend\u001b[0m \u001b[0;32mis\u001b[0m \u001b[0;32mnot\u001b[0m \u001b[0;32mNone\u001b[0m\u001b[0;34m:\u001b[0m\u001b[0;34m\u001b[0m\u001b[0;34m\u001b[0m\u001b[0m\n\u001b[0;32m-> 4932\u001b[0;31m             \u001b[0mend_slice\u001b[0m \u001b[0;34m=\u001b[0m \u001b[0mself\u001b[0m\u001b[0;34m.\u001b[0m\u001b[0mget_slice_bound\u001b[0m\u001b[0;34m(\u001b[0m\u001b[0mend\u001b[0m\u001b[0;34m,\u001b[0m \u001b[0;34m\"right\"\u001b[0m\u001b[0;34m,\u001b[0m \u001b[0mkind\u001b[0m\u001b[0;34m)\u001b[0m\u001b[0;34m\u001b[0m\u001b[0;34m\u001b[0m\u001b[0m\n\u001b[0m\u001b[1;32m   4933\u001b[0m         \u001b[0;32mif\u001b[0m \u001b[0mend_slice\u001b[0m \u001b[0;32mis\u001b[0m \u001b[0;32mNone\u001b[0m\u001b[0;34m:\u001b[0m\u001b[0;34m\u001b[0m\u001b[0;34m\u001b[0m\u001b[0m\n\u001b[1;32m   4934\u001b[0m             \u001b[0mend_slice\u001b[0m \u001b[0;34m=\u001b[0m \u001b[0mlen\u001b[0m\u001b[0;34m(\u001b[0m\u001b[0mself\u001b[0m\u001b[0;34m)\u001b[0m\u001b[0;34m\u001b[0m\u001b[0;34m\u001b[0m\u001b[0m\n",
            "\u001b[0;32m/usr/local/lib/python3.6/dist-packages/pandas/core/indexes/base.py\u001b[0m in \u001b[0;36mget_slice_bound\u001b[0;34m(self, label, side, kind)\u001b[0m\n\u001b[1;32m   4836\u001b[0m         \u001b[0;31m# For datetime indices label may be a string that has to be converted\u001b[0m\u001b[0;34m\u001b[0m\u001b[0;34m\u001b[0m\u001b[0;34m\u001b[0m\u001b[0m\n\u001b[1;32m   4837\u001b[0m         \u001b[0;31m# to datetime boundary according to its resolution.\u001b[0m\u001b[0;34m\u001b[0m\u001b[0;34m\u001b[0m\u001b[0;34m\u001b[0m\u001b[0m\n\u001b[0;32m-> 4838\u001b[0;31m         \u001b[0mlabel\u001b[0m \u001b[0;34m=\u001b[0m \u001b[0mself\u001b[0m\u001b[0;34m.\u001b[0m\u001b[0m_maybe_cast_slice_bound\u001b[0m\u001b[0;34m(\u001b[0m\u001b[0mlabel\u001b[0m\u001b[0;34m,\u001b[0m \u001b[0mside\u001b[0m\u001b[0;34m,\u001b[0m \u001b[0mkind\u001b[0m\u001b[0;34m)\u001b[0m\u001b[0;34m\u001b[0m\u001b[0;34m\u001b[0m\u001b[0m\n\u001b[0m\u001b[1;32m   4839\u001b[0m \u001b[0;34m\u001b[0m\u001b[0m\n\u001b[1;32m   4840\u001b[0m         \u001b[0;31m# we need to look up the label\u001b[0m\u001b[0;34m\u001b[0m\u001b[0;34m\u001b[0m\u001b[0;34m\u001b[0m\u001b[0m\n",
            "\u001b[0;32m/usr/local/lib/python3.6/dist-packages/pandas/core/indexes/base.py\u001b[0m in \u001b[0;36m_maybe_cast_slice_bound\u001b[0;34m(self, label, side, kind)\u001b[0m\n\u001b[1;32m   4788\u001b[0m         \u001b[0;31m# this is rejected (generally .loc gets you here)\u001b[0m\u001b[0;34m\u001b[0m\u001b[0;34m\u001b[0m\u001b[0;34m\u001b[0m\u001b[0m\n\u001b[1;32m   4789\u001b[0m         \u001b[0;32melif\u001b[0m \u001b[0mis_integer\u001b[0m\u001b[0;34m(\u001b[0m\u001b[0mlabel\u001b[0m\u001b[0;34m)\u001b[0m\u001b[0;34m:\u001b[0m\u001b[0;34m\u001b[0m\u001b[0;34m\u001b[0m\u001b[0m\n\u001b[0;32m-> 4790\u001b[0;31m             \u001b[0mself\u001b[0m\u001b[0;34m.\u001b[0m\u001b[0m_invalid_indexer\u001b[0m\u001b[0;34m(\u001b[0m\u001b[0;34m\"slice\"\u001b[0m\u001b[0;34m,\u001b[0m \u001b[0mlabel\u001b[0m\u001b[0;34m)\u001b[0m\u001b[0;34m\u001b[0m\u001b[0;34m\u001b[0m\u001b[0m\n\u001b[0m\u001b[1;32m   4791\u001b[0m \u001b[0;34m\u001b[0m\u001b[0m\n\u001b[1;32m   4792\u001b[0m         \u001b[0;32mreturn\u001b[0m \u001b[0mlabel\u001b[0m\u001b[0;34m\u001b[0m\u001b[0;34m\u001b[0m\u001b[0m\n",
            "\u001b[0;32m/usr/local/lib/python3.6/dist-packages/pandas/core/indexes/base.py\u001b[0m in \u001b[0;36m_invalid_indexer\u001b[0;34m(self, form, key)\u001b[0m\n\u001b[1;32m   3075\u001b[0m         \"\"\"\n\u001b[1;32m   3076\u001b[0m         raise TypeError(\n\u001b[0;32m-> 3077\u001b[0;31m             \u001b[0;34mf\"cannot do {form} indexing on {type(self)} with these \"\u001b[0m\u001b[0;34m\u001b[0m\u001b[0;34m\u001b[0m\u001b[0m\n\u001b[0m\u001b[1;32m   3078\u001b[0m             \u001b[0;34mf\"indexers [{key}] of {type(key)}\"\u001b[0m\u001b[0;34m\u001b[0m\u001b[0;34m\u001b[0m\u001b[0m\n\u001b[1;32m   3079\u001b[0m         )\n",
            "\u001b[0;31mTypeError\u001b[0m: cannot do slice indexing on <class 'pandas.core.indexes.base.Index'> with these indexers [5] of <class 'int'>"
          ]
        }
      ]
    },
    {
      "cell_type": "code",
      "metadata": {
        "id": "U-pRZGkmDEHd",
        "colab_type": "code",
        "colab": {
          "base_uri": "https://localhost:8080/",
          "height": 348
        },
        "outputId": "05b4827f-b26a-437e-d063-f512d875aafe"
      },
      "source": [
        "df_temp.iloc[20:30,:5] #The same slicing as above works if we use iloc instead of loc. "
      ],
      "execution_count": 13,
      "outputs": [
        {
          "output_type": "execute_result",
          "data": {
            "text/html": [
              "<div>\n",
              "<style scoped>\n",
              "    .dataframe tbody tr th:only-of-type {\n",
              "        vertical-align: middle;\n",
              "    }\n",
              "\n",
              "    .dataframe tbody tr th {\n",
              "        vertical-align: top;\n",
              "    }\n",
              "\n",
              "    .dataframe thead th {\n",
              "        text-align: right;\n",
              "    }\n",
              "</style>\n",
              "<table border=\"1\" class=\"dataframe\">\n",
              "  <thead>\n",
              "    <tr style=\"text-align: right;\">\n",
              "      <th></th>\n",
              "      <th>longitude</th>\n",
              "      <th>latitude</th>\n",
              "      <th>housing_median_age</th>\n",
              "      <th>total_rooms</th>\n",
              "      <th>total_bedrooms</th>\n",
              "    </tr>\n",
              "  </thead>\n",
              "  <tbody>\n",
              "    <tr>\n",
              "      <th>20</th>\n",
              "      <td>-114.68</td>\n",
              "      <td>33.49</td>\n",
              "      <td>20.0</td>\n",
              "      <td>1491.0</td>\n",
              "      <td>360.0</td>\n",
              "    </tr>\n",
              "    <tr>\n",
              "      <th>21</th>\n",
              "      <td>-114.73</td>\n",
              "      <td>33.43</td>\n",
              "      <td>24.0</td>\n",
              "      <td>796.0</td>\n",
              "      <td>243.0</td>\n",
              "    </tr>\n",
              "    <tr>\n",
              "      <th>22</th>\n",
              "      <td>-114.94</td>\n",
              "      <td>34.55</td>\n",
              "      <td>20.0</td>\n",
              "      <td>350.0</td>\n",
              "      <td>95.0</td>\n",
              "    </tr>\n",
              "    <tr>\n",
              "      <th>23</th>\n",
              "      <td>-114.98</td>\n",
              "      <td>33.82</td>\n",
              "      <td>15.0</td>\n",
              "      <td>644.0</td>\n",
              "      <td>129.0</td>\n",
              "    </tr>\n",
              "    <tr>\n",
              "      <th>24</th>\n",
              "      <td>-115.22</td>\n",
              "      <td>33.54</td>\n",
              "      <td>18.0</td>\n",
              "      <td>1706.0</td>\n",
              "      <td>397.0</td>\n",
              "    </tr>\n",
              "    <tr>\n",
              "      <th>25</th>\n",
              "      <td>-115.32</td>\n",
              "      <td>32.82</td>\n",
              "      <td>34.0</td>\n",
              "      <td>591.0</td>\n",
              "      <td>139.0</td>\n",
              "    </tr>\n",
              "    <tr>\n",
              "      <th>26</th>\n",
              "      <td>-115.37</td>\n",
              "      <td>32.82</td>\n",
              "      <td>30.0</td>\n",
              "      <td>1602.0</td>\n",
              "      <td>322.0</td>\n",
              "    </tr>\n",
              "    <tr>\n",
              "      <th>27</th>\n",
              "      <td>-115.37</td>\n",
              "      <td>32.82</td>\n",
              "      <td>14.0</td>\n",
              "      <td>1276.0</td>\n",
              "      <td>270.0</td>\n",
              "    </tr>\n",
              "    <tr>\n",
              "      <th>28</th>\n",
              "      <td>-115.37</td>\n",
              "      <td>32.81</td>\n",
              "      <td>32.0</td>\n",
              "      <td>741.0</td>\n",
              "      <td>191.0</td>\n",
              "    </tr>\n",
              "    <tr>\n",
              "      <th>29</th>\n",
              "      <td>-115.37</td>\n",
              "      <td>32.81</td>\n",
              "      <td>23.0</td>\n",
              "      <td>1458.0</td>\n",
              "      <td>294.0</td>\n",
              "    </tr>\n",
              "  </tbody>\n",
              "</table>\n",
              "</div>"
            ],
            "text/plain": [
              "    longitude  latitude  housing_median_age  total_rooms  total_bedrooms\n",
              "20    -114.68     33.49                20.0       1491.0           360.0\n",
              "21    -114.73     33.43                24.0        796.0           243.0\n",
              "22    -114.94     34.55                20.0        350.0            95.0\n",
              "23    -114.98     33.82                15.0        644.0           129.0\n",
              "24    -115.22     33.54                18.0       1706.0           397.0\n",
              "25    -115.32     32.82                34.0        591.0           139.0\n",
              "26    -115.37     32.82                30.0       1602.0           322.0\n",
              "27    -115.37     32.82                14.0       1276.0           270.0\n",
              "28    -115.37     32.81                32.0        741.0           191.0\n",
              "29    -115.37     32.81                23.0       1458.0           294.0"
            ]
          },
          "metadata": {
            "tags": []
          },
          "execution_count": 13
        }
      ]
    },
    {
      "cell_type": "code",
      "metadata": {
        "id": "BGByO0KRDvdT",
        "colab_type": "code",
        "colab": {
          "base_uri": "https://localhost:8080/",
          "height": 378
        },
        "outputId": "a3dbebfc-6942-4672-e4e5-e6981de7fe7e"
      },
      "source": [
        "#The same thing can be done by using loc but with column names. \n",
        "\n",
        "df_temp.loc[20:30,'longitude':'total_bedrooms'] #The only difference is that loc includes it all. Both the start and stop."
      ],
      "execution_count": 14,
      "outputs": [
        {
          "output_type": "execute_result",
          "data": {
            "text/html": [
              "<div>\n",
              "<style scoped>\n",
              "    .dataframe tbody tr th:only-of-type {\n",
              "        vertical-align: middle;\n",
              "    }\n",
              "\n",
              "    .dataframe tbody tr th {\n",
              "        vertical-align: top;\n",
              "    }\n",
              "\n",
              "    .dataframe thead th {\n",
              "        text-align: right;\n",
              "    }\n",
              "</style>\n",
              "<table border=\"1\" class=\"dataframe\">\n",
              "  <thead>\n",
              "    <tr style=\"text-align: right;\">\n",
              "      <th></th>\n",
              "      <th>longitude</th>\n",
              "      <th>latitude</th>\n",
              "      <th>housing_median_age</th>\n",
              "      <th>total_rooms</th>\n",
              "      <th>total_bedrooms</th>\n",
              "    </tr>\n",
              "  </thead>\n",
              "  <tbody>\n",
              "    <tr>\n",
              "      <th>20</th>\n",
              "      <td>-114.68</td>\n",
              "      <td>33.49</td>\n",
              "      <td>20.0</td>\n",
              "      <td>1491.0</td>\n",
              "      <td>360.0</td>\n",
              "    </tr>\n",
              "    <tr>\n",
              "      <th>21</th>\n",
              "      <td>-114.73</td>\n",
              "      <td>33.43</td>\n",
              "      <td>24.0</td>\n",
              "      <td>796.0</td>\n",
              "      <td>243.0</td>\n",
              "    </tr>\n",
              "    <tr>\n",
              "      <th>22</th>\n",
              "      <td>-114.94</td>\n",
              "      <td>34.55</td>\n",
              "      <td>20.0</td>\n",
              "      <td>350.0</td>\n",
              "      <td>95.0</td>\n",
              "    </tr>\n",
              "    <tr>\n",
              "      <th>23</th>\n",
              "      <td>-114.98</td>\n",
              "      <td>33.82</td>\n",
              "      <td>15.0</td>\n",
              "      <td>644.0</td>\n",
              "      <td>129.0</td>\n",
              "    </tr>\n",
              "    <tr>\n",
              "      <th>24</th>\n",
              "      <td>-115.22</td>\n",
              "      <td>33.54</td>\n",
              "      <td>18.0</td>\n",
              "      <td>1706.0</td>\n",
              "      <td>397.0</td>\n",
              "    </tr>\n",
              "    <tr>\n",
              "      <th>25</th>\n",
              "      <td>-115.32</td>\n",
              "      <td>32.82</td>\n",
              "      <td>34.0</td>\n",
              "      <td>591.0</td>\n",
              "      <td>139.0</td>\n",
              "    </tr>\n",
              "    <tr>\n",
              "      <th>26</th>\n",
              "      <td>-115.37</td>\n",
              "      <td>32.82</td>\n",
              "      <td>30.0</td>\n",
              "      <td>1602.0</td>\n",
              "      <td>322.0</td>\n",
              "    </tr>\n",
              "    <tr>\n",
              "      <th>27</th>\n",
              "      <td>-115.37</td>\n",
              "      <td>32.82</td>\n",
              "      <td>14.0</td>\n",
              "      <td>1276.0</td>\n",
              "      <td>270.0</td>\n",
              "    </tr>\n",
              "    <tr>\n",
              "      <th>28</th>\n",
              "      <td>-115.37</td>\n",
              "      <td>32.81</td>\n",
              "      <td>32.0</td>\n",
              "      <td>741.0</td>\n",
              "      <td>191.0</td>\n",
              "    </tr>\n",
              "    <tr>\n",
              "      <th>29</th>\n",
              "      <td>-115.37</td>\n",
              "      <td>32.81</td>\n",
              "      <td>23.0</td>\n",
              "      <td>1458.0</td>\n",
              "      <td>294.0</td>\n",
              "    </tr>\n",
              "    <tr>\n",
              "      <th>30</th>\n",
              "      <td>-115.38</td>\n",
              "      <td>32.82</td>\n",
              "      <td>38.0</td>\n",
              "      <td>1892.0</td>\n",
              "      <td>394.0</td>\n",
              "    </tr>\n",
              "  </tbody>\n",
              "</table>\n",
              "</div>"
            ],
            "text/plain": [
              "    longitude  latitude  housing_median_age  total_rooms  total_bedrooms\n",
              "20    -114.68     33.49                20.0       1491.0           360.0\n",
              "21    -114.73     33.43                24.0        796.0           243.0\n",
              "22    -114.94     34.55                20.0        350.0            95.0\n",
              "23    -114.98     33.82                15.0        644.0           129.0\n",
              "24    -115.22     33.54                18.0       1706.0           397.0\n",
              "25    -115.32     32.82                34.0        591.0           139.0\n",
              "26    -115.37     32.82                30.0       1602.0           322.0\n",
              "27    -115.37     32.82                14.0       1276.0           270.0\n",
              "28    -115.37     32.81                32.0        741.0           191.0\n",
              "29    -115.37     32.81                23.0       1458.0           294.0\n",
              "30    -115.38     32.82                38.0       1892.0           394.0"
            ]
          },
          "metadata": {
            "tags": []
          },
          "execution_count": 14
        }
      ]
    },
    {
      "cell_type": "markdown",
      "metadata": {
        "id": "MqlsFTq_QGhk",
        "colab_type": "text"
      },
      "source": [
        "Reference for more on data manipulations- \n",
        "\n",
        "https://www.geeksforgeeks.org/pandas-tutorial/"
      ]
    },
    {
      "cell_type": "code",
      "metadata": {
        "id": "0h771E_2Eotu",
        "colab_type": "code",
        "colab": {}
      },
      "source": [
        "##########################################################################"
      ],
      "execution_count": 15,
      "outputs": []
    },
    {
      "cell_type": "markdown",
      "metadata": {
        "id": "Lr_YV7PnP8VU",
        "colab_type": "text"
      },
      "source": [
        "#**Visualization**\n",
        "\n",
        "##Library - matplotlib.pyplot (alias = plt)\n",
        "\n",
        "1. Line-Plots. :-  plt.plot(x,y)\n",
        "2. Scatter-Plots. :- plt.scatter(x,y)"
      ]
    },
    {
      "cell_type": "markdown",
      "metadata": {
        "id": "YiHQCwMxRMg5",
        "colab_type": "text"
      },
      "source": [
        "Example 1:- Let's plot a parabola y = x^2."
      ]
    },
    {
      "cell_type": "code",
      "metadata": {
        "id": "m_8VQ97VP5-l",
        "colab_type": "code",
        "colab": {
          "base_uri": "https://localhost:8080/",
          "height": 283
        },
        "outputId": "2d9a1b18-fa94-4c7e-af80-ce2437534410"
      },
      "source": [
        "#Step 1: Import the library(s). \n",
        "import numpy as np\n",
        "import matplotlib.pyplot as plt\n",
        "\n",
        "#Step 2: create numpy arrays for x and y.\n",
        "x = np.linspace(-10,10)\n",
        "y = x**2\n",
        "\n",
        "#Step 3: Voila! Plot now. \n",
        "plt.plot(x,y)\n",
        "\n",
        "\n",
        "\n"
      ],
      "execution_count": 16,
      "outputs": [
        {
          "output_type": "execute_result",
          "data": {
            "text/plain": [
              "[<matplotlib.lines.Line2D at 0x7feba153a5c0>]"
            ]
          },
          "metadata": {
            "tags": []
          },
          "execution_count": 16
        },
        {
          "output_type": "display_data",
          "data": {
            "image/png": "[encoded data removed]",
            "text/plain": [
              "<Figure size 432x288 with 1 Axes>"
            ]
          },
          "metadata": {
            "tags": [],
            "needs_background": "light"
          }
        }
      ]
    },
    {
      "cell_type": "markdown",
      "metadata": {
        "id": "Yq20YHxLRsCG",
        "colab_type": "text"
      },
      "source": [
        "Customizations to the above plot. "
      ]
    },
    {
      "cell_type": "code",
      "metadata": {
        "id": "t7uh8YYuRoQF",
        "colab_type": "code",
        "colab": {
          "base_uri": "https://localhost:8080/",
          "height": 428
        },
        "outputId": "17e14581-e894-4eb8-e3eb-538b0169c4e6"
      },
      "source": [
        "#0. Set the figure size.\n",
        "plt.style.use('default')\n",
        "plt.figure(figsize=(6,4))  #6X6 canvas.\n",
        "# plt.style.use('default')\n",
        "\n",
        "# 1. generate the plot. Add a label.\n",
        "plt.plot(x,y,label='It is a parabola')\n",
        "\n",
        "#2. Set x axis label\n",
        "plt.xlabel('This is X-Axis')\n",
        "\n",
        "#3. Set y axis label.\n",
        "plt.ylabel('This is Y-Axis')\n",
        "\n",
        "#4. Set the title.\n",
        "plt.title('TITLE here.')\n",
        "\n",
        "#5. set the grid. \n",
        "plt.grid()\n",
        "\n",
        "#6. display the label in a legend.\n",
        "plt.legend(loc='best')"
      ],
      "execution_count": 22,
      "outputs": [
        {
          "output_type": "execute_result",
          "data": {
            "text/plain": [
              "<matplotlib.legend.Legend at 0x7feba0b2c278>"
            ]
          },
          "metadata": {
            "tags": []
          },
          "execution_count": 22
        },
        {
          "output_type": "display_data",
          "data": {
            "image/png": "[encoded data removed]",
            "text/plain": [
              "<Figure size 600x400 with 1 Axes>"
            ]
          },
          "metadata": {
            "tags": []
          }
        }
      ]
    },
    {
      "cell_type": "code",
      "metadata": {
        "id": "5Sb-FYxBSUvW",
        "colab_type": "code",
        "colab": {}
      },
      "source": [
        "########################################################################"
      ],
      "execution_count": null,
      "outputs": []
    },
    {
      "cell_type": "markdown",
      "metadata": {
        "id": "Igcr-_QbTgu6",
        "colab_type": "text"
      },
      "source": [
        "#Oil and Gas Examples."
      ]
    },
    {
      "cell_type": "markdown",
      "metadata": {
        "id": "kG8lQ9ZXTnql",
        "colab_type": "text"
      },
      "source": [
        "Example 1. draw relative permeability curves."
      ]
    },
    {
      "cell_type": "code",
      "metadata": {
        "id": "pKM0Oh78Tkoo",
        "colab_type": "code",
        "colab": {
          "base_uri": "https://localhost:8080/",
          "height": 470
        },
        "outputId": "3902205e-0cd6-4014-b89c-0b1455c2ffe4"
      },
      "source": [
        "sw = np.linspace(0.001,1)\n",
        "\n",
        "krw = sw**3\n",
        "\n",
        "kro = (1-sw)**3\n",
        "\n",
        "plt.plot(sw,krw)\n",
        "plt.plot(sw,kro)\n",
        "\n",
        "plt.title('This is Rel-Perm Curve')"
      ],
      "execution_count": 30,
      "outputs": [
        {
          "output_type": "execute_result",
          "data": {
            "text/plain": [
              "Text(0.5, 1.0, 'This is Rel-Perm Curve')"
            ]
          },
          "metadata": {
            "tags": []
          },
          "execution_count": 30
        },
        {
          "output_type": "display_data",
          "data": {
            "image/png": "[encoded data removed]",
            "text/plain": [
              "<Figure size 640x480 with 1 Axes>"
            ]
          },
          "metadata": {
            "tags": []
          }
        }
      ]
    },
    {
      "cell_type": "code",
      "metadata": {
        "id": "6DnmZkDIT98L",
        "colab_type": "code",
        "colab": {}
      },
      "source": [
        ""
      ],
      "execution_count": null,
      "outputs": []
    },
    {
      "cell_type": "markdown",
      "metadata": {
        "id": "hvc8Cl4nUSdH",
        "colab_type": "text"
      },
      "source": [
        "Example 2. (Home Task? Yes or No)\n",
        "Plot Fractional flow curve. \n",
        "\n",
        "fw = 1/(1 + 1/M)\n",
        "M = (krw/mu_w)/(kro/mu_o)\n",
        "\n",
        "Assume mu_o = 1000 cp (heavy oil) mu_w = 1 cp"
      ]
    },
    {
      "cell_type": "code",
      "metadata": {
        "id": "kt9mf1_5Uo2m",
        "colab_type": "code",
        "colab": {
          "base_uri": "https://localhost:8080/",
          "height": 521
        },
        "outputId": "aee2c855-4313-4b73-be6d-34a0f670e265"
      },
      "source": [
        "mu_o = 1000\n",
        "\n",
        "mu_w = 1\n",
        "\n",
        "M1 = (krw/mu_w)/(kro/mu_o)\n",
        "\n",
        "fw = 1/(1 + (1/M1))\n",
        "\n",
        "plt.plot(sw,fw,label = 'Thin water-Thick oil')\n",
        "\n",
        "M2 = (krw/100)/(kro/mu_o)\n",
        "\n",
        "fw2 = 1/(1+(1/M2))\n",
        "\n",
        "plt.plot(sw,fw2,label='Thick water-Thick oil')\n",
        "\n",
        "\n",
        "plt.legend(loc='best')"
      ],
      "execution_count": 32,
      "outputs": [
        {
          "output_type": "stream",
          "text": [
            "/usr/local/lib/python3.6/dist-packages/ipykernel_launcher.py:5: RuntimeWarning: divide by zero encountered in true_divide\n",
            "  \"\"\"\n",
            "/usr/local/lib/python3.6/dist-packages/ipykernel_launcher.py:11: RuntimeWarning: divide by zero encountered in true_divide\n",
            "  # This is added back by InteractiveShellApp.init_path()\n"
          ],
          "name": "stderr"
        },
        {
          "output_type": "execute_result",
          "data": {
            "text/plain": [
              "<matplotlib.legend.Legend at 0x7feba0602390>"
            ]
          },
          "metadata": {
            "tags": []
          },
          "execution_count": 32
        },
        {
          "output_type": "display_data",
          "data": {
            "image/png": "[encoded data removed]",
            "text/plain": [
              "<Figure size 640x480 with 1 Axes>"
            ]
          },
          "metadata": {
            "tags": []
          }
        }
      ]
    },
    {
      "cell_type": "code",
      "metadata": {
        "id": "S-wdzGqCU4Lz",
        "colab_type": "code",
        "colab": {}
      },
      "source": [
        ""
      ],
      "execution_count": null,
      "outputs": []
    }
  ]
}