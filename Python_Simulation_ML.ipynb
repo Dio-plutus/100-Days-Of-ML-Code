{
  "nbformat": 4,
  "nbformat_minor": 0,
  "metadata": {
    "colab": {
      "name": "Python/Simulation/ML.ipynb",
      "provenance": [],
      "collapsed_sections": [],
      "authorship_tag": "ABX9TyPlBihHbqFMdAGdff79Vu0U",
      "include_colab_link": true
    },
    "kernelspec": {
      "name": "python3",
      "display_name": "Python 3"
    }
  },
  "cells": [
    {
      "cell_type": "markdown",
      "metadata": {
        "id": "view-in-github",
        "colab_type": "text"
      },
      "source": [
        "<a href=\"https://colab.research.google.com/github/Divyanshu-ISM/100-Days-Of-ML-Code/blob/master/Python_Simulation_ML.ipynb\" target=\"_parent\"><img src=\"https://colab.research.google.com/assets/colab-badge.svg\" alt=\"Open In Colab\"/></a>"
      ]
    },
    {
      "cell_type": "markdown",
      "metadata": {
        "id": "kS59eVzrnxbi",
        "colab_type": "text"
      },
      "source": [
        "##**Python for Oil and Gas**\n",
        "\n",
        "Divyanshu vyas | dvyas13ad@gmail.com\n",
        "\n",
        "> PDPU | IIT(ISM) Dhanbad,**India**\n",
        "\n",
        "> RezLytix - Reservoir Simulation | ML/Deep-Learning | Python\n",
        "\n",
        "> Founder - **Petroleum From Scratch**"
      ]
    },
    {
      "cell_type": "markdown",
      "metadata": {
        "id": "QLk6ExU8xfgc",
        "colab_type": "text"
      },
      "source": [
        "#Welcome Everyone! \n",
        "\n",
        "In the coming 3 Sessions, We'll be learning Reservoir Simulation a lot of interesting things in this Mini-Course. \n",
        "\n",
        "My Aim is to take you to a **better**, **confident** and **super comfortable** place as far as **Python for Oil and Gas** is concerned. \n",
        "\n",
        "So Gear UP!\n",
        "\n",
        "P.S - I wish I could give a little TED-Talk but We have a lot to Learn.\n",
        "\n",
        "I will Assume you know nothing about anything I'm going to talk about!\n",
        "\n",
        "Here goes.\n"
      ]
    },
    {
      "cell_type": "markdown",
      "metadata": {
        "id": "7Rjne-oUobVK",
        "colab_type": "text"
      },
      "source": [
        "#Just a note on why Python?\n",
        "\n",
        "> Available.\n",
        "\n",
        "> Understandable. Accessable. multi-Utility.\n"
      ]
    },
    {
      "cell_type": "markdown",
      "metadata": {
        "id": "vXtrk5lEM2AG",
        "colab_type": "text"
      },
      "source": [
        "#Interface : Google Colab\n",
        "\n",
        "Direct link : https://colab.research.google.com/drive/1nBMrS3SBARNQQR9s0iif3E1rnqND7FRq"
      ]
    },
    {
      "cell_type": "markdown",
      "metadata": {
        "id": "e3B8v60zth4j",
        "colab_type": "text"
      },
      "source": [
        "#PYTHON from below zero!"
      ]
    },
    {
      "cell_type": "markdown",
      "metadata": {
        "id": "YFr2ZduPtqQg",
        "colab_type": "text"
      },
      "source": [
        "##List of contents - \n",
        "\n",
        "###First We'll Talk about Python's Data Structures- \n",
        "\n",
        "1. Single Values --> Variables. \n",
        "2. Multiple Value containers ---> Lists. \n",
        "     \n",
        "     -> Other Containers - a) Tuples b) Sets\n",
        "\n",
        "     -> tuples: https://www.w3schools.com/python/python_tuples.asp\n",
        "    \n",
        "3. Named/Labelled Containers ---> Dictionaries. \n"
      ]
    },
    {
      "cell_type": "code",
      "metadata": {
        "id": "Lzq6m6pdtpZr",
        "colab_type": "code",
        "colab": {}
      },
      "source": [
        "# Single Values are Stored in Variables. \n",
        "# Variable names cannot start with a number or special character.\n",
        "# Underscore is allowed. \n",
        "#Ex - 007bond is invalid\n",
        "#Ex - bond007 is valid\n",
        "#Ex-  bond_007 and _007_bond valid. "
      ],
      "execution_count": null,
      "outputs": []
    },
    {
      "cell_type": "code",
      "metadata": {
        "id": "MPGDUF8ysLgJ",
        "colab_type": "code",
        "colab": {}
      },
      "source": [
        "# 007bond = 5\n",
        "\n",
        "bond007 = 5"
      ],
      "execution_count": null,
      "outputs": []
    },
    {
      "cell_type": "code",
      "metadata": {
        "id": "CfVKOcZBsOnJ",
        "colab_type": "code",
        "colab": {}
      },
      "source": [
        "#This is called initialization. \n",
        "#The value from RHS gets stored into the variable at LHS.\n",
        "x = 5\n",
        "y = 3\n",
        "name = 'dvyas'"
      ],
      "execution_count": null,
      "outputs": []
    },
    {
      "cell_type": "markdown",
      "metadata": {
        "id": "zYP7KMEOva8v",
        "colab_type": "text"
      },
      "source": [
        "##Now let's Look at Data Manipulations."
      ]
    },
    {
      "cell_type": "code",
      "metadata": {
        "id": "VkKDMEBk1NzM",
        "colab_type": "code",
        "colab": {
          "base_uri": "https://localhost:8080/",
          "height": 34
        },
        "outputId": "2e3db651-4a49-407e-d900-5729dbe93fdf"
      },
      "source": [
        "print('value = {x + y}')"
      ],
      "execution_count": null,
      "outputs": [
        {
          "output_type": "stream",
          "text": [
            "value = {x + y}\n"
          ],
          "name": "stdout"
        }
      ]
    },
    {
      "cell_type": "code",
      "metadata": {
        "id": "Vfc754jfvR8c",
        "colab_type": "code",
        "colab": {
          "base_uri": "https://localhost:8080/",
          "height": 221
        },
        "outputId": "736f0202-31f1-41fe-b48b-7e0b50238316"
      },
      "source": [
        "#Let's Also get used to the print function:\n",
        "print('\\nHello Guys!')\n",
        "\n",
        "#Escape Sequence \\n helps change line.\n",
        "print('\\nHello \\nGirls!\\n')\n",
        "\n",
        "#displaying variable's value and string using f'...{}'\n",
        "print(f'0. This is x: {x} and this is y: {y}')\n",
        "\n",
        "#1. Addition, subtraction : x + y , x - y\n",
        "print(f'1. Addition Result: {x+y}')\n",
        "\n",
        "\n",
        "#Multiplication : x*y\n",
        "print(f'2. Multiplication Result: {x*y}')\n",
        "\n",
        "#Power x^y : x**y\n",
        "print(f'3. Square of x is: {x**2}')\n",
        "print(f'3. x raised to yth power is: {x**y}')\n",
        "\n",
        "\n",
        "#Mixed operations - Forget BODMAS. Put clusters in brackets. \n",
        "z = (x+y)*(x-y)/(x**2 - 2*x + y)\n",
        "print(f'4. Z is = {z}')"
      ],
      "execution_count": null,
      "outputs": [
        {
          "output_type": "stream",
          "text": [
            "\n",
            "Hello Guys!\n",
            "\n",
            "Hello \n",
            "Girls!\n",
            "\n",
            "0. This is x: 10.000000000027661 and this is y: 3\n",
            "1. Addition Result: 13.000000000027661\n",
            "2. Multiplication Result: 30.000000000082984\n",
            "3. Square of x is: 100.00000000055323\n",
            "3. x raised to yth power is: 1000.0000000082985\n",
            "4. Z is = 1.096385542168763\n"
          ],
          "name": "stdout"
        }
      ]
    },
    {
      "cell_type": "code",
      "metadata": {
        "id": "CYphrddaBNQs",
        "colab_type": "code",
        "colab": {
          "base_uri": "https://localhost:8080/",
          "height": 51
        },
        "outputId": "ae5340d2-e549-4153-85a0-71a92e7c1dbb"
      },
      "source": [
        "p = 800\n",
        "\n",
        "print('The value of p is {p} or 800')\n",
        "print(f'The value of p is {p}')"
      ],
      "execution_count": null,
      "outputs": [
        {
          "output_type": "stream",
          "text": [
            "The value of p is {p} or 800\n",
            "The value of p is 800\n"
          ],
          "name": "stdout"
        }
      ]
    },
    {
      "cell_type": "code",
      "metadata": {
        "id": "iSxSMX5O1oTr",
        "colab_type": "code",
        "colab": {}
      },
      "source": [
        "# x*y\n",
        "# x+y \n",
        "\n",
        "# x**2\n",
        "\n",
        "# 5%2"
      ],
      "execution_count": null,
      "outputs": []
    },
    {
      "cell_type": "code",
      "metadata": {
        "id": "EgGFhHwkPJC8",
        "colab_type": "code",
        "colab": {
          "base_uri": "https://localhost:8080/",
          "height": 34
        },
        "outputId": "f5fecc5e-380d-4937-e69e-f336eff536cc"
      },
      "source": [
        "#Example. Calculating hydrostaticc pressure.\n",
        "\n",
        "rho = 15 #ppg\n",
        "D = 5000 #ft\n",
        "\n",
        "P = 0.052*rho*D\n",
        "\n",
        "print(f'P = {P} psi')"
      ],
      "execution_count": null,
      "outputs": [
        {
          "output_type": "stream",
          "text": [
            "P = 3899.9999999999995 psi\n"
          ],
          "name": "stdout"
        }
      ]
    },
    {
      "cell_type": "markdown",
      "metadata": {
        "id": "5imL2Dvp0xNx",
        "colab_type": "text"
      },
      "source": [
        "#BOOLEANS and Comparisons. \n",
        "\n",
        "This section deals with checking for equality or inequality. "
      ]
    },
    {
      "cell_type": "code",
      "metadata": {
        "id": "0y2gNqxVwmu4",
        "colab_type": "code",
        "colab": {
          "base_uri": "https://localhost:8080/",
          "height": 85
        },
        "outputId": "e9fd31ea-454c-405f-b701-204d486dfcd5"
      },
      "source": [
        "print(x == y)\n",
        "#  == , x>y , x>=y , x<y \n",
        "print(5 == 5)\n",
        "\n",
        "print(x>y)\n",
        "\n",
        "print(y>x)"
      ],
      "execution_count": null,
      "outputs": [
        {
          "output_type": "stream",
          "text": [
            "False\n",
            "True\n",
            "True\n",
            "False\n"
          ],
          "name": "stdout"
        }
      ]
    },
    {
      "cell_type": "code",
      "metadata": {
        "id": "DaHAX4fJ9bNq",
        "colab_type": "code",
        "colab": {
          "base_uri": "https://localhost:8080/",
          "height": 34
        },
        "outputId": "59542336-2b36-4aa8-9620-09216e3f0fc7"
      },
      "source": [
        "num = int('5')\n",
        "type(num)"
      ],
      "execution_count": null,
      "outputs": [
        {
          "output_type": "execute_result",
          "data": {
            "text/plain": [
              "int"
            ]
          },
          "metadata": {
            "tags": []
          },
          "execution_count": 35
        }
      ]
    },
    {
      "cell_type": "markdown",
      "metadata": {
        "id": "-419k34DVK1S",
        "colab_type": "text"
      },
      "source": [
        "#if-elif-else"
      ]
    },
    {
      "cell_type": "code",
      "metadata": {
        "id": "jBhet7OkWmkT",
        "colab_type": "code",
        "colab": {}
      },
      "source": [
        "if 5>3:\n",
        "  print('five is greater than 3')\n",
        "elif 5==5:\n",
        "  print('five is equal to five')\n",
        "else:\n",
        "  print('this will only get executed if above 2 fail')"
      ],
      "execution_count": null,
      "outputs": []
    },
    {
      "cell_type": "markdown",
      "metadata": {
        "id": "IhffBbMY1Xux",
        "colab_type": "text"
      },
      "source": [
        "#Let's Now talk about data structures one by one. \n",
        "\n",
        "1. LISTS - [.... ] | Change-able\n",
        "\n",
        "List Methods Reference - https://www.w3schools.com/python/python_ref_list.asp"
      ]
    },
    {
      "cell_type": "code",
      "metadata": {
        "id": "CXwhbtp81J4x",
        "colab_type": "code",
        "colab": {
          "base_uri": "https://localhost:8080/",
          "height": 34
        },
        "outputId": "6780cc57-2c37-466d-ea2d-76e6953a07c9"
      },
      "source": [
        "l1 = ['porosity', 0.25, 'perm' , 50]\n",
        "#[ ..... ]\n",
        "# print(l1)\n",
        "# l1[-1]\n",
        "# l1[3]"
      ],
      "execution_count": null,
      "outputs": [
        {
          "output_type": "execute_result",
          "data": {
            "text/plain": [
              "50"
            ]
          },
          "metadata": {
            "tags": []
          },
          "execution_count": 22
        }
      ]
    },
    {
      "cell_type": "code",
      "metadata": {
        "id": "EDcUbZkY1r22",
        "colab_type": "code",
        "colab": {
          "base_uri": "https://localhost:8080/",
          "height": 34
        },
        "outputId": "77479bd7-ba9d-498c-d0ee-295d0d7f6837"
      },
      "source": [
        "#Operations (Methods) on list. \n",
        "\n",
        "#1. Append - Adding element to the tail. \n",
        "l1.append('new_rock')\n",
        "\n",
        "print(l1)"
      ],
      "execution_count": null,
      "outputs": [
        {
          "output_type": "stream",
          "text": [
            "['porosity', 0.25, 'perm', 50, 'new_rock']\n"
          ],
          "name": "stdout"
        }
      ]
    },
    {
      "cell_type": "code",
      "metadata": {
        "id": "MBynldil2CPu",
        "colab_type": "code",
        "colab": {
          "base_uri": "https://localhost:8080/",
          "height": 34
        },
        "outputId": "9ca7c926-f1a9-43da-fdca-c0a1d18f6053"
      },
      "source": [
        "#2. listname.count(a) - counts no. of occurences of a in listname. \n",
        "\n",
        "rocks = ['sst' , 'lst' , 'sst' , 'lst']\n",
        "\n",
        "rocks.count('sst')"
      ],
      "execution_count": null,
      "outputs": [
        {
          "output_type": "execute_result",
          "data": {
            "text/plain": [
              "2"
            ]
          },
          "metadata": {
            "tags": []
          },
          "execution_count": 24
        }
      ]
    },
    {
      "cell_type": "code",
      "metadata": {
        "id": "v8vPSD1jPdU4",
        "colab_type": "code",
        "colab": {}
      },
      "source": [
        "# listname.reverse() - Reverses the list. \n",
        "\n",
        "porosities = [0.50,0.20,0.15,0.30,0.05,0.10]\n",
        "\n",
        "porosities.reverse()\n",
        "\n",
        "porosities"
      ],
      "execution_count": null,
      "outputs": []
    },
    {
      "cell_type": "code",
      "metadata": {
        "id": "MQCl-f7QPw17",
        "colab_type": "code",
        "colab": {}
      },
      "source": [
        "# listname.sort() - Sorts the list. \n",
        "\n",
        "perms = [50,100,150,200,20,70,500]\n",
        "\n",
        "perms.sort()\n",
        "\n",
        "perms"
      ],
      "execution_count": null,
      "outputs": []
    },
    {
      "cell_type": "markdown",
      "metadata": {
        "id": "z9IVOw7VQmh7",
        "colab_type": "text"
      },
      "source": [
        "List Indexing and Slicing -"
      ]
    },
    {
      "cell_type": "code",
      "metadata": {
        "id": "xkcoJj-4QQIs",
        "colab_type": "code",
        "colab": {
          "base_uri": "https://localhost:8080/",
          "height": 85
        },
        "outputId": "bc12a979-0dd2-4173-b2c1-f803853a2e50"
      },
      "source": [
        "#Indexing - Accessing the values stored in a list based on index #. \n",
        "\n",
        "#Indexing starts from 0 (and not 1. In MATLAB it starts with 1)\n",
        "poro = [0.10,0.20,0.30,0.40,0.50]\n",
        "\n",
        "print(poro[0])\n",
        "\n",
        "print(poro[1])\n",
        "\n",
        "print(poro[-1])\n",
        "\n",
        "print(poro[-2])\n"
      ],
      "execution_count": null,
      "outputs": [
        {
          "output_type": "stream",
          "text": [
            "0.1\n",
            "0.2\n",
            "0.5\n",
            "0.4\n"
          ],
          "name": "stdout"
        }
      ]
    },
    {
      "cell_type": "code",
      "metadata": {
        "id": "_zrDuAY2Q2VY",
        "colab_type": "code",
        "colab": {
          "base_uri": "https://localhost:8080/",
          "height": 85
        },
        "outputId": "1e27e26e-0d63-430b-f82c-4f631bd4cb28"
      },
      "source": [
        "#Slicing. Just like the name says. \n",
        "#It helps cut a slice (sub-part) off a List. \n",
        "\n",
        "superset = [1,2,3,4,5,6,7,8,9]\n",
        "\n",
        "\n",
        "#Slicing syntax - listname[start:stop:step] start is included. stop is not\n",
        "subset = superset[0:5]\n",
        "\n",
        "print(subset)\n",
        "\n",
        "subset2 = superset[:5]\n",
        "\n",
        "print(subset2) #Skipping a part also works for first and end indices. \n",
        "\n",
        "subset3 = superset[:-1] #starting to ending -1\n",
        "print(subset3)\n",
        "\n",
        "subset4 = superset[:] #everything\n",
        "print(subset4)"
      ],
      "execution_count": null,
      "outputs": [
        {
          "output_type": "stream",
          "text": [
            "[1, 2, 3, 4, 5]\n",
            "[1, 2, 3, 4, 5]\n",
            "[1, 2, 3, 4, 5, 6, 7, 8]\n",
            "[1, 2, 3, 4, 5, 6, 7, 8, 9]\n"
          ],
          "name": "stdout"
        }
      ]
    },
    {
      "cell_type": "markdown",
      "metadata": {
        "id": "mprq0WFDTNnG",
        "colab_type": "text"
      },
      "source": [
        "Question. How do you reverse a list without using a .reverse() method?"
      ]
    },
    {
      "cell_type": "code",
      "metadata": {
        "id": "6JStadFVSNBr",
        "colab_type": "code",
        "colab": {
          "base_uri": "https://localhost:8080/",
          "height": 34
        },
        "outputId": "a8da7a71-285d-4179-d26a-d810ee8c81b4"
      },
      "source": [
        "#Ans-\n",
        "\n",
        "reverse_set = superset[-1::-1] \n",
        "\n",
        "#Start at -1 th index, end at 0th, take negative steps.\n",
        "\n",
        "print(reverse_set)"
      ],
      "execution_count": null,
      "outputs": [
        {
          "output_type": "stream",
          "text": [
            "[9, 8, 7, 6, 5, 4, 3, 2, 1]\n"
          ],
          "name": "stdout"
        }
      ]
    },
    {
      "cell_type": "markdown",
      "metadata": {
        "id": "RyIqW7PYURwv",
        "colab_type": "text"
      },
      "source": [
        "#The same operations can be applied to strings."
      ]
    },
    {
      "cell_type": "code",
      "metadata": {
        "id": "d-kbz2QGTx6Q",
        "colab_type": "code",
        "colab": {
          "base_uri": "https://localhost:8080/",
          "height": 108
        },
        "outputId": "fd248867-5d21-4c0f-dd94-f04fbccefd3b"
      },
      "source": [
        "name = 'reservoir_simulation'\n",
        "\n",
        "print(name[0])\n",
        "\n",
        "print(name[-1])\n",
        "\n",
        "print(name[0:5])\n",
        "\n",
        "print(name[::2])\n",
        "\n",
        "print(name[-1::-1])"
      ],
      "execution_count": null,
      "outputs": [
        {
          "output_type": "stream",
          "text": [
            "r\n",
            "n\n",
            "reser\n",
            "rsrorsmlto\n",
            "noitalumis_riovreser\n"
          ],
          "name": "stdout"
        }
      ]
    },
    {
      "cell_type": "markdown",
      "metadata": {
        "id": "VfoHzl2zVFC0",
        "colab_type": "text"
      },
      "source": [
        "#DICTIONARIES\n",
        "\n",
        "Absolute gem of a DataStructure. \n",
        "\n",
        "1. Helps Store Data with labels. \n",
        "2. Syntax => { key : value }\n",
        "3. Has no order.\n",
        "4. Can be directly converted to DataFrames (tables)."
      ]
    },
    {
      "cell_type": "code",
      "metadata": {
        "id": "inf17IEPU9Zv",
        "colab_type": "code",
        "colab": {
          "base_uri": "https://localhost:8080/",
          "height": 51
        },
        "outputId": "76bb569e-039a-4a2a-a13e-d7cf7b2498fc"
      },
      "source": [
        "rock_properties = {'poro' : 0.25, 'perm' : 150 , 'lith' : 'sst'}\n",
        "\n",
        "print(rock_properties)\n",
        "\n",
        "rock_properties['poro']"
      ],
      "execution_count": null,
      "outputs": [
        {
          "output_type": "stream",
          "text": [
            "{'poro': 0.25, 'perm': 150, 'lith': 'sst'}\n"
          ],
          "name": "stdout"
        },
        {
          "output_type": "execute_result",
          "data": {
            "text/plain": [
              "0.25"
            ]
          },
          "metadata": {
            "tags": []
          },
          "execution_count": 5
        }
      ]
    },
    {
      "cell_type": "code",
      "metadata": {
        "id": "VW_Mi1vbZ0Ie",
        "colab_type": "code",
        "colab": {
          "base_uri": "https://localhost:8080/",
          "height": 173
        },
        "outputId": "af3083f5-55bf-465a-aa3d-c908834369d1"
      },
      "source": [
        "#Just an example of what do i mean when i say they \n",
        "#can be converted to tables. \n",
        "\n",
        "import pandas as pd\n",
        "\n",
        "rock_data = {'phi' : [0.10,0.20,0.30,0.50], 'perm' : [50,100,150,200]}\n",
        "\n",
        "data_table = pd.DataFrame(rock_data)\n",
        "\n",
        "data_table\n",
        "\n",
        "#We'll cover More of Pandas later."
      ],
      "execution_count": null,
      "outputs": [
        {
          "output_type": "execute_result",
          "data": {
            "text/html": [
              "<div>\n",
              "<style scoped>\n",
              "    .dataframe tbody tr th:only-of-type {\n",
              "        vertical-align: middle;\n",
              "    }\n",
              "\n",
              "    .dataframe tbody tr th {\n",
              "        vertical-align: top;\n",
              "    }\n",
              "\n",
              "    .dataframe thead th {\n",
              "        text-align: right;\n",
              "    }\n",
              "</style>\n",
              "<table border=\"1\" class=\"dataframe\">\n",
              "  <thead>\n",
              "    <tr style=\"text-align: right;\">\n",
              "      <th></th>\n",
              "      <th>phi</th>\n",
              "      <th>perm</th>\n",
              "    </tr>\n",
              "  </thead>\n",
              "  <tbody>\n",
              "    <tr>\n",
              "      <th>0</th>\n",
              "      <td>0.1</td>\n",
              "      <td>50</td>\n",
              "    </tr>\n",
              "    <tr>\n",
              "      <th>1</th>\n",
              "      <td>0.2</td>\n",
              "      <td>100</td>\n",
              "    </tr>\n",
              "    <tr>\n",
              "      <th>2</th>\n",
              "      <td>0.3</td>\n",
              "      <td>150</td>\n",
              "    </tr>\n",
              "    <tr>\n",
              "      <th>3</th>\n",
              "      <td>0.5</td>\n",
              "      <td>200</td>\n",
              "    </tr>\n",
              "  </tbody>\n",
              "</table>\n",
              "</div>"
            ],
            "text/plain": [
              "   phi  perm\n",
              "0  0.1    50\n",
              "1  0.2   100\n",
              "2  0.3   150\n",
              "3  0.5   200"
            ]
          },
          "metadata": {
            "tags": []
          },
          "execution_count": 28
        }
      ]
    },
    {
      "cell_type": "markdown",
      "metadata": {
        "id": "cxcDQimydcC-",
        "colab_type": "text"
      },
      "source": [
        "#**ITERATIONS**\n",
        "\n",
        "##The tool with which we can utilize the power of computers.  "
      ]
    },
    {
      "cell_type": "markdown",
      "metadata": {
        "id": "HQDeLPsPd928",
        "colab_type": "text"
      },
      "source": [
        "###Loops/Iterations are very important for Reservoir Simulation as well. \n",
        "\n",
        "1. **For Loops**\n",
        "2. While Loops"
      ]
    },
    {
      "cell_type": "markdown",
      "metadata": {
        "id": "t1yuJH9iect1",
        "colab_type": "text"
      },
      "source": [
        "Iterations are always performed on Iterables (ordered-collections). \n",
        "\n",
        "Examples of iterables - lists, strings etc."
      ]
    },
    {
      "cell_type": "code",
      "metadata": {
        "id": "z10eisapbtzP",
        "colab_type": "code",
        "colab": {
          "base_uri": "https://localhost:8080/",
          "height": 170
        },
        "outputId": "333ade99-1bc1-4ce9-9d9e-1e4d4c3332f7"
      },
      "source": [
        "#We can perform repetition of a command a 1000 times in 1 second.\n",
        "\n",
        "my_numbers = [1,2,3,4,5,6,7,8,9]\n",
        "\n",
        "for num in my_numbers:\n",
        "  \n",
        "  print(num)\n",
        "\n",
        "  "
      ],
      "execution_count": null,
      "outputs": [
        {
          "output_type": "stream",
          "text": [
            "1\n",
            "2\n",
            "3\n",
            "4\n",
            "5\n",
            "6\n",
            "7\n",
            "8\n",
            "9\n"
          ],
          "name": "stdout"
        }
      ]
    },
    {
      "cell_type": "code",
      "metadata": {
        "id": "SpGVUfGsfCxY",
        "colab_type": "code",
        "colab": {
          "base_uri": "https://localhost:8080/",
          "height": 170
        },
        "outputId": "6c71638f-12ea-4bcd-e68b-950d57cd1f3c"
      },
      "source": [
        "#example 2:\n",
        "\n",
        "for i in range(len(my_numbers)):\n",
        "  print('*')"
      ],
      "execution_count": null,
      "outputs": [
        {
          "output_type": "stream",
          "text": [
            "*\n",
            "*\n",
            "*\n",
            "*\n",
            "*\n",
            "*\n",
            "*\n",
            "*\n",
            "*\n"
          ],
          "name": "stdout"
        }
      ]
    },
    {
      "cell_type": "markdown",
      "metadata": {
        "id": "HdVhkBZof_0v",
        "colab_type": "text"
      },
      "source": [
        "#Practical Applications of a loop:\n",
        "\n",
        "To iterate over all values of a list to update it. "
      ]
    },
    {
      "cell_type": "markdown",
      "metadata": {
        "id": "n5Sica-ggO0E",
        "colab_type": "text"
      },
      "source": [
        "#While Loop:\n"
      ]
    },
    {
      "cell_type": "code",
      "metadata": {
        "id": "e__pYcA1frlX",
        "colab_type": "code",
        "colab": {}
      },
      "source": [
        "# while condition1:\n",
        "#     runs if condition 1 satisfied\n",
        "      #update statement"
      ],
      "execution_count": null,
      "outputs": []
    },
    {
      "cell_type": "code",
      "metadata": {
        "id": "4-VngKQMgjOH",
        "colab_type": "code",
        "colab": {
          "base_uri": "https://localhost:8080/",
          "height": 170
        },
        "outputId": "64569d02-fe00-4860-a4e7-8d97a70ce7a2"
      },
      "source": [
        "t = 1\n",
        "\n",
        "while t<10:\n",
        "\n",
        "  print(f'Current value of t = {t}')\n",
        "\n",
        "  t = t+1\n",
        "\n",
        "#Note that if you don't give the \n",
        "#update statement, You can run an infinite Loop. "
      ],
      "execution_count": null,
      "outputs": [
        {
          "output_type": "stream",
          "text": [
            "Current value of t = 1\n",
            "Current value of t = 2\n",
            "Current value of t = 3\n",
            "Current value of t = 4\n",
            "Current value of t = 5\n",
            "Current value of t = 6\n",
            "Current value of t = 7\n",
            "Current value of t = 8\n",
            "Current value of t = 9\n"
          ],
          "name": "stdout"
        }
      ]
    },
    {
      "cell_type": "markdown",
      "metadata": {
        "id": "thS0kVyl042W",
        "colab_type": "text"
      },
      "source": [
        "#Hands on Practice with **Functions**"
      ]
    },
    {
      "cell_type": "code",
      "metadata": {
        "id": "YtwUyDjShJIc",
        "colab_type": "code",
        "colab": {}
      },
      "source": [
        "#Functions are very important. \n",
        "\n",
        "#1. Make the code clean. \n",
        "#2. Helps Prevent repetitive commands. "
      ],
      "execution_count": null,
      "outputs": []
    },
    {
      "cell_type": "markdown",
      "metadata": {
        "id": "4_18vysL1sEq",
        "colab_type": "text"
      },
      "source": [
        "$ q =\\frac{kh}{141.2 * \\mu * B * ln(re/rw)} delP $"
      ]
    },
    {
      "cell_type": "code",
      "metadata": {
        "id": "HQG1jCmF1qTv",
        "colab_type": "code",
        "colab": {}
      },
      "source": [
        "#So here the term except delP is important. \n",
        "#And we can use it again and again. So we can create a function of it. \n",
        "\n",
        "#function definition. \n",
        "def slope():\n",
        "\n",
        "  k = int(input('Enter K: '))\n",
        "  h = int(input('Enter h: '))\n",
        "  mu = int(input('Enter viscocity: '))\n",
        "  B = float(input('Enter FVF: '))\n",
        "\n",
        "  lnrerw = 0.5\n",
        "\n",
        "  m = k*h/(141.2*mu*B*lnrerw)\n",
        "\n",
        "  return m\n"
      ],
      "execution_count": null,
      "outputs": []
    },
    {
      "cell_type": "code",
      "metadata": {
        "id": "eO0OBU9d4RR0",
        "colab_type": "code",
        "colab": {
          "base_uri": "https://localhost:8080/",
          "height": 102
        },
        "outputId": "4f96a998-83d4-4d17-d917-65bf6184ecf8"
      },
      "source": [
        "#function call to get the value function returns. \n",
        "#Note that this example also teaches how to take user input.\n",
        "delP = 500 #psia\n",
        "\n",
        "m = slope()\n",
        "\n",
        "q = m*delP\n",
        "\n",
        "print(f'The flowrate at {delP} psi drawdown is {q} STB/D')"
      ],
      "execution_count": null,
      "outputs": [
        {
          "output_type": "stream",
          "text": [
            "Enter K: 150\n",
            "Enter h: 30\n",
            "Enter viscocity: 100\n",
            "Enter FVF: 1.015\n",
            "The flowrate at 500 psi drawdown is 313.9870776873805 STB/D\n"
          ],
          "name": "stdout"
        }
      ]
    },
    {
      "cell_type": "code",
      "metadata": {
        "id": "RxzhVCs75RzG",
        "colab_type": "code",
        "colab": {}
      },
      "source": [
        "###########################################################"
      ],
      "execution_count": null,
      "outputs": []
    },
    {
      "cell_type": "markdown",
      "metadata": {
        "id": "4Gblf1Eg7wLv",
        "colab_type": "text"
      },
      "source": [
        "#Mini-Project 1: Finding the square root of a number using python.\n",
        "\n",
        "Background - Numerical Methods - Newton Raphson's\n",
        "\n",
        "Formula:\n",
        "\n",
        "if we have a function f(x) = 0 and we want to find the root, \n",
        "\n",
        "$ x(n+1) = x_n - \\frac{f(x_n)}{f'(x_n)} $"
      ]
    },
    {
      "cell_type": "code",
      "metadata": {
        "id": "tN4qaQCS5ytt",
        "colab_type": "code",
        "colab": {
          "base_uri": "https://localhost:8080/",
          "height": 68
        },
        "outputId": "7dcab473-0c56-4a23-9261-b95855bad61c"
      },
      "source": [
        "#Solution: \n",
        "\n",
        "# x = root(N) \n",
        "# x^2 - N = 0\n",
        "# f(x) --> x2 - N\n",
        "\n",
        "n = float(input('Enter the Number to be square rooted: '))\n",
        "\n",
        "x = int(input('Enter your initial Guess of the root: '))\n",
        "\n",
        "while abs(x**2 - n) >= 0.0000001:\n",
        "\n",
        "  x = x - (x**2 - n)/(2*x)\n",
        "\n",
        "print(f'The final root is: {abs(x)}')"
      ],
      "execution_count": null,
      "outputs": [
        {
          "output_type": "stream",
          "text": [
            "Enter the Number to be square rooted: 10000\n",
            "Enter your initial Guess of the root: 6\n",
            "The final root is: 100.00000000000878\n"
          ],
          "name": "stdout"
        }
      ]
    },
    {
      "cell_type": "markdown",
      "metadata": {
        "id": "BfXlFkNs_eeD",
        "colab_type": "text"
      },
      "source": [
        "#Similarly we can find the roots of any transcendental equation f(x) = 0 using this method. \n",
        "\n",
        "##Home Task - Try to find the Klinkenberg (corrected) Permeability using this method. \n",
        "\n",
        "Refer My Github. This is one of my most favourite mini projects.\n",
        "\n",
        "Link for Problem Description and Solution : https://github.com/Divyanshu-ISM/Oil-and-Gas-data-analysis/blob/master/KlinkenbergEffect.ipynb"
      ]
    },
    {
      "cell_type": "code",
      "metadata": {
        "id": "_OYKLn6D-bEu",
        "colab_type": "code",
        "colab": {}
      },
      "source": [
        "###########################################################"
      ],
      "execution_count": null,
      "outputs": []
    },
    {
      "cell_type": "markdown",
      "metadata": {
        "id": "qiajEa8yCTRS",
        "colab_type": "text"
      },
      "source": [
        "###Welcome to Day 2. Here's the solution to the Klinkenberg Home Task\n",
        "\n",
        "> 6.9kL^(0.64) + pmkL - pm*kg = 0 ...this is the equation.\n",
        "\n",
        "> k(i+1) = k(i) - f(ki)/f'(ki)\n",
        "\n",
        ">where, f'(ki) = 4.416 ki^(-0.36) + pm\n",
        "\n",
        "The iterative procedure is repeated until convergence is achieved when f(ki) approaches zero or when no changes in the calculated values of ki are observed."
      ]
    },
    {
      "cell_type": "markdown",
      "metadata": {
        "id": "rAgajC9wlMgn",
        "colab_type": "text"
      },
      "source": [
        "Problem Statement- \n",
        "The permeability of a core plug is measured by air. Only one measurement is made at a mean pressure of 2.152 psi. The air permeability is 46.6 md. Estimate the absolute permeability of the core sample. Compare the result with the actual absolute permeability of 23.66 md."
      ]
    },
    {
      "cell_type": "code",
      "metadata": {
        "id": "0M9G1974CSJ6",
        "colab_type": "code",
        "colab": {
          "base_uri": "https://localhost:8080/",
          "height": 134
        },
        "outputId": "9477a9c9-6752-44c3-c03d-37f00f41fd80"
      },
      "source": [
        "k = input(\"\\nEnter your first guess of absolute permeability kl: \")\n",
        "\n",
        "k = float(k)\n",
        "\n",
        "#f(k= kl) = 6.9kL^(0.64) + pmkL - pm*kg = 0\n",
        "# f'(k) = 4.416 ki^(-0.36) + pm\n",
        "\n",
        "pm  = input(\"\\nEnter Mean Pr. Pm: \")\n",
        "pm = float(pm)\n",
        "\n",
        "kg = input(\"\\nEnter K(air) = kg: \")\n",
        "kg = float(kg)\n",
        "\n",
        "while abs(6.9*(k**0.64) + pm*k - pm*kg) > 0.01:\n",
        "  k = k - (6.9*(k**0.64) + pm*k - pm*kg)/(4.416*(k**(-0.36)) + pm)\n",
        "\n",
        "print(f\"The final value of Perm K is : {k}\")"
      ],
      "execution_count": null,
      "outputs": [
        {
          "output_type": "stream",
          "text": [
            "\n",
            "Enter your first guess of absolute permeability kl: 100\n",
            "\n",
            "Enter Mean Pr. Pm: 2.152\n",
            "\n",
            "Enter K(air) = kg: 46.6\n",
            "The final value of Perm K is : 22.848969848793512\n"
          ],
          "name": "stdout"
        }
      ]
    },
    {
      "cell_type": "code",
      "metadata": {
        "id": "zSuyu7X3By2_",
        "colab_type": "code",
        "colab": {}
      },
      "source": [
        "################################################################"
      ],
      "execution_count": null,
      "outputs": []
    },
    {
      "cell_type": "code",
      "metadata": {
        "id": "2EH7JQC88gtd",
        "colab_type": "code",
        "colab": {}
      },
      "source": [
        ""
      ],
      "execution_count": null,
      "outputs": []
    },
    {
      "cell_type": "markdown",
      "metadata": {
        "id": "7Q1h3DphCBa5",
        "colab_type": "text"
      },
      "source": [
        "#**PART 2 Of the Session**\n",
        "\n",
        "##Data Analysis with NumPy and Pandas"
      ]
    },
    {
      "cell_type": "markdown",
      "metadata": {
        "id": "YTvUz-ZNFvnJ",
        "colab_type": "text"
      },
      "source": [
        "# A. NumPy"
      ]
    },
    {
      "cell_type": "markdown",
      "metadata": {
        "id": "-YBeJ-t3DRGd",
        "colab_type": "text"
      },
      "source": [
        "Python ----------> A Scientific Calculator"
      ]
    },
    {
      "cell_type": "markdown",
      "metadata": {
        "id": "18-mzH1AFHXX",
        "colab_type": "text"
      },
      "source": [
        "\n",
        "\n",
        "*   NumPy stands for Numerical Python. It brings a lot of Casio-991Ms utilities to Python.\n",
        "*   It is built on top of C++ and C++ is quick as flash. So, NumPy operations help in computational efficiency. \n",
        "*   NumPy is famous for its object - NumPy arrays. Which helps store collection (just like list) of numbers in form of an object that can be treated and manipulated just like a number.\n",
        "\n"
      ]
    },
    {
      "cell_type": "markdown",
      "metadata": {
        "id": "myhHufq5GDDV",
        "colab_type": "text"
      },
      "source": [
        "# Why NumPy? Take a look at this disadvantage of lists. "
      ]
    },
    {
      "cell_type": "code",
      "metadata": {
        "id": "r8bm6JZnGCGn",
        "colab_type": "code",
        "colab": {
          "base_uri": "https://localhost:8080/",
          "height": 50
        },
        "outputId": "3bc10784-2a9a-440d-ac21-05eec5f00cc4"
      },
      "source": [
        "num1 = [1,2,3,4,5]\n",
        "num2 = [5,6,7,8,9]\n",
        "\n",
        "# print(num1*num2)\n",
        "\n",
        "print(num1 + num2)\n",
        "\n",
        "#So, a dot product is not possible unless you use for loops. \n",
        "#And, addition term by term doesn't happen this easy. It rather concatenates. \n",
        "\n",
        "#So we need for loops for manipulating data with lists. and that's bad.\n",
        "sum = []\n",
        "for i in range(len(num1)):\n",
        "  s = num1[i] + num2[i]\n",
        "  sum.append(s)\n",
        "\n",
        "print(sum)\n",
        "   \n",
        "\n",
        "# #Let's use NumPy now."
      ],
      "execution_count": null,
      "outputs": [
        {
          "output_type": "stream",
          "text": [
            "[1, 2, 3, 4, 5, 5, 6, 7, 8, 9]\n",
            "[6, 8, 10, 12, 14]\n"
          ],
          "name": "stdout"
        }
      ]
    },
    {
      "cell_type": "markdown",
      "metadata": {
        "id": "rlZDse39HOS9",
        "colab_type": "text"
      },
      "source": [
        "We can directly convert a list to a NumPy array."
      ]
    },
    {
      "cell_type": "code",
      "metadata": {
        "id": "-rHD5EKsB2nz",
        "colab_type": "code",
        "colab": {
          "base_uri": "https://localhost:8080/",
          "height": 90
        },
        "outputId": "aa0d03e9-101d-4ae0-a467-56929015167c"
      },
      "source": [
        "#Step 1. Import numpy with its alias name 'np'\n",
        "import numpy as np\n",
        "\n",
        "#Lets first Directly convert the list to NumPy arrays -> use np.array(listname)\n",
        "arr1 = np.array(num1)\n",
        "arr2 = np.array(num2)\n",
        "\n",
        "#And Let's now solve the List Disadvantages using NumPy\n",
        "print(arr1)\n",
        "print(arr2)\n",
        "print(arr1*arr2)\n",
        "print(arr1 + arr2)\n",
        "\n",
        "#SO, This is how easy it gets with NumPy arrays. \n",
        "\n",
        "#Let's now check more features out."
      ],
      "execution_count": null,
      "outputs": [
        {
          "output_type": "stream",
          "text": [
            "[1 2 3 4 5]\n",
            "[5 6 7 8 9]\n",
            "[ 5 12 21 32 45]\n",
            "[ 6  8 10 12 14]\n"
          ],
          "name": "stdout"
        }
      ]
    },
    {
      "cell_type": "markdown",
      "metadata": {
        "id": "fWonLzx6Vfc2",
        "colab_type": "text"
      },
      "source": [
        "##1. np.linspace( start, stop, no.ofvalues)"
      ]
    },
    {
      "cell_type": "code",
      "metadata": {
        "id": "VclCkd0AIRUG",
        "colab_type": "code",
        "colab": {}
      },
      "source": [
        "saturations = np.linspace(0,1,100)\n",
        "\n",
        "#Both start and stop values are included as the first and last values of the array.\n",
        "#Creates saturation array with 100 values: starting from 0-100\n",
        "\n",
        "# print(saturations)\n",
        "\n",
        "#Applications? krw = sw^3 kro = (1-sw)^3\n",
        "# saturations**2"
      ],
      "execution_count": null,
      "outputs": []
    },
    {
      "cell_type": "code",
      "metadata": {
        "id": "rICnHep1V6im",
        "colab_type": "code",
        "colab": {}
      },
      "source": [
        "sw = np.linspace(0,1,50)\n",
        "\n",
        "krw = sw**3\n",
        "\n",
        "kro = (1-sw)**3\n",
        "\n",
        "#BRilliant. It worked. \n",
        "#Further when we will plot these Rel-Perm arrays, you'll get more confident.\n"
      ],
      "execution_count": null,
      "outputs": []
    },
    {
      "cell_type": "markdown",
      "metadata": {
        "id": "uvSmFV5MZo1e",
        "colab_type": "text"
      },
      "source": [
        "##2. np.arange(start,stop,interval) --> [start,stop)"
      ]
    },
    {
      "cell_type": "code",
      "metadata": {
        "id": "0eO0xDnKYwV8",
        "colab_type": "code",
        "colab": {
          "base_uri": "https://localhost:8080/",
          "height": 54
        },
        "outputId": "ec92bb89-e6aa-44ee-a951-c69bace38704"
      },
      "source": [
        "#Will be useful for Reservoir simulation. Space-Time Arrays.\n",
        "\n",
        "#Suppose you want to build an array for days. from t = 0th day to t= 500th day. \n",
        "#Time step = 20 days. \n",
        "\n",
        "t = np.arange(0,520,20)\n",
        "\n",
        "t"
      ],
      "execution_count": null,
      "outputs": [
        {
          "output_type": "execute_result",
          "data": {
            "text/plain": [
              "array([  0,  20,  40,  60,  80, 100, 120, 140, 160, 180, 200, 220, 240,\n",
              "       260, 280, 300, 320, 340, 360, 380, 400, 420, 440, 460, 480, 500])"
            ]
          },
          "metadata": {
            "tags": []
          },
          "execution_count": 68
        }
      ]
    },
    {
      "cell_type": "markdown",
      "metadata": {
        "id": "gh5d4HcDbzLT",
        "colab_type": "text"
      },
      "source": [
        "##3. NumPy Universal Functions (uFuncs)\n",
        "\n",
        "Reference link - https://www.w3schools.com/python/numpy_ufunc.asp\n",
        "\n",
        "This is where we get the advantages of a scientific calculator in python.\n",
        "\n",
        "Also do check out the **math library**."
      ]
    },
    {
      "cell_type": "code",
      "metadata": {
        "id": "x7y1gDw-a1sK",
        "colab_type": "code",
        "colab": {
          "base_uri": "https://localhost:8080/",
          "height": 35
        },
        "outputId": "8aaf6c91-6d28-43de-80f6-07eb55d85f82"
      },
      "source": [
        "a = np.array([1,2,3,4,5])\n",
        "\n",
        "b = np.array([4,5,6,7,8])\n",
        "\n",
        "#1.\n",
        "np.add(a,b)\n",
        "\n",
        "\n"
      ],
      "execution_count": null,
      "outputs": [
        {
          "output_type": "execute_result",
          "data": {
            "text/plain": [
              "array([ 5,  7,  9, 11, 13])"
            ]
          },
          "metadata": {
            "tags": []
          },
          "execution_count": 69
        }
      ]
    },
    {
      "cell_type": "code",
      "metadata": {
        "id": "IwLMJ7YveNZU",
        "colab_type": "code",
        "colab": {
          "base_uri": "https://localhost:8080/",
          "height": 54
        },
        "outputId": "5ace417e-96b8-4852-ce81-74e055b5bef6"
      },
      "source": [
        "#2. Power\n",
        "arr1 = np.array([10, 20, 30, 40, 50, 60])\n",
        "arr2 = np.array([3, 5, 6, 8, 2, 33])\n",
        "\n",
        "newarr = np.power(arr1, arr2)\n",
        "\n",
        "print(newarr)"
      ],
      "execution_count": null,
      "outputs": [
        {
          "output_type": "stream",
          "text": [
            "[         1000       3200000     729000000 6553600000000          2500\n",
            "             0]\n"
          ],
          "name": "stdout"
        }
      ]
    },
    {
      "cell_type": "code",
      "metadata": {
        "id": "1EUt5A2IfBLf",
        "colab_type": "code",
        "colab": {
          "base_uri": "https://localhost:8080/",
          "height": 118
        },
        "outputId": "6da573ec-2931-4442-cd64-7b20f5111c62"
      },
      "source": [
        "#3. Logarithms - base e,10,custom\n",
        "\n",
        "#3.A)-Log base 2\n",
        "arr = np.arange(1, 10)\n",
        "\n",
        "print(arr)\n",
        "print(np.log2(arr))\n",
        "print(np.exp(arr))\n",
        "\n",
        "# Use the log10() function to perform log at the base 10.\n",
        "# Use the log() function to perform log at the base e."
      ],
      "execution_count": null,
      "outputs": [
        {
          "output_type": "stream",
          "text": [
            "[1 2 3 4 5 6 7 8 9]\n",
            "[0.         1.         1.5849625  2.         2.32192809 2.5849625\n",
            " 2.80735492 3.         3.169925  ]\n",
            "[2.71828183e+00 7.38905610e+00 2.00855369e+01 5.45981500e+01\n",
            " 1.48413159e+02 4.03428793e+02 1.09663316e+03 2.98095799e+03\n",
            " 8.10308393e+03]\n"
          ],
          "name": "stdout"
        }
      ]
    },
    {
      "cell_type": "code",
      "metadata": {
        "id": "55i93D6Hgn80",
        "colab_type": "code",
        "colab": {
          "base_uri": "https://localhost:8080/",
          "height": 35
        },
        "outputId": "f9e62fe2-a7c8-4c58-8152-d8bcd921cbad"
      },
      "source": [
        "#4. Trigonometry. \n",
        "\n",
        "print(np.sin(np.pi/2))"
      ],
      "execution_count": null,
      "outputs": [
        {
          "output_type": "stream",
          "text": [
            "1.0\n"
          ],
          "name": "stdout"
        }
      ]
    },
    {
      "cell_type": "code",
      "metadata": {
        "id": "adshDkQUiRJw",
        "colab_type": "code",
        "colab": {
          "base_uri": "https://localhost:8080/",
          "height": 54
        },
        "outputId": "6be5a977-2b97-4a27-e857-3d5f812952b3"
      },
      "source": [
        "print(np.arcsin(1.0)) #which must be pi/2\n",
        "\n",
        "print(np.pi/2)"
      ],
      "execution_count": null,
      "outputs": [
        {
          "output_type": "stream",
          "text": [
            "1.5707963267948966\n",
            "1.5707963267948966\n"
          ],
          "name": "stdout"
        }
      ]
    },
    {
      "cell_type": "code",
      "metadata": {
        "id": "3WQPRmL2iY9_",
        "colab_type": "code",
        "colab": {}
      },
      "source": [
        "####################################################################"
      ],
      "execution_count": null,
      "outputs": []
    },
    {
      "cell_type": "markdown",
      "metadata": {
        "id": "rEUinM1fGctr",
        "colab_type": "text"
      },
      "source": [
        "#CONCLUSION- \n",
        "> Use Lists when your aim is to just store. \n",
        "\n",
        "> Use NumPy arrays when your aim is Quick Computations."
      ]
    },
    {
      "cell_type": "markdown",
      "metadata": {
        "id": "gnQzn8EbxPpY",
        "colab_type": "text"
      },
      "source": [
        ""
      ]
    },
    {
      "cell_type": "markdown",
      "metadata": {
        "id": "aAfoa8ca7I3M",
        "colab_type": "text"
      },
      "source": [
        "#Pandas - The Ms.Excel of Python\n",
        "\n",
        "This library helps us import | create | work with data in the form of tables.\n",
        "\n",
        "The tables are called DataFrames. \n",
        "\n",
        "1. We can directly convert a Dictionary into a DataFrame. \n",
        "2. We can import excel-sheets or CSV files (most popular) into DF.\n",
        "3. We can manipulate and use these tables in a very user-friendly way."
      ]
    },
    {
      "cell_type": "markdown",
      "metadata": {
        "id": "sNs4P3S-8Btr",
        "colab_type": "text"
      },
      "source": [
        "##Case 1: Dictionary to Pandas DataFrame."
      ]
    },
    {
      "cell_type": "code",
      "metadata": {
        "id": "p9B7bWYj7GaB",
        "colab_type": "code",
        "colab": {
          "base_uri": "https://localhost:8080/",
          "height": 136
        },
        "outputId": "001c867c-6588-4343-e29d-4cf64b919176"
      },
      "source": [
        "#Step 1: Import Pandas with an alias 'pd'\n",
        "import pandas as pd\n",
        "\n",
        "\n",
        "#Step 2: Create your dictionary\n",
        "cambay_rocks = {'phi': [0.2,0.40,0.30,0.25,0.270],\n",
        "                'perm': [100,20,150,130,145],\n",
        "                'lith': ['sst','shale','sst','sst','sst']}\n",
        "\n",
        "#Step 3: Create your Table.\n",
        "rock_table = pd.DataFrame(cambay_rocks)\n",
        "\n",
        "#Step 4: Print your table.\n",
        "# rock_table\n",
        "\n",
        "# rock_table.tail(n=3)"
      ],
      "execution_count": null,
      "outputs": [
        {
          "output_type": "execute_result",
          "data": {
            "text/html": [
              "<div>\n",
              "<style scoped>\n",
              "    .dataframe tbody tr th:only-of-type {\n",
              "        vertical-align: middle;\n",
              "    }\n",
              "\n",
              "    .dataframe tbody tr th {\n",
              "        vertical-align: top;\n",
              "    }\n",
              "\n",
              "    .dataframe thead th {\n",
              "        text-align: right;\n",
              "    }\n",
              "</style>\n",
              "<table border=\"1\" class=\"dataframe\">\n",
              "  <thead>\n",
              "    <tr style=\"text-align: right;\">\n",
              "      <th></th>\n",
              "      <th>phi</th>\n",
              "      <th>perm</th>\n",
              "      <th>lith</th>\n",
              "    </tr>\n",
              "  </thead>\n",
              "  <tbody>\n",
              "    <tr>\n",
              "      <th>2</th>\n",
              "      <td>0.30</td>\n",
              "      <td>150</td>\n",
              "      <td>sst</td>\n",
              "    </tr>\n",
              "    <tr>\n",
              "      <th>3</th>\n",
              "      <td>0.25</td>\n",
              "      <td>130</td>\n",
              "      <td>sst</td>\n",
              "    </tr>\n",
              "    <tr>\n",
              "      <th>4</th>\n",
              "      <td>0.27</td>\n",
              "      <td>145</td>\n",
              "      <td>sst</td>\n",
              "    </tr>\n",
              "  </tbody>\n",
              "</table>\n",
              "</div>"
            ],
            "text/plain": [
              "    phi  perm lith\n",
              "2  0.30   150  sst\n",
              "3  0.25   130  sst\n",
              "4  0.27   145  sst"
            ]
          },
          "metadata": {
            "tags": []
          },
          "execution_count": 24
        }
      ]
    },
    {
      "cell_type": "markdown",
      "metadata": {
        "id": "Iwt7FgQz95Rv",
        "colab_type": "text"
      },
      "source": [
        "#Case 2: Importing Data From a CSV (Comma Seperated Values) File.\n",
        "\n",
        "A csv file can be imagined as a table with the lines being replaced by commas."
      ]
    },
    {
      "cell_type": "code",
      "metadata": {
        "id": "EXZL6WRY9T64",
        "colab_type": "code",
        "colab": {
          "base_uri": "https://localhost:8080/",
          "height": 215
        },
        "outputId": "ce736e05-fa97-445a-bbc9-f5a8085f45cd"
      },
      "source": [
        "df_csv_to_dataframe = pd.read_csv('/content/sample_data/california_housing_train.csv')\n",
        "\n",
        "\n",
        "#Similarly excel file can be read by- \n",
        "#df = pd.read_excel('\\path\\filename.csv')\n",
        "\n",
        "# df_csv_to_dataframe.head()"
      ],
      "execution_count": null,
      "outputs": [
        {
          "output_type": "execute_result",
          "data": {
            "text/html": [
              "<div>\n",
              "<style scoped>\n",
              "    .dataframe tbody tr th:only-of-type {\n",
              "        vertical-align: middle;\n",
              "    }\n",
              "\n",
              "    .dataframe tbody tr th {\n",
              "        vertical-align: top;\n",
              "    }\n",
              "\n",
              "    .dataframe thead th {\n",
              "        text-align: right;\n",
              "    }\n",
              "</style>\n",
              "<table border=\"1\" class=\"dataframe\">\n",
              "  <thead>\n",
              "    <tr style=\"text-align: right;\">\n",
              "      <th></th>\n",
              "      <th>longitude</th>\n",
              "      <th>latitude</th>\n",
              "      <th>housing_median_age</th>\n",
              "      <th>total_rooms</th>\n",
              "      <th>total_bedrooms</th>\n",
              "      <th>population</th>\n",
              "      <th>households</th>\n",
              "      <th>median_income</th>\n",
              "      <th>median_house_value</th>\n",
              "    </tr>\n",
              "  </thead>\n",
              "  <tbody>\n",
              "    <tr>\n",
              "      <th>0</th>\n",
              "      <td>-114.31</td>\n",
              "      <td>34.19</td>\n",
              "      <td>15.0</td>\n",
              "      <td>5612.0</td>\n",
              "      <td>1283.0</td>\n",
              "      <td>1015.0</td>\n",
              "      <td>472.0</td>\n",
              "      <td>1.4936</td>\n",
              "      <td>66900.0</td>\n",
              "    </tr>\n",
              "    <tr>\n",
              "      <th>1</th>\n",
              "      <td>-114.47</td>\n",
              "      <td>34.40</td>\n",
              "      <td>19.0</td>\n",
              "      <td>7650.0</td>\n",
              "      <td>1901.0</td>\n",
              "      <td>1129.0</td>\n",
              "      <td>463.0</td>\n",
              "      <td>1.8200</td>\n",
              "      <td>80100.0</td>\n",
              "    </tr>\n",
              "    <tr>\n",
              "      <th>2</th>\n",
              "      <td>-114.56</td>\n",
              "      <td>33.69</td>\n",
              "      <td>17.0</td>\n",
              "      <td>720.0</td>\n",
              "      <td>174.0</td>\n",
              "      <td>333.0</td>\n",
              "      <td>117.0</td>\n",
              "      <td>1.6509</td>\n",
              "      <td>85700.0</td>\n",
              "    </tr>\n",
              "    <tr>\n",
              "      <th>3</th>\n",
              "      <td>-114.57</td>\n",
              "      <td>33.64</td>\n",
              "      <td>14.0</td>\n",
              "      <td>1501.0</td>\n",
              "      <td>337.0</td>\n",
              "      <td>515.0</td>\n",
              "      <td>226.0</td>\n",
              "      <td>3.1917</td>\n",
              "      <td>73400.0</td>\n",
              "    </tr>\n",
              "    <tr>\n",
              "      <th>4</th>\n",
              "      <td>-114.57</td>\n",
              "      <td>33.57</td>\n",
              "      <td>20.0</td>\n",
              "      <td>1454.0</td>\n",
              "      <td>326.0</td>\n",
              "      <td>624.0</td>\n",
              "      <td>262.0</td>\n",
              "      <td>1.9250</td>\n",
              "      <td>65500.0</td>\n",
              "    </tr>\n",
              "  </tbody>\n",
              "</table>\n",
              "</div>"
            ],
            "text/plain": [
              "   longitude  latitude  ...  median_income  median_house_value\n",
              "0    -114.31     34.19  ...         1.4936             66900.0\n",
              "1    -114.47     34.40  ...         1.8200             80100.0\n",
              "2    -114.56     33.69  ...         1.6509             85700.0\n",
              "3    -114.57     33.64  ...         3.1917             73400.0\n",
              "4    -114.57     33.57  ...         1.9250             65500.0\n",
              "\n",
              "[5 rows x 9 columns]"
            ]
          },
          "metadata": {
            "tags": []
          },
          "execution_count": 26
        }
      ]
    },
    {
      "cell_type": "markdown",
      "metadata": {
        "id": "PtSLqepl-aZ5",
        "colab_type": "text"
      },
      "source": [
        "#Description"
      ]
    },
    {
      "cell_type": "markdown",
      "metadata": {
        "id": "wk0OmeAO-kpj",
        "colab_type": "text"
      },
      "source": [
        "Note that the Pandas DF has two parts-\n",
        "\n",
        "1. The vertical Columns. \n",
        "2. The Horizontal Rows."
      ]
    },
    {
      "cell_type": "code",
      "metadata": {
        "id": "dDhNWiXU9v13",
        "colab_type": "code",
        "colab": {
          "base_uri": "https://localhost:8080/",
          "height": 198
        },
        "outputId": "2b5cc2e7-365f-4c2a-f15b-7c628b0cf7da"
      },
      "source": [
        "rock_table"
      ],
      "execution_count": null,
      "outputs": [
        {
          "output_type": "execute_result",
          "data": {
            "text/html": [
              "<div>\n",
              "<style scoped>\n",
              "    .dataframe tbody tr th:only-of-type {\n",
              "        vertical-align: middle;\n",
              "    }\n",
              "\n",
              "    .dataframe tbody tr th {\n",
              "        vertical-align: top;\n",
              "    }\n",
              "\n",
              "    .dataframe thead th {\n",
              "        text-align: right;\n",
              "    }\n",
              "</style>\n",
              "<table border=\"1\" class=\"dataframe\">\n",
              "  <thead>\n",
              "    <tr style=\"text-align: right;\">\n",
              "      <th></th>\n",
              "      <th>phi</th>\n",
              "      <th>perm</th>\n",
              "      <th>lith</th>\n",
              "    </tr>\n",
              "  </thead>\n",
              "  <tbody>\n",
              "    <tr>\n",
              "      <th>0</th>\n",
              "      <td>0.20</td>\n",
              "      <td>100</td>\n",
              "      <td>sst</td>\n",
              "    </tr>\n",
              "    <tr>\n",
              "      <th>1</th>\n",
              "      <td>0.40</td>\n",
              "      <td>20</td>\n",
              "      <td>shale</td>\n",
              "    </tr>\n",
              "    <tr>\n",
              "      <th>2</th>\n",
              "      <td>0.30</td>\n",
              "      <td>150</td>\n",
              "      <td>sst</td>\n",
              "    </tr>\n",
              "    <tr>\n",
              "      <th>3</th>\n",
              "      <td>0.25</td>\n",
              "      <td>130</td>\n",
              "      <td>sst</td>\n",
              "    </tr>\n",
              "    <tr>\n",
              "      <th>4</th>\n",
              "      <td>0.27</td>\n",
              "      <td>145</td>\n",
              "      <td>sst</td>\n",
              "    </tr>\n",
              "  </tbody>\n",
              "</table>\n",
              "</div>"
            ],
            "text/plain": [
              "    phi  perm   lith\n",
              "0  0.20   100    sst\n",
              "1  0.40    20  shale\n",
              "2  0.30   150    sst\n",
              "3  0.25   130    sst\n",
              "4  0.27   145    sst"
            ]
          },
          "metadata": {
            "tags": []
          },
          "execution_count": 5
        }
      ]
    },
    {
      "cell_type": "markdown",
      "metadata": {
        "id": "RpT54ODM_7fr",
        "colab_type": "text"
      },
      "source": [
        "The Columns individually are labelled arrays. \n",
        "\n",
        "And these 'arrays-with-labels', are called a 'Series'.\n",
        "\n",
        "Series, vertically stacked next to each other forms a DF.\n"
      ]
    },
    {
      "cell_type": "code",
      "metadata": {
        "id": "ZgLschyz_338",
        "colab_type": "code",
        "colab": {
          "base_uri": "https://localhost:8080/",
          "height": 198
        },
        "outputId": "185fd6e4-e523-4d56-a847-9cf710491c13"
      },
      "source": [
        "#Let's Manipulate data using Pandas. \n",
        "\n",
        "df.head()"
      ],
      "execution_count": null,
      "outputs": [
        {
          "output_type": "execute_result",
          "data": {
            "text/html": [
              "<div>\n",
              "<style scoped>\n",
              "    .dataframe tbody tr th:only-of-type {\n",
              "        vertical-align: middle;\n",
              "    }\n",
              "\n",
              "    .dataframe tbody tr th {\n",
              "        vertical-align: top;\n",
              "    }\n",
              "\n",
              "    .dataframe thead th {\n",
              "        text-align: right;\n",
              "    }\n",
              "</style>\n",
              "<table border=\"1\" class=\"dataframe\">\n",
              "  <thead>\n",
              "    <tr style=\"text-align: right;\">\n",
              "      <th></th>\n",
              "      <th>longitude</th>\n",
              "      <th>latitude</th>\n",
              "      <th>housing_median_age</th>\n",
              "      <th>total_rooms</th>\n",
              "      <th>total_bedrooms</th>\n",
              "      <th>population</th>\n",
              "      <th>households</th>\n",
              "      <th>median_income</th>\n",
              "      <th>median_house_value</th>\n",
              "    </tr>\n",
              "  </thead>\n",
              "  <tbody>\n",
              "    <tr>\n",
              "      <th>0</th>\n",
              "      <td>-114.31</td>\n",
              "      <td>34.19</td>\n",
              "      <td>15.0</td>\n",
              "      <td>5612.0</td>\n",
              "      <td>1283.0</td>\n",
              "      <td>1015.0</td>\n",
              "      <td>472.0</td>\n",
              "      <td>1.4936</td>\n",
              "      <td>66900.0</td>\n",
              "    </tr>\n",
              "    <tr>\n",
              "      <th>1</th>\n",
              "      <td>-114.47</td>\n",
              "      <td>34.40</td>\n",
              "      <td>19.0</td>\n",
              "      <td>7650.0</td>\n",
              "      <td>1901.0</td>\n",
              "      <td>1129.0</td>\n",
              "      <td>463.0</td>\n",
              "      <td>1.8200</td>\n",
              "      <td>80100.0</td>\n",
              "    </tr>\n",
              "    <tr>\n",
              "      <th>2</th>\n",
              "      <td>-114.56</td>\n",
              "      <td>33.69</td>\n",
              "      <td>17.0</td>\n",
              "      <td>720.0</td>\n",
              "      <td>174.0</td>\n",
              "      <td>333.0</td>\n",
              "      <td>117.0</td>\n",
              "      <td>1.6509</td>\n",
              "      <td>85700.0</td>\n",
              "    </tr>\n",
              "    <tr>\n",
              "      <th>3</th>\n",
              "      <td>-114.57</td>\n",
              "      <td>33.64</td>\n",
              "      <td>14.0</td>\n",
              "      <td>1501.0</td>\n",
              "      <td>337.0</td>\n",
              "      <td>515.0</td>\n",
              "      <td>226.0</td>\n",
              "      <td>3.1917</td>\n",
              "      <td>73400.0</td>\n",
              "    </tr>\n",
              "    <tr>\n",
              "      <th>4</th>\n",
              "      <td>-114.57</td>\n",
              "      <td>33.57</td>\n",
              "      <td>20.0</td>\n",
              "      <td>1454.0</td>\n",
              "      <td>326.0</td>\n",
              "      <td>624.0</td>\n",
              "      <td>262.0</td>\n",
              "      <td>1.9250</td>\n",
              "      <td>65500.0</td>\n",
              "    </tr>\n",
              "  </tbody>\n",
              "</table>\n",
              "</div>"
            ],
            "text/plain": [
              "   longitude  latitude  ...  median_income  median_house_value\n",
              "0    -114.31     34.19  ...         1.4936             66900.0\n",
              "1    -114.47     34.40  ...         1.8200             80100.0\n",
              "2    -114.56     33.69  ...         1.6509             85700.0\n",
              "3    -114.57     33.64  ...         3.1917             73400.0\n",
              "4    -114.57     33.57  ...         1.9250             65500.0\n",
              "\n",
              "[5 rows x 9 columns]"
            ]
          },
          "metadata": {
            "tags": []
          },
          "execution_count": 8
        }
      ]
    },
    {
      "cell_type": "code",
      "metadata": {
        "id": "jhIm032sAiVJ",
        "colab_type": "code",
        "colab": {
          "base_uri": "https://localhost:8080/",
          "height": 34
        },
        "outputId": "967e29bb-e222-4cb3-fae1-65d84eda615b"
      },
      "source": [
        "df_csv_to_dataframe.shape"
      ],
      "execution_count": null,
      "outputs": [
        {
          "output_type": "execute_result",
          "data": {
            "text/plain": [
              "(17000, 9)"
            ]
          },
          "metadata": {
            "tags": []
          },
          "execution_count": 28
        }
      ]
    },
    {
      "cell_type": "code",
      "metadata": {
        "id": "tLwOn8vtAssQ",
        "colab_type": "code",
        "colab": {
          "base_uri": "https://localhost:8080/",
          "height": 308
        },
        "outputId": "b45c7e7e-6b53-4ea2-f01d-78cf6c428839"
      },
      "source": [
        "df.info()"
      ],
      "execution_count": null,
      "outputs": [
        {
          "output_type": "stream",
          "text": [
            "<class 'pandas.core.frame.DataFrame'>\n",
            "RangeIndex: 17000 entries, 0 to 16999\n",
            "Data columns (total 9 columns):\n",
            " #   Column              Non-Null Count  Dtype  \n",
            "---  ------              --------------  -----  \n",
            " 0   longitude           17000 non-null  float64\n",
            " 1   latitude            17000 non-null  float64\n",
            " 2   housing_median_age  17000 non-null  float64\n",
            " 3   total_rooms         17000 non-null  float64\n",
            " 4   total_bedrooms      17000 non-null  float64\n",
            " 5   population          17000 non-null  float64\n",
            " 6   households          17000 non-null  float64\n",
            " 7   median_income       17000 non-null  float64\n",
            " 8   median_house_value  17000 non-null  float64\n",
            "dtypes: float64(9)\n",
            "memory usage: 1.2 MB\n"
          ],
          "name": "stdout"
        }
      ]
    },
    {
      "cell_type": "code",
      "metadata": {
        "id": "O4URXkhtAv45",
        "colab_type": "code",
        "colab": {}
      },
      "source": [
        "# df.describe()"
      ],
      "execution_count": null,
      "outputs": []
    },
    {
      "cell_type": "markdown",
      "metadata": {
        "id": "47fG0lk2A-5d",
        "colab_type": "text"
      },
      "source": [
        "A. Accessing Columns"
      ]
    },
    {
      "cell_type": "code",
      "metadata": {
        "id": "1K52KGuTA1_6",
        "colab_type": "code",
        "colab": {
          "base_uri": "https://localhost:8080/",
          "height": 84
        },
        "outputId": "27680b70-8058-4e11-fca9-c35c27625062"
      },
      "source": [
        "#First lets list down all the columns\n",
        "\n",
        "df_csv_to_dataframe.columns"
      ],
      "execution_count": null,
      "outputs": [
        {
          "output_type": "execute_result",
          "data": {
            "text/plain": [
              "Index(['longitude', 'latitude', 'housing_median_age', 'total_rooms',\n",
              "       'total_bedrooms', 'population', 'households', 'median_income',\n",
              "       'median_house_value'],\n",
              "      dtype='object')"
            ]
          },
          "metadata": {
            "tags": []
          },
          "execution_count": 29
        }
      ]
    },
    {
      "cell_type": "code",
      "metadata": {
        "id": "oDSeziWkBF_X",
        "colab_type": "code",
        "colab": {
          "base_uri": "https://localhost:8080/",
          "height": 34
        },
        "outputId": "0421d233-7712-4fd2-8e45-90c4d1661f02"
      },
      "source": [
        "rock_table.columns"
      ],
      "execution_count": null,
      "outputs": [
        {
          "output_type": "execute_result",
          "data": {
            "text/plain": [
              "Index(['phi', 'perm', 'lith'], dtype='object')"
            ]
          },
          "metadata": {
            "tags": []
          },
          "execution_count": 30
        }
      ]
    },
    {
      "cell_type": "code",
      "metadata": {
        "id": "-PN-2jCGBKKx",
        "colab_type": "code",
        "colab": {
          "base_uri": "https://localhost:8080/",
          "height": 126
        },
        "outputId": "17af1d05-5510-4cab-f832-ecea624826b0"
      },
      "source": [
        "#For example you just want to access phi.\n",
        "\n",
        "rock_table['phi']"
      ],
      "execution_count": null,
      "outputs": [
        {
          "output_type": "execute_result",
          "data": {
            "text/plain": [
              "0    0.20\n",
              "1    0.40\n",
              "2    0.30\n",
              "3    0.25\n",
              "4    0.27\n",
              "Name: phi, dtype: float64"
            ]
          },
          "metadata": {
            "tags": []
          },
          "execution_count": 16
        }
      ]
    },
    {
      "cell_type": "code",
      "metadata": {
        "id": "1RhuCgB-BYRS",
        "colab_type": "code",
        "colab": {
          "base_uri": "https://localhost:8080/",
          "height": 198
        },
        "outputId": "e6f7478b-77cb-441c-bcb1-dc3b7dd0d070"
      },
      "source": [
        "rock_table[['phi']]"
      ],
      "execution_count": null,
      "outputs": [
        {
          "output_type": "execute_result",
          "data": {
            "text/html": [
              "<div>\n",
              "<style scoped>\n",
              "    .dataframe tbody tr th:only-of-type {\n",
              "        vertical-align: middle;\n",
              "    }\n",
              "\n",
              "    .dataframe tbody tr th {\n",
              "        vertical-align: top;\n",
              "    }\n",
              "\n",
              "    .dataframe thead th {\n",
              "        text-align: right;\n",
              "    }\n",
              "</style>\n",
              "<table border=\"1\" class=\"dataframe\">\n",
              "  <thead>\n",
              "    <tr style=\"text-align: right;\">\n",
              "      <th></th>\n",
              "      <th>phi</th>\n",
              "    </tr>\n",
              "  </thead>\n",
              "  <tbody>\n",
              "    <tr>\n",
              "      <th>0</th>\n",
              "      <td>0.20</td>\n",
              "    </tr>\n",
              "    <tr>\n",
              "      <th>1</th>\n",
              "      <td>0.40</td>\n",
              "    </tr>\n",
              "    <tr>\n",
              "      <th>2</th>\n",
              "      <td>0.30</td>\n",
              "    </tr>\n",
              "    <tr>\n",
              "      <th>3</th>\n",
              "      <td>0.25</td>\n",
              "    </tr>\n",
              "    <tr>\n",
              "      <th>4</th>\n",
              "      <td>0.27</td>\n",
              "    </tr>\n",
              "  </tbody>\n",
              "</table>\n",
              "</div>"
            ],
            "text/plain": [
              "    phi\n",
              "0  0.20\n",
              "1  0.40\n",
              "2  0.30\n",
              "3  0.25\n",
              "4  0.27"
            ]
          },
          "metadata": {
            "tags": []
          },
          "execution_count": 17
        }
      ]
    },
    {
      "cell_type": "code",
      "metadata": {
        "id": "zCj23EBiBctl",
        "colab_type": "code",
        "colab": {
          "base_uri": "https://localhost:8080/",
          "height": 198
        },
        "outputId": "593dbec2-49b7-4a1b-bb15-0264d6c9e641"
      },
      "source": [
        "rock_table[['phi','perm']]"
      ],
      "execution_count": null,
      "outputs": [
        {
          "output_type": "execute_result",
          "data": {
            "text/html": [
              "<div>\n",
              "<style scoped>\n",
              "    .dataframe tbody tr th:only-of-type {\n",
              "        vertical-align: middle;\n",
              "    }\n",
              "\n",
              "    .dataframe tbody tr th {\n",
              "        vertical-align: top;\n",
              "    }\n",
              "\n",
              "    .dataframe thead th {\n",
              "        text-align: right;\n",
              "    }\n",
              "</style>\n",
              "<table border=\"1\" class=\"dataframe\">\n",
              "  <thead>\n",
              "    <tr style=\"text-align: right;\">\n",
              "      <th></th>\n",
              "      <th>phi</th>\n",
              "      <th>perm</th>\n",
              "    </tr>\n",
              "  </thead>\n",
              "  <tbody>\n",
              "    <tr>\n",
              "      <th>0</th>\n",
              "      <td>0.20</td>\n",
              "      <td>100</td>\n",
              "    </tr>\n",
              "    <tr>\n",
              "      <th>1</th>\n",
              "      <td>0.40</td>\n",
              "      <td>20</td>\n",
              "    </tr>\n",
              "    <tr>\n",
              "      <th>2</th>\n",
              "      <td>0.30</td>\n",
              "      <td>150</td>\n",
              "    </tr>\n",
              "    <tr>\n",
              "      <th>3</th>\n",
              "      <td>0.25</td>\n",
              "      <td>130</td>\n",
              "    </tr>\n",
              "    <tr>\n",
              "      <th>4</th>\n",
              "      <td>0.27</td>\n",
              "      <td>145</td>\n",
              "    </tr>\n",
              "  </tbody>\n",
              "</table>\n",
              "</div>"
            ],
            "text/plain": [
              "    phi  perm\n",
              "0  0.20   100\n",
              "1  0.40    20\n",
              "2  0.30   150\n",
              "3  0.25   130\n",
              "4  0.27   145"
            ]
          },
          "metadata": {
            "tags": []
          },
          "execution_count": 18
        }
      ]
    },
    {
      "cell_type": "code",
      "metadata": {
        "id": "npLhkefTz5Uo",
        "colab_type": "code",
        "colab": {
          "base_uri": "https://localhost:8080/",
          "height": 195
        },
        "outputId": "43ca82d9-a0ef-4ca4-83c3-96959b12235e"
      },
      "source": [
        "rock_table"
      ],
      "execution_count": null,
      "outputs": [
        {
          "output_type": "execute_result",
          "data": {
            "text/html": [
              "<div>\n",
              "<style scoped>\n",
              "    .dataframe tbody tr th:only-of-type {\n",
              "        vertical-align: middle;\n",
              "    }\n",
              "\n",
              "    .dataframe tbody tr th {\n",
              "        vertical-align: top;\n",
              "    }\n",
              "\n",
              "    .dataframe thead th {\n",
              "        text-align: right;\n",
              "    }\n",
              "</style>\n",
              "<table border=\"1\" class=\"dataframe\">\n",
              "  <thead>\n",
              "    <tr style=\"text-align: right;\">\n",
              "      <th></th>\n",
              "      <th>phi</th>\n",
              "      <th>perm</th>\n",
              "      <th>lith</th>\n",
              "    </tr>\n",
              "  </thead>\n",
              "  <tbody>\n",
              "    <tr>\n",
              "      <th>0</th>\n",
              "      <td>0.20</td>\n",
              "      <td>100</td>\n",
              "      <td>sst</td>\n",
              "    </tr>\n",
              "    <tr>\n",
              "      <th>1</th>\n",
              "      <td>0.40</td>\n",
              "      <td>20</td>\n",
              "      <td>shale</td>\n",
              "    </tr>\n",
              "    <tr>\n",
              "      <th>2</th>\n",
              "      <td>0.30</td>\n",
              "      <td>150</td>\n",
              "      <td>sst</td>\n",
              "    </tr>\n",
              "    <tr>\n",
              "      <th>3</th>\n",
              "      <td>0.25</td>\n",
              "      <td>130</td>\n",
              "      <td>sst</td>\n",
              "    </tr>\n",
              "    <tr>\n",
              "      <th>4</th>\n",
              "      <td>0.27</td>\n",
              "      <td>145</td>\n",
              "      <td>sst</td>\n",
              "    </tr>\n",
              "  </tbody>\n",
              "</table>\n",
              "</div>"
            ],
            "text/plain": [
              "    phi  perm   lith\n",
              "0  0.20   100    sst\n",
              "1  0.40    20  shale\n",
              "2  0.30   150    sst\n",
              "3  0.25   130    sst\n",
              "4  0.27   145    sst"
            ]
          },
          "metadata": {
            "tags": []
          },
          "execution_count": 31
        }
      ]
    },
    {
      "cell_type": "markdown",
      "metadata": {
        "id": "WAgrP7lBAEoQ",
        "colab_type": "text"
      },
      "source": [
        "#Accessing Rows\n",
        "\n",
        "df.iloc[::] ..i loc means index wise locating rows. \n",
        "\n",
        "df.loc[r1:r2 , c1:c2] .. loc (starts with l) means label wise. PREFERABLE."
      ]
    },
    {
      "cell_type": "code",
      "metadata": {
        "id": "xxCetItF0Iha",
        "colab_type": "code",
        "colab": {
          "base_uri": "https://localhost:8080/",
          "height": 136
        },
        "outputId": "b7fc4d69-cbeb-4f38-b723-2dcda89c23cb"
      },
      "source": [
        "rock_table.loc[0:2,'phi':'perm']"
      ],
      "execution_count": null,
      "outputs": [
        {
          "output_type": "execute_result",
          "data": {
            "text/html": [
              "<div>\n",
              "<style scoped>\n",
              "    .dataframe tbody tr th:only-of-type {\n",
              "        vertical-align: middle;\n",
              "    }\n",
              "\n",
              "    .dataframe tbody tr th {\n",
              "        vertical-align: top;\n",
              "    }\n",
              "\n",
              "    .dataframe thead th {\n",
              "        text-align: right;\n",
              "    }\n",
              "</style>\n",
              "<table border=\"1\" class=\"dataframe\">\n",
              "  <thead>\n",
              "    <tr style=\"text-align: right;\">\n",
              "      <th></th>\n",
              "      <th>phi</th>\n",
              "      <th>perm</th>\n",
              "    </tr>\n",
              "  </thead>\n",
              "  <tbody>\n",
              "    <tr>\n",
              "      <th>0</th>\n",
              "      <td>0.2</td>\n",
              "      <td>100</td>\n",
              "    </tr>\n",
              "    <tr>\n",
              "      <th>1</th>\n",
              "      <td>0.4</td>\n",
              "      <td>20</td>\n",
              "    </tr>\n",
              "    <tr>\n",
              "      <th>2</th>\n",
              "      <td>0.3</td>\n",
              "      <td>150</td>\n",
              "    </tr>\n",
              "  </tbody>\n",
              "</table>\n",
              "</div>"
            ],
            "text/plain": [
              "   phi  perm\n",
              "0  0.2   100\n",
              "1  0.4    20\n",
              "2  0.3   150"
            ]
          },
          "metadata": {
            "tags": []
          },
          "execution_count": 35
        }
      ]
    },
    {
      "cell_type": "code",
      "metadata": {
        "id": "-I60cOvTBhjp",
        "colab_type": "code",
        "colab": {}
      },
      "source": [
        "import pandas as pd\n",
        "df_temp = pd.read_csv('/content/sample_data/california_housing_train.csv')"
      ],
      "execution_count": null,
      "outputs": []
    },
    {
      "cell_type": "code",
      "metadata": {
        "id": "5dVKQyTCBHDm",
        "colab_type": "code",
        "colab": {
          "base_uri": "https://localhost:8080/",
          "height": 138
        },
        "outputId": "936fb3e4-ee75-4392-f456-7019b230b474"
      },
      "source": [
        "df_temp.head(n=3)"
      ],
      "execution_count": null,
      "outputs": [
        {
          "output_type": "execute_result",
          "data": {
            "text/html": [
              "<div>\n",
              "<style scoped>\n",
              "    .dataframe tbody tr th:only-of-type {\n",
              "        vertical-align: middle;\n",
              "    }\n",
              "\n",
              "    .dataframe tbody tr th {\n",
              "        vertical-align: top;\n",
              "    }\n",
              "\n",
              "    .dataframe thead th {\n",
              "        text-align: right;\n",
              "    }\n",
              "</style>\n",
              "<table border=\"1\" class=\"dataframe\">\n",
              "  <thead>\n",
              "    <tr style=\"text-align: right;\">\n",
              "      <th></th>\n",
              "      <th>longitude</th>\n",
              "      <th>latitude</th>\n",
              "      <th>housing_median_age</th>\n",
              "      <th>total_rooms</th>\n",
              "      <th>total_bedrooms</th>\n",
              "      <th>population</th>\n",
              "      <th>households</th>\n",
              "      <th>median_income</th>\n",
              "      <th>median_house_value</th>\n",
              "    </tr>\n",
              "  </thead>\n",
              "  <tbody>\n",
              "    <tr>\n",
              "      <th>0</th>\n",
              "      <td>-114.31</td>\n",
              "      <td>34.19</td>\n",
              "      <td>15.0</td>\n",
              "      <td>5612.0</td>\n",
              "      <td>1283.0</td>\n",
              "      <td>1015.0</td>\n",
              "      <td>472.0</td>\n",
              "      <td>1.4936</td>\n",
              "      <td>66900.0</td>\n",
              "    </tr>\n",
              "    <tr>\n",
              "      <th>1</th>\n",
              "      <td>-114.47</td>\n",
              "      <td>34.40</td>\n",
              "      <td>19.0</td>\n",
              "      <td>7650.0</td>\n",
              "      <td>1901.0</td>\n",
              "      <td>1129.0</td>\n",
              "      <td>463.0</td>\n",
              "      <td>1.8200</td>\n",
              "      <td>80100.0</td>\n",
              "    </tr>\n",
              "    <tr>\n",
              "      <th>2</th>\n",
              "      <td>-114.56</td>\n",
              "      <td>33.69</td>\n",
              "      <td>17.0</td>\n",
              "      <td>720.0</td>\n",
              "      <td>174.0</td>\n",
              "      <td>333.0</td>\n",
              "      <td>117.0</td>\n",
              "      <td>1.6509</td>\n",
              "      <td>85700.0</td>\n",
              "    </tr>\n",
              "  </tbody>\n",
              "</table>\n",
              "</div>"
            ],
            "text/plain": [
              "   longitude  latitude  ...  median_income  median_house_value\n",
              "0    -114.31     34.19  ...         1.4936             66900.0\n",
              "1    -114.47     34.40  ...         1.8200             80100.0\n",
              "2    -114.56     33.69  ...         1.6509             85700.0\n",
              "\n",
              "[3 rows x 9 columns]"
            ]
          },
          "metadata": {
            "tags": []
          },
          "execution_count": 6
        }
      ]
    },
    {
      "cell_type": "code",
      "metadata": {
        "id": "R-d6LoA5CATE",
        "colab_type": "code",
        "colab": {
          "base_uri": "https://localhost:8080/",
          "height": 228
        },
        "outputId": "c30457f1-6d09-43e3-b2b9-2c86e9367b23"
      },
      "source": [
        "#Question 1: Try to Access 5-->10 row. and All columns.\n",
        "\n",
        "df_temp.loc[5:10,:] #Note that Both 5 and 10 are included. "
      ],
      "execution_count": null,
      "outputs": [
        {
          "output_type": "execute_result",
          "data": {
            "text/html": [
              "<div>\n",
              "<style scoped>\n",
              "    .dataframe tbody tr th:only-of-type {\n",
              "        vertical-align: middle;\n",
              "    }\n",
              "\n",
              "    .dataframe tbody tr th {\n",
              "        vertical-align: top;\n",
              "    }\n",
              "\n",
              "    .dataframe thead th {\n",
              "        text-align: right;\n",
              "    }\n",
              "</style>\n",
              "<table border=\"1\" class=\"dataframe\">\n",
              "  <thead>\n",
              "    <tr style=\"text-align: right;\">\n",
              "      <th></th>\n",
              "      <th>longitude</th>\n",
              "      <th>latitude</th>\n",
              "      <th>housing_median_age</th>\n",
              "      <th>total_rooms</th>\n",
              "      <th>total_bedrooms</th>\n",
              "      <th>population</th>\n",
              "      <th>households</th>\n",
              "      <th>median_income</th>\n",
              "      <th>median_house_value</th>\n",
              "    </tr>\n",
              "  </thead>\n",
              "  <tbody>\n",
              "    <tr>\n",
              "      <th>5</th>\n",
              "      <td>-114.58</td>\n",
              "      <td>33.63</td>\n",
              "      <td>29.0</td>\n",
              "      <td>1387.0</td>\n",
              "      <td>236.0</td>\n",
              "      <td>671.0</td>\n",
              "      <td>239.0</td>\n",
              "      <td>3.3438</td>\n",
              "      <td>74000.0</td>\n",
              "    </tr>\n",
              "    <tr>\n",
              "      <th>6</th>\n",
              "      <td>-114.58</td>\n",
              "      <td>33.61</td>\n",
              "      <td>25.0</td>\n",
              "      <td>2907.0</td>\n",
              "      <td>680.0</td>\n",
              "      <td>1841.0</td>\n",
              "      <td>633.0</td>\n",
              "      <td>2.6768</td>\n",
              "      <td>82400.0</td>\n",
              "    </tr>\n",
              "    <tr>\n",
              "      <th>7</th>\n",
              "      <td>-114.59</td>\n",
              "      <td>34.83</td>\n",
              "      <td>41.0</td>\n",
              "      <td>812.0</td>\n",
              "      <td>168.0</td>\n",
              "      <td>375.0</td>\n",
              "      <td>158.0</td>\n",
              "      <td>1.7083</td>\n",
              "      <td>48500.0</td>\n",
              "    </tr>\n",
              "    <tr>\n",
              "      <th>8</th>\n",
              "      <td>-114.59</td>\n",
              "      <td>33.61</td>\n",
              "      <td>34.0</td>\n",
              "      <td>4789.0</td>\n",
              "      <td>1175.0</td>\n",
              "      <td>3134.0</td>\n",
              "      <td>1056.0</td>\n",
              "      <td>2.1782</td>\n",
              "      <td>58400.0</td>\n",
              "    </tr>\n",
              "    <tr>\n",
              "      <th>9</th>\n",
              "      <td>-114.60</td>\n",
              "      <td>34.83</td>\n",
              "      <td>46.0</td>\n",
              "      <td>1497.0</td>\n",
              "      <td>309.0</td>\n",
              "      <td>787.0</td>\n",
              "      <td>271.0</td>\n",
              "      <td>2.1908</td>\n",
              "      <td>48100.0</td>\n",
              "    </tr>\n",
              "    <tr>\n",
              "      <th>10</th>\n",
              "      <td>-114.60</td>\n",
              "      <td>33.62</td>\n",
              "      <td>16.0</td>\n",
              "      <td>3741.0</td>\n",
              "      <td>801.0</td>\n",
              "      <td>2434.0</td>\n",
              "      <td>824.0</td>\n",
              "      <td>2.6797</td>\n",
              "      <td>86500.0</td>\n",
              "    </tr>\n",
              "  </tbody>\n",
              "</table>\n",
              "</div>"
            ],
            "text/plain": [
              "    longitude  latitude  ...  median_income  median_house_value\n",
              "5     -114.58     33.63  ...         3.3438             74000.0\n",
              "6     -114.58     33.61  ...         2.6768             82400.0\n",
              "7     -114.59     34.83  ...         1.7083             48500.0\n",
              "8     -114.59     33.61  ...         2.1782             58400.0\n",
              "9     -114.60     34.83  ...         2.1908             48100.0\n",
              "10    -114.60     33.62  ...         2.6797             86500.0\n",
              "\n",
              "[6 rows x 9 columns]"
            ]
          },
          "metadata": {
            "tags": []
          },
          "execution_count": 8
        }
      ]
    },
    {
      "cell_type": "code",
      "metadata": {
        "id": "LW7jJhRzCfZ7",
        "colab_type": "code",
        "colab": {
          "base_uri": "https://localhost:8080/",
          "height": 358
        },
        "outputId": "49932859-bd73-4ce0-81aa-ab1fc457621a"
      },
      "source": [
        "#Question 2: Try to access 20th to 30th row and first five columns. \n",
        "\n",
        "df_temp.loc[20:30,:5] #This will throw an error since you cannot use column indices with loc."
      ],
      "execution_count": null,
      "outputs": [
        {
          "output_type": "error",
          "ename": "TypeError",
          "evalue": "ignored",
          "traceback": [
            "\u001b[0;31m---------------------------------------------------------------------------\u001b[0m",
            "\u001b[0;31mTypeError\u001b[0m                                 Traceback (most recent call last)",
            "\u001b[0;32m<ipython-input-12-f1f89d7dc81a>\u001b[0m in \u001b[0;36m<module>\u001b[0;34m()\u001b[0m\n\u001b[1;32m      1\u001b[0m \u001b[0;31m#Question 2: Try to access 20th to 30th row and first five columns.\u001b[0m\u001b[0;34m\u001b[0m\u001b[0;34m\u001b[0m\u001b[0;34m\u001b[0m\u001b[0m\n\u001b[1;32m      2\u001b[0m \u001b[0;34m\u001b[0m\u001b[0m\n\u001b[0;32m----> 3\u001b[0;31m \u001b[0mdf_temp\u001b[0m\u001b[0;34m.\u001b[0m\u001b[0mloc\u001b[0m\u001b[0;34m[\u001b[0m\u001b[0;36m20\u001b[0m\u001b[0;34m:\u001b[0m\u001b[0;36m30\u001b[0m\u001b[0;34m,\u001b[0m\u001b[0;34m:\u001b[0m\u001b[0;36m5\u001b[0m\u001b[0;34m]\u001b[0m\u001b[0;34m\u001b[0m\u001b[0;34m\u001b[0m\u001b[0m\n\u001b[0m",
            "\u001b[0;32m/usr/local/lib/python3.6/dist-packages/pandas/core/indexing.py\u001b[0m in \u001b[0;36m__getitem__\u001b[0;34m(self, key)\u001b[0m\n\u001b[1;32m   1760\u001b[0m                 \u001b[0;32mexcept\u001b[0m \u001b[0;34m(\u001b[0m\u001b[0mKeyError\u001b[0m\u001b[0;34m,\u001b[0m \u001b[0mIndexError\u001b[0m\u001b[0;34m,\u001b[0m \u001b[0mAttributeError\u001b[0m\u001b[0;34m)\u001b[0m\u001b[0;34m:\u001b[0m\u001b[0;34m\u001b[0m\u001b[0;34m\u001b[0m\u001b[0m\n\u001b[1;32m   1761\u001b[0m                     \u001b[0;32mpass\u001b[0m\u001b[0;34m\u001b[0m\u001b[0;34m\u001b[0m\u001b[0m\n\u001b[0;32m-> 1762\u001b[0;31m             \u001b[0;32mreturn\u001b[0m \u001b[0mself\u001b[0m\u001b[0;34m.\u001b[0m\u001b[0m_getitem_tuple\u001b[0m\u001b[0;34m(\u001b[0m\u001b[0mkey\u001b[0m\u001b[0;34m)\u001b[0m\u001b[0;34m\u001b[0m\u001b[0;34m\u001b[0m\u001b[0m\n\u001b[0m\u001b[1;32m   1763\u001b[0m         \u001b[0;32melse\u001b[0m\u001b[0;34m:\u001b[0m\u001b[0;34m\u001b[0m\u001b[0;34m\u001b[0m\u001b[0m\n\u001b[1;32m   1764\u001b[0m             \u001b[0;31m# we by definition only have the 0th axis\u001b[0m\u001b[0;34m\u001b[0m\u001b[0;34m\u001b[0m\u001b[0;34m\u001b[0m\u001b[0m\n",
            "\u001b[0;32m/usr/local/lib/python3.6/dist-packages/pandas/core/indexing.py\u001b[0m in \u001b[0;36m_getitem_tuple\u001b[0;34m(self, tup)\u001b[0m\n\u001b[1;32m   1287\u001b[0m                 \u001b[0;32mcontinue\u001b[0m\u001b[0;34m\u001b[0m\u001b[0;34m\u001b[0m\u001b[0m\n\u001b[1;32m   1288\u001b[0m \u001b[0;34m\u001b[0m\u001b[0m\n\u001b[0;32m-> 1289\u001b[0;31m             \u001b[0mretval\u001b[0m \u001b[0;34m=\u001b[0m \u001b[0mgetattr\u001b[0m\u001b[0;34m(\u001b[0m\u001b[0mretval\u001b[0m\u001b[0;34m,\u001b[0m \u001b[0mself\u001b[0m\u001b[0;34m.\u001b[0m\u001b[0mname\u001b[0m\u001b[0;34m)\u001b[0m\u001b[0;34m.\u001b[0m\u001b[0m_getitem_axis\u001b[0m\u001b[0;34m(\u001b[0m\u001b[0mkey\u001b[0m\u001b[0;34m,\u001b[0m \u001b[0maxis\u001b[0m\u001b[0;34m=\u001b[0m\u001b[0mi\u001b[0m\u001b[0;34m)\u001b[0m\u001b[0;34m\u001b[0m\u001b[0;34m\u001b[0m\u001b[0m\n\u001b[0m\u001b[1;32m   1290\u001b[0m \u001b[0;34m\u001b[0m\u001b[0m\n\u001b[1;32m   1291\u001b[0m         \u001b[0;32mreturn\u001b[0m \u001b[0mretval\u001b[0m\u001b[0;34m\u001b[0m\u001b[0;34m\u001b[0m\u001b[0m\n",
            "\u001b[0;32m/usr/local/lib/python3.6/dist-packages/pandas/core/indexing.py\u001b[0m in \u001b[0;36m_getitem_axis\u001b[0;34m(self, key, axis)\u001b[0m\n\u001b[1;32m   1910\u001b[0m         \u001b[0;32mif\u001b[0m \u001b[0misinstance\u001b[0m\u001b[0;34m(\u001b[0m\u001b[0mkey\u001b[0m\u001b[0;34m,\u001b[0m \u001b[0mslice\u001b[0m\u001b[0;34m)\u001b[0m\u001b[0;34m:\u001b[0m\u001b[0;34m\u001b[0m\u001b[0;34m\u001b[0m\u001b[0m\n\u001b[1;32m   1911\u001b[0m             \u001b[0mself\u001b[0m\u001b[0;34m.\u001b[0m\u001b[0m_validate_key\u001b[0m\u001b[0;34m(\u001b[0m\u001b[0mkey\u001b[0m\u001b[0;34m,\u001b[0m \u001b[0maxis\u001b[0m\u001b[0;34m)\u001b[0m\u001b[0;34m\u001b[0m\u001b[0;34m\u001b[0m\u001b[0m\n\u001b[0;32m-> 1912\u001b[0;31m             \u001b[0;32mreturn\u001b[0m \u001b[0mself\u001b[0m\u001b[0;34m.\u001b[0m\u001b[0m_get_slice_axis\u001b[0m\u001b[0;34m(\u001b[0m\u001b[0mkey\u001b[0m\u001b[0;34m,\u001b[0m \u001b[0maxis\u001b[0m\u001b[0;34m=\u001b[0m\u001b[0maxis\u001b[0m\u001b[0;34m)\u001b[0m\u001b[0;34m\u001b[0m\u001b[0;34m\u001b[0m\u001b[0m\n\u001b[0m\u001b[1;32m   1913\u001b[0m         \u001b[0;32melif\u001b[0m \u001b[0mcom\u001b[0m\u001b[0;34m.\u001b[0m\u001b[0mis_bool_indexer\u001b[0m\u001b[0;34m(\u001b[0m\u001b[0mkey\u001b[0m\u001b[0;34m)\u001b[0m\u001b[0;34m:\u001b[0m\u001b[0;34m\u001b[0m\u001b[0;34m\u001b[0m\u001b[0m\n\u001b[1;32m   1914\u001b[0m             \u001b[0;32mreturn\u001b[0m \u001b[0mself\u001b[0m\u001b[0;34m.\u001b[0m\u001b[0m_getbool_axis\u001b[0m\u001b[0;34m(\u001b[0m\u001b[0mkey\u001b[0m\u001b[0;34m,\u001b[0m \u001b[0maxis\u001b[0m\u001b[0;34m=\u001b[0m\u001b[0maxis\u001b[0m\u001b[0;34m)\u001b[0m\u001b[0;34m\u001b[0m\u001b[0;34m\u001b[0m\u001b[0m\n",
            "\u001b[0;32m/usr/local/lib/python3.6/dist-packages/pandas/core/indexing.py\u001b[0m in \u001b[0;36m_get_slice_axis\u001b[0;34m(self, slice_obj, axis)\u001b[0m\n\u001b[1;32m   1795\u001b[0m         \u001b[0mlabels\u001b[0m \u001b[0;34m=\u001b[0m \u001b[0mobj\u001b[0m\u001b[0;34m.\u001b[0m\u001b[0m_get_axis\u001b[0m\u001b[0;34m(\u001b[0m\u001b[0maxis\u001b[0m\u001b[0;34m)\u001b[0m\u001b[0;34m\u001b[0m\u001b[0;34m\u001b[0m\u001b[0m\n\u001b[1;32m   1796\u001b[0m         indexer = labels.slice_indexer(\n\u001b[0;32m-> 1797\u001b[0;31m             \u001b[0mslice_obj\u001b[0m\u001b[0;34m.\u001b[0m\u001b[0mstart\u001b[0m\u001b[0;34m,\u001b[0m \u001b[0mslice_obj\u001b[0m\u001b[0;34m.\u001b[0m\u001b[0mstop\u001b[0m\u001b[0;34m,\u001b[0m \u001b[0mslice_obj\u001b[0m\u001b[0;34m.\u001b[0m\u001b[0mstep\u001b[0m\u001b[0;34m,\u001b[0m \u001b[0mkind\u001b[0m\u001b[0;34m=\u001b[0m\u001b[0mself\u001b[0m\u001b[0;34m.\u001b[0m\u001b[0mname\u001b[0m\u001b[0;34m\u001b[0m\u001b[0;34m\u001b[0m\u001b[0m\n\u001b[0m\u001b[1;32m   1798\u001b[0m         )\n\u001b[1;32m   1799\u001b[0m \u001b[0;34m\u001b[0m\u001b[0m\n",
            "\u001b[0;32m/usr/local/lib/python3.6/dist-packages/pandas/core/indexes/base.py\u001b[0m in \u001b[0;36mslice_indexer\u001b[0;34m(self, start, end, step, kind)\u001b[0m\n\u001b[1;32m   4711\u001b[0m         \u001b[0mslice\u001b[0m\u001b[0;34m(\u001b[0m\u001b[0;36m1\u001b[0m\u001b[0;34m,\u001b[0m \u001b[0;36m3\u001b[0m\u001b[0;34m)\u001b[0m\u001b[0;34m\u001b[0m\u001b[0;34m\u001b[0m\u001b[0m\n\u001b[1;32m   4712\u001b[0m         \"\"\"\n\u001b[0;32m-> 4713\u001b[0;31m         \u001b[0mstart_slice\u001b[0m\u001b[0;34m,\u001b[0m \u001b[0mend_slice\u001b[0m \u001b[0;34m=\u001b[0m \u001b[0mself\u001b[0m\u001b[0;34m.\u001b[0m\u001b[0mslice_locs\u001b[0m\u001b[0;34m(\u001b[0m\u001b[0mstart\u001b[0m\u001b[0;34m,\u001b[0m \u001b[0mend\u001b[0m\u001b[0;34m,\u001b[0m \u001b[0mstep\u001b[0m\u001b[0;34m=\u001b[0m\u001b[0mstep\u001b[0m\u001b[0;34m,\u001b[0m \u001b[0mkind\u001b[0m\u001b[0;34m=\u001b[0m\u001b[0mkind\u001b[0m\u001b[0;34m)\u001b[0m\u001b[0;34m\u001b[0m\u001b[0;34m\u001b[0m\u001b[0m\n\u001b[0m\u001b[1;32m   4714\u001b[0m \u001b[0;34m\u001b[0m\u001b[0m\n\u001b[1;32m   4715\u001b[0m         \u001b[0;31m# return a slice\u001b[0m\u001b[0;34m\u001b[0m\u001b[0;34m\u001b[0m\u001b[0;34m\u001b[0m\u001b[0m\n",
            "\u001b[0;32m/usr/local/lib/python3.6/dist-packages/pandas/core/indexes/base.py\u001b[0m in \u001b[0;36mslice_locs\u001b[0;34m(self, start, end, step, kind)\u001b[0m\n\u001b[1;32m   4930\u001b[0m         \u001b[0mend_slice\u001b[0m \u001b[0;34m=\u001b[0m \u001b[0;32mNone\u001b[0m\u001b[0;34m\u001b[0m\u001b[0;34m\u001b[0m\u001b[0m\n\u001b[1;32m   4931\u001b[0m         \u001b[0;32mif\u001b[0m \u001b[0mend\u001b[0m \u001b[0;32mis\u001b[0m \u001b[0;32mnot\u001b[0m \u001b[0;32mNone\u001b[0m\u001b[0;34m:\u001b[0m\u001b[0;34m\u001b[0m\u001b[0;34m\u001b[0m\u001b[0m\n\u001b[0;32m-> 4932\u001b[0;31m             \u001b[0mend_slice\u001b[0m \u001b[0;34m=\u001b[0m \u001b[0mself\u001b[0m\u001b[0;34m.\u001b[0m\u001b[0mget_slice_bound\u001b[0m\u001b[0;34m(\u001b[0m\u001b[0mend\u001b[0m\u001b[0;34m,\u001b[0m \u001b[0;34m\"right\"\u001b[0m\u001b[0;34m,\u001b[0m \u001b[0mkind\u001b[0m\u001b[0;34m)\u001b[0m\u001b[0;34m\u001b[0m\u001b[0;34m\u001b[0m\u001b[0m\n\u001b[0m\u001b[1;32m   4933\u001b[0m         \u001b[0;32mif\u001b[0m \u001b[0mend_slice\u001b[0m \u001b[0;32mis\u001b[0m \u001b[0;32mNone\u001b[0m\u001b[0;34m:\u001b[0m\u001b[0;34m\u001b[0m\u001b[0;34m\u001b[0m\u001b[0m\n\u001b[1;32m   4934\u001b[0m             \u001b[0mend_slice\u001b[0m \u001b[0;34m=\u001b[0m \u001b[0mlen\u001b[0m\u001b[0;34m(\u001b[0m\u001b[0mself\u001b[0m\u001b[0;34m)\u001b[0m\u001b[0;34m\u001b[0m\u001b[0;34m\u001b[0m\u001b[0m\n",
            "\u001b[0;32m/usr/local/lib/python3.6/dist-packages/pandas/core/indexes/base.py\u001b[0m in \u001b[0;36mget_slice_bound\u001b[0;34m(self, label, side, kind)\u001b[0m\n\u001b[1;32m   4836\u001b[0m         \u001b[0;31m# For datetime indices label may be a string that has to be converted\u001b[0m\u001b[0;34m\u001b[0m\u001b[0;34m\u001b[0m\u001b[0;34m\u001b[0m\u001b[0m\n\u001b[1;32m   4837\u001b[0m         \u001b[0;31m# to datetime boundary according to its resolution.\u001b[0m\u001b[0;34m\u001b[0m\u001b[0;34m\u001b[0m\u001b[0;34m\u001b[0m\u001b[0m\n\u001b[0;32m-> 4838\u001b[0;31m         \u001b[0mlabel\u001b[0m \u001b[0;34m=\u001b[0m \u001b[0mself\u001b[0m\u001b[0;34m.\u001b[0m\u001b[0m_maybe_cast_slice_bound\u001b[0m\u001b[0;34m(\u001b[0m\u001b[0mlabel\u001b[0m\u001b[0;34m,\u001b[0m \u001b[0mside\u001b[0m\u001b[0;34m,\u001b[0m \u001b[0mkind\u001b[0m\u001b[0;34m)\u001b[0m\u001b[0;34m\u001b[0m\u001b[0;34m\u001b[0m\u001b[0m\n\u001b[0m\u001b[1;32m   4839\u001b[0m \u001b[0;34m\u001b[0m\u001b[0m\n\u001b[1;32m   4840\u001b[0m         \u001b[0;31m# we need to look up the label\u001b[0m\u001b[0;34m\u001b[0m\u001b[0;34m\u001b[0m\u001b[0;34m\u001b[0m\u001b[0m\n",
            "\u001b[0;32m/usr/local/lib/python3.6/dist-packages/pandas/core/indexes/base.py\u001b[0m in \u001b[0;36m_maybe_cast_slice_bound\u001b[0;34m(self, label, side, kind)\u001b[0m\n\u001b[1;32m   4788\u001b[0m         \u001b[0;31m# this is rejected (generally .loc gets you here)\u001b[0m\u001b[0;34m\u001b[0m\u001b[0;34m\u001b[0m\u001b[0;34m\u001b[0m\u001b[0m\n\u001b[1;32m   4789\u001b[0m         \u001b[0;32melif\u001b[0m \u001b[0mis_integer\u001b[0m\u001b[0;34m(\u001b[0m\u001b[0mlabel\u001b[0m\u001b[0;34m)\u001b[0m\u001b[0;34m:\u001b[0m\u001b[0;34m\u001b[0m\u001b[0;34m\u001b[0m\u001b[0m\n\u001b[0;32m-> 4790\u001b[0;31m             \u001b[0mself\u001b[0m\u001b[0;34m.\u001b[0m\u001b[0m_invalid_indexer\u001b[0m\u001b[0;34m(\u001b[0m\u001b[0;34m\"slice\"\u001b[0m\u001b[0;34m,\u001b[0m \u001b[0mlabel\u001b[0m\u001b[0;34m)\u001b[0m\u001b[0;34m\u001b[0m\u001b[0;34m\u001b[0m\u001b[0m\n\u001b[0m\u001b[1;32m   4791\u001b[0m \u001b[0;34m\u001b[0m\u001b[0m\n\u001b[1;32m   4792\u001b[0m         \u001b[0;32mreturn\u001b[0m \u001b[0mlabel\u001b[0m\u001b[0;34m\u001b[0m\u001b[0;34m\u001b[0m\u001b[0m\n",
            "\u001b[0;32m/usr/local/lib/python3.6/dist-packages/pandas/core/indexes/base.py\u001b[0m in \u001b[0;36m_invalid_indexer\u001b[0;34m(self, form, key)\u001b[0m\n\u001b[1;32m   3075\u001b[0m         \"\"\"\n\u001b[1;32m   3076\u001b[0m         raise TypeError(\n\u001b[0;32m-> 3077\u001b[0;31m             \u001b[0;34mf\"cannot do {form} indexing on {type(self)} with these \"\u001b[0m\u001b[0;34m\u001b[0m\u001b[0;34m\u001b[0m\u001b[0m\n\u001b[0m\u001b[1;32m   3078\u001b[0m             \u001b[0;34mf\"indexers [{key}] of {type(key)}\"\u001b[0m\u001b[0;34m\u001b[0m\u001b[0;34m\u001b[0m\u001b[0m\n\u001b[1;32m   3079\u001b[0m         )\n",
            "\u001b[0;31mTypeError\u001b[0m: cannot do slice indexing on <class 'pandas.core.indexes.base.Index'> with these indexers [5] of <class 'int'>"
          ]
        }
      ]
    },
    {
      "cell_type": "code",
      "metadata": {
        "id": "U-pRZGkmDEHd",
        "colab_type": "code",
        "colab": {
          "base_uri": "https://localhost:8080/",
          "height": 348
        },
        "outputId": "05b4827f-b26a-437e-d063-f512d875aafe"
      },
      "source": [
        "df_temp.iloc[20:30,:5] #The same slicing as above works if we use iloc instead of loc. "
      ],
      "execution_count": null,
      "outputs": [
        {
          "output_type": "execute_result",
          "data": {
            "text/html": [
              "<div>\n",
              "<style scoped>\n",
              "    .dataframe tbody tr th:only-of-type {\n",
              "        vertical-align: middle;\n",
              "    }\n",
              "\n",
              "    .dataframe tbody tr th {\n",
              "        vertical-align: top;\n",
              "    }\n",
              "\n",
              "    .dataframe thead th {\n",
              "        text-align: right;\n",
              "    }\n",
              "</style>\n",
              "<table border=\"1\" class=\"dataframe\">\n",
              "  <thead>\n",
              "    <tr style=\"text-align: right;\">\n",
              "      <th></th>\n",
              "      <th>longitude</th>\n",
              "      <th>latitude</th>\n",
              "      <th>housing_median_age</th>\n",
              "      <th>total_rooms</th>\n",
              "      <th>total_bedrooms</th>\n",
              "    </tr>\n",
              "  </thead>\n",
              "  <tbody>\n",
              "    <tr>\n",
              "      <th>20</th>\n",
              "      <td>-114.68</td>\n",
              "      <td>33.49</td>\n",
              "      <td>20.0</td>\n",
              "      <td>1491.0</td>\n",
              "      <td>360.0</td>\n",
              "    </tr>\n",
              "    <tr>\n",
              "      <th>21</th>\n",
              "      <td>-114.73</td>\n",
              "      <td>33.43</td>\n",
              "      <td>24.0</td>\n",
              "      <td>796.0</td>\n",
              "      <td>243.0</td>\n",
              "    </tr>\n",
              "    <tr>\n",
              "      <th>22</th>\n",
              "      <td>-114.94</td>\n",
              "      <td>34.55</td>\n",
              "      <td>20.0</td>\n",
              "      <td>350.0</td>\n",
              "      <td>95.0</td>\n",
              "    </tr>\n",
              "    <tr>\n",
              "      <th>23</th>\n",
              "      <td>-114.98</td>\n",
              "      <td>33.82</td>\n",
              "      <td>15.0</td>\n",
              "      <td>644.0</td>\n",
              "      <td>129.0</td>\n",
              "    </tr>\n",
              "    <tr>\n",
              "      <th>24</th>\n",
              "      <td>-115.22</td>\n",
              "      <td>33.54</td>\n",
              "      <td>18.0</td>\n",
              "      <td>1706.0</td>\n",
              "      <td>397.0</td>\n",
              "    </tr>\n",
              "    <tr>\n",
              "      <th>25</th>\n",
              "      <td>-115.32</td>\n",
              "      <td>32.82</td>\n",
              "      <td>34.0</td>\n",
              "      <td>591.0</td>\n",
              "      <td>139.0</td>\n",
              "    </tr>\n",
              "    <tr>\n",
              "      <th>26</th>\n",
              "      <td>-115.37</td>\n",
              "      <td>32.82</td>\n",
              "      <td>30.0</td>\n",
              "      <td>1602.0</td>\n",
              "      <td>322.0</td>\n",
              "    </tr>\n",
              "    <tr>\n",
              "      <th>27</th>\n",
              "      <td>-115.37</td>\n",
              "      <td>32.82</td>\n",
              "      <td>14.0</td>\n",
              "      <td>1276.0</td>\n",
              "      <td>270.0</td>\n",
              "    </tr>\n",
              "    <tr>\n",
              "      <th>28</th>\n",
              "      <td>-115.37</td>\n",
              "      <td>32.81</td>\n",
              "      <td>32.0</td>\n",
              "      <td>741.0</td>\n",
              "      <td>191.0</td>\n",
              "    </tr>\n",
              "    <tr>\n",
              "      <th>29</th>\n",
              "      <td>-115.37</td>\n",
              "      <td>32.81</td>\n",
              "      <td>23.0</td>\n",
              "      <td>1458.0</td>\n",
              "      <td>294.0</td>\n",
              "    </tr>\n",
              "  </tbody>\n",
              "</table>\n",
              "</div>"
            ],
            "text/plain": [
              "    longitude  latitude  housing_median_age  total_rooms  total_bedrooms\n",
              "20    -114.68     33.49                20.0       1491.0           360.0\n",
              "21    -114.73     33.43                24.0        796.0           243.0\n",
              "22    -114.94     34.55                20.0        350.0            95.0\n",
              "23    -114.98     33.82                15.0        644.0           129.0\n",
              "24    -115.22     33.54                18.0       1706.0           397.0\n",
              "25    -115.32     32.82                34.0        591.0           139.0\n",
              "26    -115.37     32.82                30.0       1602.0           322.0\n",
              "27    -115.37     32.82                14.0       1276.0           270.0\n",
              "28    -115.37     32.81                32.0        741.0           191.0\n",
              "29    -115.37     32.81                23.0       1458.0           294.0"
            ]
          },
          "metadata": {
            "tags": []
          },
          "execution_count": 13
        }
      ]
    },
    {
      "cell_type": "code",
      "metadata": {
        "id": "BGByO0KRDvdT",
        "colab_type": "code",
        "colab": {
          "base_uri": "https://localhost:8080/",
          "height": 378
        },
        "outputId": "a3dbebfc-6942-4672-e4e5-e6981de7fe7e"
      },
      "source": [
        "#The same thing can be done by using loc but with column names. \n",
        "\n",
        "df_temp.loc[20:30,'longitude':'total_bedrooms'] #The only difference is that loc includes it all. Both the start and stop."
      ],
      "execution_count": null,
      "outputs": [
        {
          "output_type": "execute_result",
          "data": {
            "text/html": [
              "<div>\n",
              "<style scoped>\n",
              "    .dataframe tbody tr th:only-of-type {\n",
              "        vertical-align: middle;\n",
              "    }\n",
              "\n",
              "    .dataframe tbody tr th {\n",
              "        vertical-align: top;\n",
              "    }\n",
              "\n",
              "    .dataframe thead th {\n",
              "        text-align: right;\n",
              "    }\n",
              "</style>\n",
              "<table border=\"1\" class=\"dataframe\">\n",
              "  <thead>\n",
              "    <tr style=\"text-align: right;\">\n",
              "      <th></th>\n",
              "      <th>longitude</th>\n",
              "      <th>latitude</th>\n",
              "      <th>housing_median_age</th>\n",
              "      <th>total_rooms</th>\n",
              "      <th>total_bedrooms</th>\n",
              "    </tr>\n",
              "  </thead>\n",
              "  <tbody>\n",
              "    <tr>\n",
              "      <th>20</th>\n",
              "      <td>-114.68</td>\n",
              "      <td>33.49</td>\n",
              "      <td>20.0</td>\n",
              "      <td>1491.0</td>\n",
              "      <td>360.0</td>\n",
              "    </tr>\n",
              "    <tr>\n",
              "      <th>21</th>\n",
              "      <td>-114.73</td>\n",
              "      <td>33.43</td>\n",
              "      <td>24.0</td>\n",
              "      <td>796.0</td>\n",
              "      <td>243.0</td>\n",
              "    </tr>\n",
              "    <tr>\n",
              "      <th>22</th>\n",
              "      <td>-114.94</td>\n",
              "      <td>34.55</td>\n",
              "      <td>20.0</td>\n",
              "      <td>350.0</td>\n",
              "      <td>95.0</td>\n",
              "    </tr>\n",
              "    <tr>\n",
              "      <th>23</th>\n",
              "      <td>-114.98</td>\n",
              "      <td>33.82</td>\n",
              "      <td>15.0</td>\n",
              "      <td>644.0</td>\n",
              "      <td>129.0</td>\n",
              "    </tr>\n",
              "    <tr>\n",
              "      <th>24</th>\n",
              "      <td>-115.22</td>\n",
              "      <td>33.54</td>\n",
              "      <td>18.0</td>\n",
              "      <td>1706.0</td>\n",
              "      <td>397.0</td>\n",
              "    </tr>\n",
              "    <tr>\n",
              "      <th>25</th>\n",
              "      <td>-115.32</td>\n",
              "      <td>32.82</td>\n",
              "      <td>34.0</td>\n",
              "      <td>591.0</td>\n",
              "      <td>139.0</td>\n",
              "    </tr>\n",
              "    <tr>\n",
              "      <th>26</th>\n",
              "      <td>-115.37</td>\n",
              "      <td>32.82</td>\n",
              "      <td>30.0</td>\n",
              "      <td>1602.0</td>\n",
              "      <td>322.0</td>\n",
              "    </tr>\n",
              "    <tr>\n",
              "      <th>27</th>\n",
              "      <td>-115.37</td>\n",
              "      <td>32.82</td>\n",
              "      <td>14.0</td>\n",
              "      <td>1276.0</td>\n",
              "      <td>270.0</td>\n",
              "    </tr>\n",
              "    <tr>\n",
              "      <th>28</th>\n",
              "      <td>-115.37</td>\n",
              "      <td>32.81</td>\n",
              "      <td>32.0</td>\n",
              "      <td>741.0</td>\n",
              "      <td>191.0</td>\n",
              "    </tr>\n",
              "    <tr>\n",
              "      <th>29</th>\n",
              "      <td>-115.37</td>\n",
              "      <td>32.81</td>\n",
              "      <td>23.0</td>\n",
              "      <td>1458.0</td>\n",
              "      <td>294.0</td>\n",
              "    </tr>\n",
              "    <tr>\n",
              "      <th>30</th>\n",
              "      <td>-115.38</td>\n",
              "      <td>32.82</td>\n",
              "      <td>38.0</td>\n",
              "      <td>1892.0</td>\n",
              "      <td>394.0</td>\n",
              "    </tr>\n",
              "  </tbody>\n",
              "</table>\n",
              "</div>"
            ],
            "text/plain": [
              "    longitude  latitude  housing_median_age  total_rooms  total_bedrooms\n",
              "20    -114.68     33.49                20.0       1491.0           360.0\n",
              "21    -114.73     33.43                24.0        796.0           243.0\n",
              "22    -114.94     34.55                20.0        350.0            95.0\n",
              "23    -114.98     33.82                15.0        644.0           129.0\n",
              "24    -115.22     33.54                18.0       1706.0           397.0\n",
              "25    -115.32     32.82                34.0        591.0           139.0\n",
              "26    -115.37     32.82                30.0       1602.0           322.0\n",
              "27    -115.37     32.82                14.0       1276.0           270.0\n",
              "28    -115.37     32.81                32.0        741.0           191.0\n",
              "29    -115.37     32.81                23.0       1458.0           294.0\n",
              "30    -115.38     32.82                38.0       1892.0           394.0"
            ]
          },
          "metadata": {
            "tags": []
          },
          "execution_count": 14
        }
      ]
    },
    {
      "cell_type": "markdown",
      "metadata": {
        "id": "MqlsFTq_QGhk",
        "colab_type": "text"
      },
      "source": [
        "Reference for more on data manipulations- \n",
        "\n",
        "https://www.geeksforgeeks.org/pandas-tutorial/"
      ]
    },
    {
      "cell_type": "markdown",
      "metadata": {
        "id": "bQUPpXwvY6vY",
        "colab_type": "text"
      },
      "source": [
        "My Practice Repository- \n",
        "\n",
        "https://github.com/Divyanshu-ISM/Oil-and-Gas-data-analysis/blob/master/GL_pandas_1.ipynb"
      ]
    },
    {
      "cell_type": "code",
      "metadata": {
        "id": "0h771E_2Eotu",
        "colab_type": "code",
        "colab": {}
      },
      "source": [
        "##########################################################################"
      ],
      "execution_count": null,
      "outputs": []
    },
    {
      "cell_type": "markdown",
      "metadata": {
        "id": "Lr_YV7PnP8VU",
        "colab_type": "text"
      },
      "source": [
        "#**Visualization**\n",
        "\n",
        "##Library - matplotlib.pyplot (alias = plt)\n",
        "\n",
        "1. Line-Plots. :-  plt.plot(x,y)\n",
        "2. Scatter-Plots. :- plt.scatter(x,y)"
      ]
    },
    {
      "cell_type": "markdown",
      "metadata": {
        "id": "YiHQCwMxRMg5",
        "colab_type": "text"
      },
      "source": [
        "Example 1:- Let's plot a parabola y = x^2."
      ]
    },
    {
      "cell_type": "code",
      "metadata": {
        "id": "m_8VQ97VP5-l",
        "colab_type": "code",
        "colab": {
          "base_uri": "https://localhost:8080/",
          "height": 282
        },
        "outputId": "86eff81d-9f84-4709-a707-8202d0d9b0a2"
      },
      "source": [
        "#Step 1: Import the library(s). \n",
        "import numpy as np\n",
        "import matplotlib.pyplot as plt\n",
        "%matplotlib inline\n",
        "\n",
        "#Step 2: create numpy arrays for x and y.\n",
        "x = np.linspace(-10,10)\n",
        "y = x**2\n",
        "\n",
        "#Step 3: Voila! Plot now. \n",
        "plt.plot(x,y)\n",
        "\n",
        "\n",
        "\n"
      ],
      "execution_count": null,
      "outputs": [
        {
          "output_type": "execute_result",
          "data": {
            "text/plain": [
              "[<matplotlib.lines.Line2D at 0x7f3a3764b630>]"
            ]
          },
          "metadata": {
            "tags": []
          },
          "execution_count": 36
        },
        {
          "output_type": "display_data",
          "data": {
            "image/png": "[encoded data removed]",
            "text/plain": [
              "<Figure size 432x288 with 1 Axes>"
            ]
          },
          "metadata": {
            "tags": [],
            "needs_background": "light"
          }
        }
      ]
    },
    {
      "cell_type": "markdown",
      "metadata": {
        "id": "Yq20YHxLRsCG",
        "colab_type": "text"
      },
      "source": [
        "Customizations to the above plot. \n",
        "##Plotting steps in short :- F  S  P  L  L  G\n",
        "\n",
        "1. F- Figure (figsize=(h,v))\n",
        "2. S- Style (use default)\n",
        "3. P- Plot (plt.plot(x,y,label=)\n",
        "4. L- Labels for axes. (xlabel,ylabel..) Also, Titles.\n",
        "5. L- Legend. (Optional)\n",
        "6. G - Grid (Optional)\n"
      ]
    },
    {
      "cell_type": "code",
      "metadata": {
        "id": "t7uh8YYuRoQF",
        "colab_type": "code",
        "colab": {
          "base_uri": "https://localhost:8080/",
          "height": 427
        },
        "outputId": "79c8bc99-cc16-4caa-d0e1-a30c916fb772"
      },
      "source": [
        "#0. Set the figure size.\n",
        "plt.style.use('default')\n",
        "plt.figure(figsize=(6,4))  #6X6 canvas.\n",
        "# plt.style.use('default')\n",
        "\n",
        "# 1. generate the plot. Add a label.\n",
        "plt.plot(x,y,label='It is a parabola')\n",
        "plt.plot(x,x,label='Y=X')\n",
        "plt.plot(x,x**3,label='Y=X^3')\n",
        "\n",
        "#2. Set x axis label\n",
        "plt.xlabel('This is X-Axis')\n",
        "\n",
        "#3. Set y axis label.\n",
        "plt.ylabel('This is Y-Axis')\n",
        "\n",
        "#4. Set the title.\n",
        "plt.title('TITLE here.')\n",
        "\n",
        "#5. set the grid. \n",
        "plt.grid()\n",
        "\n",
        "#6. display the label in a legend.\n",
        "plt.legend(loc='best')"
      ],
      "execution_count": null,
      "outputs": [
        {
          "output_type": "execute_result",
          "data": {
            "text/plain": [
              "<matplotlib.legend.Legend at 0x7f3a36c0fa20>"
            ]
          },
          "metadata": {
            "tags": []
          },
          "execution_count": 39
        },
        {
          "output_type": "display_data",
          "data": {
            "image/png": "[encoded data removed]",
            "text/plain": [
              "<Figure size 600x400 with 1 Axes>"
            ]
          },
          "metadata": {
            "tags": []
          }
        }
      ]
    },
    {
      "cell_type": "code",
      "metadata": {
        "id": "5Sb-FYxBSUvW",
        "colab_type": "code",
        "colab": {}
      },
      "source": [
        "########################################################################"
      ],
      "execution_count": null,
      "outputs": []
    },
    {
      "cell_type": "markdown",
      "metadata": {
        "id": "Igcr-_QbTgu6",
        "colab_type": "text"
      },
      "source": [
        "#Oil and Gas Examples."
      ]
    },
    {
      "cell_type": "markdown",
      "metadata": {
        "id": "kG8lQ9ZXTnql",
        "colab_type": "text"
      },
      "source": [
        "Example 1. draw relative permeability curves."
      ]
    },
    {
      "cell_type": "code",
      "metadata": {
        "id": "pKM0Oh78Tkoo",
        "colab_type": "code",
        "colab": {
          "base_uri": "https://localhost:8080/",
          "height": 452
        },
        "outputId": "0f686e0c-3891-4107-e2fa-4895b22a7466"
      },
      "source": [
        "sw = np.linspace(0.001,1)\n",
        "\n",
        "krw = sw**3\n",
        "\n",
        "kro = (1-sw)**3\n",
        "\n",
        "plt.plot(sw,krw)\n",
        "plt.plot(sw,kro)\n",
        "\n",
        "plt.title('This is Rel-Perm Curve')\n",
        "plt.grid()"
      ],
      "execution_count": null,
      "outputs": [
        {
          "output_type": "display_data",
          "data": {
            "image/png": "[encoded data removed]",
            "text/plain": [
              "<Figure size 640x480 with 1 Axes>"
            ]
          },
          "metadata": {
            "tags": []
          }
        }
      ]
    },
    {
      "cell_type": "code",
      "metadata": {
        "id": "6DnmZkDIT98L",
        "colab_type": "code",
        "colab": {}
      },
      "source": [
        ""
      ],
      "execution_count": null,
      "outputs": []
    },
    {
      "cell_type": "markdown",
      "metadata": {
        "id": "hvc8Cl4nUSdH",
        "colab_type": "text"
      },
      "source": [
        "Example 2. (Home Task? Yes or No)\n",
        "Plot Fractional flow curve. \n",
        "\n",
        "fw = 1/(1 + 1/M)\n",
        "M = (krw/mu_w)/(kro/mu_o)\n",
        "\n",
        "Assume mu_o = 1000 cp (heavy oil) mu_w = 1 cp"
      ]
    },
    {
      "cell_type": "code",
      "metadata": {
        "id": "kt9mf1_5Uo2m",
        "colab_type": "code",
        "colab": {
          "base_uri": "https://localhost:8080/",
          "height": 514
        },
        "outputId": "a8ea7ee9-0901-4dd7-e75f-24338a39360d"
      },
      "source": [
        "mu_o = 1000\n",
        "\n",
        "mu_w = 1\n",
        "\n",
        "M1 = (krw/mu_w)/(kro/mu_o)\n",
        "\n",
        "fw = 1/(1 + (1/M1))\n",
        "\n",
        "plt.plot(sw,fw,label = 'Thin water-Thick oil')\n",
        "\n",
        "M2 = (krw/100)/(kro/mu_o)\n",
        "\n",
        "fw2 = 1/(1+(1/M2))\n",
        "\n",
        "plt.plot(sw,fw2,label='Thick water-Thick oil')\n",
        "\n",
        "\n",
        "plt.legend(loc='best')"
      ],
      "execution_count": null,
      "outputs": [
        {
          "output_type": "stream",
          "text": [
            "/usr/local/lib/python3.6/dist-packages/ipykernel_launcher.py:5: RuntimeWarning: divide by zero encountered in true_divide\n",
            "  \"\"\"\n",
            "/usr/local/lib/python3.6/dist-packages/ipykernel_launcher.py:11: RuntimeWarning: divide by zero encountered in true_divide\n",
            "  # This is added back by InteractiveShellApp.init_path()\n"
          ],
          "name": "stderr"
        },
        {
          "output_type": "execute_result",
          "data": {
            "text/plain": [
              "<matplotlib.legend.Legend at 0x7f3a36a83da0>"
            ]
          },
          "metadata": {
            "tags": []
          },
          "execution_count": 42
        },
        {
          "output_type": "display_data",
          "data": {
            "image/png": "[encoded data removed]",
            "text/plain": [
              "<Figure size 640x480 with 1 Axes>"
            ]
          },
          "metadata": {
            "tags": []
          }
        }
      ]
    },
    {
      "cell_type": "code",
      "metadata": {
        "id": "S-wdzGqCU4Lz",
        "colab_type": "code",
        "colab": {}
      },
      "source": [
        "##########################################"
      ],
      "execution_count": null,
      "outputs": []
    },
    {
      "cell_type": "markdown",
      "metadata": {
        "id": "_nomPMNRHcio",
        "colab_type": "text"
      },
      "source": [
        "#Example 2- Nodal Analysis. "
      ]
    },
    {
      "cell_type": "code",
      "metadata": {
        "id": "-QV0E1_dHgoV",
        "colab_type": "code",
        "colab": {}
      },
      "source": [
        "import numpy as np\n",
        "import pandas as pd\n",
        "import matplotlib.pyplot as plt\n",
        "%matplotlib inline"
      ],
      "execution_count": null,
      "outputs": []
    },
    {
      "cell_type": "code",
      "metadata": {
        "id": "a7kcLkppH2ka",
        "colab_type": "code",
        "colab": {
          "base_uri": "https://localhost:8080/",
          "height": 314
        },
        "outputId": "c25253f0-81e7-4c0b-b31d-49ede654666a"
      },
      "source": [
        "#STEP 1: \n",
        "#First Let's Get the IPR dataset. (Source : PetroWiki)\n",
        "\n",
        "ipr = pd.DataFrame({'Pwf':[4000,3500,3000,2500,2000,1500,1000,500,14.7],\n",
        "                    'Q': [0,1999,3094,3902,4512,4963,5275,5458,5519]})\n",
        "\n",
        "ipr"
      ],
      "execution_count": null,
      "outputs": [
        {
          "output_type": "execute_result",
          "data": {
            "text/html": [
              "<div>\n",
              "<style scoped>\n",
              "    .dataframe tbody tr th:only-of-type {\n",
              "        vertical-align: middle;\n",
              "    }\n",
              "\n",
              "    .dataframe tbody tr th {\n",
              "        vertical-align: top;\n",
              "    }\n",
              "\n",
              "    .dataframe thead th {\n",
              "        text-align: right;\n",
              "    }\n",
              "</style>\n",
              "<table border=\"1\" class=\"dataframe\">\n",
              "  <thead>\n",
              "    <tr style=\"text-align: right;\">\n",
              "      <th></th>\n",
              "      <th>Pwf</th>\n",
              "      <th>Q</th>\n",
              "    </tr>\n",
              "  </thead>\n",
              "  <tbody>\n",
              "    <tr>\n",
              "      <th>0</th>\n",
              "      <td>4000.0</td>\n",
              "      <td>0</td>\n",
              "    </tr>\n",
              "    <tr>\n",
              "      <th>1</th>\n",
              "      <td>3500.0</td>\n",
              "      <td>1999</td>\n",
              "    </tr>\n",
              "    <tr>\n",
              "      <th>2</th>\n",
              "      <td>3000.0</td>\n",
              "      <td>3094</td>\n",
              "    </tr>\n",
              "    <tr>\n",
              "      <th>3</th>\n",
              "      <td>2500.0</td>\n",
              "      <td>3902</td>\n",
              "    </tr>\n",
              "    <tr>\n",
              "      <th>4</th>\n",
              "      <td>2000.0</td>\n",
              "      <td>4512</td>\n",
              "    </tr>\n",
              "    <tr>\n",
              "      <th>5</th>\n",
              "      <td>1500.0</td>\n",
              "      <td>4963</td>\n",
              "    </tr>\n",
              "    <tr>\n",
              "      <th>6</th>\n",
              "      <td>1000.0</td>\n",
              "      <td>5275</td>\n",
              "    </tr>\n",
              "    <tr>\n",
              "      <th>7</th>\n",
              "      <td>500.0</td>\n",
              "      <td>5458</td>\n",
              "    </tr>\n",
              "    <tr>\n",
              "      <th>8</th>\n",
              "      <td>14.7</td>\n",
              "      <td>5519</td>\n",
              "    </tr>\n",
              "  </tbody>\n",
              "</table>\n",
              "</div>"
            ],
            "text/plain": [
              "      Pwf     Q\n",
              "0  4000.0     0\n",
              "1  3500.0  1999\n",
              "2  3000.0  3094\n",
              "3  2500.0  3902\n",
              "4  2000.0  4512\n",
              "5  1500.0  4963\n",
              "6  1000.0  5275\n",
              "7   500.0  5458\n",
              "8    14.7  5519"
            ]
          },
          "metadata": {
            "tags": []
          },
          "execution_count": 4
        }
      ]
    },
    {
      "cell_type": "code",
      "metadata": {
        "id": "6xevz02fH8wE",
        "colab_type": "code",
        "colab": {
          "base_uri": "https://localhost:8080/",
          "height": 136
        },
        "outputId": "c6a1111f-9a14-4060-a554-14a43dcb9b5e"
      },
      "source": [
        "#STEP 2\n",
        "#Now TPR Data\n",
        "\n",
        "q = np.arange(1000,6500,500)\n",
        "\n",
        "p_190 = [1334,1400,1487,1592,1712,1843,1984,2132,2287,2446,2609]\n",
        "\n",
        "p_2375 = [1298,1320,1351,1390,1435,1487,1545,1609,1677,1749,1824]\n",
        "\n",
        "p_2875 = [1286,1294,1305,1319,1336,1356,1378,1403,1431,1461,1493]\n",
        "\n",
        "tpr = pd.DataFrame({'q':q, 'Pwf(1.90\" tbg)':p_190, 'Pwf(2.375\"tbg)': p_2375,'Pwf(2.875\"tbg)':p_2875})\n",
        "\n",
        "tpr.head(3)"
      ],
      "execution_count": null,
      "outputs": [
        {
          "output_type": "execute_result",
          "data": {
            "text/html": [
              "<div>\n",
              "<style scoped>\n",
              "    .dataframe tbody tr th:only-of-type {\n",
              "        vertical-align: middle;\n",
              "    }\n",
              "\n",
              "    .dataframe tbody tr th {\n",
              "        vertical-align: top;\n",
              "    }\n",
              "\n",
              "    .dataframe thead th {\n",
              "        text-align: right;\n",
              "    }\n",
              "</style>\n",
              "<table border=\"1\" class=\"dataframe\">\n",
              "  <thead>\n",
              "    <tr style=\"text-align: right;\">\n",
              "      <th></th>\n",
              "      <th>q</th>\n",
              "      <th>Pwf(1.90\" tbg)</th>\n",
              "      <th>Pwf(2.375\"tbg)</th>\n",
              "      <th>Pwf(2.875\"tbg)</th>\n",
              "    </tr>\n",
              "  </thead>\n",
              "  <tbody>\n",
              "    <tr>\n",
              "      <th>0</th>\n",
              "      <td>1000</td>\n",
              "      <td>1334</td>\n",
              "      <td>1298</td>\n",
              "      <td>1286</td>\n",
              "    </tr>\n",
              "    <tr>\n",
              "      <th>1</th>\n",
              "      <td>1500</td>\n",
              "      <td>1400</td>\n",
              "      <td>1320</td>\n",
              "      <td>1294</td>\n",
              "    </tr>\n",
              "    <tr>\n",
              "      <th>2</th>\n",
              "      <td>2000</td>\n",
              "      <td>1487</td>\n",
              "      <td>1351</td>\n",
              "      <td>1305</td>\n",
              "    </tr>\n",
              "  </tbody>\n",
              "</table>\n",
              "</div>"
            ],
            "text/plain": [
              "      q  Pwf(1.90\" tbg)  Pwf(2.375\"tbg)  Pwf(2.875\"tbg)\n",
              "0  1000            1334            1298            1286\n",
              "1  1500            1400            1320            1294\n",
              "2  2000            1487            1351            1305"
            ]
          },
          "metadata": {
            "tags": []
          },
          "execution_count": 5
        }
      ]
    },
    {
      "cell_type": "markdown",
      "metadata": {
        "id": "9MPcdG7WIRZ9",
        "colab_type": "text"
      },
      "source": [
        "##Plotting steps in short :- F  S  P  L  L  G\n",
        "\n",
        "1. F- Figure (figsize=(h,v))\n",
        "2. S- Style (use default)\n",
        "3. P- Plot (plt.plot(x,y,label=)\n",
        "4. L- Labels for axes. (xlabel,ylabel..) Also, Titles.\n",
        "5. L- Legend. (Optional)\n",
        "6. G - Grid (Optional)\n",
        "\n"
      ]
    },
    {
      "cell_type": "code",
      "metadata": {
        "id": "dQKFObHv4NcU",
        "colab_type": "code",
        "colab": {
          "base_uri": "https://localhost:8080/",
          "height": 50
        },
        "outputId": "3232acc1-fb90-4c18-d4df-ad158a27d627"
      },
      "source": [
        "l = [1,2,3]\n",
        "a = np.array(l)\n",
        "\n",
        "d = {'xyz':a}\n",
        "\n",
        "d1 = {'vv': l}\n",
        "\n",
        "print(d)\n",
        "print(d1)"
      ],
      "execution_count": null,
      "outputs": [
        {
          "output_type": "stream",
          "text": [
            "{'xyz': array([1, 2, 3])}\n",
            "{'vv': [1, 2, 3]}\n"
          ],
          "name": "stdout"
        }
      ]
    },
    {
      "cell_type": "code",
      "metadata": {
        "id": "35qQCdPgIHZ4",
        "colab_type": "code",
        "colab": {
          "base_uri": "https://localhost:8080/",
          "height": 427
        },
        "outputId": "fb9872cc-1196-48e7-9701-6267d9155c39"
      },
      "source": [
        "#STEP 3: PLOT\n",
        "#Let's Plot them now. \n",
        "plt.figure(figsize=(8,4))\n",
        "\n",
        "plt.style.use('default')\n",
        "\n",
        "plt.plot(ipr['Q'], ipr['Pwf'], label = 'IPR', linewidth=5)\n",
        "\n",
        "plt.plot(tpr['q'],tpr['Pwf(1.90\" tbg)'],label='TPR for 1.9\" tubing', linewidth=3)\n",
        "plt.plot(tpr['q'],tpr['Pwf(2.375\"tbg)'],label='TPR for 2.375\" tubing', linewidth=3)\n",
        "plt.plot(tpr['q'],tpr['Pwf(2.875\"tbg)'],label='TPR for 2.875\" tubing', linewidth=3)\n",
        "\n",
        "plt.xlabel('FlowRate(Mscf/D)')\n",
        "plt.ylabel('Flowing BHP(Psia)')\n",
        "plt.title('Nodal Analysis for a Gas Well')\n",
        "\n",
        "plt.grid()\n",
        "\n",
        "plt.legend(loc='best')"
      ],
      "execution_count": null,
      "outputs": [
        {
          "output_type": "execute_result",
          "data": {
            "text/plain": [
              "<matplotlib.legend.Legend at 0x7f3a3696c0b8>"
            ]
          },
          "metadata": {
            "tags": []
          },
          "execution_count": 45
        },
        {
          "output_type": "display_data",
          "data": {
            "image/png": "[encoded data removed]",
            "text/plain": [
              "<Figure size 800x400 with 1 Axes>"
            ]
          },
          "metadata": {
            "tags": []
          }
        }
      ]
    },
    {
      "cell_type": "code",
      "metadata": {
        "id": "vzqXcsdqKece",
        "colab_type": "code",
        "colab": {}
      },
      "source": [
        "###########################################################################################"
      ],
      "execution_count": null,
      "outputs": []
    },
    {
      "cell_type": "code",
      "metadata": {
        "id": "qJBWuaUrK87C",
        "colab_type": "code",
        "colab": {}
      },
      "source": [
        "###########################################################################################"
      ],
      "execution_count": null,
      "outputs": []
    },
    {
      "cell_type": "markdown",
      "metadata": {
        "id": "DsHlAQJwLDQ8",
        "colab_type": "text"
      },
      "source": [
        "#**PART 3: Reservoir Simulation Foundations (From Scratch).**\n",
        "\n",
        "### **Keywords: Heterogeneity | PDEs | Discretization | Finite Differences** "
      ]
    },
    {
      "cell_type": "markdown",
      "metadata": {
        "id": "1C0YSlwxMpHH",
        "colab_type": "text"
      },
      "source": [
        "Why Reservoir Simulation? \n",
        "\n",
        "Okay. Imagine you are in a world which has no World-Map. Now, you want to travel somewhere for vacations. To some remote country. \n",
        "\n",
        "1. You would travel to antartica without having a clue it is freaky cold. \n",
        "2. You'll not pack any cold wear because you had no info/input data."
      ]
    },
    {
      "cell_type": "markdown",
      "metadata": {
        "id": "vtavH3g3MrMv",
        "colab_type": "text"
      },
      "source": [
        "How-ever Now in a Parallel Universe, Imagine you do have a Map. And the Input data like Weather Report for locations. \n",
        "\n",
        "1. You would probably travel to somewhere more pleasant. \n",
        "2. If you expect winter, you'd also pack sweaters. "
      ]
    },
    {
      "cell_type": "markdown",
      "metadata": {
        "id": "iAoEdhFyMvNn",
        "colab_type": "text"
      },
      "source": [
        "##BRILLIANT! Now you understand the intuition behind why do we need a Reservoir Simulation/Model (the world map). \n",
        "\n",
        "1. It helps us decide between a set of development options. \n",
        "2. You can pick a metric, say Recovery Efficiency. Then Run several realizations and calculate this RF. \n",
        "3. The one which gives the most/highest RF. Is. The. Choice you go ahead with!"
      ]
    },
    {
      "cell_type": "markdown",
      "metadata": {
        "id": "EQuOng2zMz-l",
        "colab_type": "text"
      },
      "source": [
        "#SIMPLE Reservoir Models you already know about. \n",
        "\n",
        "1. Volumetric Model - Assumes a cement/sand box kind of reservoir with constant properties. \n",
        "\n",
        "\n",
        "> $ N = \\frac { A h \\phi (1 - S_w) }{Bo} $\n",
        "\n",
        "\n",
        "2. Material Balance (Tank Model) - Zero Dimensional."
      ]
    },
    {
      "cell_type": "markdown",
      "metadata": {
        "id": "jYmSLprzmpR5",
        "colab_type": "text"
      },
      "source": [
        "Note. \n",
        "> In M-BAL, The mass balance involves no foreign addition or ejection of mass. \n",
        "\n",
        "> In Res. Simulation, the mass balance can have a well term as well."
      ]
    },
    {
      "cell_type": "markdown",
      "metadata": {
        "id": "YalIW6T0M4R2",
        "colab_type": "text"
      },
      "source": [
        "# What's Lacking? - Reality! Practicality! Flow Model! Heterogeneity!\n",
        "\n",
        "## In comes the need for Reservoir Simulation.\n",
        "\n",
        "1. You divide the Entire Reservoir into discrete Grid-Blocks. \n",
        "> Sand Box (Cube) --> Rubix cube\n",
        "2. Each Grid block can have different properties unique to them-selves.\n",
        "3. Hence a discontinuous-homogenous model is what we can call it. In other words, we have captured Heterogeneity. \n",
        "4. Finer the grid/ More the number of grid blocks, closer to reality we get."
      ]
    },
    {
      "cell_type": "markdown",
      "metadata": {
        "id": "brSi_NuPNSef",
        "colab_type": "text"
      },
      "source": [
        "#Mathematical Base-\n",
        "\n",
        "The Entire Game is based on the Heat-Equation. Which is nothing but a PDE. \n",
        "\n",
        "> Intuition Behind a PDE\n",
        ">> Take an IRON-ROD. (1D reservoir). Now Heat it from one end using a candle. \n",
        ">> Two things happen. \n",
        ">>> The Heat travels from Candle-End to the Other End. (Space dependence). \n",
        ">>> The Rod gets hotter at every point with time. (Time Dependence). \n",
        "\n",
        "> And this exact Space-Time Dependence is given by a Heat-PDE."
      ]
    },
    {
      "cell_type": "markdown",
      "metadata": {
        "id": "eIHix6svNWs7",
        "colab_type": "text"
      },
      "source": [
        "1. PDE- (Heat case)\n",
        "\n",
        "## $ \\frac { \\partial^2 T}{ \\partial x^2} = \\frac{1}{\\eta} \\frac{\\partial T}{\\partial t} $\n",
        "\n",
        "2. PDE- (Pressure case)\n",
        "\n",
        "## $ \\frac { \\partial^2 P}{ \\partial x^2} = \\frac{1}{\\eta} \\frac{\\partial P}{\\partial t} $"
      ]
    },
    {
      "cell_type": "code",
      "metadata": {
        "id": "7Qx_ee8SLCNJ",
        "colab_type": "code",
        "colab": {}
      },
      "source": [
        "####################################################\n",
        "#Next up\n",
        "#1. Space-Time Discretization of the above PDE. \n",
        "#2. Explain how you can code it. \n",
        "#3. Convert the whole scene into Reservoir Scenes and talk about that."
      ],
      "execution_count": null,
      "outputs": []
    },
    {
      "cell_type": "markdown",
      "metadata": {
        "id": "zi45GATdPIoo",
        "colab_type": "text"
      },
      "source": [
        "#Space Discretization: (LHS)\n",
        "\n",
        "###$ \\frac { \\partial^2 P}{ \\partial x^2} = \\frac {P[i+1] - 2P[i] + P[i-1]}{\\triangle x^2} $\n",
        "\n",
        "#Time Discretization: (RHS)\n",
        "\n",
        "### $ \\frac{1}{\\eta} \\frac{\\partial P}{\\partial t} = \\frac {P^T - P^t}{\\eta \\triangle t} $\n",
        "\n",
        "Where, T is the next time step (t+1) and t is the current. \n"
      ]
    },
    {
      "cell_type": "markdown",
      "metadata": {
        "id": "4YNWiBd6QVds",
        "colab_type": "text"
      },
      "source": [
        "#Equating both we get the heart of the Reservoir Simulation (Flow Equation)"
      ]
    },
    {
      "cell_type": "markdown",
      "metadata": {
        "id": "wAwbU2OwQfPB",
        "colab_type": "text"
      },
      "source": [
        "> You can see that it is an algaebric equation. "
      ]
    },
    {
      "cell_type": "markdown",
      "metadata": {
        "id": "03RrKHMnWNm6",
        "colab_type": "text"
      },
      "source": [
        "#WorkFlow (Ertekin et al.)\n",
        "![Simuln Workflow.JPG](data:image/jpeg;base64,/9j/4AAQSkZJRgABAQEAYABgAAD/4RDcRXhpZgAATU0AKgAAAAgABAE7AAIAAAAGAAAISodpAAQAAAABAAAIUJydAAEAAAAMAAAQyOocAAcAAAgMAAAAPgAAAAAc6gAAAAgAAAAAAAAAAAAAAAAAAAAAAAAAAAAAAAAAAAAAAAAAAAAAAAAAAAAAAAAAAAAAAAAAAAAAAAAAAAAAAAAAAAAAAAAAAAAAAAAAAAAAAAAAAAAAAAAAAAAAAAAAAAAAAAAAAAAAAAAAAAAAAAAAAAAAAAAAAAAAAAAAAAAAAAAAAAAAAAAAAAAAAAAAAAAAAAAAAAAAAAAAAAAAAAAAAAAAAAAAAAAAAAAAAAAAAAAAAAAAAAAAAAAAAAAAAAAAAAAAAAAAAAAAAAAAAAAAAAAAAAAAAAAAAAAAAAAAAAAAAAAAAAAAAAAAAAAAAAAAAAAAAAAAAAAAAAAAAAAAAAAAAAAAAAAAAAAAAAAAAAAAAAAAAAAAAAAAAAAAAAAAAAAAAAAAAAAAAAAAAAAAAAAAAAAAAAAAAAAAAAAAAAAAAAAAAAAAAAAAAAAAAAAAAAAAAAAAAAAAAAAAAAAAAAAAAAAAAAAAAAAAAAAAAAAAAAAAAAAAAAAAAAAAAAAAAAAAAAAAAAAAAAAAAAAAAAAAAAAAAAAAAAAAAAAAAAAAAAAAAAAAAAAAAAAAAAAAAAAAAAAAAAAAAAAAAAAAAAAAAAAAAAAAAAAAAAAAAAAAAAAAAAAAAAAAAAAAAAAAAAAAAAAAAAAAAAAAAAAAAAAAAAAAAAAAAAAAAAAAAAAAAAAAAAAAAAAAAAAAAAAAAAAAAAAAAAAAAAAAAAAAAAAAAAAAAAAAAAAAAAAAAAAAAAAAAAAAAAAAAAAAAAAAAAAAAAAAAAAAAAAAAAAAAAAAAAAAAAAAAAAAAAAAAAAAAAAAAAAAAAAAAAAAAAAAAAAAAAAAAAAAAAAAAAAAAAAAAAAAAAAAAAAAAAAAAAAAAAAAAAAAAAAAAAAAAAAAAAAAAAAAAAAAAAAAAAAAAAAAAAAAAAAAAAAAAAAAAAAAAAAAAAAAAAAAAAAAAAAAAAAAAAAAAAAAAAAAAAAAAAAAAAAAAAAAAAAAAAAAAAAAAAAAAAAAAAAAAAAAAAAAAAAAAAAAAAAAAAAAAAAAAAAAAAAAAAAAAAAAAAAAAAAAAAAAAAAAAAAAAAAAAAAAAAAAAAAAAAAAAAAAAAAAAAAAAAAAAAAAAAAAAAAAAAAAAAAAAAAAAAAAAAAAAAAAAAAAAAAAAAAAAAAAAAAAAAAAAAAAAAAAAAAAAAAAAAAAAAAAAAAAAAAAAAAAAAAAAAAAAAAAAAAAAAAAAAAAAAAAAAAAAAAAAAAAAAAAAAAAAAAAAAAAAAAAAAAAAAAAAAAAAAAAAAAAAAAAAAAAAAAAAAAAAAAAAAAAAAAAAAAAAAAAAAAAAAAAAAAAAAAAAAAAAAAAAAAAAAAAAAAAAAAAAAAAAAAAAAAAAAAAAAAAAAAAAAAAAAAAAAAAAAAAAAAAAAAAAAAAAAAAAAAAAAAAAAAAAAAAAAAAAAAAAAAAAAAAAAAAAAAAAAAAAAAAAAAAAAAAAAAAAAAAAAAAAAAAAAAAAAAAAAAAAAAAAAAAAAAAAAAAAAAAAAAAAAAAAAAAAAAAAAAAAAAAAAAAAAAAAAAAAAAAAAAAAAAAAAAAAAAAAAAAAAAAAAAAAAAAAAAAAAAAAAAAAAAAAAAAAAAAAAAAAAAAAAAAAAAAAAAAAAAAAAAAAAAAAAAAAAAAAAAAAAAAAAAAAAAAAAAAAAAAAAAAAAAAAAAAAAAAAAAAAAAAAAAAAAAAAAAAAAAAAAAAAAAAAAAAAAAAAAAAAAAAAAAAAAAAAAAAAAAAAAAAAAAAAAAAAAAAAAAAAAAAAAAAAAAAAAAAAAAAAAAAAAAAAAAAAAAAAAAAAAAAAAAAAAAAAAAAAAAAAAAAAAAAAAAAAAAAAAAAAAAAAAAAAAAAAAAAAAAAAAAAAAAAAAAAAAAAAAAAAAAAAAAAAAAAAAAAAAAAAAAAAAAAAAAAAAAAAAAAAAAAAAAAAAAAAAAAAAAAAAAAAAAAAAAAAAAAAAAAAAAAAAAAAAAAAAAAAAAAAAAAAAAAAAAAAAAAAAAAAAAAAAAAAAAAAAAAAAAAAAAAAAAAAAAAAAAAAAAAAAAAAAAAAAAAAAAAAAAAAAAAAAAAAAAAAAAAAAAAAAAAAAAAAAAAAAAAAAAAAAAAAAAAAAAAAAAAAAAAAAAAAAAAAAAAAAAAAAAAAAAAAAAAAAAAAAAAAAAAAAAAAAAAAAAAAAAAAAAAAAAAAAAAAAAAAAAAAAAAAAAAAAAAAAAAAAAAAAAAAAAAAAAAAAAAAAAAAAAAAAAAAAAAAAAAAAAAAAAAAAAAAAAAAAAAAAAAAAAAAAAAAAAAAAAAAAAAAAAAAAAAAAAAAAAAAAAAAAAAAAAAAAAAAAAAAAAAAAAAAAAAAAAAAAAAAAAAAAAAAAAAAAAAAAAAAAAAAAAAAAAAAAAAAAAAAAAAAAAAAAAAAAAAAAAAAAAAAAAAAAAAAAAAAAAAAAAAAAAAAAAAAAAAAAAAAAAAAAAAAAAAAAAAAAAAAAAAAAAAAAAAAAAAAAAAAAAAAAAAAAAAAAAAAAAAAAAAAAAAAAAAAAAAAAAAAAAAAAAAAAAAAAAAAAAAAAAAAAAAAAAAAAAAAAAAAAAAAAAAAAAAAAAAAAAAAAAAAAAAAAAAAAAAAAAAAAAAAAAAAAAAAAAAAAAAAAAAAAAAAAAAAAAAAAAAAAAAAAAAAAAAAAAAAAAAAAAAAAAAAAAAAAAAAAAAAAAAAAAAAAAAAAAAAAAAAGFkbWluAAAFkAMAAgAAABQAABCekAQAAgAAABQAABCykpEAAgAAAAM3MgAAkpIAAgAAAAM3MgAA6hwABwAACAwAAAiSAAAAABzqAAAACAAAAAAAAAAAAAAAAAAAAAAAAAAAAAAAAAAAAAAAAAAAAAAAAAAAAAAAAAAAAAAAAAAAAAAAAAAAAAAAAAAAAAAAAAAAAAAAAAAAAAAAAAAAAAAAAAAAAAAAAAAAAAAAAAAAAAAAAAAAAAAAAAAAAAAAAAAAAAAAAAAAAAAAAAAAAAAAAAAAAAAAAAAAAAAAAAAAAAAAAAAAAAAAAAAAAAAAAAAAAAAAAAAAAAAAAAAAAAAAAAAAAAAAAAAAAAAAAAAAAAAAAAAAAAAAAAAAAAAAAAAAAAAAAAAAAAAAAAAAAAAAAAAAAAAAAAAAAAAAAAAAAAAAAAAAAAAAAAAAAAAAAAAAAAAAAAAAAAAAAAAAAAAAAAAAAAAAAAAAAAAAAAAAAAAAAAAAAAAAAAAAAAAAAAAAAAAAAAAAAAAAAAAAAAAAAAAAAAAAAAAAAAAAAAAAAAAAAAAAAAAAAAAAAAAAAAAAAAAAAAAAAAAAAAAAAAAAAAAAAAAAAAAAAAAAAAAAAAAAAAAAAAAAAAAAAAAAAAAAAAAAAAAAAAAAAAAAAAAAAAAAAAAAAAAAAAAAAAAAAAAAAAAAAAAAAAAAAAAAAAAAAAAAAAAAAAAAAAAAAAAAAAAAAAAAAAAAAAAAAAAAAAAAAAAAAAAAAAAAAAAAAAAAAAAAAAAAAAAAAAAAAAAAAAAAAAAAAAAAAAAAAAAAAAAAAAAAAAAAAAAAAAAAAAAAAAAAAAAAAAAAAAAAAAAAAAAAAAAAAAAAAAAAAAAAAAAAAAAAAAAAAAAAAAAAAAAAAAAAAAAAAAAAAAAAAAAAAAAAAAAAAAAAAAAAAAAAAAAAAAAAAAAAAAAAAAAAAAAAAAAAAAAAAAAAAAAAAAAAAAAAAAAAAAAAAAAAAAAAAAAAAAAAAAAAAAAAAAAAAAAAAAAAAAAAAAAAAAAAAAAAAAAAAAAAAAAAAAAAAAAAAAAAAAAAAAAAAAAAAAAAAAAAAAAAAAAAAAAAAAAAAAAAAAAAAAAAAAAAAAAAAAAAAAAAAAAAAAAAAAAAAAAAAAAAAAAAAAAAAAAAAAAAAAAAAAAAAAAAAAAAAAAAAAAAAAAAAAAAAAAAAAAAAAAAAAAAAAAAAAAAAAAAAAAAAAAAAAAAAAAAAAAAAAAAAAAAAAAAAAAAAAAAAAAAAAAAAAAAAAAAAAAAAAAAAAAAAAAAAAAAAAAAAAAAAAAAAAAAAAAAAAAAAAAAAAAAAAAAAAAAAAAAAAAAAAAAAAAAAAAAAAAAAAAAAAAAAAAAAAAAAAAAAAAAAAAAAAAAAAAAAAAAAAAAAAAAAAAAAAAAAAAAAAAAAAAAAAAAAAAAAAAAAAAAAAAAAAAAAAAAAAAAAAAAAAAAAAAAAAAAAAAAAAAAAAAAAAAAAAAAAAAAAAAAAAAAAAAAAAAAAAAAAAAAAAAAAAAAAAAAAAAAAAAAAAAAAAAAAAAAAAAAAAAAAAAAAAAAAAAAAAAAAAAAAAAAAAAAAAAAAAAAAAAAAAAAAAAAAAAAAAAAAAAAAAAAAAAAAAAAAAAAAAAAAAAAAAAAAAAAAAAAAAAAAAAAAAAAAAAAAAAAAAAAAAAAAAAAAAAAAAAAAAAAAAAAAAAAAAAAAAAAAAAAAAAAAAAAAAAAAAAAAAAAAAAAAAAAAAAAAAAAAAAAAAAAAAAAAAAAAAAAAAAAAAAAAAAAAAAAAAAAAAAAAAAAAAAAAAAAAAAAAAAAAAAAAAAAAAAAAAAAAAAAAAAAAAAAAAAAAAAAAAAAAAAAAAAAAAAAAAAAAAAAAAAAAAAAAAAAAAAAAAAAAAAAAAAAAAAAAAAAAAAAAAAAAAAAAAAAAAAAAAAAAAAAAAAAAAAAAAAAAAAAAAAAAAAAAAAAAAAAAAAAAAAAAAAAAAAAAAAAAAAAAAAAAAAAAAAAAAAAAAAAAAAAAAAAAAAAAAAAAAAAAAAAAAAAAAAAAAAAAAAAAAAAAAAAAAAAAAAAAAAAAAAAAAAAAAAAAAAAAAAAAAAAAAAAAAAAAAAAAAAAAAAAAAAAAAAAAAAAAAAAAAAAAAAAAAAAAAAAAAAAAAAAAAAAAAAAAAAAAAAAAAAAAAAAAAAAAAAAAAAAAAAAAAAAAAAAAAAAAAAAAAAAAAAAAAAAAAAAAAAAAAAAAAAAAAAAAAAAAAAAAAAAAAAAAAAAAAAAAAAAAAAAAAAAAAAAAAAAAAAAAAAAAAAAAAAAAAAAAAAAAAAAAAAAAAAAAAAAAAAAAAAAAAAAAAAAAAAAAAAAAAAAAAAAAAAAAAAAAAAAAAAAAAAAAAAAAAAAAAAAAAAAAAAAAAAAAAAAAAAAAAAAAAAAAAAAAAAAAAAAAAAAAAAAAAAAAAAAAAAAAAAAAAAAAAAAAAAAAAAAAAAAAAAAAAAAAAAAAAAAAAAAAAAAAAAAAAAAAAAAAAAAAAAAAAAAAAAAAAAAAAAAAAAAAAAAAAAAAAAAAAAAAAAAAAAAAAAAAAAAAAAAAAAAAAAAAAAAAAAAAAAAAAAAAAAAAAAAAAAAAAAAAAAAAAAAAAAAAAAAAAAAAAAAAAAAAAAAAAAAAAAAAAAAAAAAAAAAAAAAAAAAAAAAAAAAAAAAAAAAAAAAAAAAAAAAAAAAAAAAAAAAAAAAAAAAAAAAAAAAAAAAAAAAAAAAAAAAAAAAAAAAAAAAAAAAAAAAAAAAAAAAAAAAAAAAAAAAAAAAAAAAAAAAAAAAAAAAAAAAAAAAAAAAMjAyMDowODoxNiAxMzo0NDo0NAAyMDIwOjA4OjE2IDEzOjQ0OjQ0AAAAYQBkAG0AaQBuAAAA/+ELGGh0dHA6Ly9ucy5hZG9iZS5jb20veGFwLzEuMC8APD94cGFja2V0IGJlZ2luPSfvu78nIGlkPSdXNU0wTXBDZWhpSHpyZVN6TlRjemtjOWQnPz4NCjx4OnhtcG1ldGEgeG1sbnM6eD0iYWRvYmU6bnM6bWV0YS8iPjxyZGY6UkRGIHhtbG5zOnJkZj0iaHR0cDovL3d3dy53My5vcmcvMTk5OS8wMi8yMi1yZGYtc3ludGF4LW5zIyI+PHJkZjpEZXNjcmlwdGlvbiByZGY6YWJvdXQ9InV1aWQ6ZmFmNWJkZDUtYmEzZC0xMWRhLWFkMzEtZDMzZDc1MTgyZjFiIiB4bWxuczpkYz0iaHR0cDovL3B1cmwub3JnL2RjL2VsZW1lbnRzLzEuMS8iLz48cmRmOkRlc2NyaXB0aW9uIHJkZjphYm91dD0idXVpZDpmYWY1YmRkNS1iYTNkLTExZGEtYWQzMS1kMzNkNzUxODJmMWIiIHhtbG5zOnhtcD0iaHR0cDovL25zLmFkb2JlLmNvbS94YXAvMS4wLyI+PHhtcDpDcmVhdGVEYXRlPjIwMjAtMDgtMTZUMTM6NDQ6NDQuNzE5PC94bXA6Q3JlYXRlRGF0ZT48L3JkZjpEZXNjcmlwdGlvbj48cmRmOkRlc2NyaXB0aW9uIHJkZjphYm91dD0idXVpZDpmYWY1YmRkNS1iYTNkLTExZGEtYWQzMS1kMzNkNzUxODJmMWIiIHhtbG5zOmRjPSJodHRwOi8vcHVybC5vcmcvZGMvZWxlbWVudHMvMS4xLyI+PGRjOmNyZWF0b3I+PHJkZjpTZXEgeG1sbnM6cmRmPSJodHRwOi8vd3d3LnczLm9yZy8xOTk5LzAyLzIyLXJkZi1zeW50YXgtbnMjIj48cmRmOmxpPmFkbWluPC9yZGY6bGk+PC9yZGY6U2VxPg0KCQkJPC9kYzpjcmVhdG9yPjwvcmRmOkRlc2NyaXB0aW9uPjwvcmRmOlJERj48L3g6eG1wbWV0YT4NCiAgICAgICAgICAgICAgICAgICAgICAgICAgICAgICAgICAgICAgICAgICAgICAgICAgICAgICAgICAgICAgICAgICAgICAgICAgICAgICAgICAgICAgICAgICAgICAgICAgICAKICAgICAgICAgICAgICAgICAgICAgICAgICAgICAgICAgICAgICAgICAgICAgICAgICAgICAgICAgICAgICAgICAgICAgICAgICAgICAgICAgICAgICAgICAgICAgICAgICAgIAogICAgICAgICAgICAgICAgICAgICAgICAgICAgICAgICAgICAgICAgICAgICAgICAgICAgICAgICAgICAgICAgICAgICAgICAgICAgICAgICAgICAgICAgICAgICAgICAgICAgCiAgICAgICAgICAgICAgICAgICAgICAgICAgICAgICAgICAgICAgICAgICAgICAgICAgICAgICAgICAgICAgICAgICAgICAgICAgICAgICAgICAgICAgICAgICAgICAgICAgICAKICAgICAgICAgICAgICAgICAgICAgICAgICAgICAgICAgICAgICAgICAgICAgICAgICAgICAgICAgICAgICAgICAgICAgICAgICAgICAgICAgICAgICAgICAgICAgICAgICAgIAogICAgICAgICAgICAgICAgICAgICAgICAgICAgICAgICAgICAgICAgICAgICAgICAgICAgICAgICAgICAgICAgICAgICAgICAgICAgICAgICAgICAgICAgICAgICAgICAgICAgCiAgICAgICAgICAgICAgICAgICAgICAgICAgICAgICAgICAgICAgICAgICAgICAgICAgICAgICAgICAgICAgICAgICAgICAgICAgICAgICAgICAgICAgICAgICAgICAgICAgICAKICAgICAgICAgICAgICAgICAgICAgICAgICAgICAgICAgICAgICAgICAgICAgICAgICAgICAgICAgICAgICAgICAgICAgICAgICAgICAgICAgICAgICAgICAgICAgICAgICAgIAogICAgICAgICAgICAgICAgICAgICAgICAgICAgICAgICAgICAgICAgICAgICAgICAgICAgICAgICAgICAgICAgICAgICAgICAgICAgICAgICAgICAgICAgICAgICAgICAgICAgCiAgICAgICAgICAgICAgICAgICAgICAgICAgICAgICAgICAgICAgICAgICAgICAgICAgICAgICAgICAgICAgICAgICAgICAgICAgICAgICAgICAgICAgICAgICAgICAgICAgICAKICAgICAgICAgICAgICAgICAgICAgICAgICAgICAgICAgICAgICAgICAgICAgICAgICAgICAgICAgICAgICAgICAgICAgICAgICAgICAgICAgICAgICAgICAgICAgICAgICAgIAogICAgICAgICAgICAgICAgICAgICAgICAgICAgICAgICAgICAgICAgICAgICAgICAgICAgICAgICAgICAgICAgICAgICAgICAgICAgICAgICAgICAgICAgICAgICAgICAgICAgCiAgICAgICAgICAgICAgICAgICAgICAgICAgICAgICAgICAgICAgICAgICAgICAgICAgICAgICAgICAgICAgICAgICAgICAgICAgICAgICAgICAgICAgICAgICAgICAgICAgICAKICAgICAgICAgICAgICAgICAgICAgICAgICAgICAgICAgICAgICAgICAgICAgICAgICAgICAgICAgICAgICAgICAgICAgICAgICAgICAgICAgICAgICAgICAgICAgICAgICAgIAogICAgICAgICAgICAgICAgICAgICAgICAgICAgICAgICAgICAgICAgICAgICAgICAgICAgICAgICAgICAgICAgICAgICAgICAgICAgICAgICAgICAgICAgICAgICAgICAgICAgCiAgICAgICAgICAgICAgICAgICAgICAgICAgICAgICAgICAgICAgICAgICAgICAgICAgICAgICAgICAgICAgICAgICAgICAgICAgICAgICAgICAgICAgICAgICAgICAgICAgICAKICAgICAgICAgICAgICAgICAgICAgICAgICAgICAgICAgICAgICAgICAgICAgICAgICAgICAgICAgICAgICAgICAgICAgICAgICAgICAgICAgICAgICAgICAgICAgICAgICAgIAogICAgICAgICAgICAgICAgICAgICAgICAgICAgICAgICAgICAgICAgICAgICAgICAgICAgICAgICAgICAgICAgICAgICAgICAgICAgICAgICAgICAgICAgICAgICAgICAgICAgCiAgICAgICAgICAgICAgICAgICAgICAgICAgICAgICAgICAgICAgICAgICAgICAgICAgICAgICAgICAgICAgICAgICAgICAgICAgICAgICAgICAgICAgICAgICAgICAgICAgICAKICAgICAgICAgICAgICAgICAgICAgICAgICAgICAgICAgICAgICAgICAgICAgICAgICAgICAgICAgICAgICAgICAgICAgICAgICAgICAgICAgICAgICAgICAgICAgICAgICAgIAogICAgICAgICAgICAgICAgICAgICAgICAgICAgPD94cGFja2V0IGVuZD0ndyc/Pv/bAEMABwUFBgUEBwYFBggHBwgKEQsKCQkKFQ8QDBEYFRoZGBUYFxseJyEbHSUdFxgiLiIlKCkrLCsaIC8zLyoyJyorKv/bAEMBBwgICgkKFAsLFCocGBwqKioqKioqKioqKioqKioqKioqKioqKioqKioqKioqKioqKioqKioqKioqKioqKioqKv/AABEIAQkEdQMBIgACEQEDEQH/xAAfAAABBQEBAQEBAQAAAAAAAAAAAQIDBAUGBwgJCgv/xAC1EAACAQMDAgQDBQUEBAAAAX0BAgMABBEFEiExQQYTUWEHInEUMoGRoQgjQrHBFVLR8CQzYnKCCQoWFxgZGiUmJygpKjQ1Njc4OTpDREVGR0hJSlNUVVZXWFlaY2RlZmdoaWpzdHV2d3h5eoOEhYaHiImKkpOUlZaXmJmaoqOkpaanqKmqsrO0tba3uLm6wsPExcbHyMnK0tPU1dbX2Nna4eLj5OXm5+jp6vHy8/T19vf4+fr/xAAfAQADAQEBAQEBAQEBAAAAAAAAAQIDBAUGBwgJCgv/xAC1EQACAQIEBAMEBwUEBAABAncAAQIDEQQFITEGEkFRB2FxEyIygQgUQpGhscEJIzNS8BVictEKFiQ04SXxFxgZGiYnKCkqNTY3ODk6Q0RFRkdISUpTVFVWV1hZWmNkZWZnaGlqc3R1dnd4eXqCg4SFhoeIiYqSk5SVlpeYmZqio6Slpqeoqaqys7S1tre4ubrCw8TFxsfIycrS09TV1tfY2dri4+Tl5ufo6ery8/T19vf4+fr/2gAMAwEAAhEDEQA/APo+iiigAooooAKKKKACiiigAooooAKKKKACiiigAooooAKKKKACiiigAooooAKKKKACiiigAooooAKKKKACiiigAooooAKKKKACiiigAooooAKKKKACiiigAooooAKKKKACiiigAooooAKKKKACiiigAooooAKKKKACiiigAooooAKKKKACiiigAooooAKKKKACiiigAooooAKKKKACiiigAooooAKKKKACiiigAooooAKKKKACiiigAooooAKKKKACiiigAooooAKKKKACiiigAooooAKKKKACiiigAooooAKKKKACiqWq6zp2iWbXer3sNnAoJLyuB+Xr+Fc0Pi54CPTxPY/m3+FAHZUVx4+LHgQ9PE9h/wB9n/CnD4qeBj08T6f/AN/KAOuorlB8UPBB6eJ9P/7+04fE3wUenibTv+/4oA6miuYHxJ8GHp4m03/wIWnD4i+Dj08TaZ/4Er/jQB0tFc6PiD4QPTxNpf8A4FJ/jTh498JHp4l0r/wMT/GgDoKK5Bvix4DSRkfxZpYZTg/6StA+LHgI/wDM3aT/AOBS0AdfRXJD4qeBD08W6T/4FLTh8UPAx6eK9KP/AG9LQB1dFcuPiZ4JPTxTpZ/7eVpw+I/g1vu+JtMP0uVoA6aiubHxD8Hnp4l0z/wJX/Gt+1uoL21S4tJkmhkGUkRshh7GgCWiiigAooooAKKKKACiiigAooooAKKKKACiiigAooooAKKKKACiiuG+KHiy90DRrfTNAjaXXdZk+zWKAdDj5m/Ac0AdXfa1pmmAnUNQtrbaMnzZQuBWSPiJ4PPTxLpn/gSv+Nch4f8AgX4eWzjufGSzeINWkUNPNdzMVDdwoBGBW5L8Gvh9OWMnhe0+ZgxwzjkfRqANRviF4PVCx8S6Xgdf9KT/ABqonxV8CuoK+KdMwW2f8fC9aavwn8CK5YeF9PyQAcoT09s08fCzwMAB/wAItpvBzzAKAMlvjv8ADhJGRvEkeVODi3lP8lpR8d/hsf8AmZ4R/wBu83/xFbdr8NfBVnu8jwrpPzdd9oj/APoQNTH4f+DS+4+E9EJxj/kHRf8AxNAGAPjn8Nz08UQf9+Jv/iKePjf8OT08UW//AH5l/wDia2z8PfBp6+E9E/8ABdF/8TQvw+8HI2U8LaOp9VsYx/SgDGHxs+HZ6eKLX/v3J/8AE04fGj4eHp4otP8Avh//AImuhPhLw8UVDolhtX7o+zrgfpTz4X0E9dHsv+/C/wCFAHPD4x/D9uniiz/J/wD4mpf+Fs+BtpP/AAkVtx/sv/hW0PCmgBgw0axBByD5C8fpVxtJ05gQ1hakH1hX/CgDhT8ePh4GI/t5ODj/AFbf4VKPjh4BI41tf+/bf4V0jeC/DTkltCsCT1/cLVxdB0hUCrpVltAwB9nT/CgDkR8bfAJ/5jsY+qN/hTh8avAJ/wCZghH1BrrD4f0Y9dJsT/27J/hTT4c0M9dG08/9uqf4UAcuPjR4BP8AzMVsPrmql18d/h7aShH1zzCRnMMDuPzArsT4Y0E9dE00/wDbpH/hTT4V8PHroOmH/tzj/wAKAOLH7QHw5PXW5B9bSX/4mnD4/fDg9dfI+tpN/wDE12B8I+Gz18PaUf8Atyj/APiaafBvhg9fDmkn/txi/wDiaAOTHx9+Gx6+IwPraTf/ABFOHx7+Gp/5mZB9bSf/AOIrqD4K8Knr4Z0c/wDbhF/8TSHwN4SPXwvop/7h8X/xNAHND48fDU9PFEX/AICz/wDxFdD4a8eeGPF4f/hHNZt71ozhkGUcf8BYAke+KU+AvCB6+FtG/wDACL/4muZ8b/CzTr3R1vfBtpBomu6exns57GJYt7j+BsAZB6c0AejUVzPw98R3HinwTZalfxiK9IMVyg6CVThv1FdNQAUUUUAFFFFABSM6opZ2CqOSScAUteN+KrjVfih8QJ/B+j3NxYaDpLbdWu4vlaWT/nkD9KAPSn8Y+HI7h4H1uxEsa7nTzhlR61Vu/iF4TsbeSafXrIJEAX2ygkA9DgUzQvhz4T8O2ht9N0O0w2N7zRiRnI7ktnmtM+GNBPXRNOP/AG6R/wCFAHND4zeAT/zMloPqTTh8Y/AB/wCZnsh9WroT4V8PHroOmH/tzj/wpD4S8OHr4f0s/wDblH/hQBgj4w/D8/8AM06ePrJSj4v/AA/P/M2aaPrLW2fB3hk9fDukn/txi/8AiaafBfhY9fDWkf8AgBF/8TQBkD4ueAD08Wab/wB/qePix4DPTxVpv/f6tI+CPCh6+GtI/wDAGP8A+Jpp8CeEj18NaT/4BR/4UAUR8U/Ax6eKdN/7/CnD4n+CD08T6d/3+FWj4A8IHr4Z0r/wET/CmH4eeDz18M6X/wCAqf4UARj4l+Cz08Tad/3+FOHxH8HHp4k07/v+KD8OPBp6+GdM/wDAZaafhp4LPXwzpv8A34FAEg+IfhA9PEWn/wDf8U4eP/CZ6eIdP/7/AIqufhh4JPXwxp3/AH5FMPws8Dnr4Y0//v1QBeHjvwqemv6f/wB/xTh438MHpr1h/wB/1rNPwo8Cnr4YsP8Avg/400/CTwGevhix/wC+T/jQBrDxl4bPTXLD/v8ArTh4u8Onprdj/wB/1/xrEPwh8Anr4Xsvyb/Gmn4O/D89fC9n+b/40AdTY6zpupSMmn39vcuoyyxShiB+FXa8q8VfCO10vTzq/wANEbRNasgZES2Ztl0Bz5bgnnNdV8OvGI8a+E4r6aFre+hPkXsDKR5cq/eHNAHV0UUUAFFFFABSEhVJYgADJJ7UteReONS1Tx34+T4f6FcXGn2VunnavdoACyEcIh96AO5vPiH4RsLyS1vPENhFPGcOjSjINRD4meCz08S6f/39qPR/hh4Q0XTWs7bQ7WRHUCV50DtJjuxPJrUg8IeHbbHkaJYphdoxAvT06UAVYviF4SnbbBr9lIfRJM1N/wAJr4bP/MYtv++qtQeG9FtnVrfSrONlBAKwKOv4VYOl6eetjbf9+V/woAzx4z8On/mMWv8A33Va7+IXhOw2/a9es4t33d0nWtg6Rpp66fa/9+F/wpDoulnrptn/AN+F/wAKAMAfFLwOf+Zn04fWXFKPif4IP/M06X+NworcOh6Seul2X/gOn+FIdA0c9dJsf/AZP8KAMb/hZ3gj/oa9J/G7T/GlHxM8EH/mbdG/G9jH9a1j4d0U9dHsP/AVP8KQ+G9DPXRdP/8AAVP8KAMmT4neBoomkbxdopCjJC30ZP4AHJrPHxo+Hn/Q1WQ+u7/CulPhjQD10PTf/ASP/Cmnwr4ePXQtM/8AAOP/AAoA54fGT4enp4qsfzb/AApw+MHw/PTxTY/99N/hW6fCXhw9dB0z/wABI/8ACmnwd4aPXQNN/wDARP8ACgDHHxc8BHp4osP++j/hTh8WPAh6eKLD/vs/4VqHwV4YPXw/pv8A4Cp/hTT4G8Knr4e03/wGX/CgCjH8UfBM0gSLxJYu7HAVXJJ/Sorr4r+CrO4ME+txiQYGFikPJ7cL1rVg8FeGba4Se30GwjljOVdYFBU1pnTbEtk2duTnOfKHX8qAOV/4W14K/wCg0o+sEn/xNB+Lfghfva9Cv+9G4/pXVnT7M9bSD/v0P8KY+lafIMPYWzfWFf8ACgDmv+Fr+Cf+g/bj6q3+FH/C1vBAGT4itAB1ySP6V0v9l6eetjbf9+V/wpr6NpciMj6daMrDBBgXkflQBBoXiXRvE1o11oGo29/CrbS8DhsGtSvGPGnhCX4Zainjf4fWrxxI+NU02Mny5Iu7Y7Yr1jRNWg13QrPVLTPk3cKypkYOCKALskiRRtJKwRFGWZjgAVxVx8Y/AdreS20viCDzYW2uERmAP1AxXL+M2174hfESTwNZmXT9BskWXU7yIndMGGRHntmvRvDnhLQvCdl9m8P6bb2SEAO0afM/+83U0Ac7/wALq+Hw+94jgX6xv/8AE0f8Lr+HffxTaD6q/wD8TXcvGki4kRXHXDDNMgtoLaMx20McKEklY0CjJ6nAoA4sfGn4dnp4qs/yf/4mnD4yfD49PFNl+T/4V14sLMTiYWsPmgbQ/ljcB6Zp62tuqhVgjCjoAgoA48fGDwAeniiy/wDHv8KkPxb8BhsN4msgfQlh/SurNnbHrbxH6oKjk02xlGJLO3Ye8QP9KAOcX4p+CHiMq+I7MxqcF8tgH0zihfin4IfO3xLYnHJ+c8fpXR/2bYlSpsrfaeo8pcH9KZ/Y+mf9A60/78L/AIUActd/GHwDZFRN4ls/m6bSW/kKZH8ZfAUsZkj8QQMgOCwRsA/XFdUdC0g9dKsj9bdP8KVdE0pIyi6ZZqhOSot1wT+VAHNj4seC/wDoNxj6xt/hSj4seCWGRr1vj6H/AArqP7Nsf+fK3/79L/hTRpWngYFhageghX/CgDmv+FreCf8AoYbUfUmnf8LU8E4z/wAJHZAe8ldH/ZOnH/lwtf8Avyv+FH9k6dtx/Z9rjrjyV/woA50fFPwQxwPE2n59POFSf8LM8FjGfEunDPTM6it1dI01GDJp9qrDoRAoI/SpzbQMFDQxkKMKCg4FAHOD4l+Cj/zNGl+nN0v+NL/wsrwSOvivSB9bxB/WujWCJPuRIvO7hQOfWnsqupVwGVhggjIIoAx9I8YeHPEFy1voeu6fqEyruaO2uVkYD1wDWzXmXxD+GGnT2MniPwlbLo/iPTlNxBcWKCPzSvJV1GA2R6810vw68XL418E2WrNtW5ZdlzGP4JRww6DvQB1FYfjDxTZ+DvDF3rF+crAnyR55kbso/GtyvL/jZGs1v4XhlUOkmsxBlIyCKAM3wv8ADu48fFfFnxN86ea5Iks9M3lYrWPtlQeSfevRf+EJ8M7QP7CsMD/pgtbiqEQKgAVRgAdhS0AYJ8DeFz10Cw/78LTD4C8KHr4f0/8A78CquseN00Tx1YaDe2m23vrWSeO738ApyVx645rj9Q+O1rp3g2316XR5mN5dyQWtsj5aSNDzJ9KAO4Pw+8Inr4d0/wD78Cmn4deDz18Oaf8A9+BWdN8SbMa54WsLa2aZPEUZkimDDEYxnn1qLxZ8TYPC/iK40mSwkneHTXvw6sADtONtAGofht4MPXw1p3/fkUw/DLwUevhnTv8AvyK5zw18X5NX1zSdO1nw5e6QNYj3WM8hDJMcZwMe1MsfjNDqnjvWPDWnaU08tnE5tJBJj7XIn3kGRxQB0h+Fvgc9fC+nf9+RTT8KfAh6+FtN/wC/NcTpfxo8S3moanDd+BzaxaQG+3yte/6jCkgEbee3T1q6PjNqF8mnW/h/wfdapqVzZC9nto7hVWCM9PmxyfbFAHTH4S+Aj18Kab/35pp+EPw/PXwnpv8A36rlZf2gNLgg0SefSLmCLULl7a6aZwps3U4OeDu5+nFdt4Y8bW/ifXdb02C1aH+ypljErPkTAjIYDAIH5/WgBYPhv4KtoFii8KaPsXpuso2P5kZpx+Hfgw9fCmjf+AMf+FYM/wAXdNg+K0fgo2UhLfI1/wCZhFlxny9uOT+NUB8bLGPWPFemT6c32vw+GeONZf8Aj6RcZwccEZ9DQB1Z+G/go9fCmj/+AUf+FLF8OfBkMqyw+F9KR16MtqgI/SuMvvjJqn9stZaF4Rk1JYNOj1C5K3YVkR13YAI5xXfeEfE9p4w8MWmtWCskVwuTGx5jYcFT9DQBnTfDDwRPC0cnhfTNrA/dt1BGe4NefXOm6l8ENcg1DTrye88F3MoiuLSd9xsix4ZSe1e2VyXxShim+F+vCeNZAtozAMM4I6GgDqLW6hvbSK5tZFlhlUOjqchge9S1zPw5GPhtoI/6co/5V01ABRRRQAUUUUAFFFFABRRRQAUUUUAFFFFABRRRQAUUUUAFeY/EXn4sfDof9Ps5/wDIZr06vMfiFz8YPh0P+nq4P/kI0AenUUUUAFFFY83izQbaG+luNWtYYtPkEV1JJKFWF/7pJ6HmgDYorEtvGfhq8006ha67p8toJRAZ0uFKCQ9FznqfSry6xpz6w2lJewm/WITG2DjeEPRselAHh2n/ABq8UX/jKXTzceG7e1t72SFoJknE8kankjGVzgHHIqw/xV8fHTJPGsOm6X/wiEc5jaBmP2jyw20v9e/9K7TwJpnhrQdL14Q65Y6qkd7NdXcqBf8ARtwyVbBPIHeuB0Tw1oXiNLjwvoPxNjuvDLym4l0nyUEx+bcQJCAdv06UAT+KvjF4l03xPrKabdaFa6fp0UcqQ35YSzblB2qBySc1bsvjXq0nxE03T72xih0u806O5kXb80UjRl8Fs9ODVmx8N+BvFuseKbLTPEdpfXWrQJGIlQF7UINuVJ+9+FJrXwRs/wCx7mbU/ErwBbC3t5Lp4wuwQgjdntkGgDG0P45+IdStw11Z2sLya5HYr8h+WJvUZ5PPWug8VfFPWtF1rxRa2sVu0ekvaLBuXk+acNmq2m/DXw14g0nUL7w34oD41Fb6K6t0U/ZnRMbcEdOMmsVNK8Iavaatp2ofEGG817WruFnu1j24KMNqKuMd/wA6APY/EviaLw14Huteu9uYLYSBScBnI4H5mvMbD4o+NNW8D3+o2lnptvqWju7ahbzE8R7QyFR+NWdW0DStW8Hxf8JN4+uNR0Jr2KPmJQGdSQI8qMjJ4/Cs6PS/hvo/iTWdK0nxaunnVLT7Fc2bncA/ZtzdxnpQBpaV8RPGdtpGgaj4gttPePXbpVgSDIKxFNxJ96qP8SPHsmhyeNLe300eGYblkktGU/aPKV9pbdnFa3iK08K6LaeEtG1XxVHZvohEiDaC8y7duT/dBB/WsxvhxpfnWvhyPx1cf2HqszXdvpCohEyZ3EB+uM0APf4038PiXxFp89tBHawW7Ppl1glTIsYfYx7kg5r0rwRrVx4i8DaPrF8qLcXtqk0gjGFBI7V5tr3hHwTd6B4rF94kt4ra5vVQuwA+wTooXaOeWx2rrfBvibwno3w9tYbXxFa3Nlo8EdvNcswXb2BYds0Ad1RWe2uaYurW+mNewi9uYTPDBu+Z4+m4D0pNU8QaTok1rFq2oW9pJeSeVbrM4Uyv6L6nkUAaNFUdK1ix1u1a40ycTxpI0THBBV1OCCDyCDV6gAooooA88+C0hk8E3OQABqVzjBPP7w+v9K9DrzH4D8+Cb4+uqXP/AKMNenUAFFFFABRRRQAV5j8LefHnxEP/AFGiP/HRXp1eYfCrnxp8RD/1HnH/AI6KAPT6KKKAKmrX39maLe34TzDa28k2wnG7apOM9uleX6L8YdbubfRtR1zwmtnpOtyeVa3FveiZw+PlDJtHBr0LxbcWkPhTUI7+8hs47mB7ZZZmwoeRSq/qa8Y0Pw9qMV54f8I+LvGHhyKy0aUTQWNm7efOy/cD7iB1PYZoA3JvjXq01jpy2Gg2MV9qEs6oL/UVhjURvtxkjlj6cfjWnqHxY1eOz0Wx0/wrI3iTVy4SwuLkLHEE6uXH3lODjpXJzfD/AFi10Ga3s9X8J6hHptxcG/s9Th8yGNXYvvZ8eYjgdgQKmtvh5N4T8OeHNZ0jxXo8eqWk0jWv252+wzibkRx87gOeME5oA3b/AOK/iay8OwPceFEsNabURp7297OVhdtuQ6ScZU/5NVJvjdqdl4X1i41DQ7SPVtKu47WSNLvdAxfphx6Y5qv4k8OSy6NpUPxU8Y6R9pm1P7bLBO+2HygMeVEDg49zWX4j+H+l6foetJpnijQdM0XV7yC7sUklHlZTO5SM4YHjkZ6UAdRYfEfxxqGj315a+HdEuXtFWQrbaosg24JOcE4IAqppnxl8QS+HrHWdV8N21tZ6jexWttIlyTuLNhiR2xWv4E8Ka3aaXqX2iXw59h1G0K276PaiMMSpAYsOo596yLzwRHp/gXw34b1DX9Ltb7SdQivJBNMF8xA5PAJzQBOfin4vh8e2fhm48K2pnuX3HybneY4t2N7Y6cc81qf8LaWb4j33haz00zCKORLa6D/LNcIuTF6Vzei+CfH/AIW1/U/EM2saIwvZDLc3typZliHRQTwBiqFj8LBpeiab4mj8YxNfLqQvTPLMDaMWPzAe5HGaAOg0/wCK/iq513VNOu/CUMJ0eEz3zC5z5a7Cwx65xUll8X9U8QNplp4W8OC91C6sVvZ45J9iQI3QZ7k1Yl0S203xJ44vb/WrGH+2tNXYrNjyVKFN7e241zHhfwdqmmf2bf8AgLxHo91q0GmJZXtu7+YjBejrjpigDZ1H492mm6dpVxcaTKstxeSWd9Buy1q6Y3dOowc/Su18L+NIvE+v6zY20G2HTnjCTZ/1oZQ2fpzXnMPwti0/XPD66xrtjcXpvri81KORwhmaWPZtRfSuj+EnguPwvea7dWetQ6rZ3c4SDYxZoVTjYxPcdKAPTKKKKACvMPghzpHiA+usz/zr0+vMfgdzoOuH11i4/wDQqAPTqKKKACiiigArg/CIB+KHjNsDIlgGcf8ATMV3lcJ4O5+JXjU/9PEA/wDIQoA7uqup3E9rpV1cWkQmniiZ44ycbyBnH41ao69aAPI9P+OKXd/4atZNMAbV0c3LK522pUsMEn3U1Bd/GrU1sdLuLXRbVf7ReYxfabry18uNsA5Pc1n3nwHvvJ8VLp9/GjalOkmnbyf3ADMT9M7zWx4j+Et/eReF4tHOmNHo9qYJI7+IyIxOPmwOvNAGvpfxMu7rUvDdje6ZBHLrbS5MFwJFjCdOR1zW1qHi+Sy+J2l+FRaqyX1lJdNPu5Uq2MYriNZ8B+IrD+xdcXV/D+lS6G0rFhbukBD/AOz2PNZ/iO11u18X6Fq97428M2mvwWb2u2dXCyh3JUhe3BFAHqfjbxE/hPwZqOtxW4uHs4t6xE4DHIHX8a870r4z6wL77H4i8PW8Es1jLeQGzvVnG1E3YcDlM+9dPqcFz4j+HuqeGNT1vTJdd+xj7VLCSI4w3zByOoBArip/h9oGnC28Q6Fq2jabpk2kTadPOJmEc88gKhgTkYoAm8L/ABr1/wAQfv30PSI7VbSS7cR6wjzqioW/1WN3YDpxUuifG3VryXSTqfhy2hh1mCWWza31BZGBRS2HUgbQcdax9B8G6h4AjtbbxHrHgizsprSS3WcwslxOpQj77AZ5IJrc8LeFPAnhDwBHqFzf6F9umtpLb+145sxuzAjCkn35wBQAuifGfV7650NtS8O2cNnrNx5EZttSE00Z9Wj2jA/GneHvjFquv60lutj4etbf7Y9uyz62q3LKGIysJGSeOneq/h/4UWR0PwjqPhi40dr7TbrzrzUbRiftS4IYK4GT9Diqul+CNR8B3SJqOv8Agq0W4vnnjk1C1H2kqXyQkjsOcHHQ4oAuaN8Zdc1nxX9mttG059NW7NtJFHeZvIhnG9ozjj6A1BD8ZPEV34qm06G18O29vFqJs9t3etHOQGxnZnPT2xUmpfCbXb/XrW71PVtEk021uxfNqn2Xy7/Yp3BDIPlK46k9hWdbeFby3vtQ8V6P4o8MS6IdQa5kuprFJniG/keYeQe1AGxb/G95bfxUr2Ful1ozFrVSzBbmMMFY88kgnnFP1T4l+N7Pxfp2i2vh7S5V1VTJYyvO43oBnLehrJ8TfDPSdV8M3ltc69YW17c3cuq2Vwq4AtyQXB9V6Guggh0LxV4w8OXeg+LNOnutEtHRbaJQxkJXG7gjAHHFAEkfxauG+JJ8LPpkSx7fI+2CQlBd7Nxiz6Vm23j74iHxzqGhXOlaKP7LtlurspM/MbKSNp7njpWPf/C3RtCW2ude8Zx2XiSTUft/nTTYjkbd/wA88+mBmu30zw/aal4/8U6zZa1Bcy3tjFYS26IQ0DqhG4+oOc8UAc9Y/FzxH4mXTNP8KaNZyavd2z3MouZSkUaK23g9yap6l8edQ0jR4Wv9DWPU7fUzYajbKxbZtAJKY68GtHT/AIPa34e/sq88M+Ibe11OztntppZbcvHKjNuGBng0+1+C9wj6ddX2rRXd+uqPqOozNGQLgsu3ao7cUAdP4S8dt4p8X6vp0EMYsbO3gmt51OTKJBnmu0rgPAHw0/4QXxNr19BeLNZaiy/Z4MHdAoJO3J7c139AHMfEg4+Gmvn/AKcpP5Unw1GPhl4fH/TjH/Kk+Jpx8MPEB/6cn/lUnw5GPhr4fH/ThF/6DQBk+Fufix4yPp9mH/kOu7rzfwjdSN8cvHFrx5SQ2kg45yVI/pXpFABRRRQAUViap4u0jRtct9Jv52S6nge54Q7Y4k+87t0Arn9K+Mfg7WNVFhbXs8byBmt5Z7V447kLkkxsR83SgDtrl3itJpIVDyKjMqk4BIHAr598NfETxfH4qt28S66bXzrpkk028sCkbpk7RDKBgk8Y9fWvXH+IHhybw1Y6rLNIbHVLgWcG6I5d2JXBHYV5/F4M8Hab8RrHwvc+JdUuZYpRf2ujyyAwxuMsOce+QKAMtvF/j+98Hal8QYdetrTT7G5YJpRtwQ0avtwW6gn3rtvh/wCN9R8V+O9bgncrYQ2VrNbwFcFC4y2a4bXdN+GmmeKNS0i/1zWrazW5D32nRBvsaMxz8xA4BNWfE9h4FtfGl5eR+KtZ0uVkiS6Ono3kQqAAgdgOOCPzoA6L/hN9aab4jDz8DQyRZEIMJhf1NcxfeIfiCX8GSReJ4Y4fE4CbRajMJCBifeuy1X4PaP4hv5dUs9b1G1i1CJBdJbSjZdgDq31FZMuv/D3VfEnhbSrW/vLa60K5MdjAkDAO23aVJPbigDF1b4h+LND1/wAQaRBeNdyQy2en2008WAkr5DyY/DOKvX/iTxf4B1q50TWtdXWBe6TNeWty0QWSCRAeMDgitr4heF/B2jWuta74sv7qKHWZIEO1s+VKmdjIPUcn8KzX0LwZ4cu7S38Q+Ir7UdS8R2bWdnfXR3bIm7Dsucjr1oAw/CnxX8R6kng7TtRuli1G4vtl4rqN1zbtHuRwPQ+or6CrxLWLT4d+HrzSdQvL+6W68HSx2BaKEs0pKEqpAHPU8j6V6R4Q8f6B43W4/sK5d5LYgSwzRNHIueh2sAcH1oA6WiuUHxL8Kt4ok8PpqavqMe5TEqMQXXqgbGC3+z1ra0HXbHxHo8Op6VL5tvMDjIwVIOCCOxB7UAaNFFFAFbUuNKu/+uD/APoJry/9nX/knFwfXUZ//QzXrNeY/Ab/AJEW8Prqlz/6MNAHp1eY/GbmTwiPXWoq9OrzH4x83ng0eutx0AenUUUUAcL8Vfh/N4+8P21tp90tlf204eK5IOVUjDDI55FcrqXwKbV9Y06O61Z7fRtL09bW1itziTfj52J6ckmvZK5/x3r3/CM+BdV1UZ8yC3by8dd54X9SKAPI9O+HmvQWeiSaH4o0m4m8K3EyedJl0ijPRWA7gE1LqPh6bxvq016/i/Rb2+XSZ7WX7P8AKoy2Q2OwAHJrj/BQ1bwh/bWlaxpN/ZDX9Emmzc8iSdUYsVx2Of0q94Y+HGsTeCdO8Sy2+n6fa2ei3D4tw3n3W6FgPM/woA6DQfDV3q95pf23xxotxPoNpIun29kcbG2ld7nqcA9qs6L8FotHh0PxHpXikzXWnzm6mnlfNu6MSZNvHGcnk1y/w9+H+p6j4d0XxQbTT9OtNOsLgkxBvPum8tly+ePetDw7410aT4B3Phg3bnWWs5wtsysW4JOM4wOBnHpQB2F34dsdLXxhe33iLS4ovFYLWnnS7VUEYyTnn8Ky9O+HviLwbBZa7onirRraT+z0s7t7xW+zvt+6ykY5+tcjoUnh2LxJpc/xASKbSW8NxCxa6QmPcB84GejZ/H0qz4je117wv4b8H+FdC1mXTbp5r6WyMg88wrlUYFjwu45Ge1AG7F8O9F0SfRrbXvFukTANc3V9HclUM5lXlowTjAzwTWz8IfDMHhca5JB4r0/VxfsZbWVJhKyxJlQzHPIBGMDgYrzTWZ9O1b4Nac+qaXAuv6Rq9vpl29zCpmWIMcKx44IA7/jW98RNONn4vn03wrZran/hFJGitdPjEfWVS2FQdxknnn3oAdp/wpstZSeTTviLDeeJ11H7fMkF4slvuDd4hzkD+L+lT658KNK1/wAPeItRfxLpRu77VPNttQSQBI2ICtC7Z7kHgd6zIb7wfqF74Mh+GkFvB4gif/TmtLcxMsQT94JTgbvxzzXGw22saT8P7K4hElzpWta4HZcjFvPFOy/XDLjv1BoA9jl+Fviy01ua98Oa/YWsd7pUOnztLbF2UIm3K8455r0PwX4Xi8HeE7PRIJ2uBbr80rjBdjyT+dbNtn7LFkYOwZH4VLQAVynxQOPhb4gP/Tm9dXXI/FQ4+FXiE/8ATm39KALfw9GPhzoI/wCnKP8AlXR1z3gEY+HuhD/pxi/9BroaACiiigAooooAKKKKACiiigAooooAKKKKACiiigAooooAK8x+IXyfGD4dSyfLELm5UuemTFwK9Ory340TDTbzwdrdyCLGw1hftLj/AJZhxgE+3BoA9SopkUqTwpLC4eNwGVlOQRT6AI52dLaVol3OqEquOpxwK+Y4/IXwT4U1rXIXudMXxDdS65EVLgOWIQuPbHevqCsnSPDen6HdajPp6ug1Kc3E8RbKbyMEgds96APC/FNz4X8Q6Jqt74D0ZrIPqtjHJqghKQSuGIBijJA3Lnn5ec96fqmqan4F+IXiK+1zW5tZurfw8ogmNukJDOwCqFTjgnOa+hgAqgKAAOgHaloA+ZfCGna74PuL2y1PQ7rTbbX9CmZy0wuPPuFQkuduSmcn5eK1fAvw/v8AU/BeleIdSazNlZabP9ntNMsvKup98ZXDyHkt/WvoQgHqKAABgDAoA+avBWpDTvFnhu200Ta3b2SSbo7rSmhudLTYWIMgwGPsc5/GvXfFmvaLrXwkv9WvNNvL3TZIsmzMbJLKQ4AUgcgbsfhXbCKNWJCKCepA60vloU2lV2+mOKAPH/gbPDql3rmryqba9v8AyzNYLaNFFAoBAAJ+8cdTV7StIgX9ozXJJNOQQjTIDC5g+TPcg4xnNeopFHHny0Vc9doxTtq7t20bsYzjmgD5Ybw7r/8AwqUXttf3wgOvZ/swW/BPnH584z71NqPhnxDe+DfHWorsFqupEvbS2O64mAZOY3xkDnt6GvqARoq7VRQvoBxS7RgjAwevHWgDwe2vNP8AB/ibxBceLdIuLhdUsofsE32UzBoxHjys44IPFZOiQX3g1vh9rHiCxuorSFLvzAkTSNCHYsikDkcEV9GsisAGUEA5AI6U6gD5gisrtLez8XXujXb6FN4nuL+4tzCXbyiiqjFCM8EGq+t6pf69o/jZbexR7eeKCS3uLbT2gMgE2OhHOOmfavqeigDxXSdD1XSfjx4f/tTWLrWAdCdllngRPJG/7nygD8+ayPi3pXiqbx/puqS6J9ss49VtU06SO6GVUHJUp/DuPJY+gr6BooA80+HPnf8ACyPHnlgLZm9jO1SCBMU/ec+vTNel1naLoOm+H7WW30m38iOaZp5Muzs7sclizEkmtGgAoorL8R+I9M8KaDcavrdwILS3GWbGSx7KB3JoA4T4C8+Abo+up3P/AKMNen1558ENOnsfhnby3CPGb2ea6RHXaQjuSufqMGvQ6ACiiigAooooAK8++HdrHa+NPHgiziTWPMbJz8zRqT+pr0GvNPDurw6D8ZvEvh/UAYpNWdL+zmfhZR5aqUHqQQaAPS6KKKAPOPiUWn8b+A7C6Uf2bNqUjzFmwC6Rkxg/jXmGkXPhGz0LXNB8ZaPLe+KZdXceVFD/AKVMTJ8pjlxwAPcdPevfvEnhmw8UafFa6h5sZgnS4gngfbJE6nIKn8x9Ca0fsVt5yzNBG0yjAlZAX6Y69aAPnO40vXXX4nSaTqosLKGRhcWs9p5zzDZ037htOO+DVDxBDf8AjDS9B0DT9EvdWi0Xw9HMwtpFj8i5kUFHYkjIAXp+lfT3kQ5kPlJmXiT5R8/bn1pyoi/dVRxjgdqAPmqS8v8Ax34y8Fz2tpo91cXOgyQvHrNs0sAlSQh8AfxAjjn1o8R+FY/h9LoNre67FaX8FjNiW503ztPm8yVmaLHJUjI5x0x0r6RjtLeIqYoI02Z27UA2564+tOmgiuE2TxJIvo6gigDzD4OeKdPXwjo2j3VmulX16Jpre1UPtlQOfnXcSQD1A/LiuI+KbR2XxR1HUbe8t7zUoxZpb6Pd6cJfOyBxHIc45OeMc+tfQ4ijBUiNQVGFO3pSNbwvIJHhjZx0YqCR+NAHmXxn1O7bwZp/h3TrZ5tQ1yZIfs0bbWMa4Zxnt0xmvLwlwfhde+BtbgmsXsdeto/s7Nvkit5WyNp74ya+nmijeRXeNWdfusVyR9KY1pbPIXe3iZyQSxQEnHSgD5P8WtrSXHijSNXileXStCjtFnIP+kIs6FH/ABBrvfC9xo+ufFzw3c+AIVS3stPZdWmihKI2Rwp/2s4Ne5yWdtMzGW3icuu1iyA7h6H2pLaxtLPP2S1hg3dfKjC5/KgD5x+LNpPaePtcFibW71HUjafZElDie3ZSMGHsc9/SvQ/hv51t8T/GViDtt0S0laNR8onaP5z9TgZr0uSytZrlLiW2hkmj+5K0YLL9D1FZ+h+GtO8PyX0uno/m6hcNc3Ekj7mdz7+g6AUAa9FFFABXmnwSgkt/D+txToUkXWbkMp6g7q9Dv7620zT572+lSG3gQvJI5wFA964j4Pytf+GNR1kQyRW+rarc3lusgwxjaQ4JH4UAd/RRRQAUUUUAFcJ4M5+I3jc/9PcI/wDIK13deY+GtUl0r44+J9G1G3+zrqix3tnK5/1wVFRgPoRQB6dRRRQAUUUUAea/GeSRtP8ADdkebS71y3juR2Zc5APtmuBnn8L6N4i8cwfEPS5Ly9ur0nT08vdJLAVGxYm7EfpXufiTw7ZeKNFk03UQwRmWRJEOGjdTlWU+oNXP7PtXEJngjnkhACSSoGYH1zjg0AfPceia9dePPEi+GLuXQoYdBtPMiu4/NkZPI/1ZbpuGCCawvs2qeJfBfhTwjaaVcalDBY3F9dwRkRsWyyocnHIODjvmvqfyY/MaTy13sNrNtGSPTNCwxI2UjRTjGQoHFAHzQmoav4ub4cW8Npb/ANrWb3NpPHqkReLfGmCXAHcDI98Vf17wRF4G0zRE1rWYbS+ku7i4Wf8As8T6dEz7cxsrcqPQ49elfQ4ghVgyxIGByCFGQadJGkq7ZUV19GGRQB5L8HvFNhDoMFlPYw2UmpajPHZtZQyrDdbRuMgVifLBGeOnFcp8XzNafE6+uL+4gRH0lBpkFzpou0upA3MQyDtOcnjnpzgV9CrGiKqqiqq/dAHSho0dlLKrFTlSR0+lAHm3xJ1q/sPg/Fa2ljINW1aOKyitIOqs4G4DsABkZ6DNeRG21XR/BHi/wfdaBc6XDK9veWttMwm2xs4V8OuRnIB69zX1OQD1FBRW+8oP1FAHzDqtnrmg+IJvDeoB5rKw8PXY0+42ktLC4BVCfUYx+FaXhO4t/E+q/Dq18MafKlzocRbVblrYxqo8sDaWx8xzn86+i2jRjlkUnGMkUiRRxZ8uNUz12qBQB4F8cLNrXxdPdwt5k+paV9ljhmsmlDHdx5bA4D5x1HGc1v8AgKG/0/4tCyuAN48OW327auP3o4GfQ4zXrzwxylTJGrlTlSyg4qhp+gafpmqahqNpDtutRkD3EjMSWIGAPYADpQBpUUUUAFFFFAHJ/FE4+FniE/8ATk9Wfh6MfDjw+P8Apwi/9BFZXxg1K0sPhfrEN1Msct5bmC3QnmRz0UDua2/BNvLaeA9Et7mNopYrGJXRhgqQoyDQBx3g3n4+ePj6W9kP/HWr06vLkv18P/tGXsWoBLaDXtNi+zSsQBLJFwV69eT+Veo0AFFFFAHininRtQ174keOtJXatzfaDbjSxJgeYo++FP8AvDBpNI1rV9V0rSfDyfD24t59MtHS5uNRt9scJEZA8hx1JPHavW7vQdMvtZstWurRXvrEMLefJDIGGCOOo+taNAHzfY/DzXk8D+DbsSa1LKuswyz6XK37q2QSEl9hGVwP503VfD3jy61268dW+hxhk1kXESOT9uWBDs8sLjG0rnv3r6SooA8Ht/hfq3ijxr4yW8vr7StI1K5jldPKX/SQfmKgnJAHSs3xjo2raP4h1iHw7puu2d3MYxbC1UT2t+qgAGQH7p6Zr6KooA5rwlrN/dK2latps1td2NvD50+0CKV2XkJj0Nc3oegzax8YtY13UtP8iz0lRaaaDGFDseZJB6+ma9JooA8f+KOh+IvGvjez0fSNPhn0/T7OSaV7zKxNLICowe5A5HvXE2vg7XfGX/CI6P4j0u6tzptvdWklwynEbJxG+f8AvmvpaigD5gh0XxlCt1e6zoF/cXkHiK3uHS3hJ8+NFwWUdO3X3r1HwZZatrPxV1fxddaRdaLYSWkdpFBdpslnZeS5X0HQGvTqKAPnK48J6y/xLj0bRYtVh0621walKLq1CxKoJJkEwPIOMAe9ei/BlG/snXriDc2nXGsXEllIxyXj3Yz6dc9K9FmhjuIJIZl3xyKUdT3BGCKh07TrTSdOhsdNgS3tYFCRxIOFFAFmiiigArzH4Cc/D6c+upXJ/wDIhrv9c1uw8O6Lc6rq9wtvaWyF5HY/oPUnoB3NcR8C7Ge0+GFtNOpQXlxNdRgjB2O5Kk/Uc0AejV558WrNZv8AhE7ksQYdfgUL67g3/wATXodcJ8YdL1HUPAL3Wh7jqGlXMeoQKoyWMecjHfhj+VAHd0Vz/gnxZY+M/Ctpq2nzI5kQCaMN80Un8SsOxzXQUAFRzQRXMJiuIkljbqjqCD+BqSigCKS1t5WRpYI3KAhSyA7QeoFea+L/AIkyeGta1u2t7OJ9M0HTUluU8v8A1kspAjQdgMHmvT68l1n4fy6p8QPE+n3sUzaP4o0+NluYwSIJoiBhvxwRQA+x8TfELStNnvNe0LT2019NmuomtAVFqUjLhJAeueBxWHo3xe0zUV8IQ6faaY+qarMIdThS22mIFedp+p9810Fj8NvFt3ZSW/irxd9rjisZrS0itkKIS8ZTfL/eIB6VOvwk8rRfB9tbXVtDdeHmDyzrBzcEJj69eeaAMy5+JKN8Wo/C82j2T+HEuDYLcPEDtuQoO0DoB26VkeIPi3r2ieIPEE1ra6C1pod8tobeQlLueLP8HOD16fpV0/s72p0/7SdeuTr4vftovCP3Xmb92fL9cADOe1dVonws0+x13XNX1WKx1K81K5NxBLNaKzWxx2LZ780AdLqF0R4Xl1Kz0T+0bh4lnWxAVWlfjAy3GR6+1ebWfxg1e98DW2qw6PZR63qGrHTLW2kZtiYY8uw5OPbHXivUPD1nqdhosNvruorqV6hbfcpEIgwycDaOBgYH4VwH/Cn5YvBP9kW2rol/b6sdTs70wH9228naRnOMHBwRQBn6T8TtSivoZtT03T7aGPWn0bVmtVIVrggFJVY87T0IPPvXr+yNlA2qV6jjivF7z4ZavappGhmSTUm1LXf7a1jUliEcUbIOFVc5GenevalG1QB2GKAFooooAK57x/BHc/DnxDHOu5P7OnbHuEJH6gV0Nef/ABa8WRaT4Zk0CyVbvWtdQ2VpZg/MRICpc46AA9aAOh8CjHgDQx/04xf+git+s7w/pzaR4c0/T5GDva26RMw7kKBWjQAUUUUAFFFFABRRRQAUUUUAFFFFABRRRQAUUUUAFFFFABWfruh2HiPRLnStXgE9pcpskQ/zHoR61oUUAeQ2nhL4neCUNj4S1Ww1fSFbbbQahlZLePsN3f8AWmWtl8dJbhFnv9BgjY/M7IW2cHsDk9h+New0UAeY/wBjfGQdPEfho/W2l/wo/sr4zjpr/hY/W3m/wr06igDzH+zfjUOmt+Ej9YJ/8KPsPxtHTVvBx+sM/wDhXp1FAHmP2T42j/mI+Dz9Ip/8KgurH44TQ7IdV8K27Zz5kUchP0+ZSP0r1WigDx3+yPj0P+Zi8Pt/2xH/AMbo/s348j/mN+H2/wC2Q/8AjdexUUAcBFoXxMNqrS+MtOExTLINMUgNjpn0riPhp458deNvFuuaJf61bWx0k7TJDZId53lT1+le7V87/s/fN8WvHh/6at/6OegD2H+x/FnbxTGfrYR1mHwl40LEjx1IM9vsSV3VFAHCf8Ip43HTxz+div8AjR/wi3jodPHEf46ev+Nd3RQBwn/CM+Ph08bW/wCOnD/4qj/hHPiCOnjSz/HTP/s67uigDhP+Ee+Ig6eM9P8Ax0v/AOzo/sD4jjp4x0z8dKP/AMcru6KAPNbnwh8Tp75bmL4h2tuFx+5j0lShx6hmJ/WoZvBnxWlj2j4m26fKykro0YJz/UdjXqFFAHkK/Dz4qxwPEvxS3ByCWbT1LDHoc5FWNE+EGo3errffEnxNceKBbuslpbPujhjYZySmSD2/+vXq1FADURY0CIoVVGAAOAKdRRQAUUUUAFFFFABXKeOfAGneNrOFp3ktNSsyXsr6FsPA3X8RkdK6uigDyy38JfFi2gWIeOdPm2jG+a0JY/XAqX/hG/i2OnjHRz9bNq9OooA8x/4R/wCLw6eLdDP1s3/wo/sL4wjp4q8Pn62b/wCFenUUAeY/2L8ZR08T+Gz9bST/AAo/sn40Dp4j8Ln62kn+FenUUAeY/wBmfGgf8x7wuf8At1k/wo+wfGgf8xjww3/bvJ/hXp1FAHl723xnjRmOpeGmCjPEL/4VyHwx+JfxD+Jd7qVta3mk2R09UZmktC+/cWHGGH92ve7j/j2l/wBw/wAq+a/2T+dZ8Ut/0zt//QpKAPXf7P8AicP+Y5oZ/wC3Fh/7NR9i+Jw/5i+hH/t0cf8As1d3RQBwn2X4nj/mJaCf+3dx/WjyPieP+X3QD/2ykFd3RQBwnlfFAf8ALx4fP/AJBRt+KA/i8PH/AL+D+ld3RQBwmfiiP4PDp/4HKP6VSvIfjBJcJJZT+GYFC4aNxK4Y569BivSKKAPJ2+HvjTxneBPiXrlqNJiZXXT9I3Ilwe6yE87eBxz1PSvU7W1gsrSK1tIlhghQJHGgwFUDAAFS0UAFFFFABRRRQAVyXjvwFb+M7e0miu5NN1XT5PNs7+ADfGf7p9VPce1dbRQB5Lda38ZtEK2cfh/R9dVBgXqSMhk92XcAD9KB4r+Mnko58E6Plv4Bcvkc455/H6V61RQB5ZF4m+MEhwfBmir8gb5rxx1zx9Ripf8AhI/i6OvgzRT9L9v8K9OooA8x/wCEn+LY6+B9JP01E/4VWuvEfxklwbTwfpVuFHIN7v3HP4Yr1eigDyCPxB8bGfa3hXSVHqbkf41dOrfGVZ0j/wCEd0R1YElxdcL7GvUqKAPLpNY+MkSgjwzokvIGFvPU4zT/AO2fjGP+ZW0M/wDb/Xp1FAHmP9ufGIf8yhoZ/wC4jXK+EfjH8Q/HbajD4b8KaTLJYFVmMl4U2FtwGM9fumveK+dv2V+b3xi3/TW3/nLQBrGX9ocKG8nRzkn5R5WRVmzH7QFwrGZ9AtipwBMFy302qa9qooA8osbP42zws15qugW8isV2eRuBHqCB3qz9g+Mg/wCY14fP/bsa9OooA8x+x/GQf8xTw+f+2Bo+z/GQf8v3h8/9sjXp1FAHmPlfGQf8vHh8/wDADRj4yD+Lw+fwNenUUAeY7/jIP+Wfh8/8CNHnfGQf8uvh8/8AbQ16dRQB5vo3w3v9T8RR+I/iHfLqd5F81tYJ/wAe9qxx0HcjHWvSOnSiigDm/G3gfS/HOjiy1MPFNCwktruHiW3cfxKf6VyNvovxj0q2jsbDXPDN9bwKEjuL+KcTSADq+3jNepUUAeY+R8bx0u/BJ+qXNHl/HEdJvAx+ouv8K9OooA8x/wCL4Dr/AMIOfobr/Cjf8bh1h8Fn6Pc/4V6dRQB5BLbfHp5ndL3wwisSQi7sKPQZjz+dM+z/AB7H/L34bb8//iK9iooA8d2fHof8tPDjf8C/+woz8eR/D4eb/gf/ANjXsVFAHgXi3xl8ZfBGgPrOuQaILSN1RjEdzZbpxitTwh4i+LPjHwtaa7p0mhpb3QYoskZDDDFefxFaP7SRx8G7r/r7h/8AQjWp8BRj4JaB7pL/AOjnoAq4+Mg/i8Pn8DRu+Mo/g8PH8Wr06igDyy5PxqkgKQJ4eic9HyTj8M1Q8n47j/lv4eP/AAE/417FRQB49t+PI6Hw4fwP/wAVRv8Aj0OkXho/n/8AFV7DRQB475/x8HS08MH8W/8Ai6Ptfx9H/MO8LH/gTf8AxdexUUAeTW3w78U+ObuzvfivqNv9ltW3DQtOUi3kYHhpGLHd9P8A6+fVYIIrW3jgt41iijUKiIMBQOgAqSigApCAQQRkHrS0UAeY33wrvdD1+4134a6sNGubok3NlMm+2mJ77ex5NH9n/GMf8xvQj/2616dRQB5j9j+Mg/5iugn/ALdzR9m+Mg/5f9AP/bE16dRQB5j5XxlH/Lz4fP8A2zNGPjKP4/Dp/wCAtXp1FAHmO74zD+Dw4f8AvqmySfGgxMqQeGwxBAbc3B9eteoUUAeJ6pc/HLR9IvNRubjw+0FnA88m1CTtRSxxz6Csn4ceOPiv8StOvLzSdQ8PWyWkoicXVvICxIzxtzXsfjw4+HHiQ+mk3X/olq8h/ZQH/FJa6f8Ap+X/ANFigDr/AOz/AI1jprHhA/WGf/Cj7F8bh01TwYfrFcf4V6dRQB5j9m+Nw/5fvBp+iXH+FHk/Gwf8vHg8/QT/AOFenUUAeY7fjWP4vCR+hm/wo3fGof8ALPwqfo8v+FenUUAeaxW/xevxJbX1z4f02N0wLq2DyOhyOinA9av+DPhdY+G74axq15NrevsuH1C6OSvqEH8Iru6KACiiigAooooAKKKKACiiigAooooAKKKKACiiigAooooAKKKKACiiigAooooAKKKKACiiigAooooAKKKKACvmz9n28K/GvxrZ7QRMJpS3psuMY/8AH/0r6SPSvmz4FWjWX7Q3jS3kIZoorpSR3/0pKAPpSiiigAooooAKKKKACiiigAooooAKKKKACiiigAooooAKKKKACiiigAooooAKKKKACiiigAooooAjuOLWX/cP8q+a/wBkvnUPFJ/6ZW385K+krw4sZz6Rt/Kvm/8AZLH+meKD/wBM7b+clAH0tRRRQAUUUUAFFFFABRRRQAUUUUAFFFFABRRRQAUUUUAFFFFABRRRQAUUUUAFFFFABRRRQAV80fsrXEo8S+KbcN+6eOKRlwOWDuAc/QmvpZvun6V83fsz2f2Dx94xtC/mfZwIt+MbtsrDOPwoA+kqKKKACiiigAooooAKKKKACiiigAooooAKKKKACiiigAooooAKKKKACiiigDyX9pU4+Ddx/wBfkH8zWx8CBj4I+Hf+uUv/AKOesX9pc/8AFn5R63sP8zW58Cxj4J+HP+uMn/o56APQKKKparq+n6HYte6veQ2dspCmWZtqgnoM0AXaK5cfErwWenifTP8AwIWnj4jeDT08T6X/AOBK/wCNAHS0Vzg+Ifg89PE2lf8AgWn+NOHj/wAInp4m0n/wMT/GgDoaKwB478JHp4m0j/wNj/xp/wDwm3hX/oZdH/8AA+L/AOKoA3KK5Nvin4EV2Q+LNJ3KcEfalpR8UfAx6eK9K/8AAlaAOrorlh8TfBJ6eKdL/wDAlacPiT4MPTxPpn/gStAHT0VzQ+Ing49PEum/+BC08fEDwieniPTf/AhaAOiornx488KHp4h07/wIWnDxx4XPTX9P/wDAhaAN6isMeNPDR6a7Yf8AgQv+NPHjDw6emt2P/f8AX/GgDZorPste0rUZ/JsNRtriXGdkUoY4+grQoA574gHHwz8Tn/qEXf8A6JavJf2UB/xRuuH/AKf1/wDRYr2TxXax3vg3WbWfd5U9jNG+04OGQg4/OvHf2UhjwTrR9b8f+ixQB7zRRRQAUUUUAFFFFABRRRQAUUUUAFFFFABRRRQAUUUUAFFFFABRRRQAUUUUAFFFFABRRRQAUUUUAFFFFABRRRQAUUUUAFFFFABRRRQAV87fBrn9pHx43tc/+lKV9E187fBXn9ofx23tcf8ApQtAH0TRRRQAUUUUAFFFFABRRRQAUUUUAFFFFABRRRQAUUUUAFFFFABRRRQAUUUUAFFFFABRRRQAUUUUAVtQONMuT6RN/KvnX9ksfvvE5/2bf/2pX0ZfR+bp9xHnG6Jhn04r57/ZXt/sl94tg3bvKkhj3YxnBcZoA+i6KKKACiiigAooooAKKKKACiiigAooooAKKKKACiiigAooooAKKKKACiiigAooooAKKKKAGv8A6tvpXz1+zvz8S/HR/wCm7f8Ao56+hZP9U/8Aumvnv9nTn4heOG/6bt/6NagD6GooooAKKKKACiiigAooooAKKKKACiiigAooooAKKKKACiiigAooooAKKKKAPJv2k7aSf4O3UkYBWC6hd+eg3hf5kVt/A8Y+Cvhz/rg//o16z/2hzj4I6x7yW/8A6OStP4JjHwY8Of8AXu3/AKMagDu64D4wQRXXhbTba4jWSKbWbJHRhkMDMuQa7+uE+K/OiaMPXW7P/wBGrQBqH4b+DT18Nad/34FNPwz8FHr4Z07/AL8CupooA5Q/C/wQevhfTf8AvwKafhX4FPXwtpv/AH5FdbXmHxI+IGv+HPGej6HoD6NAt7BLNLPqzsiDZjgMCME8+vNAHQf8Kn8B5z/wimmZ/wCuIro/7J07GP7Ptf8Avyv+FeKS/GrxRqCeH4NHg0HT7nUEuftE+qyOLfMJxlGBHyntnPPFJP8AHHxF/wAITZ6jDDoFvePq76bLd3DStZSBULeYhUhgDgetAHrMngPwjK7PJ4X0ZmY5ZjYRZJ9fu1dj8OaLDCsUWk2SRoNqotuoCj0AxXkd18YfEeneC4NUuZ/C13Nc6oll9rsGnktbVCu4vJzuJ+hHXv0qfUPi/wCItM8Hrfz2mhyytqaWY1K2naWy8pgT5pVWLjGMEE9TQB6qfDujHrpVn/34X/CmnwzoZ66RZf8Afhf8K8yb4seIbbwg2rT22iXm7UYLWC5sZWeGaOT7x27tysP9r16Vo+NPifqnhvxRrumWVnZyx6boa6lG827LOZdhU4PTH40Ad0fCugHro1l/34X/AAph8I+Hj10Wx/78L/hXmenfGLWnnuobuHQ74ppEuoo+lzO6xMi5CyZPGc47VP8ADT4keIPGGt2i3+oaE1vcQtI9nbh/Pj6nvxx0oA9DPg3w2euh2H/fhf8ACmnwR4YPXQdP/wDAda3aKAMA+BPCp6+H9P8A/AdaYfAHhI9fDunf+A610VFAHzP8dp4vht458L6r4OtYNNnSKZnECBRIMoMMB1GCa9u+HHjaDx/4LttbhhaB2PlTxnosigbseo54rwn9rE/8VB4eH/TvN/6Eteh/szjHwhX3v5v5LQB6X4jOPDGpn/p1k/8AQTXjf7KYx4G1g+t+P/QBXsXic48Kaof+nST/ANBNeP8A7Kox4D1U+t//AOyCgD3SuY+I2qXui/DrWtR0qc215b2rPDKFDbG7HByDXT1xvxa/5JTr3vakUAc9beCPiZPaQzj4sMPMRX2nQoeMjOPvVL/wg3xPHT4qqfrocX/xVei6b/yCrT/rin/oIqaVzHC7jqqk0Aeaf8IV8UR0+J8J+uix/wDxVH/CG/FQdPiVan66On/xVcva/HzVJ/B2p3kmm2sWq2V/HEkbI4imgeXZvHzZJBBB5xnFblz8W9Tj8PeNtShsrUnw9fLa2yurjzAWwS3P8sUAXP8AhEfisOnxFsT9dJX/ABo/4RT4sjp4/wBNP10sf41kQfG+5i8e6po2pWVtHZWWl/bY5F3B3byFlKnkjHLdu1Ytr+0DrVx4f0q7nsNKsri+vZraRrhpBHCEVTk45zlqAOx/4Rj4tjp460k/XTD/AI0f8I38XR08a6Kfrpzf41h6l8VvEMXh/SbizvPDzyalqD2gukd/JjGzcMluh7flSQfGTW4/DlzLdWljPd2Wr29hJcW7FoZ1k5JX3A4/GgDYufDHxgnt2iXxro0e7Hzx2TKw/GqH/CE/GUdPiBp5+tu3/wATUlv4/wDHmv8A9p6x4W0ayudI0+/a0FrIxE84Q4dgen4VZ8e/Fm98K+LtF0yz09ZYJEjn1UuDutY3dUX6HJNAFWPwb8ZhKvmePdN8vI3EW7E49vlrR/4Q74njp8QYPxsRW1Z+M7i7+Md54URIjZW+kreeaAd3mGQLj6YIrtKAPLLrwx8U7W0ln/4T60YRoXwdPXnAzXI/Bj48al4l16Dw14qh+0Xd0zfZ7yJQvIBO1lHsOor3TWDjRL0/9MH/APQTXxf8Bhn40aF7PJ/6LagD7dooooAKKKKACiiigAooooAyvFGoT6V4U1O/tCFntrV5IywyAwGRxXmXhl/i94l8M2Os2/iXQ4o72ISrHJYHKj0ODXoXj04+H2uH/pxl/wDQTVH4VDHwp8PD/pzX+ZoA5/8Asn4yDp4k8PH62Lf41bfSviuscPl+JNBZiR5oawYADvjnmvQ6+Zrj4l+JbfUNWvE8TXf2mz1d7a2042Qa3kTftAaTtQB67HpfxP8AIzL4j0Lzdo4GnvjP13VDJ4Y+JE0iSHxvaRF3XzI49OG1BjnbluefWvPLvxJ4u1Tx/rVr/wAJJrNhFaXEUaQaZpouIkygJBYjI5roEm8XeNvE3iKDSvFT6Onh0xQQx+Uu2eXZuLyZ5APoKAOq/wCEU8djp8QU/HSE/wDi6P8AhFvH46fECD8dFT/45XLG88U+NfGM/hpvFA0ddK02Ka5l05ATczMeoLfwDjp64rJ074h+IbaDQNY1fUfNsLHVbjSdRkQKEuB/BM2OhH5ZoA7/AP4Rj4hjp8QLT8dCX/47VW88H/Eq6KGL4nQ2u3OfJ0CL5vruc15lrHinxbe6To17HrGsxR69rM5iTTUDy/Z14QRqQPQnGa0tc1fXND8E6T9r8Q+LrRbvWRDLNd2ax3ix7DkIgJ3DOMfSgDsv+EH+KA6fFcH66DB/8VR/whXxTHT4oxH66HF/8VXB6F4i8YXmjeIr3R9f1a+Tw7dxTRRajGsdxPHjMkckeM4IGRkjt716T8J9T1jxRp1/4r1a5nFpqk5On2TvlYIV4zx3JFAFL/hDviqOnxMtj9dFj/xrk/hX8X9bu/iRqHg3xjdrqEonkgtruOFY/njJBBVexx+Fe9V8efDz5v2oHP8A1FLo/wDjzUAe9/Fb4qzfDKTTJG0f7faXjMskgl2lSOw46kZ/KvnLwb8Xf+EP+IeveJodL+0DVjJiF5MGMNIH69+mK+jvjr4VTxP8LNQ2R7rrT1+1wEJubK9QPqMivj/wfoMvibxhpukQDm5nVWJ6KueSfwoA+6fBXiGfxV4PsNaurFrF7yPf5DNnAzwfxHNb1ZOganot1ZJZ6Fe208dovk+XC4JTb8uMe2K1qAPK/HOteM7n4oaf4X8H6paacsti9y73MJcEjIxxWdd+Afi9fyI0/j+0t/LTaPs0JXcfU5Fa95z+0tp3to0n869OoA8QT4a/F8Bd3xHjzg5wnft/DVqT4b/FVQvkfEsscjO+3AwP++a9looA8ui+G3j3yUMvxVvll2jeF02JgD3wSRkU/wD4Vz4+H3fize/jpEJ/9mr06igDzH/hXnxDH3fi3dfjosJ/9mo/4V/8SB934uzfjoMB/wDZ69OooA8x/wCEC+JY6fFpz9dCh/8Ai6P+EF+Jw6fFQH66HF/8VXp1FAHmP/CE/FAdPifEfrosf/xVH/CG/FMdPiVbH66On/xVenUUAeY/8Ih8VR0+ItkfrpK/40h8J/FjHHxA04/XSwP616fRQB48fh78WNxI+JcfJ/59m/xrR0fwD8Q1lk/t34jTNHt/d/ZLcZz77q9QooA4T/hBfEw6fEPVPxtozR/wg/iodPiJqH42cZ/rXd0UAcJ/whXi4dPiJefjp8R/rR/whnjIdPiLc/jpkR/9mru6KAPObz4f+NLtlP8Aws69h2j/AJZabEM/X5qr/wDCtfHA+78VtQH10yI/+zV6dRQB5j/wrjx6Pu/Fm+H10mE/+zUf8K7+IQ+78W7v8dGh/wDiq9OooA8vfwD8RY42b/hbE5Cgk50eEf8As1eZeA/j34g0/wAayeH/ABO5163mvDbRXKqsciENtDALwQeuP1r6amGbeQbtvynn04r4Nscw/F9NzeaV1g5Yrnf+9POB60AfRnxu+K3ib4d6tZW2lafZS2N7Ax86cMzFwcEYBGMAivBPAPxZ1vwDealLpFnaXD6pIryCdWOCCcAYI/vV9HftC+El8R/DSe8iUm70o/aI8ZOV/iGB7V80/CLw0nin4maXZTqr20Un2icN3RPmP8qAPt3Q7u41Dw9p15exiK5uLWOWWMDGx2UEj8Cav1zOj/ETwlrl41lpmuWslyjmMwM2xtw4Iw2M9K6UEMoKkEHkEd6APKNYs/Fnif4q6tpujeLLjRrGwtIX8qJA25nLc8/Srj/D3xv8vk/Ei/Hy/NuhU81o+HefjH4rP/Tpaj/0Ou7oA8x/4QDx+OnxIuvxtlpyeA/iAM7viPOfT/REqtc/Fu40/wCJeu+HL20QW1pb5spgD882zdsY9ORnH0qnpXxN8VeLm0rTPC9lYJqUunfb72W5J8uMFyoUAeuKANn/AIQfx8IV2/EafzN3zZskxt/x6VNH4L8dLPmT4iTmLcOBYR5K85/HpXI33x21HT7fSvtOkxi5XUnsdUjjJcLs6tGe/r+FaOqfF7U7WbWDaWdtJBbajZ21o5J/eRTLkufegDbvvAPjK9fj4k30KLJlVjsYgdvoT3NFv8N/EaY+0fEnWpPmJOyCFcjsOQfzrQ+IvjK88HpojWMEU39oagttIJc8KVJyMd+K4bSfjrear4Tv7sadDFqdnfJF5Jz5bwtIF3gkgkjvj2oA6WX4ceLi3+j/ABQ1aNdxOHsoW+XsO3PXn9KnPw98U/bFZPibrQttvMZtYC5Pru24x7bfxrmH+L2tSeKNR05L/wAKafHaXxtUi1GaZZ5BkcgKCO9bXij4qXnh34kad4fj06K5sGEQ1G8BP+jtI21cc+vY0AaR8BeJdw2/EjXNvcGC3JP/AJDq3ZeC9bh3/bPHWtXAONmEgTb65/d89q5Txf8AE7X9I8b6lpOlzeGbW2022Wdv7XumhkuCc/KmOp4rsfh94xfxj4BtfEN5afYnkVjJGAdo2nqpPUY70ASf8IlqPbxhrX4+T/8AG6P+EU1Pt4w1f8Vi/wDiK5TwN8Vr7xRrutWt9YRWtvHA91pbKc+fEjFSSQT3Ge1bfhn4gHU/hP8A8Jjq0EcAjgkmljjJ2gISPr2oA0P+EV1bt4v1T8Ui/wDiaP8AhF9Y7eL9R/GKL/CuR0Xx74yuLzRLvVrHRotO1iQbLZLoLcwxN91yGI3fgKyrb4s+ILzxRdWS3fhy0toNRazEdzI4nIDAA7R1zQB2c/gPWZ52lHjzW49x+6mwKPoMVH/wr/XR0+IOufiEP9K4W7+N2t22pauAujGPTL/7MLR5GW4nXdjK9s1oa38XNesvEGsWtumiWsGmxRyBL64ZZJNybtox1I5FAHVf8IF4hHT4haz+MUZ/pR/wgniUdPiHq3428RrF8X/Fm+0jwXoOqaRpgkv9UjFzJayA5ihUbpG/w+tXdX+KR0/WNLe3gSbSrzSJtRdwfm+VQQB/KgC7/wAIN4pHT4i6n+NpEaP+EJ8Wjp8RtQ/GwhNZXhfxj4+1O90jUNT0C2bQ9YYbPsjFpLRT0eQ+n+NeoUAee33hLxpa6fcTwfES7kkijZ1RtPhAYgZxmvJ/hN+0Hqs/iRdI8c3DXkV9IscFysaqYXJxghQMqc9e1fSV/GJdNuYyzKGiYEr1HFfBXh+3S3+JtlbxZ2RamEXPXAkwKAPrH4q/Fw/DS5s4bjQpL+C9jbZMlwEww6gjB9a+ffhn8YIPAXiDXdRm0eW+/taQusaThPLy5bBODnrXvP7QnhIeJPhlc3kEKveaWftMbd9g++Py7V8s/Drw4/iv4gaTpKpvSadTKNucRjliR6YFAH3T4d1WXXPDdhqk9nJYyXcCym3kILR5GcZH51pUyGGO3gjhgRY4o1CIijAUAYAFPoA8QsNY+LHi3xNr6eGtd0u007Tr97ZVubZSwA6fwHP512UXh34keShl8c2YkKjeBpMZAPfBrO+DvN/40PrrclenUAcJ/wAI/wDEYdPG1kfrpSf40f2F8SB08Y6cfrpi/wCNX4vF88nxYuPCX2aMQQ6al6J8ncSWI246Y4rjvHHxlvfCOt65Zw6XDdJpqW5TLEM5kbB6fWgDov7F+JI6eLdLP103/wCvR/Y/xLHTxRpB+unn/GsK/wDjM6R3Uun6fG8MWh/2mryEj94Dhoz9DwaueAfiDrPiXUpDqr6GLNbYzhbG6Mkq9xkduKAKeo+BfinfX0lzH8Q4rUPjEMFvtReOwwaq/wDCvfiyPu/EtT9YP/sa0vBfxZm8T3XiCO6sUs1sYWubFmJxcQgkb/zHasbwx8YvEF/f+HDrOm6cbPXpzBELO53SxHszL2HFAE//AAgPxeH3fiTCfrbj/wCIo/4Qb4xj7vxGtfxth/8AEV2PxL8azeCPDKXen2Yv9QuZ1gtbXJHmsevT0GTWTc/E+VtE8FajYWsTr4ivktZ1Zj+5yp3Y9wRQBif8IV8Zx934iWJ+tqv/AMbo/wCEO+Ng+78QtNP1tF/+NV2Hjrxle+H7rS9I0CzivdZ1aUpBHM+yNFAyzsfQVyl98UfEmkeBtYvNT0/TBqmmzxxCeG48y1k3tjJwdy47g+lAEX/CJfHEfd+IGk/jZr/8ao/4Rb46jp4+0U/WyT/4zUSfFjxHZ+C9X1m9m8K6hJamJYf7NvWdULtjMgySBznt0pNL+M2tvpuvDULTRb640zTzex3ej3LT255wI3AOQ340ATf8I18dx/zPOiN/25p/8Zo/4R/47j/mctDb/t0T/wCNVL4P+KfiTUPF2k6P4ksdEdNXtzPA+k3LO0IChv3iknHB6VoeGvizJr3xJ1LQXsI4tNiMsdld7iGnkix5innHHNAGV/Yfx3H/ADNeht/26r/8bo/sj48D/mZNCb/t3X/4inW3xd8QastjYaLotlLq+oX1xDCryMYUhiOC7Ed/pxXe+DtZ1zVrO6TxPpA029tZjGTExMU47MhPOPrQB5L4o8V/Fr4c21nrPivU9KvdM+1JHNDbQKHdSeRnaMcV7VoOu2Xibw9a6vpMu+2u498bHqPY+4NeU/tQn/i2NsPW+T+RrofgCyt8GNHCMG2+YGweh3nigD53+KHxC8aPqWveD/EF4JbP7Vjy3iAIVX3IQfpiui+CnxJ8Y3/iLw/4QsnhOlWrnzFWEbvKyS2W/GrH7UXhYWfiOx8Q20QVLxPLnKofvr0JP04/CrH7NMOi6L9u17XL62tLi5YWlmJ3C7h1cjP4D8aAPp6uE+KvOl6GPXW7T/0YK7eGeK4jElvKkqHoyMCD+IriPinzY6APXWrX/wBDFAHd0UUUAFcL4n+G9v4r+IWk63qyWt3ptlazQy2c6Fi7OOCO3Bq78TdV13R/Al5d+FYGm1AFVUom9o1JwWC9yBziuJ+Hfj68muNXbVPFMesWVnZeey3dr9murd1+8DGFAK++TQB1Or/DHTtV8b6Fqk1tYPpWlWktv/Zstqro24AKQCNvHXpXLXPwT1IWENvpmsWNsLbX31a2SS0LxRIQdsfl5A49OBWZ4K8Z+M/F0er6TceI49N1O5hXUtLuEtopfKt9xzGUxjOAOuTVTSvFfxCi+GWreLtQ8XrdC2me2htv7OgXDLIAX3BecjPGKAO4l8CeMptAkt28U6fHdi5SeNLfSkit3UAho5EBy6ng568VmaX8I9d0jRdQex1+1tdWv72O7mSCzC2ZCqQYjHnlTuOffBxUXjHx94k0/XJYNLuRDHJ4akv4UKRMFnC5B+YZ49CSPasXwV8SPEt74y8NWF14m/tePU4GkvbefSltRDhc5R9q78e2aANo/BK7u9F1Vr7WLePWb+5huUktLUR28LRdAI8857mrEvwm1rWE8Q3/AIl12C61jV7FbGOSG3KRQRBt2NueeRmsPS/ibr+t/Ey+00avBZ6NqUk1hpjKiNJDNGOHI68nPXg0zRNR8az+IPFv27xjNPH4ZwvkrbKouR5ZOeOnNAHU6l8IvNv0uNKurezU6JLpkyLDjzHZcCQ4PPPPNV/D/gfx14U0VIIte065jtLR44YoNNRZWO0hfn69cdaxPD2ueOfGV1pmjp4hXS5INFS/ubiONWknd2YLwR0AAzWXcfFbxh9h0G5hK3MtvqV1bajFCgH2lIMbmA7cZNAHuXhoamPC+nDX2Dal9nT7SR/fxzWpXnvw28ay+L/Efikx3a3Om21xD9iwPuI0QJH516FQAUUUUAfNP7WNqovPD13uO8pLHjtjKmu7/ZqGPg/H73sv8lrjf2sYZDb+Hpth8oPKhbtuIBx+ldp+zaMfB+D3vJf/AGWgDjfj/wCN/GXg7xUkGnagqaPqlkUWBo1YBgcOc4yDgjvXjPgz4ieL/C1u+keFdRNql7Mp2rCjtvyBkZB+lfS/7RnhU+IPhnJfW8bPdaVILhQoHKdHz3xg5/CvCP2fvDy618UbW7uQotNLU3UrMwADDhOv+0RQB9h6LHexaHZJqs4uL1YEE8oXaHfAycdua5r4tf8AJLNb94MfqK7JXV1DIwZT0IOc1xvxb/5JfrHvGB/48KAOr0//AJBlr/1xT/0EVLKnmQugONykZ9KisP8AkG23/XJf5CnXjFLGdlOCsbEEduKAPHbz4AJe+FtPsX1VI9Rsr6S4+1LCdrxs+7yyu7noDnsat638H9bvbjXLLTPEFvb6Jrl4t1dW8lrukUggkK2e+PSvItLvdWs9PstcgbXbW8n1nyTqj3m61KGTkFM556cjFdbY2F1rXj7XJZdP1K+SDVmRZotaFuiLwcGM8kDrxQB1uv8AwQbVtTvp7XVorQXVzbuhEP7xYY4vLaPOedw/Cql/8DtWNyt5pWt2UVzHq1zqCC4tPMjAlxhdpPOMVyXiRtU0/wASaxrWrzX8gi1EfZNW0vUN6Wa54jeEn6ZqzBPPrfjrxFJcWWsaokU8XltDqv2VYlKAklCeh6+lAHdwfC3Vr2PQ4vE19pV3Hpuom7eK3shEkibMbdo4znnNV7n4MO7arBZ39vb2d3q9vqMMCRkCJUB3Lj1NcH4zvbmLxP4wlS11y5TTI4jb3Npf7IrP90OXH8Xr+daGqeI9X8LTS3FxfzXE3ibw9CLQhyVN38q5APThv50AddJ8MPE+n3F/p/h7xVDYeHdRumupYvKPnxsxywRx0BxTNU+BsGvXGuXmta1cy3d/GkNmUkKrEiAbN4/jOQDXPWWhy6348HgzxVrOo2dho+iQyxiO8MRlmJ+Zy3Vup/KsfSPEmsXGsaBp02q3F1a2Gr3VrDcbyDPGiHbuI+9igDvU+Gfimz8RQa3oviezhv10qPTZnlty+8KSdw56/d/KvT9Niu4NLtotSnS4u0jCzSou0O2OSB2r5i8KXN5YXnhTVIZPEVnPe6iYp7u7uvMtLlMtlEU8gkD9K+ifC/iy18VRXMlnaXtutvJ5ZN1A0e48/dz16UAX9cOPD9+f+nd//QTXxn8Axn40aL7GT/0A19oapEs+kXcT52vC4OP9018X/BmaPTPjjpKBWdftTwLzyM5UE0AfbdFFFABRRRQAUUUUAFFFFAGD45gkufAWtxQKXkeykCqO/wAtUfhcMfC3w+P+nNa2/EJx4Y1M+lpL/wCgGsb4ZDHww8Pj/pySgDT8UeJLLwl4fn1jVPMNtBjcI13NyccCvH/7S8Ay+DfEek3Mmr2SSz/2rOk0JWX5mBBQdxmu/wDjBpF9rnw0v7DS4JLi5lZNqRjLY3DJrivEnwmurfwPqV5Hc6lruuXVjFaxrJgNCoIOAB1xQBDpNt4M1LxNdSwa14p0W/vYftbrLIYRMka8sMrzgCs9X8EeKPF6mC78S6RFq4Fs94v7q31IgYGTj7xx171NP8LdfTxJDbx3Go31veaBNb/a7s/8eUpUfIGHTJ4qxLpvivxXpHhnwlP4XutK/smaN7q/nwICI/7hHXNAFXxLdfDv/hIoYLSXxDpqWMS6ZcappDFIFXOBHI2DnB9B3qxqut+Ah4evvh1Y+H9fvLC3kVZ7jT7YSnzGw2/ec/MeucVY0SLxZ4RsdR8I2ngx9Tmu9RkmTUZ4w1mySNndIe+PSsY+HNc0bxp4jv8AUfDvim4jubyKSJ9AuzDE42AH5AwLDP5CgDV8Van4FNnYaNNB4nWHwz5am90xSn2NmXjzHGMNg84FNudS8GaNMlvc33jHxFDo17FfyXpLXMdoxX5VdzghcHOOtUPFPhfXZPFF9daH4R1yx1G9WN7XUdP1DETnaM/aVbgEdCO+Kj8VeFvFFrrs01j4d1qPXbmNPK1jQbzZBcvtAJuUPyrzn0BFAHTTeJ/C+l+LfEkGkaD4k1e81iCKe9fT4jIhVkAUgAgr8vfFXdP8eaF4F0i28N6DoWuXsem2onniEI8y0iYk/vMnOeTwM1wOteCfFKeM7m/1rwpqmttcWcCfaNL1MWoEij5s46+nStbxb4a1261aLU7LwTqMF29lFHbXul6p5U8TBcbJsnDY45wM0Ae56ZqNtq+l22oWLl7e5jEkbEYyD7V8XtrM3gT4+ahqNpaNqUttqExSAZBkLEnHH1r7A8H22r2fg/TYPEcqzanHABcuvdq+VtNAk/awhBGR/bXQ0Ad0/wC0hrNzFLDJ4DuXUgpIo3nqOQflrybwL4s/4RLx9fa1aeGZbltsixWi7s2wfj09DjmvtDWbmz0bRL3UbhIo47eFpWYqOwr5H+FHjpo/jNLeak6+RrsjwTblGAW+4fwOKAPPBr+o2et3OoabdT2M0szyHynKlcsTivTvCP7Q/jnTp1t7mNdeTGFikQ+Zn13LzXomk/swaY2rXF94k1WS6SS4aRYLddilSc4J6165oHgbw14Xj2aHo1ranu6xgsffJ5oA8x8Ka/eeJ/jdpWp6lpc2lXEmjSbraXqOev0Ne215rcQSJ+0haTOpEcmjPsb1w3NelUAFFFFABXk/xX8Z+I/C/jXw1F4eJmt5FlmvLMBf30aYzyRkEDPSvWKwdV8H6drPifTddvGm+06ajxxRqw8tg/XcMZP5igDxk/EfxHr2pPpGj68oh1fXI7S1vokQtbQNHvIXjr2yckVN4n8QeLvBY8ReF4PEF5qbxaet7aajKq+fBlsFSQOR79q72H4LeFbfR7zT4PtsS3N59tSeOfZLbS9jGwHAGe+afD8H9DTStStbnUdYvbnU0WO41C6u99wUByEB24C+2KAPOx8SPEU02kWNxqj22r2en3X9o264IkZY90cmMdwQQema7WLxHqyfs3tr/wBtkOqLpTTC5blt/PzVr6l8KfD2qeIIdZm+0x3cdi1ixjkAEiFdoLcfeA//AFVUsfg7o1jo8mlf2vrs9jJbNbNbTagzR7WHOE+6D9BQB5zofxI8Saf4ouJtc1N5tFOmwRvIWGLaWSPKueO7cE+9Vj4y8U6heaBCuq67LHNo7XUw0nYZZHDsAxDDB4x0r12P4WeHVsNSs5Unng1K2jtplllJ2ogwu30IrKufgj4dmWx8m91O1axtvssTwXRVjHnOCfxoA5vxt4v1TRvh1oGn2OtXdjquryk/a9VKpNDGuSd+AB2x+NZniP4gX+u+APBlzDq1/Zm/uTb6hPpS75iyAghR3J4P416VZ/C3QoL6wur5rjVGsLdreFb5/NAVjknnvS2Hwt0HTLi3ex86FLbUG1CKJX+VJCMED29qAMD4Na9qeqza7ZXOp3epWGnzpHbTaggS5BIyQ6/yrz3/AISTxbP4v1f+x9c1u61C21fyLewSANatHu53N/DgZr3nRfClhoWt6zqdkZPO1iZZrgM2QGC449KPDnhPT/C8movpxlJ1G5NzN5jbvmPp7UAeKXOreKJNJ8ZeJR4pvrSXQb0+TZAq0LgDOw55xmoNS8WeKb/xfcNHc+JJbeS0tp1t9Ijj2wF0BYHd79K9OuPgv4Xu9Su7u6bUJFu7n7TNbfaiIZG917in6z8HfDmtaxNqL3Oq2U0yojrZXrRIQowvAHYUAYnjC28aWHhW/wBU0bVJgbq2tY4baRl86PH+sIzx5hBxgd6j+EGuyTa/qWkXGraq5SFZV07WYsXEJzy2/oQfSu61TwRpOs+EYvDmpG5ns4guyRpj5oKnKtv9R61X8K/D7S/Cl/PfwXN9f308Yia5v5/NcIOig44FAHVUUUUAFFFFABXwd4wnmt/jBqc9rCJ5o9TZo4iDh2DcDjB619418Laz83xyuPfWR/6MFAHp198UPjPqBuLV/CHlxyxGN4V05yBkYzkk88+uK4rwRbfEfwBq1xqGkeELh5LhDG4nsiwCnsPSvtDFIwJUhThscH0oA/Oq9ubr+2bm4mDW9207vIqDaUcscj2wa7nwJ8T/AIgaLcR2Xh24udRjZhi0kjMwPsPSvdtO/Zr8NjXbvU/EN5c6o1xM8vk58tAWYntyetep6N4a0bw/bLBo2mW1nGvQRRgH86APOPhJqmu6z428S33inTU0zUJIbfdbISQq4bHWvW64Twxz8W/Fx/6Z2w/8dNd3QB5frnwhbX9Q8Vz3d/Gg1ryntWQEPbOg4Yn/AAqlp3wo8S+HI9KvfC+uWFtq1tY/Ybtp4WaKdAxYEdwRmvXaKAPKdP8Ag3La3uj3V3qUd1LDey3uo7kIE7yLjCjsPrVAfAq4tdL1iy07WYlS81GG9tWmjZ/IEeSEPPI5wPavZaKAPNtY8AeJ/E8Wmr4k1zT5m0+/W6jNvasgKhSCpyx55rgPE3hDwdo9jpmh6t4wsbDWdKvGuCxyN0Tvu2MvXt619EV84eKvItvjT4im1LUV0uF4ovLlm0L+0FlIHQf3aALuqaXD4X16TVV8a+F7O31e7+3QNd6es8xU+jHJA9+PrV7UvhboniSW9u7/AMYLLrfiGb7VpslvMVhcIBtPlA4fGPXiqdzr1p4Q8calr+v6TdatZX+kwppcgsvkkwPmjUY/d554Nc34N1H+yJvC3inVIpYNDt729UtFCzizDtlI2VRkflQB6LbeDdFvtW8Q63rusaVqoj0xLG6d7cN9kmReXO7OPX1qHSJdP0D4BxaLH440yNrhJLe11MqRHzyVAznIBNcTLcazqXhbVYND0q6lHi7Xv9HjlUxebAvLbsj5VbGMmtnQ7W40fSvGvhfV/DyaaFtWv9Ptg4uFhDLtKq4Uf0oAXwv4X8HQ6lol14M8aRyXFqDYXMczSSJMZVIKxhvu5OTxxTvC8SaWo+Heq+PdDubFllglsEtiHKtnjzemcnpmmXWmSx+D/haLKBoZWuR5hSI53bGwWwPX1rDW505Phm3gs6Pcjxk95g5tDueTzM+Zv9Mc5oA3R4Hm1KRLK+8ZaXcp4RmjZ5EsyJ0iU5Cu3oB6U+50+Hwvq00y+O9Bt4NSujqESXGnGWRUdgfvc4BHc4rl73w/rdhH431+0tppZ4ZlsryDDfv4WiAZl9wwzmrWumDTDa3MN1dWN7NodvDItxp32i3uht4jBxw1AHXt8GtU1OHUvs2vaVJp2s3X2tpls90wVjnCPniuin+ENtdTeIGvJLa5GpWcVtbNLDueAom3du/wrpPhx9pHw70cXunrpswtxm2Xogzxx2+ldPQB5N/wpQ6re27+JtWkuLez0tLC3jtXaMgj7zMe4Pp7VDpXwZ1K3/s6HU9ZhntrO0urH5UO4wyfcHPcc16/RQB5j4b8AeM9P1TSYtZ8VQzaLpBBggtY2SSYAYVZCeCK9OoooAhu+LKf/rm38q+AoNRj0n4g/wBoTo7x22otKypjcQHJ4zX35e8WFx/1yb+VfB+gwCb4qWcdxEHjl1PlXXIYGQ9j1FAHu2o/tR+Gb2zmtG8O6nJDOpjkDmMfKRjpuPPtXlPwt+IPh74deK9S1ebTr+9EiNHZqpRCik5G7nrjA4zX1feeDPBemQ3Oqz+G9ITyUaWSQ2kfYZ9K8G+COu+Gde+JWu6fqmiaaU1OU3FgslqhVNp+4MjjjnA70Aea658StSk+IWo+JvCl1e6Ob1txj87JxgZBxwRxXf8Ahv8Aak8RWTpH4l0611OHPzSxDyZMfh8v6VreMP2fPEPiv4mald6fHp2j6M7KYnBGCMc7Y1HX64ruPCf7OHg/w+8dxqnna1dJg5uDtjB9kH9SaAF/Z+1VNd0nxHqsUbRJeaq8qoxyVBHSvXa8t+CMEVvb+KYreNYok1mVURBgKB2Ar1KgDzPxL4K8Xv8AEmfxT4R1OwtWmsUtGW6hLkBWJJ9Kxde+EOv+INSvdSvNRs/tN4bQyBUIXMThmP44r2aigDxrU/gndv4h8U3Wl30UVnrVg8MEL5PkSOQW/DIz+NVJvDPiLwzostrrGteGdLW4sTZRXK2/lSNwB97v0zXuFeLfHWYw+I/Ckks9vBbxyyuz3duZoQdv8SjrQBBpfgLSPD8tj4j0HxhDJYWto9jeSXU25GUrjap7YJzin+Hfh/oMGi+FNd0bVtIjbRroS32oW7HFyvI257E5HWuWW+08f8Itc3ktte+HbTUZG1BrKzaKBJG+4XQ9RWZqF9Y6zH4/ufCtu9vo6x27C3jXAMiycyBfQigD1/xt4Nt/HvjfSYb3XY4LOyga4jtLaUrcOxGBIO2BXE3PgKfSvDEdnpnjPRoofDOsm9invJGP2cFSAkmBwcmol8ZWk/j5/EukP9pstJ8NlLiURH5ZNuAo991ZHwztLnSPGdrb+KdHeOx8UWzNL9vVZI558l1ZRzjr3oA6Oa5l8Qix1dviJ4Um8RaNK0kcsMmITAwwyv8Axf0qhrHw/h06x1e31LxX4X0/Udf8meOFpDFFlZNxIDZLA+vvWda6VZRfBfxrOmnW6XUWoywpPHCobZv+6CBnHtVjS73wzoeoeK4fiJbo1zeWsH9nm6hMpeLyQAsfBx83YUAb954O8Sapo154a1HWPBUWoXscU1pFZxGN5AjBtzDGWXA9DVR/BMMllqer+JvF3hOznnsZNLjOnMltbCTuJGJ5I9MZFclpWkeIBrXh6aJLiPVtK0d7u0hYj95Grk+W3flePWqGkS2c/h/SdV1DUv7EuH1O+eNr/TvtNkpdgSkufut2HB/CgD162+FsMd94e1zwPNo9oLfTXt7me0HyXbtHtDgoMOM55NVdL+BVxoLaJqGma/cSanYTma4W4kJgfd/rAij7uf6VtfAy+jvPBNyLfT4bSCO9kCSWrSeRcZPLxh+VX26elel0AeOWXwm8SaQtrqWjarYwazp97cyQb42aOWCVs7HPBz9K7/wXo2u6Tp9w/ijWG1O/upfNcLnyoB/cjB6CukooA8U/aiP/ABbW0Hrer/I15X4J+MXjXwr4Rs9I0Xw4tzawhmjm+zSNvGeTkcHnvXqX7Uh/4tzZD1vR/Kup+BkSH4N6GWRSfKYZI7bjQB4L43+Jnjnx54Yk0bVvCMiQSMsiyxWcu5SDkEcV554i1HUpdH0bStR0ptPTTYpFiLxMjS7mBLHI9hX6AAYGBwK81+KHwdt/iZqunXd1qktkLKNo9iIG3AkHv9KAPlLwz8SvFfhJlGjavNHEucQyHenPsa9Oufix4x8XaVo51TQRBaw6lbEaiqMFLhhjg+teyeFfgZ4K8LSJPHp/2+6TpNeHf/470qp8bYY4PC2hwQRrHGur2yqiDAA3DgCgD1GmySJEheV1RR1ZjgCnV538dPL/AOFUX3nyiOPzYtxOcMN4yDigDpfE+k6b4q8PT2FzqLW8XD/aLWcK0RU5DZ/xrhR8LNHkS9Ov+MbrUr3WYFtY7maRFYw53bFHRs159rSeFvt15H4BMBsW8PSnVTavvgL4G3PUbs1k6hY6YFju2n0K6kfRoBNYarK0EkSgZ3QSHClj7flQB7NB4B+H/hnxLZX+nXtro17ZwtG8aXCJ54ZcEuG56emKsR+D/B9t4DufCM2uKbPUJHnEj3cayZds5XoDz04Neb+I/DfhrU7v4bahPonljVrlI7wTkmSWMJwrnjPQc4FZvjHwvj4keJbbQ/DGkalaaZpMZEV88g+zpg8xhTyfrQB6ZH8JtEtf7SOveJ9Q1C4vNNNl5t5cRqYLfp8oAA49TxWhP4I8P6zDorWeun/in7cwxyW80bcFduXOD2+leJEgaTc7LqS4X/hDh+8mxkZbocdh0+lS+HzaS+LbaLT10eUS6BOmPDqMPm2fenDdW/GgD1lfhB4KtdH0cWE8dld2k6zQarE0YnuHBycvj5s1ftfD/hfT9Q8Ryr4kiE3iZgJEN3GNjBdvyDPXFeV6TrNjrXh/4XaLaXS3d7a6i32u1UlniQKwO8dhz3rc0zwp4eT43eLYYNOs/J0/Slmt4lTiCU5yyjGAaANy4+Gvh3TtH0280vxpcaI0FqLH+0YLtE+0oGJ2sTweSelbNj4A8KaOfD9ympqILMy+T5s6lbySUfMxJ+8x9q8X8IDQpNT8Nr4+8ttD+w3BiF5kwmXefwzT7jTv7X0jT9P02+uLfR5vEzjR5yp+RQhxtB/h3UAe5eDvBvhr4fXmtNpV6kf2txcXEMkqgQDnHHYc9662y1Gy1KMyafdwXSKcFoZA4B/Cvle7uZ/E2oeKz4gvDpF5C9rBPJMhaNnRsfOB/C3X8a7n4V+JdJ0LxFrwvo7G0gVIvMvtPkY2bsTgAL/CxoA94opFYOgZDlWGQR3FLQB8/wD7V5/4pjQh/wBPjf8AoBrj/hh8drTwF4Fj0WbQ7u8kSZ5PNjYBTuxx+ldd+1gf+Kd0Af8AT0//AKBXRfs+aPpt58IbOS80+1uHNxL80sCseo7kUAcdqX7UEd9YTWh8ITPFOjxvvuMfKeB/Ca8Ui8Qw2vgXVdDjtJo5L69jnWTjAjTPyE9+SPyr7tGh6Sq4XS7ID0Fun+FcH8XvhpP408Hpp3hqGwtLoTq7M6iMMo7ZUUAfLHhr4peMvBwEOh6/OLYY/cS4ljwOwVwdv4Yr0DVf2jL3xR4JvtE1vRYkvLlcR3Nm5CLyMZRsn8c/hXZeF/2WNLtvLm8WatLevgFra0Hlpn0LHkj6YruPFHgjw14P+FWvR+HNGtbE/YnBlRMyMPQyHLH8TQB3OgzPceHNNmlxvktInbA7lATU9/c2tnp89xqEiRWscZaV3OAq45zVXw6MeF9LH/TnD/6AKoePbUXngTVrc6fcaiJLdgbW2k2SSD0U880AcbpWt/CrXfD1xounzRPp+nsb94HSRMYbd5i5GSMjtUcWmfCfxF4sSKOGGXVdQi+3j76l1PO49s8dK8zsp9V1Bby00y01TU7SHSJo3bVdMVLiy+XAjSUDLemP0rMl0PxPp+pRa9p2mXj3en6dawxxeQ2HSQFWBxzxnNAHrDWPwi1fUm1YiKeSW9WzbBfY046Ar0J+XrU+v6D8KrfX9Tk1mNIr6EJJeEM4wHIVc47dBXmWm+F9Q8PeHQ66Zfy2+n6/BcT4gYvtEfzMB1I3E1e8VwX/AIr/AOEt8U6dpF99guPskNsstuwkl2OGLBeuKAPbpPC3ha00bVbiW1iWy1K2X7a7E4kiVMDPttrmLzVfhfN4Z0LVLu6gk0zTZ9mnzNuIR1HT8B61j+MvGtz4l+GbaJ4Y0jUm1G9EVm8dzaPGACBuO49uOtYPg/TdW0bRfF3hXXPDi2imzN3ZxxoZY1YptIViOpxmgDtNYvfhd8QLi0uL66innaQQQTIWjZy3RMjqKZJf/Cqy1uw0LzbeCbS2aOAJuEcbuMEF+m4+5rlbrS7y38EfCww6fP5kF4rXAjhO5PlYAsPqe9YrzPB8PtV8C3Hhu8PiO61GQxyC2JVtz5Em/HAx70AesWlv4BcpoNuUY+FXF6Iyx/cNyd2e/Wu00rVLPW9Jt9S02UTWtym+KQDG4V85ap4c12wv/FWr6Ta3D6tp0MMEuUOy4hMO2RQO5B549K9v+GMUsPww0COff5i2aht6bWHXqKAOh1A40y6P/TF//QTXxP8ACobvjpo3/YSJ/U19t3cXn2c0WdvmRsufTIxXxP8ADUR2Hx802OaVQsWqOm9uM4YigD7eooooAKKKKACiiigAooooAy/Exx4T1Y+llN/6Aa5v4da/o0Hw50KKXVrFJEs0DI1ygIOO4zXZXdrFe2c1rcDdFPG0bjPVSMGvHNU/Zg8IXt601ld3tjGQP3KEMB+JoA9YHiHRT01exP0uU/xpw13ST01SzP0uE/xrxc/sqeHO2t34/wCALTT+yn4f7a9fD/tkv+NAHtg1jTD01G1P/bdf8acNU089L62P/bVf8a8OP7KWhdvEF6P+2K/400/so6L28R3g/wC3df8AGgD2efxZ4ftp2huNasI5F6q1woI/Wmjxh4bPTXtO/wDApP8AGvGD+yfpHbxLdj/t2X/4qmn9k7S+3ii6H/bov/xVAHtY8WeHT013Tv8AwKT/ABpw8UaAemuab/4Fx/414ef2TdN7eKrkf9ua/wDxdNP7Jdh28W3H/gCv/wAXQB7hP4t8O20DzT67pyRoMs32pOB+dZUnxS8DRSIjeK9KJdto23KsM+5HAHueK81079lbw3BGo1PW9Ru2DZJiCxBh6Y+b881cj/Zc8Frt33mqPjr++UZ/8doA7cfF3wCZvKHiix3btv3jjP1xj8a+a/DlxDe/tUW1xaypNDJq7MkkbBlYYPII616+37L3gokbbrU155/fKc/+O1qeGv2ffCvhbxLZa3p9xftc2UnmRrJICpOMc8e9AGT+0z4o/srwHDo0DgT6nLhhjny15NfJcE0ltcRzwsVkjYOjDsQciv0TvtKsNSMZ1CzguTE25PNjDbT7Zr568K2VrL+15rcD20LQLFPiIxgqOF7dKAPa/h54i/4SrwDpWrMGDzQAPuPJYcE/nXS1HDBFbRCO3iSKMdERQoH4CpKAOE1Dn476R7aNN/6MFd3mvIPjl8Odc8VRWuueFb2aHUdPhaMwRSFGlQnOAR3z2rw2LwB8YnI22+vLkAgm6cD/ANCoA+0c0Zr41i+HnxmdVZRri7gThr5wRj1+ar1n8MfjVdSlBd6rB8u7Muqso+md3WgD68or5Q/4VN8b1+7q1/8AhrZ/+Lo/4VZ8dF+7q2pfhrp/+OUAfV9FfKH/AArP48r93VtV/DX/AP7ZVa8+FHxxv1Vb651G6VDlRNrgfb9MyUAfXFFfHn/CmvjGvSK6/DVU/wDi6P8AhUXxlXpFefhqaf8AxdAH2HRXx5/wqr4zL0ivvw1Ff/i6P+FY/GhekWof+B6//FUAfYdFfHv/AArn41L/AMstT/C9H/xVH/CAfGtekeq/hdj/AOKoA+vLi8trTH2q5hg3dPMkC5/OoRq+mnpqFr/3/X/GvkQ/Cb4teIL2C31WC8CZOJbq5ykf61oH9m/4hDpeWv8A4FGgD6sGqaeel9bf9/l/xpw1KxPS8t/+/q/418oH9nL4ijpdWx/7fDTT+zt8SB0uID/2+/8A16APrIX9oel1B/38FOF5bHpcRf8AfYr5KP7PXxLHSaL/AMDv/r0h/Z9+J46SRn/t/H+NAH1uLmA9Jo/++xThNEekif8AfQr5EPwB+KQ6Mp/7iI/+KpD8BfiqOnP/AHEl/wDiqAPr0SIejL+dKCD0NfH5+BHxYHRSf+4mv/xVJ/woz4uDpG//AINE/wDi6APsKvhXUfm+OUnvrI/9GCun/wCFJfF5ekU34aon/wAVUmgfAj4h2fivTr6/0pPLiu45ZZDdxscBgSevNAH1/RRRQAUUUUAcBoVzBp/xV8Vtf3ENsJUtzH50gXcNp5GTXZDWtLPTUrM/9t1/xryv4w/Ba48eagms6HqH2XUVjEbxyMQkijp06GvKz+zV49HS+s//AAINAH1SNX009NQtT/22X/GnDU7A9L62P/bZf8a+Uj+zb8QB0vLU/wDb0aQ/s4/EMdLq2P8A290AfV41CyPS7gP/AG1X/GnC9tT0uYT/ANtBXyYf2dPiMOk9uf8At8/+vTT+zv8AEodJYT/2+/8A16APrcXVuek8R/4GKUTxHpKh/wCBCvkY/s9fE0dHiP8A2/j/ABpp/Z++KA6GM/8AcQH+NAH16JEPR1P40gSPaVVV2nkgDrXyEfgD8Ux0CH/uIr/jTT8BPisOiD/wZr/8VQB9g4HpQVUnJUE9OlfH3/CiviwvSM/hqS//ABVH/Ckvi2vRJPw1Ef8AxVAH2BsXj5V+Xpx0qteXOnaeBcahNa2oJwJZ3VMn6mvkf/hTPxdXok/4agP8ahuvgp8VryMR3dpLOgOQr3oYA/nQB9Z/8JF4dIYf2xphDfeH2qPn680ja14dkVQ2p6W4X7oNxGcfrXyCfgJ8SB/zCD+Fwv8AjTT8CfiQP+YO/wCE6/40AfYw1/Rj01ax/C5T/GnDXNJPTVLI/wDbwn+NfGp+BvxIH/MGm/CYf41dt/2fviPcWyyizjiJJBjlugrCgD6/Gs6Yemo2h/7br/jThq2nHpf2p/7bL/jXyCf2e/iUOlrCfpeCkH7PvxLwf9Ej46D7YvP60AfYI1KxPS9tz/21X/GlF/aHpdQH/toK+Oj8AviaOlgD9L1f8auwfs7fEeWMM/kREjJVrwZHtwaAPrO+u7Y6dc4uIj+6bo49DXw14YnluPixpayyM6pqQVAxztG88D2rtP8AhnX4kFmG63wO/wBtHP61o+E/2fPHGj+MNL1G9hs/s9tcpJIVuVJwDzxQB6n+0Z4mGh/DCWxgnWO61OQQBCMlo+r/AE4r5S8IeIrnwp4s0/WbJgJLaYMcgEFc8jn2r7S8c/Cnw98QtQs7rxC98TZqVSKCcIjA+owT+RFfPnw/+GHhzXPjL4g8NanFcTadp+8Qjzir8HAyRjNAH1fp94mo6bbXkONlxEsi4OeCM1Zqlo+k2uhaNa6Xp6sttaxiOIOxYhR6k9au0AeS/CvV9K0ObxTa6vq2n2k/9sSnZNdIhI9Rk16EPF3hs9PEGlH/ALfY/wD4qvFviv8As/3fiTxaus+FJUiN/Jm9SZ/ljOPvj1z3Fcqf2WPFA6a3YH8GoA+lR4q8PHpr2mH/ALfI/wDGnDxNoJ6a3px/7e4/8a+Zj+y14rHTWbA/99U0/sueLR01axP/AAJqAPp0eI9EPTWNPP8A29J/jUc2qeHrsAXF9pk4HQSTRtj8zXzIf2X/ABgOmqWJ/wCBtTT+zD4zHTUbE/8AbQ0AfTi3XhwQNCk+l+UxyyB49p+opID4bgaRrY6XGZV2ybDGN49DjrXzGf2ZPGw6X9kf+2xpp/Zm8cjpeWR/7bmgD6hjHh9IHhiGmrE5y6L5YVvqO9OutR0O3WKW8urFBEf3TO6fIfb0r5aP7NPjwdLqzP8A28Go3/Zo8euMNLZOPQ3NAH0//bXhVoGg+3aWYnbc0e9NrH1I9aWfVPC975f2q70ufyjmPzXjbYfUZ6V8tH9mXx2OgsD/ANvApp/Zn8fdo7A/9vIoA+sBrehmTzBqVhvxt3ecmcemc0kupaDc27QT3mnSxP8AejeVCrfUE18nH9mj4gdoLA/9vYpp/Zq+IQ6W1gf+3xaAPreLVdHhjWOG/sURRhVWZAAPQDNP/tjTD/zEbT/v+v8AjXyH/wAM3/ERelrZfheLR/wzp8Rl6Wlr+F4KAPr3+1tO/wCgha/9/l/xpf7V0/8A5/7b/v8AL/jXyB/wz18SF6WkP4XYpP8AhQHxKXpaJ+F2KAPVf2oL22uPh/YJb3EUrfbASEcN29q6X9neR5Pg3p/mMW2zSquT0GeleE2/7PPxEvZxDdwwwpgkPLc7lBr6R+EnhPUfBXw8tdF1nyftcUjs3kvuXBORzgUAdtRRRQAV5h8cOdD0Eeus2/8A6FXp9ef/ABgt45vDWlvIuWj1i12H0y9AHoFcVrHjnw1P47i8BatbC5ubqMOVmjDQkkZCnPU12jNtRmwTgZwO9fPuofD3x3fTaj4u2xRX7aqt5Bp4izOUQ7QFfsCvagDvLfxj4I08+KdEtNJgt/7FRmvbOO2RVnXHJA6N+NYWr/EDwfc6hY2b+ALrWdtjFdq0Gmxz/ZoiMjI6gDH0rA8QfDjxLq8fi/V7HTGtdVmuzJa5AzdQugDp+B6fSprLS/GnhPxFFd2PhO61RLnQobEiOVUEcgBB3E9ME0AenXfjLw8fAA8Y2tr/AGjp9nH5sYiiUyRY4IUNjaR6cVlN8U/CS+IbqyFnI11/ZYv5ZUgQ+ZFt3bCc5Jweh4q54L8FT6P8K/8AhHdYEclxcRSmeNTlVaTJ2574z1ryG2+EPjtPDkSpB5epSXzWsz+bCGWxwF+9nkYGcDmgDvJfib4aRYIrDwHq2o/abFJ2jsNNjlKQueFYK3TPbpXR+G/EHh1vFCaNp3h6TSdRnsVu3DWqRFUP8LYOc+1cF41+HuqSeMZbi38HXPiLTxpsFtbmDVUs/KdOv8QY/rU8WneM9A8d2mv6P4EuLm2/slLQ2r6lDuhYdi5Y7vrQB6BpF/4bPxB1PRNO0iO31Wxt0uJ7hYEUMrnjDDkmneMvEei+B7UapfabJcTX8i2uLWJTJKT0U5IyK4EP490X4m6l4nsvAc19HqlhbxPCL+FPJZeWGSea6L4o+HNV8ZeGdEhttPkWUX8M1zGkwV4F/iIbI6e1AD9B8SeFvFkd3ompeHW06XSohcSWN/bqBHGckMMcVn6d8UPDereE59R0Pw7Pfx6Pd+UlpBEu6PGcSL6DFc7qvgPxT4f1XxdH4Ys7vUIdUsYLe1up5w8gJOHG5jnCitDwr4C8W+EvEziaWG/sdR0g20zW8QiWGRFwgI7k560APh+LXh6+8P3+t3Hg26S3uXSFmkiQ/bGJ2hQe5FJdeK/DK+BruLU/B9/oenLPEq2/lKhuZC3yqPxrO1LwH4gf4CWGiDSZp9Str8TPbRyhWKhySQfpUh8LaxJ4T1DTx4GmkR5I5TBe6kZWkA67D/CwoA9F8G+ObbxTc3lgul3ml3Niq74LpMfKehBHBrrK8l+EegeIdK13Ubi70++0vRZYVWGz1CcSyrIOpB67a9aoA+e/2sD/AMSPw+P+nmT/ANBrsv2dRj4N2HvPL/OuK/axP/Eo8PD/AKby/wDoIrt/2eBj4Nad7yy/+hUAeoUUUUAFcp8UDj4X6/8A9ejfzFdXXJfFM4+Fuvf9ep/9CFAG7oIx4c00elpF/wCgCtCqOijGgaeP+nWP/wBBFXqAOR+JHiq58E+DZ9Y0+0t7idZUjVJiQpLHGTivP5PjdrOn6Nq41TRNO/tOwSGRDa3Bkt2WQ4AZs8Eema9A+JnhK58beDX0azeKN5LiJ2MpIGxWy3TvisXxL8JNLufAcuh+GLCxsJp5ITNJsx5oQ87iOT3oAydJ+Mt5BPf2/i7TLGJrewa+Emm3HmptH8L9cE5q1afE3xFpr6LdeKvD1rZ6RrDbYJbWUs8JIyu8Hjp6VBc/BaFtfvk05bXTtE1DSvsdxFbrhnl4IfHTqKZafDvxlqt9o2n+L9RsZdD0Rw8LW4Imudowu704oAs2XxQ8T6vHJq+i+Fku9Bjvfsu9ZT9oZQ2GcL0wKoL8Z9VuvFOo6VaWWjwJZ3Qt1+23hikkzjoPxqbSvh/480HfoWja7bWugtem5W5QEXCIWyYx259azT8IvFNn4s1HUrF9Cuobu9+0qb63Mkijjo3bpQBbu/jB4gk8WXljpGj2M0GmzrBcW8l0FnlJxlkB6gVLqXxh1oeLrvTdJ0W1kisJESaCe5CXEoIBJRT1AzVbxR8JvEviK/vUuZdHnguZlkhu5IitxaDjIUr19s03xV8IvEestc2UdxpV7bTCMQ3t5ERc2oUAEKV69OpoA9ngkM1vHKUKF0DFT1XI6VJVPSbE6Zo1pYtK0zW8KxmRurYGM1coAa/+rb6Gvhnwn83x0s/fWG/9DNfc0n+rb6GvhnwX83xzsPfVm/8AQmoA+6KKKKACiiigAooooAKKKKACiiigAooooAKKKKACiiigAooooAKKKKACiiigAr528G/N+2D4gPpDcf8AstfRNfO3gf5v2vvEh9Ibj/0JKAPomiiigAooooAKKKKACiiigAooooAKKKKACiiigAooooAKKKKACiiigAooooAKKKKACiiigAooooAKKKKACiiigAooooAKKKKACiiigAooooAKKKKACiiigAooooAKKKKACiiigAooooAKKKKACiiigAr53+EnzftH+MT6GT/0Ovoivnf4P/N+0R40Po0v/oygD6IooooAKKKKACiiigAooooAKKKKACiiigAooooAKKKKACiiigAooooAKKKKACiiigArz74z3UVh4Itr65JFvaanbTTMBkhFbJOO9eg1n67otn4i0O60rU4hLbXUZR1P6H8OtAHnY/aO+HJ/5id0PrZSf4U8ftF/Dg/8xe4H/blL/wDE147c/su+LPt8q2t5YG38wiN2kIO3sSMVMv7KfipkBOt6QpI5UmTj/wAdoA9eH7RPw2P/ADGph9bKb/4mnD9ob4an/mPSD/txn/8AiK8eP7KfiztrejH6tL/8RSP+yn4uDHy9a0Ur23PKP/adAHsg/aE+GZ/5mFh9bG4/+Ip4/aB+GR/5mXH/AG43P/xuvGX/AGU/FomIj1rRTF2ZnlDfl5f9ada/speKnkYX2uaPCmODCZZCT9Ci/wA6APZh8fvhmf8AmZ1/GyuP/jdOHx6+Gh/5meP/AMBJ/wD4ivHV/ZR8QfPv8Q6cME7cRucjtn0/WtMfslSbRnxgobHI/s//AO2UAeoj47fDY9PFEP8A4DTf/EU8fHP4bn/mabf/AL8S/wDxFeUn9kubt4vT8bA//HKaf2S7nt4ti/GxP/xdAHrQ+N/w4P8AzNNr+MUn/wATTh8a/h0eniqz/wC+X/8Aia8hP7Jl728VwfjZt/8AFU0/sm6h28U2342rf/FUAexD4z/Ds/8AM1WX47v8KePjJ8PT08V2H/fTf4V4uf2TtU7eJ7T8bZv8aaf2TtX7eJrL/vw9AHtg+MHw+P8AzNmnfjIf8KcPi54AP/M2aZ/3+rw8/sn6328SWH4wvTT+yhr3bxFp3/fuT/CgB37SnjDw/wCJ9P0JPD2sWmotDLIZBbyBtgIGM16r+z2MfBnS/eSX/wBCryU/so+Ie3iDTP8AvmT/AAr3v4aeEbnwP4Ds9CvbiK5mty5aSHO05bPfmgDrKKKKACuW+JdrLefDPXYLdS0htGIUKSTgg9ACe1dTSEAggjIPUGgD53sv2qdMtLGC2fwvdkwxrGT9qXnAx/d9qsD9rDSO/hm8H/byv/xNd5rPwI8Aa5qs2oXejtHPO25xbzvEpPrtUgCqI/Zz+HQAA0u46k83cnp9aAOUH7V+i9/Dl4P+3hf8KcP2rdC7+Hr0f9tl/wAK6Yfs3/DwNn+z7o+xu5P8alH7O/w8CqP7Ll+UAZ+0vk9OvPtQByw/as8P99Bvh/21X/CnD9qvw730O+H/AG0X/Cuqj/Z6+HiSMx0mRgw6G4fA/Wlf9nz4eOuBpDr7idv8aAOOu/2rdGQL9j8P3kpP3t8qjFVx+1jp/fw1c/hOtdyf2e/h4f8AmEyD6TtTD+zx8PD/AMwyYf8AbwaAOLH7WGmd/Dd3+Ey04ftYaR38OXv4Sp/jXYRfs7+AFs0hk0+Z2UYMvnEM3Pemn9nL4fH/AJcbof8Abwf8KAOTH7V+i9/Dt/8AhIn+NPH7V2hd/D+o/wDfSf4110f7PPw9QYOmTP0+9OaVf2evh4LgSnSpWH/PM3Dbf8f1oA5E/tW+HmUg6BqYyMdY/wD4qvD/AIczi8+M2j3CggTaiZAD1GSTX1IfgF8OD/zAB/4ESf8AxVWtK+CfgPRNWt9T03RjDd2z74n+0SHafoWxQB31FFFABRRRQAUUUUAFFFFABRRRQAUUUUAFFFFABRRRQAUUUUAFFFFABRRRQAV87eAfm/a68Un0iuf/AENK+ia+dvh3837W/i0+kV1/6NjoA+iaKKKACiiigAooooAKKKKACiiigAooooAKKKKACiiigAooooAKKKKACiiigAooooAKKKKACiiigAooooAKKKKACiiigAooooAKKKKACiiigAooooAKKKKACiiigAooooAKKKKACiiigAooooAKKKKACvnf4M/N+0F42P8Aty/+jDX0RXzv8FPm+Pfjg+kkv/o00AfRFFFFABRRRQAUUUUAFFFFABRRRQAUUUUAFFFFABRRRQAUUUUAFFFFABRRRQAUUUUAFFFFABRRRQAUUUUAFFFFABRRRQAUUUUAFFFFABRRRQAUUUUAFFFFABRRRQAUUUUAFFFFABRRRQAUUUUAFFFFABRRRQAUUUUAFFFFABRRRQAUUUUAFFFFABRRRQAUUUUAFFFFABRRWT4n8Sad4S8PXOsaxMIba3X8XbsoHck0AapIHXijcv8AeH5147aaH47+Ktkmpa/q8nhbRLld9vp9h/r2XgqzvwR+n0p//CgmH3fH/iYf9vTf40Aev5HqKWvIV+AsgHPxB8U556XhHbjv609vgRJ5hMfxD8Wqm7IX7cScZ6Z+nGf/ANVAHrdFeVp8G9NdZDD8QfGDCIkSEayp2EdQfk4xihfhBYtOkMfxE8WGV0MiJ/aylmUHBYDbyM96APVKK8sj+FVgbqNk+IniV1eYxrF/aqkOy53RjjORg5GcjBpZPAWh6ZPLb6h8RdZSfeG8u41kI0Y64xkcY7nnmgD1KvnT4cyxp+1l4xaV1QCK6GWOP+W0deinwJo6wNP/AMJvrAiVFdpDq52hW+6Sc9D2PespPgt8PbxbnU31Ge6mkLCe/GpEkuxHLMDjOcUAeq/bLb/n4i/77FH2u3/57xf99ivJT+z94TFwIBrWqrMV3iP7cdxX1xnOKnj+A/hGeSVbfV9UYxp5bqmoMTG/9488Hg8UAeqfaYP+e8f/AH2KX7RD/wA9o/8AvoV5/Z/DjwDcyNa2shuJoQBIqag5YcdSA1CfD3wBLOkMVwzSyHCImpvlj7Dd7GgD0Dz4v+eqf99Cl86P/nov/fQri/8AhUfhXtHfj6X8v/xVJ/wqPwv2/tIfTUpv/iqAO28xP76/nRvX+8PzriP+FR+Gez6sPpqk/wD8VR/wqLw32n1kfTVp/wD4qgDuNw9R+dLXAXfwe0OazmitdS122meNljmGrTt5bEcNgvg4POKyvD/irxF4M8cWngvx/cJqMGo5/sjW0jEfnEcmOVc4DdAMe3XOaAPVKKKKACiiigAooooAKKKKACiiigAooooAKKKKACiiigAooooAKKKKACiiigAooooAKKKKACiiigAooooAKKKKACiiigAooooAKK5P4heOIvBOgpLDD9s1W9kEGnWS8tPKfbrgZ5PuPWuTsPhbrHiy1GofE3Xb2e8k/eRWVlO0MVnkcqNvU8DP0oA9YorzH/hQ3hkfd1DXF+mpSf40f8KI8Pj7ur6+v01KT/GgD06ivMf+FF6IPu674iX6am9H/CjdJH3fEniVfpqb0AelPPFEwEkqITyAzAUn2qA9J4/++xXl1x8ANCumDXHiDxFKwGAX1AsQPxqD/hnXw9217xAPpe//AFqAPWfPhPSVP++hS+bGeki/nXm2kfAjwxpssjXV5q+pBwAFub9wE9xsK/rWp/wp/wAG/wDPleD6anc//HKAO23qejD86+ePgew/4Xp46YkD97L/AOjjXqH/AAp3wd/z634+mq3X/wAcrOk/Z9+G8sjSS6FI7scsxv7gkn1Pz0Aekb1/vD86N6/3h+deaf8ADPXw3H3dEmX6X8//AMXR/wAM+fDwfd0q5X6X8/8A8XQB6XvX+8Pzpd6/3h+deZ/8M/eAf4bG9X6ahN/8VR/woDwN/Db6gv01Gb/4qgD0zcvqPzo3L6j868z/AOFBeCx90aov01GX/wCKo/4UJ4QH3ZdXX6alL/jQB6ZuHqPzo3D1H515n/woXwqPu3mtL9NSl/xo/wCFD+Gh93UteX6anJ/jQB6ZuHqKWvMv+FE+H/4dZ8Qr9NUkrP0bUta+Fniux8NeJbptQ8OapMYtM1GRsvA5LMI5WPJJ4ANAHrtFFFABRRRQAUUUUAFFFFABRRRQAUUUUAFFFFABRRRQAUUUUAFFFFABRRRQAUUUUAFFFFABRRRQAUUUUAFFFFABRRRQAUUUUAFFFFABRRRQAUUUUAFFFFABRRRQAUUUUAFFFFABRRRQAUUUUAFFFFABRRRQAUUUUAFFFFABRRRQAV5n8SdK/wCEl+I3gXQbucjTXlur+4tyuVnaARlAf++2H416ZXCeI+fjX4J9rLUv/QYaAO6AAAA4ApaKKACiis3xBrdt4b8PXus36SvbWULTSrCoLlQMnAJHP40AfMIkuYPFnjfS4Ll1HjDXrnSI9owIpFu0ySwOf9XM/bHGK2vhlq1hpPijwPf6pfw21n/wi1whuJpNqbxcyErknG4AdK9Gt/iD4SW0n1e98H6lpNlaq2oi+vdKSJWlfHKEE5kfcOepzyaZpvjHwLrtqui6l4Ul06CC2e8srPUtNSNJolG5miXpnGTjigDzDQNRgsW8FavfXK2+n3HivUrlLiVtqGIhQG56DIPWuv8AinpnhDXdW8I61psVhfnV/EdvZXd1E4fzoyCpQ4/D6cVtweO/h94oj0Ox1DwtdLYXcog0yW/0tRb726KhyQM4xxTbH4n+Bj4K1fXLbQ2gtPD9+u62NuqyLM7bRIF6Akk+/BoA89+I1pDpWo/EXTdPRYrS30/R4IYCxChRLFhQe31+tX/Fng/VfDvw78Za5c2Fjo1veQWMUVhZztIm5bmMmQntkHHFep6R4q8L+K/EH9nRaXvuNQ0eLVZXmhXDwlgEVvUgn9Ki0b4leG/GU2k6ULKZl1iOZ4kuIwU/cNyD75GRQBwv9tan4T+Mx1Lxjd2t48fhOaWJrSMoqhX3gEE9TtYZ96574cate6RrpXVU1LTl8X6VdNcXUyHm7VpJA8QPpG+MdyBXs3xF8S+GfBWlRat4ksFuftLfYlCRBnZSCxX/AHflNZXiT4laDpV7pn27w9f3cbvH/Z11HbBkd3QFRGfXB/SgDyvwjc2Oh674VSJLDVjOslvDfadK8dwuU+b7RGeoG4k56EUfBGDS2bw3cXtz4cNyZpMJKz/bg/mMFGPu5OQR7Yr06Hxr4K0fWNVubnQhpV1YWEV5cTPbKJMStt2YHO7OPzqrofi/wf8AbFN54ObQru3tZNRsvtFsitMiruZkI74GcUAes0VwOk/F7QdY0Xw/qNtFcbdcv/7PjjwC0MvPD/kPzFd9QAUUUUAFeZ/tAQxL8I73VPLBvNKuba6s5Dn91L56Lux3+VmGDxzXplebftA/8kQ1wer2w/8AJmOgD0WBi9tGzdWQE/lUlRWv/HpD/uL/ACqWgAooooAKKKKACiiigAooooAKKKKACiiigAooooAKKKKACiiigAooooAKKKKACiiigAooooAKKKKACiiigAooooAKKKKAPNPEcrT/ALRPhC1lw8MOmXkyKRna5wCf/HV/KvS68x1vn9pbwz7aNc/zNenUAFFFFABXO+HvF9v4h8ReIdKt7eSJtDuEt5JGIxIWXdkfTFdFXkOmWHjnwp488X3+meG4dSsdWvY5o5GuxG2AuOB36/pQBf1L45aHpV00d3Z3CRRa7Jo00zFQsZj27pTz90bvrxVzxR8XtO8MXGtQy6ddXT6VNaQ4gKnz2uF3LtyewFcdbfDDXbnxRJ/ammxy6XceK77UJ98oINvJFtU7e+cn6Vi6h8HfGbaXr1hNAmrLNfWRtZHuUQz20CsoViSMEKVHNAHr+geO5dTs9RvNa8P6hoFpp8JnkmvwoBUbt2ME9ApP0xWbpHxe0vWfhvq/i+3sLqOHSywktZNolbCqwPXABDDGa5ObwV4pufBWt6DpXhb+wm1aS3ilnfVxckxBz5h5Y4wvGB1yar3nww8ZaVb+KNHsJ/7a07WdHSKOZjFBtuY8IoKbv+ea43d+M0AdbbfF5Elnh17w1qmjTf2fPqFot0F/0qOJA7qCDw2Ox9vXFUNZ+Nd5pXhu08QR+CdRudKuLWC4+1/aERFMg+53JIJA6c5PTFYd38IdX0/XYZ9CtZJobrw1c2F211f+b5dy8RAxvOcFsD5cDr07xN4G8eJceEILrw9Y6vpWgadGEsZdRWKP7XhQXkG1t23JwACOCc84IB2fiX4wWPhOx8MT6zpF3BJrwDyQOQHsk+TczjHOC4446H6VW8Q/FzUtB8XRaEPBF/dSXcskdhMlyirdhACzLkdMEHmsDxF8MvGfj3xHq+q6te2+hLJpcen29rGFuklQjfICTt24kxhsZ49hWxa+EvFd/rHw21HWoLdJvD8VzHqLC43ElkEaMOOchQTz3oAtT/GiwtY9Tjn0e8+32d/Hp0NlGweS5ndNwUemMYJ5pJPjEml6brP/AAk2gXOlatpNsl22nvKrefCzBd6OODgnBrndR+F/iVtc1nXdPS1N9F4ii1fT4pZfknRVIKtgcHmm+K/h/wCL/HLeINb1OxtbC+m0tNMsLGOfflfOWRnd8DvnHFAHb6T8U9K1zWPC9npkLzJ4htZrhJdw/cGJcsjD1BBH4V3NeP6P8MtY0X4xaJrdsV/sOCzkaWDfxb3Dw7H2r6MwB+ua9goAKKKKACvPPjjYW158L7ia5iEklne2k0DH+BzcIhI/4C7D8a9Drg/jS6p8KdQZyFUXNnknsPtUVAHeDiikBDKCpyCMg0tABRRRQAUUUUAFFFFABRRRQAUUUUAFFFFABRRRQAUUUUAFFFFABRRRQAUUUUAFFFFABRRRQAUUUUAFFFFABRRRQAUUUUAFFFFABRRRQAUUUUAFFFFABRRRQAUUUUAFFFFABRRRQAUUUUAFFFFABRRRQAUUUUAFFFFABRRRQAV5x4uu5Lf46+AI49uJoNQR8jt5aHj8QK9HrzHxnz8ffh6PSG/P/kNaAPTqKKKACuQ+KukXWvfC/W9O061e7uprf91DH95mBBGOR6f/AK6peL/F95p3jrR9EsJfIiEE2oXzbVJkijU4jGQTyepHOBXO+E9b+J/iPT9K8W2lxplxpeozESaK8Hltbwbyu8Sk5ZgBn0PpQBT1j4NzH4ST2miy382tXVpatJb314zIGjZXMaqWKpyCBycdM0a1p/iv4j63Y3154Zn0GDRLO4bbPIjvczyRbdiYP3feszW/jVqll4O1qKG6mi1621mW2gm/s4mEQrMFADbSmduRzzWz42+KWsaH4506OwmgXR9Pjt5NbTaGZvOcKFXI3AjOeMdeaAMLSvhjr+laL8PrxRqdzcWepRPf6fc3AkhtEy2XVCcKR7etZMHwu8TqBGdEJt9SW7uNRikZSWnjeZoAedvzb1GRxXR/Ej4jeIdD+IGpadp3iq00i3s7CO5gtbixWb7U5JygbGQTgVB4h+Jni5G06e6vJfDNrPpcVwJW0vzo5Lg53B2OSi8Dj0agCXSdD8X+Ddb0nXLLw3JqiyeGINKkgSZUaCUMD82e2cdPeqWmeB/GHgi58G6jpugnVrnTrW6+1xLMoCPM2doJ9Aete2eFdTm1nwpp2oXT20k9xAryNatujJ77Se1eeeIPGfjHQ/G1tFJLYyQXWopbQaNCgeaS3PBmLdV/HigCp4j8M+MviP4m0ma9s49DsLPTpWeK5VZ1aeTdGy47/JyD2zVWHwt4wm8F+DNGvtPkeXQvECGSXI+a2i3bJPphsfhXY/F7xffeFfCcSaDKkesalcpa2ZfGFJOWJz22g8/SuL1n4qeI7n4deEda8OKJr+6vxbX0KoCJHRW3L7ZxmgB3jv4c6/4l8Y+LLqytisc9naNaO5ws7xOGKZ/Cl1jR/GPxG1q21HUPDj6FFpOn3iRxyyAtcSzRbAo9qpa/8W9buJNfk8M3sIthDYm1Z03GBpWAcfXnofSuu8MeIPFOjfE5PBniy9g1VLmwN3b3kUOwhgxyp/AUAcXpHwv8R6VdeBLmytmS0W5trjV7NlA8iaLI832ynBx6CvoKvDPFHxX1/R/FOpO11bWlnp2pQ2cemvBmW6ifG6QNnt1Fd/8AD/X9QvrzX9C1yXz77Rb4x+dgAyQuN8ZOO+DigDtKKKKACvNf2gP+SL6sPWa2H/kxHXpVec/HmCS4+DuqiIZ2SQSNzj5VmRj+goA9Btv+PWL/AHB/Kpaq6ZcpeaTaXMQIjmgSRQw5wVBGfzq1QAUUUUAFFFFABRRRQAUUUUAFFFFABRRRQAUUUUAFFFFABRRRQAUUUUAFFFFABRRRQAUUUUAFFFFABRRRQAUUUUAFFFFAHmOr8/tLeHvbRrj+Zr06vMdVBX9pTQWcbVOjzhSeATnoPzr06gAooooA4f4s6/eaH4LEelStBf6ldRWNvKB/q2kbBbPbjNcZBa6r4s8UeJtLt/FN5pFl4YghtLIBwCWEeTLKTywyOvevRPiF4Wl8XeEZ9PtJhDdo6XFtI3QSowZc+2RisrVvhZo/ie5TVdX+1WWo3UCJqC2NyUSfC4KtjqM8Z9KAOOtfHXijTviM+nyRy+J0TQY3YaWVEfmb+ZvmI64x+Nc+fiFrE3wR8L2kniD7HrGu3UqSanO+0wxJIxZicegVfxr2vS/A2haNrD6jplsbeZ7FbAqjfIIlOQAPX3rM0b4T+FtFuNPkhtpLkadBJBbx3TCVFV2LMdpHXJ60AeW+IPHl54i8D/D24Gp6rZNf3v2a/fTAfNd1GwnA5JJ5C4Oc/Sjz/iKPDFtDcNr8lh/a8qKiskGpTWar8pG4Ak9zxnpyK9Rg+E/hi2vre7iiuFkttTbU4QJQFSVuoAA4Xgce1ani7wRpHjW1t4dX+0RvauZILi1mMUsTEYJDD2oA5z4OazJqXh/ULa41XUL57K7MYj1WAx3VuCAdkhydxznmuZ+NHifXtO8S29joV9qkccGlT30kekgB43VhskmLDHlDuB15BHIrudL+FvhzSLOwgtVvC1le/bxO9yxkmmwRukYfe4OMf/XqTxd8M/D/AI11K2vtYF4lxBGYi1rctF5sZ6xvjqp/CgCC58ZjTPgyniu5uFupF0tJzIq+WJZSg6A9Msf/AK1eR+E/iFqtz8M/GmmXniR9S1S3sBf2t8sxLorxjcgJORsbAwPU17fq/gXQda8MWvh+8tGGmWhjMVvHIyAbPug4PI9jVLU/hf4W1S+lu5NPFvJLZtYyC1YxK0R/hIXA+npQB49N8RvEcF/4c0W+1N4tZ0+zvRqBDFo7lPs4kgmJxhgR365U1Y0KbVvCujfD/XLXxJql5Lr17HFeafcTGRZlfg7QemMfrXrWo/DLwxqmqWeo3liz3VnZmyjkErAmIqVw3PPBPJ9ag8M/CXwl4UvLe702xke5ts+TJcTNJ5ef7oJwKAOQ+L2s65p3ieMR3OqW2kRaXLPE+mfea6B+Xf8A7IAB5461L8O/Fep3vjTS1vXmeHxB4fjvZA7ZAuIjsZh6BlAP413Hi34f6J4zlt5NZSffACgMMzJuQ9VbHUHFVNI8D/YfiFc+IZXjW3gsY9P022hGFhhHLZ98/pQB2VFFFABXm/x+/wCSL6uPWS2H/kxHXpFebfH3/kjupD1nth/5HSgD0Oz/AOPGD/rmv8qmqG0/48oP+ua/yqagAooooAKKKKACiiigAooooAKKKKACiiigAooooAKKKKACiiigAooooAKKKKACiiigAooooAKKKKACiiigAooooAKKKKACiiigAooooAKKKKACiiigAooooAKKKKACiiigAooooAKKKKACiiigAooooAKKKKACiiigAooooAK8n+Il2dM+N3w+vpo8WxNzbNK3Cq0gVRz69ePavWK5rx54OtvG/hebTLh2imUiW2nQ4MUq/db86AOloryfw/8AEbX/AAwseifEfQNQW5hUKmp2cDTxXAHG47QTnp/9aumX4peG2h8wnUF+YrtbTpweO+NvSgCl4m8MX7fE/RvEen2j3dtJbyadqEcTKjLE/RySRuAPbt1qlo/wdOkT2VrH4r1STQNPujdW2kkKoRuoUyj5iuSTt6fzqW9+Nmg2d5JAuk6/cqhwJoNOco3HbODUH/C+PDw+9oniUf8AcLb/ABoAu3Hwphn8G6t4fOsTlNS1N9QMrRK3lFpA+xVPbjrVW/8Agd4b1f8Ati41hpbvUdScsl83D2w2gKEHT5cccU3/AIXx4b76R4jH10tv8aX/AIXv4Z76Z4gH10xv8aANfw78N7bQ/E51u5v5dRuP7Ni0/wD0iNScIfv5x1PAqPxX8OrjxFq0t5Z+JL/TY7mAW9xbRhXjdB6KwODz1rN/4Xv4W72Guj66a3+NL/wvbwp3tNaH1056AN/wt4GHhOe1jsNXvW061sxbR6e7Axbs5Mn+8c1h/wDCppI/HVz4ntPFGowXF1MHlRQpBQEYjBIyF4pv/C9vCXeHVx9dPep4PjLoWoLKmjafq99dJGXWBbNlL47ZPAoA1fEvw80nxd4l0/U9e3XdvYROsdi/+qZmx8575GKxbD4O6dpU8S6dqNxb2cGrLqkNqijbGwUqUHscj8qg/wCFu6mPvfD7Xh+C0f8AC4L4fe8A6+P+ALQAl18CtBkk1o2d5c2SavKkskcQGImVg3y/j/Ouh8MfD+DQNen1u91S81jVJYRbi5vCMxxg52gDjrXP/wDC47kfe8C+IB/2yFH/AAuZx97wR4iH/buKANLXfhfb6/4obVNS1a6msmlSdtNKIULJjaA2NwGVzirfgTw9eaffa9rmswrDqGtXpkMYOSkSDZGD74GfxrC/4XQo+94L8Rj/ALdf/r0f8LrgH3vB/iQf9uf/ANegD06ivMf+F3WY+94S8TD/ALcf/r0f8Lw04fe8K+Jx/wBw4/40AenV538b7+CD4Z3lg7f6VqTLbWsQGTJITwKpv8bIrnbb6N4P8RXV9KwSGGe08hGJPdzkL9TUnh7wHrmr+OI/GfxAmi+026kafpMLl47Pn7xbOGbHcUAd7oUElr4d023nQpLDaxI6n+FggBFX6KKACiiigAooooAKKKKACiiigAooooAKKKKACiiigAooooAKKKKACiiigAooooAKKKKACiiigAooooAKKKKACiiigAooooA4X4l+Dr7xBbWGr+HJUg17RpfPtJG6OP4oz7HArJ03456CluYPFdre6HqkJ2TWs0DNz6ggcg16hUEtjaTvvntYZG/vPGCf1oA4MfHLwIf+YrIPrA/+FOHxw8Bn/mLkfWFv8K7U6Rpp66fan/tiv+FIdF0s9dNsz/2wX/CgDjR8bvAZ/wCY0o+sTf4U4fGvwEf+Y7GPqjf4V1x0LSD10qyP/bun+FNPh7RT10iwP/bsn+FAHKD40+Aj/wAx+EfVTTh8Z/AJ/wCZith9c1058N6Geujaef8At1T/AApD4Y0A9dD00/8AbpH/AIUAc2PjL4BP/MyWg+pNY2p/tDeAtMvfs4vp7sbQ3m20JdPpn1ruz4U8OnroOmH/ALc4/wDCmnwj4bPXw9pR/wC3KP8A+JoA88H7SvgDvNfj/t0apoP2jPAdyxW3k1OVgMkR2LsQPwruz4O8MHr4c0k/9uMX/wATVrT9A0fSZml0rSbGykddrPbWyRsw9CVA4oA4IfH3wZ/d1YfXTpKUfHzwWe+qD66fJXpZVT1UH8KaYoz1jU/8BoA84Hx68FH/AJaaiPrYvTh8ePBJ/wCW9+PrZPXoht4T1hjP/ARTTaWx628R/wCACgDz4fHbwR/z9Xg+tm/+FOHx08Dn/l9uh9bV/wDCu9NjaHrawn/tmKQ6dYnrZ25/7ZL/AIUAcIPjn4G/6CE4+ts/+FOHxx8C/wDQTkH1t2/wrtzpennrY2x/7Yr/AIUh0fTT1060P/bBf8KAOLHxu8CscLqrEnoPJbn9KwJbHWPjB4kh/tSyuNL8H6fL5nkzAo+oSA8HH90da9S/sXS85/s2zz6+Qv8AhV3pQAiKERVUYCjAFLRRQAUUUUAFFFFABRRRQAUUUUAFFFFABRRRQAUUUUAFFFFABRRRQAUUUUAFFFFABRRRQAUUUUAFFFFABRRRQAUUUUAFFFFABRRRQAUUUUAFFFFABRRRQAUUUUAFFFFABRRRQAUUUUAFFFFABRRRQAUUUUAFFFFABRRRQAUUUUAFFFFABRRRQAUUUUAJgHqB+VJ5aHqi/lTqKAGeTEesaf8AfIpPs8J6wx/98ipKKAIvstuesEf/AHwKVLeGNt0cUaH1VQKkooAKKKKACiiigAooooAKKKKACiiigAooooAKKKKACiiigAooooAKKKKACiiigAooooAKKKKACiiigAooooAKKKKACiiigAooooAKKKKACiiigAooooAKKKKACiiigAooooAKKKKACiiigAooooAKKKKACiiigAooooAKKKKACiiigAooooAKKKKACiiigAooooAKKKKACiiigAooooAKKKKACiiigAooooAKKKKACiiigAooooAKKKKACiiigAooooAKKKKACiiigAooooAKKKKACiiigAooooAKKKKACiiigAooooAKKKKACiiigAooooAKKKKACiiigD//2Q==)"
      ]
    },
    {
      "cell_type": "markdown",
      "metadata": {
        "id": "qjoZ125fWY_A",
        "colab_type": "text"
      },
      "source": [
        "##Example 1. Understanding Simulation by a Heat Flow example.\n",
        "\n",
        ">Problem statement : T(w) = 40 C | T(e) = 20 C : Left to right heat flow with L lengthed rod and n nodes"
      ]
    },
    {
      "cell_type": "markdown",
      "metadata": {
        "id": "YECjJcqzanh_",
        "colab_type": "text"
      },
      "source": [
        "Solution: https://github.com/Divyanshu-ISM/Oil-and-Gas-data-analysis/blob/master/ResSimultn_HeatDiff_1D.ipynb"
      ]
    },
    {
      "cell_type": "markdown",
      "metadata": {
        "id": "w_dAqup8dUXs",
        "colab_type": "text"
      },
      "source": [
        "# Example 2. Pressure diffusion- **A 1D Reservoir Simulation.**"
      ]
    },
    {
      "cell_type": "code",
      "metadata": {
        "id": "ylxe_rU-dqa2",
        "colab_type": "code",
        "colab": {}
      },
      "source": [
        "import numpy as np\n",
        "import math\n",
        "import matplotlib.pyplot as plt\n",
        "%matplotlib inline\n",
        "\n",
        "import pylab as pl\n",
        "from IPython import display\n",
        "import time"
      ],
      "execution_count": null,
      "outputs": []
    },
    {
      "cell_type": "code",
      "metadata": {
        "id": "KKFb7WJYdw0A",
        "colab_type": "code",
        "colab": {}
      },
      "source": [
        "# at x = 0 well is there q = KA/u * (-Pi+1 + P0)/dx\n",
        "\n",
        "# P1 + qudx/kA"
      ],
      "execution_count": null,
      "outputs": []
    },
    {
      "cell_type": "code",
      "metadata": {
        "id": "hfEbcfBCOZ9E",
        "colab_type": "code",
        "colab": {}
      },
      "source": [
        "k_md = 50\n",
        "k_m2 = k_md*0.987E-15\n",
        "\n",
        "\n",
        "phi = 0.25\n",
        "\n",
        "\n",
        "ct_psi = 1E-03\n",
        "ct_pa = ct_psi*14.7/101325\n",
        "\n",
        "\n",
        "Mu_cp=3\n",
        "Mu_Pas=Mu_cp*10**(-3)\n",
        "\n",
        "diffusivity=k_m2/phi/Mu_Pas/ct_pa\n",
        "\n",
        "q = 5 #bbls/day\n",
        "q_m3persec = q/6.29/(24*60*60)\n",
        "\n",
        "A = 5000 #m2\n",
        "\n",
        "alpha = q_m3persec*Mu_Pas/(k_m2*A)\n",
        "\n",
        "\n",
        "L = 10 #m\n",
        "\n",
        "n = 100\n",
        "\n",
        "\n",
        "dx = L/n\n",
        "\n",
        "x = np.arange(dx/2,10, dx)\n",
        "\n",
        "\n",
        "dt = 2\n",
        "t = np.arange(0,181,dt)\n",
        "\n",
        "beta1 = diffusivity*dt/dx**2\n",
        "\n",
        "m = int(input('Enter The order you want to increase diffusivity with: '))\n",
        "beta2 = m*beta1\n",
        "\n",
        "\n",
        "P1 = np.ones(len(x))\n",
        "P2 = np.ones(len(x))\n",
        "\n",
        "Pi = 205\n",
        "pw = 175  #pa\n",
        "\n",
        "P1 = np.ones(len(x))*Pi\n",
        "P2 = np.ones(len(x))*Pi\n",
        "\n",
        "\n",
        "\n",
        "ax1 = plt.figure(figsize=(12,5))\n",
        "plt.grid()\n",
        "plt.style.use('fivethirtyeight')\n",
        "\n",
        "# P1 = np.zeros(len(x))\n",
        "\n",
        "\n",
        "for j in range(1,len(t)):\n",
        "\n",
        "  plt.clf()\n",
        "\n",
        "  for i in range(1,n-1):\n",
        "\n",
        "    P1[i] = P1[i] + beta1*(P1[i+1] - 2*P1[i] + P1[i-1])\n",
        "\n",
        "    P2[i] = P2[i] + beta2*(P2[i+1] - 2*P2[i] + P2[i-1])\n",
        "  \n",
        "  P1[0] = 175\n",
        "  P1[n-1] = 205\n",
        "\n",
        "\n",
        "  P2[0] = 175\n",
        "  P2[n-1] = 205\n",
        "\n",
        "\n",
        "  \n",
        "\n",
        "\n",
        "  \n",
        "\n",
        "  \n",
        "\n",
        "  plt.plot(x,P1,label='beta1 (lower diffusivity)')\n",
        "  plt.plot(x,P2,label='beta2 (higher diffusivity)')\n",
        "\n",
        "  plt.xlabel('distance from the well, metres')\n",
        "  plt.ylabel('Pressure in the reservoir, Pa')\n",
        "\n",
        "  plt.legend(loc='best')\n",
        "\n",
        "\n",
        "  display.clear_output(wait=True)\n",
        "  display.display(pl.gcf())\n",
        "  time.sleep(1.0)"
      ],
      "execution_count": null,
      "outputs": []
    },
    {
      "cell_type": "code",
      "metadata": {
        "id": "eE1c3hGtX8It",
        "colab_type": "code",
        "colab": {}
      },
      "source": [
        "#############################################"
      ],
      "execution_count": null,
      "outputs": []
    },
    {
      "cell_type": "markdown",
      "metadata": {
        "id": "kB52eTQMfsZp",
        "colab_type": "text"
      },
      "source": [
        "##Conclusions about Python Based RE Simulation-\n",
        "\n",
        ">1. Our Goal is not to 'beat' any Commercial Simulator. \n",
        ">2. The aim is to get our brains well equipped with the workflow. \n",
        ">3. With python, you'll understand more about the practical workflow rather than worrying about calculations."
      ]
    },
    {
      "cell_type": "code",
      "metadata": {
        "id": "HRVFFydzZAR0",
        "colab_type": "code",
        "colab": {}
      },
      "source": [
        "#######################################################################################################"
      ],
      "execution_count": null,
      "outputs": []
    },
    {
      "cell_type": "code",
      "metadata": {
        "id": "3PAkc3_TgWWM",
        "colab_type": "code",
        "colab": {}
      },
      "source": [
        "#######################################################################################################"
      ],
      "execution_count": null,
      "outputs": []
    },
    {
      "cell_type": "code",
      "metadata": {
        "id": "J4jjJQtNgdLe",
        "colab_type": "code",
        "colab": {}
      },
      "source": [
        "#########################################################################################"
      ],
      "execution_count": null,
      "outputs": []
    },
    {
      "cell_type": "markdown",
      "metadata": {
        "id": "WTRx2JbyiZZe",
        "colab_type": "text"
      },
      "source": [
        "#**Machine Learning** (For Kindergarten)\n",
        "\n",
        "A note on **Machine Learning** to make the term less scary.\n",
        "\n",
        "We learnt a bit of machinelearning theory right back in 5th grade, when we were taught how joining A(1,1) and B(2,2) through a line (AB) on a plot would give us a 'y=x' line.\n",
        "\n",
        "And the next amazing thing we would do was, find y for any new x other than A and B.\n",
        "\n",
        "This, exactly is what we try to do in various forms in various #machine #learning #algorithms.\n",
        ">1. We have the #training data -P(x,y): {A(1,1) , B(2,2)}\n",
        ">2. We draw the line AB : y=x (training/learning/fitting step). 'y=x' is our #model.\n",
        ">3. Hence, for a new x=3 (#test data), we can predict, y = 3. (#predictions)\n",
        "\n",
        "Hence in a nutshell, Machine Learning is composed of 3 steps-\n",
        ">1. Arranging/getting the #data.\n",
        ">2. Identifying the #trends or #structures in the #data.\n",
        ">3. Using these #trends to correctly predict necessary results.\n",
        "\n",
        "Now, depending on the type/format or structure of data (step 1) our ML-algorithms maybe of two types.\n",
        "\n",
        ">>1. Supervised Learning - The training data has correct #labels(y) to the #features(X) and hence the model trains on them.\n",
        "Ex- #Regression (Curve fitting).\n",
        "\n",
        ">>2. Unsupervised Learning - The training data is a set of #features(X) only.\n",
        "Ex- Clustering data into groups based on the scatter plot."
      ]
    },
    {
      "cell_type": "markdown",
      "metadata": {
        "id": "pO3ksnYykjTX",
        "colab_type": "text"
      },
      "source": [
        "###1. SUPERVISED-Prediction."
      ]
    },
    {
      "cell_type": "code",
      "metadata": {
        "id": "JLdaiVU5glqC",
        "colab_type": "code",
        "colab": {
          "base_uri": "https://localhost:8080/",
          "height": 228
        },
        "outputId": "65e72353-2693-4537-b549-f10ce5587a5e"
      },
      "source": [
        "#Example 1:\n",
        "\n",
        "df_example = pd.DataFrame({'phi':[0.1,0.15,0.2,0.25,0.3,0.35],\n",
        "                           'pore radius': [5,10,15,20,25,30],\n",
        "                           'k': [80,100,120,150,180,'?']})\n",
        "\n",
        "df_example"
      ],
      "execution_count": 14,
      "outputs": [
        {
          "output_type": "execute_result",
          "data": {
            "text/html": [
              "<div>\n",
              "<style scoped>\n",
              "    .dataframe tbody tr th:only-of-type {\n",
              "        vertical-align: middle;\n",
              "    }\n",
              "\n",
              "    .dataframe tbody tr th {\n",
              "        vertical-align: top;\n",
              "    }\n",
              "\n",
              "    .dataframe thead th {\n",
              "        text-align: right;\n",
              "    }\n",
              "</style>\n",
              "<table border=\"1\" class=\"dataframe\">\n",
              "  <thead>\n",
              "    <tr style=\"text-align: right;\">\n",
              "      <th></th>\n",
              "      <th>phi</th>\n",
              "      <th>pore radius</th>\n",
              "      <th>k</th>\n",
              "    </tr>\n",
              "  </thead>\n",
              "  <tbody>\n",
              "    <tr>\n",
              "      <th>0</th>\n",
              "      <td>0.10</td>\n",
              "      <td>5</td>\n",
              "      <td>80</td>\n",
              "    </tr>\n",
              "    <tr>\n",
              "      <th>1</th>\n",
              "      <td>0.15</td>\n",
              "      <td>10</td>\n",
              "      <td>100</td>\n",
              "    </tr>\n",
              "    <tr>\n",
              "      <th>2</th>\n",
              "      <td>0.20</td>\n",
              "      <td>15</td>\n",
              "      <td>120</td>\n",
              "    </tr>\n",
              "    <tr>\n",
              "      <th>3</th>\n",
              "      <td>0.25</td>\n",
              "      <td>20</td>\n",
              "      <td>150</td>\n",
              "    </tr>\n",
              "    <tr>\n",
              "      <th>4</th>\n",
              "      <td>0.30</td>\n",
              "      <td>25</td>\n",
              "      <td>180</td>\n",
              "    </tr>\n",
              "    <tr>\n",
              "      <th>5</th>\n",
              "      <td>0.35</td>\n",
              "      <td>30</td>\n",
              "      <td>?</td>\n",
              "    </tr>\n",
              "  </tbody>\n",
              "</table>\n",
              "</div>"
            ],
            "text/plain": [
              "    phi  pore radius    k\n",
              "0  0.10            5   80\n",
              "1  0.15           10  100\n",
              "2  0.20           15  120\n",
              "3  0.25           20  150\n",
              "4  0.30           25  180\n",
              "5  0.35           30    ?"
            ]
          },
          "metadata": {
            "tags": []
          },
          "execution_count": 14
        }
      ]
    },
    {
      "cell_type": "markdown",
      "metadata": {
        "id": "HyCQbJyKkA42",
        "colab_type": "text"
      },
      "source": [
        "So, in the above data set, we can perform a prediction Task. \n",
        ">We can call K as our target variable (Label).\n",
        ">phi and pore radius can be called features. \n",
        "\n",
        ">> Algorithm : Regression. \n",
        ">> Model Type: \n",
        ">>>K = a*(phi) + b*(pore radius) + c\n"
      ]
    },
    {
      "cell_type": "markdown",
      "metadata": {
        "id": "hCeRU_W9kpdj",
        "colab_type": "text"
      },
      "source": [
        "###2. Supervised Classification. "
      ]
    },
    {
      "cell_type": "code",
      "metadata": {
        "id": "TNIfGTMHjyfi",
        "colab_type": "code",
        "colab": {
          "base_uri": "https://localhost:8080/",
          "height": 288
        },
        "outputId": "b44305e0-4df4-4ffc-8414-3fa42e6d0c75"
      },
      "source": [
        "rock_labels = pd.DataFrame({'k_md':[100,150,200,5,90,6,80,4],\n",
        "                            'phi': [0.25,0.27,0.22,0.44,0.26,0.38,0.21,0.34],\n",
        "                            'RT(ohm-m)': [100,110,120,10,89,15,80,20],\n",
        "                            'lith':['sst','sst','sst','shale','sst','shale','sst','???']})\n",
        "\n",
        "rock_labels"
      ],
      "execution_count": 16,
      "outputs": [
        {
          "output_type": "execute_result",
          "data": {
            "text/html": [
              "<div>\n",
              "<style scoped>\n",
              "    .dataframe tbody tr th:only-of-type {\n",
              "        vertical-align: middle;\n",
              "    }\n",
              "\n",
              "    .dataframe tbody tr th {\n",
              "        vertical-align: top;\n",
              "    }\n",
              "\n",
              "    .dataframe thead th {\n",
              "        text-align: right;\n",
              "    }\n",
              "</style>\n",
              "<table border=\"1\" class=\"dataframe\">\n",
              "  <thead>\n",
              "    <tr style=\"text-align: right;\">\n",
              "      <th></th>\n",
              "      <th>k_md</th>\n",
              "      <th>phi</th>\n",
              "      <th>RT(ohm-m)</th>\n",
              "      <th>lith</th>\n",
              "    </tr>\n",
              "  </thead>\n",
              "  <tbody>\n",
              "    <tr>\n",
              "      <th>0</th>\n",
              "      <td>100</td>\n",
              "      <td>0.25</td>\n",
              "      <td>100</td>\n",
              "      <td>sst</td>\n",
              "    </tr>\n",
              "    <tr>\n",
              "      <th>1</th>\n",
              "      <td>150</td>\n",
              "      <td>0.27</td>\n",
              "      <td>110</td>\n",
              "      <td>sst</td>\n",
              "    </tr>\n",
              "    <tr>\n",
              "      <th>2</th>\n",
              "      <td>200</td>\n",
              "      <td>0.22</td>\n",
              "      <td>120</td>\n",
              "      <td>sst</td>\n",
              "    </tr>\n",
              "    <tr>\n",
              "      <th>3</th>\n",
              "      <td>5</td>\n",
              "      <td>0.44</td>\n",
              "      <td>10</td>\n",
              "      <td>shale</td>\n",
              "    </tr>\n",
              "    <tr>\n",
              "      <th>4</th>\n",
              "      <td>90</td>\n",
              "      <td>0.26</td>\n",
              "      <td>89</td>\n",
              "      <td>sst</td>\n",
              "    </tr>\n",
              "    <tr>\n",
              "      <th>5</th>\n",
              "      <td>6</td>\n",
              "      <td>0.38</td>\n",
              "      <td>15</td>\n",
              "      <td>shale</td>\n",
              "    </tr>\n",
              "    <tr>\n",
              "      <th>6</th>\n",
              "      <td>80</td>\n",
              "      <td>0.21</td>\n",
              "      <td>80</td>\n",
              "      <td>sst</td>\n",
              "    </tr>\n",
              "    <tr>\n",
              "      <th>7</th>\n",
              "      <td>4</td>\n",
              "      <td>0.34</td>\n",
              "      <td>20</td>\n",
              "      <td>???</td>\n",
              "    </tr>\n",
              "  </tbody>\n",
              "</table>\n",
              "</div>"
            ],
            "text/plain": [
              "   k_md   phi  RT(ohm-m)   lith\n",
              "0   100  0.25        100    sst\n",
              "1   150  0.27        110    sst\n",
              "2   200  0.22        120    sst\n",
              "3     5  0.44         10  shale\n",
              "4    90  0.26         89    sst\n",
              "5     6  0.38         15  shale\n",
              "6    80  0.21         80    sst\n",
              "7     4  0.34         20    ???"
            ]
          },
          "metadata": {
            "tags": []
          },
          "execution_count": 16
        }
      ]
    },
    {
      "cell_type": "code",
      "metadata": {
        "id": "FR_qnI8Vl-E8",
        "colab_type": "code",
        "colab": {}
      },
      "source": [
        "# Row 7 is called the Test Data Point. And rest all are the Training Data-Points. \n",
        "\n",
        "#So based on the mapping the computer finds in the training, the test data predictions are made. \n",
        "\n",
        "#And hence, we get to know the Final Prediction. "
      ],
      "execution_count": 17,
      "outputs": []
    },
    {
      "cell_type": "markdown",
      "metadata": {
        "id": "INe9fJSfnI4V",
        "colab_type": "text"
      },
      "source": [
        "#STEPS in a Machine Learning Project- \n",
        "\n",
        ">1. Import Data. \n",
        ">2. Check for missing values and abnormal values. \n",
        ">3. Accordingly process the data and make it usable. \n",
        ">4. Perform EDA - Exploratory Data Analysis. Check for which features are not important and which can be excluded. \n",
        ">5. Record Visual stories of your data, to be presented. \n",
        ">6. now pick a ML algrithm suitable to your case. \n",
        ">7. Split the Data into Training, Validation and Test Data. \n",
        ">8. Fit the ML-model into the training data.\n",
        ">9. Perform predictions and validate, and make modifications using the validation data. \n",
        ">10. Finally test the Accuracy and other performance metrics on your Test Data."
      ]
    },
    {
      "cell_type": "markdown",
      "metadata": {
        "id": "Xkw-K1COoLXp",
        "colab_type": "text"
      },
      "source": [
        "#Oil and Gas Applications- \n",
        "\n",
        ">1. Image Segmentation (Thin Section Images) to classify rock minerals, and pores. \n",
        "\n",
        ">2. EOR Screening. \n",
        "\n",
        ">3. Torque Prediction using various drilling features. \n",
        "\n",
        ">4. Rock-Facies Classification.\n",
        "\n",
        ">5. Production Forecasting (without Decline Curve Analysis)."
      ]
    },
    {
      "cell_type": "markdown",
      "metadata": {
        "id": "7_GhZB1sovQ7",
        "colab_type": "text"
      },
      "source": [
        "In conclusion, what i believe is, We can perform a ML based prediction using features that we think are proportional to the result. \n",
        "\n",
        "We then get the data of these features and corresponding result, and try to train a model that develops a relationship. \n",
        "\n",
        "In this way, we can synthesize relationships that the textbooks do not contain. "
      ]
    },
    {
      "cell_type": "code",
      "metadata": {
        "id": "1sXLoEXXmaio",
        "colab_type": "code",
        "colab": {}
      },
      "source": [
        "######################################END#######################################"
      ],
      "execution_count": 18,
      "outputs": []
    },
    {
      "cell_type": "markdown",
      "metadata": {
        "id": "_vACN5Y4pZft",
        "colab_type": "text"
      },
      "source": [
        "Youtube Sources (Brilliant)-\n",
        ">1. SentDex\n",
        ">2. Krish Naik\n",
        ">3. Mathematics - Gilbert Strang (He is the Lord!)\n",
        ">4. Mathematics - Khan Academy.\n",
        ">5. Machine Learning Algorithms - StatQuest (Josh Starmer)."
      ]
    },
    {
      "cell_type": "markdown",
      "metadata": {
        "id": "dH1eAr0lpNjb",
        "colab_type": "text"
      },
      "source": [
        "#**GOOD LUCK!**"
      ]
    },
    {
      "cell_type": "code",
      "metadata": {
        "id": "J-gWAnD2pMig",
        "colab_type": "code",
        "colab": {}
      },
      "source": [
        ""
      ],
      "execution_count": null,
      "outputs": []
    }
  ]
}